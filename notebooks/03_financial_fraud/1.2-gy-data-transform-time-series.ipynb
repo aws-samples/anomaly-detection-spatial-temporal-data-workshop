{
 "cells": [
  {
   "cell_type": "markdown",
   "id": "ff490608",
   "metadata": {},
   "source": [
    "Copyright Amazon.com, Inc. or its affiliates. All Rights Reserved.\n",
    "\n",
    "SPDX-License-Identifier: Apache-2.0\n"
   ]
  },
  {
   "cell_type": "markdown",
   "id": "5f68a4c4",
   "metadata": {},
   "source": [
    "# Prepare Financial Fraud dataset for Numenta Benchmark (NAB)\n",
    "\n",
    "The [Numenta Benchmark](https://github.com/numenta/NAB) consists of multiple anomaly detection algorithms for time-series. The algorithms identify anomalies contextually - based on previous values for that time series. Therefore the NAB repository expects each time series to be in its own CSV with timestamp and value as the columns.\n",
    "\n",
    "## This notebook consists of steps to \n",
    "1. Load raw data\n",
    "2. Process raw data into independent time series for NAB\n",
    "3. Save JSON specifying anomalies"
   ]
  },
  {
   "cell_type": "code",
   "execution_count": 1,
   "id": "e678f8fa",
   "metadata": {},
   "outputs": [],
   "source": [
    "import pandas as pd\n",
    "import numpy as np"
   ]
  },
  {
   "cell_type": "code",
   "execution_count": 2,
   "id": "34f15e14",
   "metadata": {},
   "outputs": [],
   "source": [
    "import sys\n",
    "sys.path.append('../../src/')\n",
    "\n",
    "from anomaly_detection_spatial_temporal_data.utils import ensure_directory"
   ]
  },
  {
   "cell_type": "markdown",
   "id": "1e7a4c3a",
   "metadata": {},
   "source": [
    "## Load raw data"
   ]
  },
  {
   "cell_type": "code",
   "execution_count": 3,
   "id": "364078f2",
   "metadata": {},
   "outputs": [],
   "source": [
    "raw_data_path = '../../data/01_raw/financial_fraud/bs140513_032310.csv'\n",
    "\n",
    "raw_trans_data = pd.read_csv(raw_data_path)"
   ]
  },
  {
   "cell_type": "markdown",
   "id": "4060b471",
   "metadata": {},
   "source": [
    "## Construct purchase time series for a single (customer, merchant) pair\n"
   ]
  },
  {
   "cell_type": "code",
   "execution_count": 4,
   "id": "628a7cc0",
   "metadata": {},
   "outputs": [],
   "source": [
    "# values in the CSV have quotations \n",
    "example_c = \"\"\"'C1001065306'\"\"\"\n",
    "example_m = \"\"\"'es_health'\"\"\""
   ]
  },
  {
   "cell_type": "code",
   "execution_count": 5,
   "id": "eab071c3",
   "metadata": {},
   "outputs": [],
   "source": [
    "c_m_p_data_example = raw_trans_data.loc[\n",
    "    (raw_trans_data.customer==example_c)\n",
    "    &(raw_trans_data.category==example_m)\n",
    "][['step','amount','fraud']]"
   ]
  },
  {
   "cell_type": "code",
   "execution_count": 6,
   "id": "e3c12a0f",
   "metadata": {},
   "outputs": [
    {
     "data": {
      "text/html": [
       "<div>\n",
       "<style scoped>\n",
       "    .dataframe tbody tr th:only-of-type {\n",
       "        vertical-align: middle;\n",
       "    }\n",
       "\n",
       "    .dataframe tbody tr th {\n",
       "        vertical-align: top;\n",
       "    }\n",
       "\n",
       "    .dataframe thead th {\n",
       "        text-align: right;\n",
       "    }\n",
       "</style>\n",
       "<table border=\"1\" class=\"dataframe\">\n",
       "  <thead>\n",
       "    <tr style=\"text-align: right;\">\n",
       "      <th></th>\n",
       "      <th>step</th>\n",
       "      <th>amount</th>\n",
       "      <th>fraud</th>\n",
       "    </tr>\n",
       "  </thead>\n",
       "  <tbody>\n",
       "    <tr>\n",
       "      <th>56918</th>\n",
       "      <td>21</td>\n",
       "      <td>37.10</td>\n",
       "      <td>0</td>\n",
       "    </tr>\n",
       "    <tr>\n",
       "      <th>84525</th>\n",
       "      <td>31</td>\n",
       "      <td>108.32</td>\n",
       "      <td>0</td>\n",
       "    </tr>\n",
       "    <tr>\n",
       "      <th>84526</th>\n",
       "      <td>31</td>\n",
       "      <td>188.94</td>\n",
       "      <td>0</td>\n",
       "    </tr>\n",
       "    <tr>\n",
       "      <th>100311</th>\n",
       "      <td>36</td>\n",
       "      <td>906.87</td>\n",
       "      <td>1</td>\n",
       "    </tr>\n",
       "    <tr>\n",
       "      <th>106319</th>\n",
       "      <td>38</td>\n",
       "      <td>146.25</td>\n",
       "      <td>0</td>\n",
       "    </tr>\n",
       "    <tr>\n",
       "      <th>181718</th>\n",
       "      <td>63</td>\n",
       "      <td>31.41</td>\n",
       "      <td>0</td>\n",
       "    </tr>\n",
       "    <tr>\n",
       "      <th>181719</th>\n",
       "      <td>63</td>\n",
       "      <td>177.82</td>\n",
       "      <td>0</td>\n",
       "    </tr>\n",
       "    <tr>\n",
       "      <th>181720</th>\n",
       "      <td>63</td>\n",
       "      <td>106.47</td>\n",
       "      <td>0</td>\n",
       "    </tr>\n",
       "    <tr>\n",
       "      <th>383480</th>\n",
       "      <td>122</td>\n",
       "      <td>1024.36</td>\n",
       "      <td>1</td>\n",
       "    </tr>\n",
       "    <tr>\n",
       "      <th>400723</th>\n",
       "      <td>127</td>\n",
       "      <td>80.72</td>\n",
       "      <td>1</td>\n",
       "    </tr>\n",
       "    <tr>\n",
       "      <th>406796</th>\n",
       "      <td>128</td>\n",
       "      <td>26.65</td>\n",
       "      <td>0</td>\n",
       "    </tr>\n",
       "    <tr>\n",
       "      <th>406797</th>\n",
       "      <td>128</td>\n",
       "      <td>65.77</td>\n",
       "      <td>0</td>\n",
       "    </tr>\n",
       "    <tr>\n",
       "      <th>423608</th>\n",
       "      <td>133</td>\n",
       "      <td>185.40</td>\n",
       "      <td>0</td>\n",
       "    </tr>\n",
       "    <tr>\n",
       "      <th>423609</th>\n",
       "      <td>133</td>\n",
       "      <td>111.06</td>\n",
       "      <td>0</td>\n",
       "    </tr>\n",
       "    <tr>\n",
       "      <th>423610</th>\n",
       "      <td>133</td>\n",
       "      <td>154.74</td>\n",
       "      <td>0</td>\n",
       "    </tr>\n",
       "    <tr>\n",
       "      <th>463040</th>\n",
       "      <td>144</td>\n",
       "      <td>18.18</td>\n",
       "      <td>1</td>\n",
       "    </tr>\n",
       "  </tbody>\n",
       "</table>\n",
       "</div>"
      ],
      "text/plain": [
       "        step   amount  fraud\n",
       "56918     21    37.10      0\n",
       "84525     31   108.32      0\n",
       "84526     31   188.94      0\n",
       "100311    36   906.87      1\n",
       "106319    38   146.25      0\n",
       "181718    63    31.41      0\n",
       "181719    63   177.82      0\n",
       "181720    63   106.47      0\n",
       "383480   122  1024.36      1\n",
       "400723   127    80.72      1\n",
       "406796   128    26.65      0\n",
       "406797   128    65.77      0\n",
       "423608   133   185.40      0\n",
       "423609   133   111.06      0\n",
       "423610   133   154.74      0\n",
       "463040   144    18.18      1"
      ]
     },
     "execution_count": 6,
     "metadata": {},
     "output_type": "execute_result"
    }
   ],
   "source": [
    "c_m_p_data_example"
   ]
  },
  {
   "cell_type": "code",
   "execution_count": 7,
   "id": "04f0e7b9",
   "metadata": {},
   "outputs": [
    {
     "name": "stdout",
     "output_type": "stream",
     "text": [
      "../../data/02_intermediate/financial_fraud/ts_data/'C1001065306'_'es_health'_transaction_data.csv\n"
     ]
    }
   ],
   "source": [
    "example_ts_file_path = f\"\"\"../../data/02_intermediate/financial_fraud/ts_data/{example_c}_{example_m}_transaction_data.csv\"\"\"\n",
    "print(example_ts_file_path)\n",
    "\n",
    "ensure_directory(example_ts_file_path)"
   ]
  },
  {
   "cell_type": "code",
   "execution_count": 8,
   "id": "072836a5",
   "metadata": {},
   "outputs": [],
   "source": [
    "c_m_p_data_example.rename(columns={'step':'timestamp','amount':'value','fraud':'label'}, inplace=True)\n",
    "c_m_p_data_example[['timestamp','value']].to_csv(example_ts_file_path, index=False)"
   ]
  },
  {
   "cell_type": "code",
   "execution_count": 9,
   "id": "c2b3988f",
   "metadata": {},
   "outputs": [
    {
     "name": "stdout",
     "output_type": "stream",
     "text": [
      "../../data/02_intermediate/financial_fraud/ts_label/'C1001065306'_'es_health'_transaction_label.csv\n"
     ]
    }
   ],
   "source": [
    "example_ts_label_file_path = f\"\"\"../../data/02_intermediate/financial_fraud/ts_label/{example_c}_{example_m}_transaction_label.csv\"\"\"\n",
    "print(example_ts_label_file_path)\n",
    "\n",
    "ensure_directory(example_ts_label_file_path)"
   ]
  },
  {
   "cell_type": "code",
   "execution_count": 10,
   "id": "a75e19b4",
   "metadata": {},
   "outputs": [],
   "source": [
    "c_m_p_data_example[['label']].to_csv(example_ts_label_file_path, index=False)"
   ]
  },
  {
   "cell_type": "markdown",
   "id": "43257d0e",
   "metadata": {},
   "source": [
    "## Generate a label dict needed for NAB model"
   ]
  },
  {
   "cell_type": "code",
   "execution_count": 11,
   "id": "f621af30",
   "metadata": {},
   "outputs": [],
   "source": [
    "from pathlib import Path\n",
    "import json\n",
    "\n",
    "def generate_dummy_labels(data_dir: str, label_dir:str) -> str:\n",
    "    \"\"\"Generate a dummy label JSON file and return its path\"\"\"\n",
    "    data_dir_path = Path(data_dir)\n",
    "    dummy_labels = dict()\n",
    "    for file_path in data_dir_path.rglob(\"*.csv\"):\n",
    "        file_path_relative = file_path.relative_to(data_dir_path)\n",
    "        dummy_labels[str(file_path_relative)] = []\n",
    "    dummy_label_path = Path(f\"{label_dir}/labels-combined.json\")\n",
    "    with dummy_label_path.open(\"w\") as file:\n",
    "        json.dump(dummy_labels, file, indent=4)\n",
    "    return str(dummy_label_path.resolve())"
   ]
  },
  {
   "cell_type": "code",
   "execution_count": 12,
   "id": "a5787155",
   "metadata": {},
   "outputs": [],
   "source": [
    "label_dict_filepath = generate_dummy_labels(\n",
    "    \"../../data/02_intermediate/financial_fraud/ts_data/\",\n",
    "    \"../../data/02_intermediate/financial_fraud/ts_label/\"\n",
    ")"
   ]
  },
  {
   "cell_type": "markdown",
   "id": "2755ec21",
   "metadata": {},
   "source": [
    "# References\n",
    "\n",
    "Edgar Alonso Lopez-Rojas and Stefan Axelsson. 2014. BANKSIM: A BANK PAYMENTS SIMULATOR FOR FRAUD DETECTION RESEARCH.\n",
    "\n",
    "Alexander Lavin and Subutai Ahmad. 2015. Evaluating Real-Time Anomaly Detection Algorithms – The Numenta Anomaly Benchmark."
   ]
  },
  {
   "cell_type": "code",
   "execution_count": null,
   "id": "fae4f749",
   "metadata": {},
   "outputs": [],
   "source": []
  }
 ],
 "metadata": {
  "kernelspec": {
   "display_name": "kedro-nab-venv",
   "language": "python",
   "name": "kedro-nab-venv"
  },
  "language_info": {
   "codemirror_mode": {
    "name": "ipython",
    "version": 3
   },
   "file_extension": ".py",
   "mimetype": "text/x-python",
   "name": "python",
   "nbconvert_exporter": "python",
   "pygments_lexer": "ipython3",
   "version": "3.7.12"
  }
 },
 "nbformat": 4,
 "nbformat_minor": 5
}
