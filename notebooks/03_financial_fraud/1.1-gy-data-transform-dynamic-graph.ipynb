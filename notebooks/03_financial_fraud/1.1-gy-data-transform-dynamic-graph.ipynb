{
 "cells": [
  {
   "cell_type": "markdown",
   "id": "2f371139",
   "metadata": {},
   "source": [
    "Copyright Amazon.com, Inc. or its affiliates. All Rights Reserved.\n",
    "\n",
    "SPDX-License-Identifier: Apache-2.0\n"
   ]
  },
  {
   "cell_type": "markdown",
   "id": "1f97409b",
   "metadata": {},
   "source": [
    "# Prepare Financial Fraud dataset for dynamic graph model (TADDY)\n",
    "\n",
    "The TADDY model an anomaly detection that detects anomalous edges in dynamic (changing over time) graphs. It learns edge embeddings that combine spatial (neighboring nodes and edges) of the graph as well as temporal information. A fully connected layer then classifies the embeddings as anomaly/not anomaly.\n",
    "\n",
    "The model expects graph snapshots with labeled edges, so this notebook prepares the BankSim dataset for TADDY.\n",
    "\n",
    "## This notebook consists of steps to \n",
    "1. Process raw data into edge, node list data for the data loader for model training \n",
    "3. Create graph snapshots with earlier snapshots used for train, and later snapshots for test"
   ]
  },
  {
   "cell_type": "code",
   "execution_count": 1,
   "id": "fb0aef08",
   "metadata": {},
   "outputs": [],
   "source": [
    "import sys \n",
    "import os"
   ]
  },
  {
   "cell_type": "code",
   "execution_count": 2,
   "id": "c55553ac",
   "metadata": {},
   "outputs": [],
   "source": [
    "sys.path.append('../../src/')"
   ]
  },
  {
   "cell_type": "code",
   "execution_count": 3,
   "id": "a05ab7b6",
   "metadata": {},
   "outputs": [],
   "source": [
    "import pandas as pd\n",
    "import numpy as np\n",
    "import pickle\n",
    "\n",
    "from anomaly_detection_spatial_temporal_data.utils import ensure_directory"
   ]
  },
  {
   "cell_type": "markdown",
   "id": "ddb5c6ac",
   "metadata": {},
   "source": [
    "# Load raw data"
   ]
  },
  {
   "cell_type": "code",
   "execution_count": 6,
   "id": "ae8ebbaf",
   "metadata": {},
   "outputs": [
    {
     "data": {
      "text/plain": [
       "(594643, 10)"
      ]
     },
     "execution_count": 6,
     "metadata": {},
     "output_type": "execute_result"
    }
   ],
   "source": [
    "raw_data_path = '../../data/01_raw/financial_fraud/bs140513_032310.csv'\n",
    "\n",
    "raw_trans_data = pd.read_csv(raw_data_path)\n",
    "\n",
    "raw_trans_data.shape"
   ]
  },
  {
   "cell_type": "code",
   "execution_count": 11,
   "id": "f99fca60",
   "metadata": {},
   "outputs": [
    {
     "data": {
      "text/plain": [
       "(594643, 5)"
      ]
     },
     "execution_count": 11,
     "metadata": {},
     "output_type": "execute_result"
    }
   ],
   "source": [
    "raw_net_data_path = '../../data/01_raw/financial_fraud/bsNET140513_032310.csv'\n",
    "\n",
    "raw_net_trans_data = pd.read_csv(raw_net_data_path)\n",
    "\n",
    "raw_net_trans_data.shape"
   ]
  },
  {
   "cell_type": "markdown",
   "id": "e0212eb0",
   "metadata": {},
   "source": [
    "# Process edge data for dynamic graph model \n",
    "## Customer can be treated as source node and merchant can be treated as target node "
   ]
  },
  {
   "cell_type": "code",
   "execution_count": 13,
   "id": "9e84ee31",
   "metadata": {},
   "outputs": [],
   "source": [
    "edges = raw_trans_data[['step','customer','merchant','category','amount','fraud']]"
   ]
  },
  {
   "cell_type": "code",
   "execution_count": 17,
   "id": "c646459e",
   "metadata": {},
   "outputs": [
    {
     "data": {
      "text/plain": [
       "(594643, 6)"
      ]
     },
     "execution_count": 17,
     "metadata": {},
     "output_type": "execute_result"
    }
   ],
   "source": [
    "# remove self loops where customer bought from self\n",
    "edges = edges.loc[edges.customer!=edges.merchant]\n",
    "\n",
    "edges.shape"
   ]
  },
  {
   "cell_type": "markdown",
   "id": "4bd55e69",
   "metadata": {},
   "source": [
    "### check duplicated (customer, merchant) pairs "
   ]
  },
  {
   "cell_type": "code",
   "execution_count": null,
   "id": "d06b6015",
   "metadata": {},
   "outputs": [],
   "source": [
    "customer_merchant_trans_count = edges.groupby(\n",
    "    by=['customer','merchant']\n",
    ").agg({'step':'count'}) #there are 47132 unique pairs "
   ]
  },
  {
   "cell_type": "code",
   "execution_count": null,
   "id": "57076951",
   "metadata": {},
   "outputs": [],
   "source": [
    "customer_merchant_trans_fraud = edges.groupby(by=['customer','merchant']).agg({'fraud':'sum'})"
   ]
  },
  {
   "cell_type": "code",
   "execution_count": 20,
   "id": "ea36b262",
   "metadata": {},
   "outputs": [
    {
     "data": {
      "text/plain": [
       "Index(['fraud'], dtype='object')"
      ]
     },
     "execution_count": 20,
     "metadata": {},
     "output_type": "execute_result"
    }
   ],
   "source": [
    "customer_merchant_trans_fraud.columns"
   ]
  },
  {
   "cell_type": "markdown",
   "id": "e40a0cfa",
   "metadata": {},
   "source": [
    "### Oberservation: 1065 (customer, merchant) pairs had been flagged as fraud for more than 1 time"
   ]
  },
  {
   "cell_type": "code",
   "execution_count": 21,
   "id": "d622590e",
   "metadata": {},
   "outputs": [
    {
     "data": {
      "text/html": [
       "<div>\n",
       "<style scoped>\n",
       "    .dataframe tbody tr th:only-of-type {\n",
       "        vertical-align: middle;\n",
       "    }\n",
       "\n",
       "    .dataframe tbody tr th {\n",
       "        vertical-align: top;\n",
       "    }\n",
       "\n",
       "    .dataframe thead th {\n",
       "        text-align: right;\n",
       "    }\n",
       "</style>\n",
       "<table border=\"1\" class=\"dataframe\">\n",
       "  <thead>\n",
       "    <tr style=\"text-align: right;\">\n",
       "      <th></th>\n",
       "      <th></th>\n",
       "      <th>fraud</th>\n",
       "    </tr>\n",
       "    <tr>\n",
       "      <th>customer</th>\n",
       "      <th>merchant</th>\n",
       "      <th></th>\n",
       "    </tr>\n",
       "  </thead>\n",
       "  <tbody>\n",
       "    <tr>\n",
       "      <th rowspan=\"3\" valign=\"top\">'C1001065306'</th>\n",
       "      <th>'M17379832'</th>\n",
       "      <td>2</td>\n",
       "    </tr>\n",
       "    <tr>\n",
       "      <th>'M480139044'</th>\n",
       "      <td>3</td>\n",
       "    </tr>\n",
       "    <tr>\n",
       "      <th>'M980657600'</th>\n",
       "      <td>2</td>\n",
       "    </tr>\n",
       "    <tr>\n",
       "      <th>'C1007572087'</th>\n",
       "      <th>'M732195782'</th>\n",
       "      <td>2</td>\n",
       "    </tr>\n",
       "    <tr>\n",
       "      <th>'C1013313546'</th>\n",
       "      <th>'M980657600'</th>\n",
       "      <td>2</td>\n",
       "    </tr>\n",
       "    <tr>\n",
       "      <th>...</th>\n",
       "      <th>...</th>\n",
       "      <td>...</td>\n",
       "    </tr>\n",
       "    <tr>\n",
       "      <th>'C974315171'</th>\n",
       "      <th>'M980657600'</th>\n",
       "      <td>3</td>\n",
       "    </tr>\n",
       "    <tr>\n",
       "      <th rowspan=\"2\" valign=\"top\">'C980181294'</th>\n",
       "      <th>'M480139044'</th>\n",
       "      <td>2</td>\n",
       "    </tr>\n",
       "    <tr>\n",
       "      <th>'M732195782'</th>\n",
       "      <td>2</td>\n",
       "    </tr>\n",
       "    <tr>\n",
       "      <th>'C989137613'</th>\n",
       "      <th>'M732195782'</th>\n",
       "      <td>2</td>\n",
       "    </tr>\n",
       "    <tr>\n",
       "      <th>'C995844287'</th>\n",
       "      <th>'M980657600'</th>\n",
       "      <td>2</td>\n",
       "    </tr>\n",
       "  </tbody>\n",
       "</table>\n",
       "<p>1065 rows × 1 columns</p>\n",
       "</div>"
      ],
      "text/plain": [
       "                            fraud\n",
       "customer      merchant           \n",
       "'C1001065306' 'M17379832'       2\n",
       "              'M480139044'      3\n",
       "              'M980657600'      2\n",
       "'C1007572087' 'M732195782'      2\n",
       "'C1013313546' 'M980657600'      2\n",
       "...                           ...\n",
       "'C974315171'  'M980657600'      3\n",
       "'C980181294'  'M480139044'      2\n",
       "              'M732195782'      2\n",
       "'C989137613'  'M732195782'      2\n",
       "'C995844287'  'M980657600'      2\n",
       "\n",
       "[1065 rows x 1 columns]"
      ]
     },
     "execution_count": 21,
     "metadata": {},
     "output_type": "execute_result"
    }
   ],
   "source": [
    "customer_merchant_trans_fraud.loc[customer_merchant_trans_fraud.fraud>1]"
   ]
  },
  {
   "cell_type": "markdown",
   "id": "3307a79b",
   "metadata": {},
   "source": [
    "### Oberservation: 1108 (customer, merchant) pairs had changing labels"
   ]
  },
  {
   "cell_type": "code",
   "execution_count": 22,
   "id": "7d121a97",
   "metadata": {},
   "outputs": [
    {
     "data": {
      "text/html": [
       "<div>\n",
       "<style scoped>\n",
       "    .dataframe tbody tr th:only-of-type {\n",
       "        vertical-align: middle;\n",
       "    }\n",
       "\n",
       "    .dataframe tbody tr th {\n",
       "        vertical-align: top;\n",
       "    }\n",
       "\n",
       "    .dataframe thead th {\n",
       "        text-align: right;\n",
       "    }\n",
       "</style>\n",
       "<table border=\"1\" class=\"dataframe\">\n",
       "  <thead>\n",
       "    <tr style=\"text-align: right;\">\n",
       "      <th></th>\n",
       "      <th></th>\n",
       "      <th>fraud</th>\n",
       "    </tr>\n",
       "    <tr>\n",
       "      <th>customer</th>\n",
       "      <th>merchant</th>\n",
       "      <th></th>\n",
       "    </tr>\n",
       "  </thead>\n",
       "  <tbody>\n",
       "    <tr>\n",
       "      <th rowspan=\"5\" valign=\"top\">'C1000148617'</th>\n",
       "      <th>'M1053599405'</th>\n",
       "      <td>0.0</td>\n",
       "    </tr>\n",
       "    <tr>\n",
       "      <th>'M1400236507'</th>\n",
       "      <td>0.0</td>\n",
       "    </tr>\n",
       "    <tr>\n",
       "      <th>'M1741626453'</th>\n",
       "      <td>0.0</td>\n",
       "    </tr>\n",
       "    <tr>\n",
       "      <th>'M1823072687'</th>\n",
       "      <td>0.0</td>\n",
       "    </tr>\n",
       "    <tr>\n",
       "      <th>'M1842530320'</th>\n",
       "      <td>0.0</td>\n",
       "    </tr>\n",
       "    <tr>\n",
       "      <th>...</th>\n",
       "      <th>...</th>\n",
       "      <td>...</td>\n",
       "    </tr>\n",
       "    <tr>\n",
       "      <th rowspan=\"5\" valign=\"top\">'C999723254'</th>\n",
       "      <th>'M348934600'</th>\n",
       "      <td>0.0</td>\n",
       "    </tr>\n",
       "    <tr>\n",
       "      <th>'M349281107'</th>\n",
       "      <td>0.0</td>\n",
       "    </tr>\n",
       "    <tr>\n",
       "      <th>'M480139044'</th>\n",
       "      <td>1.0</td>\n",
       "    </tr>\n",
       "    <tr>\n",
       "      <th>'M855959430'</th>\n",
       "      <td>0.0</td>\n",
       "    </tr>\n",
       "    <tr>\n",
       "      <th>'M85975013'</th>\n",
       "      <td>0.0</td>\n",
       "    </tr>\n",
       "  </tbody>\n",
       "</table>\n",
       "<p>47132 rows × 1 columns</p>\n",
       "</div>"
      ],
      "text/plain": [
       "                             fraud\n",
       "customer      merchant            \n",
       "'C1000148617' 'M1053599405'    0.0\n",
       "              'M1400236507'    0.0\n",
       "              'M1741626453'    0.0\n",
       "              'M1823072687'    0.0\n",
       "              'M1842530320'    0.0\n",
       "...                            ...\n",
       "'C999723254'  'M348934600'     0.0\n",
       "              'M349281107'     0.0\n",
       "              'M480139044'     1.0\n",
       "              'M855959430'     0.0\n",
       "              'M85975013'      0.0\n",
       "\n",
       "[47132 rows x 1 columns]"
      ]
     },
     "execution_count": 22,
     "metadata": {},
     "output_type": "execute_result"
    }
   ],
   "source": [
    "customer_merchant_trans_fraud_consistency = edges.groupby(by=['customer','merchant']).agg({'fraud':'mean'})\n",
    "customer_merchant_trans_fraud_consistency"
   ]
  },
  {
   "cell_type": "code",
   "execution_count": 23,
   "id": "3880f7c9",
   "metadata": {},
   "outputs": [
    {
     "data": {
      "text/html": [
       "<div>\n",
       "<style scoped>\n",
       "    .dataframe tbody tr th:only-of-type {\n",
       "        vertical-align: middle;\n",
       "    }\n",
       "\n",
       "    .dataframe tbody tr th {\n",
       "        vertical-align: top;\n",
       "    }\n",
       "\n",
       "    .dataframe thead th {\n",
       "        text-align: right;\n",
       "    }\n",
       "</style>\n",
       "<table border=\"1\" class=\"dataframe\">\n",
       "  <thead>\n",
       "    <tr style=\"text-align: right;\">\n",
       "      <th></th>\n",
       "      <th></th>\n",
       "      <th>fraud</th>\n",
       "    </tr>\n",
       "    <tr>\n",
       "      <th>customer</th>\n",
       "      <th>merchant</th>\n",
       "      <th></th>\n",
       "    </tr>\n",
       "  </thead>\n",
       "  <tbody>\n",
       "    <tr>\n",
       "      <th rowspan=\"2\" valign=\"top\">'C100045114'</th>\n",
       "      <th>'M1198415165'</th>\n",
       "      <td>0.250000</td>\n",
       "    </tr>\n",
       "    <tr>\n",
       "      <th>'M2122776122'</th>\n",
       "      <td>0.500000</td>\n",
       "    </tr>\n",
       "    <tr>\n",
       "      <th rowspan=\"3\" valign=\"top\">'C1001065306'</th>\n",
       "      <th>'M480139044'</th>\n",
       "      <td>0.500000</td>\n",
       "    </tr>\n",
       "    <tr>\n",
       "      <th>'M50039827'</th>\n",
       "      <td>0.200000</td>\n",
       "    </tr>\n",
       "    <tr>\n",
       "      <th>'M980657600'</th>\n",
       "      <td>0.666667</td>\n",
       "    </tr>\n",
       "    <tr>\n",
       "      <th>...</th>\n",
       "      <th>...</th>\n",
       "      <td>...</td>\n",
       "    </tr>\n",
       "    <tr>\n",
       "      <th rowspan=\"2\" valign=\"top\">'C995844287'</th>\n",
       "      <th>'M1198415165'</th>\n",
       "      <td>0.333333</td>\n",
       "    </tr>\n",
       "    <tr>\n",
       "      <th>'M855959430'</th>\n",
       "      <td>0.200000</td>\n",
       "    </tr>\n",
       "    <tr>\n",
       "      <th>'C997029022'</th>\n",
       "      <th>'M480139044'</th>\n",
       "      <td>0.333333</td>\n",
       "    </tr>\n",
       "    <tr>\n",
       "      <th>'C998690782'</th>\n",
       "      <th>'M732195782'</th>\n",
       "      <td>0.500000</td>\n",
       "    </tr>\n",
       "    <tr>\n",
       "      <th>'C999393223'</th>\n",
       "      <th>'M855959430'</th>\n",
       "      <td>0.250000</td>\n",
       "    </tr>\n",
       "  </tbody>\n",
       "</table>\n",
       "<p>1108 rows × 1 columns</p>\n",
       "</div>"
      ],
      "text/plain": [
       "                                fraud\n",
       "customer      merchant               \n",
       "'C100045114'  'M1198415165'  0.250000\n",
       "              'M2122776122'  0.500000\n",
       "'C1001065306' 'M480139044'   0.500000\n",
       "              'M50039827'    0.200000\n",
       "              'M980657600'   0.666667\n",
       "...                               ...\n",
       "'C995844287'  'M1198415165'  0.333333\n",
       "              'M855959430'   0.200000\n",
       "'C997029022'  'M480139044'   0.333333\n",
       "'C998690782'  'M732195782'   0.500000\n",
       "'C999393223'  'M855959430'   0.250000\n",
       "\n",
       "[1108 rows x 1 columns]"
      ]
     },
     "execution_count": 23,
     "metadata": {},
     "output_type": "execute_result"
    }
   ],
   "source": [
    "customer_merchant_trans_fraud_consistency.loc[\n",
    "    (customer_merchant_trans_fraud_consistency.fraud!=1) & (customer_merchant_trans_fraud_consistency.fraud!=0) \n",
    "]"
   ]
  },
  {
   "cell_type": "markdown",
   "id": "ffadd3ca",
   "metadata": {},
   "source": [
    "# Dedupe (customer, merchant) pair, only keep the last transaction (the latest)"
   ]
  },
  {
   "cell_type": "code",
   "execution_count": 24,
   "id": "32687e3f",
   "metadata": {},
   "outputs": [
    {
     "data": {
      "text/plain": [
       "(594643, 6)"
      ]
     },
     "execution_count": 24,
     "metadata": {},
     "output_type": "execute_result"
    }
   ],
   "source": [
    "edges.shape"
   ]
  },
  {
   "cell_type": "code",
   "execution_count": 25,
   "id": "78b9e450",
   "metadata": {},
   "outputs": [],
   "source": [
    "edges_deduped = edges.drop_duplicates(subset=['customer','merchant'], keep='last', )"
   ]
  },
  {
   "cell_type": "code",
   "execution_count": 26,
   "id": "f250e41b",
   "metadata": {},
   "outputs": [
    {
     "data": {
      "text/plain": [
       "(47132, 6)"
      ]
     },
     "execution_count": 26,
     "metadata": {},
     "output_type": "execute_result"
    }
   ],
   "source": [
    "edges_deduped.shape"
   ]
  },
  {
   "cell_type": "code",
   "execution_count": 29,
   "id": "97eaf7a9",
   "metadata": {},
   "outputs": [],
   "source": [
    "edges_array = np.array(edges_deduped[['customer','merchant']])"
   ]
  },
  {
   "cell_type": "markdown",
   "id": "d4b53a0e",
   "metadata": {},
   "source": [
    "### convert str ids to int indexes "
   ]
  },
  {
   "cell_type": "code",
   "execution_count": 31,
   "id": "359883cc",
   "metadata": {},
   "outputs": [],
   "source": [
    "vertexs, edges_1d = np.unique(edges_array, return_inverse=True)"
   ]
  },
  {
   "cell_type": "code",
   "execution_count": 12,
   "id": "43615bfc",
   "metadata": {},
   "outputs": [],
   "source": [
    "# vertexs, len(vertexs)"
   ]
  },
  {
   "cell_type": "markdown",
   "id": "2c195d87",
   "metadata": {},
   "source": [
    "### save str ids to int indexes mapping"
   ]
  },
  {
   "cell_type": "code",
   "execution_count": 33,
   "id": "158b01cc",
   "metadata": {},
   "outputs": [],
   "source": [
    "vertex_to_id = {}\n",
    "for i,vertex in enumerate(vertexs):\n",
    "    vertex_to_id.setdefault(vertex,i)"
   ]
  },
  {
   "cell_type": "code",
   "execution_count": 35,
   "id": "48072f38",
   "metadata": {},
   "outputs": [],
   "source": [
    "vertex_to_id_df = pd.DataFrame.from_dict(\n",
    "    vertex_to_id, \n",
    "    orient='index', \n",
    "    columns=['idx']\n",
    ").reset_index().rename(columns={\"index\": \"name\"})"
   ]
  },
  {
   "cell_type": "markdown",
   "id": "5eb47feb",
   "metadata": {},
   "source": [
    "#### save id to index mapping\n"
   ]
  },
  {
   "cell_type": "code",
   "execution_count": 39,
   "id": "615a606b",
   "metadata": {},
   "outputs": [],
   "source": [
    "vertex_to_id_file_path = \"../../data/02_intermediate/financial_fraud/node_id.csv\"\n",
    "\n",
    "ensure_directory(vertex_to_id_file_path)\n",
    "\n",
    "vertex_to_id_df.to_csv(\"../../data/02_intermediate/financial_fraud/node_id.csv\", index=False)"
   ]
  },
  {
   "cell_type": "code",
   "execution_count": 41,
   "id": "4d9a2baa",
   "metadata": {},
   "outputs": [],
   "source": [
    "edges_idx = np.reshape(edges_1d, [-1, 2])"
   ]
  },
  {
   "cell_type": "code",
   "execution_count": 42,
   "id": "bce1c091",
   "metadata": {},
   "outputs": [
    {
     "data": {
      "text/plain": [
       "(array([[3317, 4148],\n",
       "        [2363, 4154],\n",
       "        [3396, 4127],\n",
       "        ...,\n",
       "        [ 529, 4143],\n",
       "        [1083, 4130],\n",
       "        [3304, 4130]]),\n",
       " 47132)"
      ]
     },
     "execution_count": 42,
     "metadata": {},
     "output_type": "execute_result"
    }
   ],
   "source": [
    "edges_idx, len(edges_idx)"
   ]
  },
  {
   "cell_type": "markdown",
   "id": "f3f89a59",
   "metadata": {},
   "source": [
    "### Check whether the node indexes for the top 3 edge list records are correct \n",
    "It's critical that the indexes are correctly aligned with raw data, and the indexes in the graph (represented as sparse graph)"
   ]
  },
  {
   "cell_type": "code",
   "execution_count": 43,
   "id": "9dfd43ee",
   "metadata": {},
   "outputs": [
    {
     "data": {
      "text/plain": [
       "((\"'C623601481'\", \"'M50039827'\"),\n",
       " (\"'C2092526272'\", \"'M840466850'\"),\n",
       " (\"'C661876608'\", \"'M1741626453'\"),\n",
       " (\"'C616528518'\", \"'M1823072687'\"))"
      ]
     },
     "execution_count": 43,
     "metadata": {},
     "output_type": "execute_result"
    }
   ],
   "source": [
    "### manually checkingg the node id for the note indexes\n",
    "# (vertexs[3317], vertexs[4148]), (vertexs[2363], vertexs[4154]),(vertexs[3396], vertexs[4127]), (vertexs[3304], vertexs[4130])"
   ]
  },
  {
   "cell_type": "code",
   "execution_count": 44,
   "id": "fe16ef05",
   "metadata": {},
   "outputs": [
    {
     "data": {
      "text/html": [
       "<div>\n",
       "<style scoped>\n",
       "    .dataframe tbody tr th:only-of-type {\n",
       "        vertical-align: middle;\n",
       "    }\n",
       "\n",
       "    .dataframe tbody tr th {\n",
       "        vertical-align: top;\n",
       "    }\n",
       "\n",
       "    .dataframe thead th {\n",
       "        text-align: right;\n",
       "    }\n",
       "</style>\n",
       "<table border=\"1\" class=\"dataframe\">\n",
       "  <thead>\n",
       "    <tr style=\"text-align: right;\">\n",
       "      <th></th>\n",
       "      <th>step</th>\n",
       "      <th>customer</th>\n",
       "      <th>merchant</th>\n",
       "      <th>category</th>\n",
       "      <th>amount</th>\n",
       "      <th>fraud</th>\n",
       "    </tr>\n",
       "  </thead>\n",
       "  <tbody>\n",
       "    <tr>\n",
       "      <th>12</th>\n",
       "      <td>0</td>\n",
       "      <td>'C623601481'</td>\n",
       "      <td>'M50039827'</td>\n",
       "      <td>'es_health'</td>\n",
       "      <td>68.79</td>\n",
       "      <td>0</td>\n",
       "    </tr>\n",
       "    <tr>\n",
       "      <th>148</th>\n",
       "      <td>0</td>\n",
       "      <td>'C2092526272'</td>\n",
       "      <td>'M840466850'</td>\n",
       "      <td>'es_tech'</td>\n",
       "      <td>163.56</td>\n",
       "      <td>0</td>\n",
       "    </tr>\n",
       "    <tr>\n",
       "      <th>153</th>\n",
       "      <td>0</td>\n",
       "      <td>'C661876608'</td>\n",
       "      <td>'M1741626453'</td>\n",
       "      <td>'es_sportsandtoys'</td>\n",
       "      <td>11.83</td>\n",
       "      <td>0</td>\n",
       "    </tr>\n",
       "  </tbody>\n",
       "</table>\n",
       "</div>"
      ],
      "text/plain": [
       "     step       customer       merchant            category  amount  fraud\n",
       "12      0   'C623601481'    'M50039827'         'es_health'   68.79      0\n",
       "148     0  'C2092526272'   'M840466850'           'es_tech'  163.56      0\n",
       "153     0   'C661876608'  'M1741626453'  'es_sportsandtoys'   11.83      0"
      ]
     },
     "execution_count": 44,
     "metadata": {},
     "output_type": "execute_result"
    }
   ],
   "source": [
    "### consistent with the raw data \n",
    "# edges_deduped.head(3)"
   ]
  },
  {
   "cell_type": "code",
   "execution_count": 45,
   "id": "578f9987",
   "metadata": {},
   "outputs": [
    {
     "name": "stdout",
     "output_type": "stream",
     "text": [
      "vertex: 4162 edge: 47132\n"
     ]
    }
   ],
   "source": [
    "# print('vertex:', len(vertexs), 'edge:', len(edges_idx))"
   ]
  },
  {
   "cell_type": "markdown",
   "id": "1becdfe2",
   "metadata": {},
   "source": [
    "# Find labels for the edge"
   ]
  },
  {
   "cell_type": "code",
   "execution_count": 46,
   "id": "f5b01948",
   "metadata": {},
   "outputs": [],
   "source": [
    "from tqdm import tqdm"
   ]
  },
  {
   "cell_type": "code",
   "execution_count": 47,
   "id": "f3dbfb90",
   "metadata": {},
   "outputs": [
    {
     "name": "stderr",
     "output_type": "stream",
     "text": [
      "100%|██████████| 47132/47132 [00:02<00:00, 20764.57it/s]\n"
     ]
    }
   ],
   "source": [
    "edge_label_arr = np.zeros([edges_deduped.shape[0], 3], dtype=np.int32)\n",
    "for idx, row in tqdm(edges_deduped.reset_index().iterrows(), total=edges_deduped.shape[0]): #using deduped trans \n",
    "    edge_label_arr[idx][0] = vertex_to_id[row['customer']]\n",
    "    edge_label_arr[idx][1] = vertex_to_id[row['merchant']]\n",
    "    edge_label_arr[idx][2] = row['fraud']"
   ]
  },
  {
   "cell_type": "code",
   "execution_count": 48,
   "id": "7ebc13fb",
   "metadata": {},
   "outputs": [
    {
     "data": {
      "text/plain": [
       "(47132, 3)"
      ]
     },
     "execution_count": 48,
     "metadata": {},
     "output_type": "execute_result"
    }
   ],
   "source": [
    "edge_label_arr.shape"
   ]
  },
  {
   "cell_type": "code",
   "execution_count": 50,
   "id": "714ece15",
   "metadata": {},
   "outputs": [],
   "source": [
    "edge_label_postprocessed_df = pd.DataFrame(edge_label_arr, columns=['source','target','label'])"
   ]
  },
  {
   "cell_type": "code",
   "execution_count": 51,
   "id": "bd33da42",
   "metadata": {},
   "outputs": [
    {
     "data": {
      "text/html": [
       "<div>\n",
       "<style scoped>\n",
       "    .dataframe tbody tr th:only-of-type {\n",
       "        vertical-align: middle;\n",
       "    }\n",
       "\n",
       "    .dataframe tbody tr th {\n",
       "        vertical-align: top;\n",
       "    }\n",
       "\n",
       "    .dataframe thead th {\n",
       "        text-align: right;\n",
       "    }\n",
       "</style>\n",
       "<table border=\"1\" class=\"dataframe\">\n",
       "  <thead>\n",
       "    <tr style=\"text-align: right;\">\n",
       "      <th></th>\n",
       "      <th>source</th>\n",
       "      <th>target</th>\n",
       "      <th>label</th>\n",
       "    </tr>\n",
       "  </thead>\n",
       "  <tbody>\n",
       "    <tr>\n",
       "      <th>0</th>\n",
       "      <td>3317</td>\n",
       "      <td>4148</td>\n",
       "      <td>0</td>\n",
       "    </tr>\n",
       "    <tr>\n",
       "      <th>1</th>\n",
       "      <td>2363</td>\n",
       "      <td>4154</td>\n",
       "      <td>0</td>\n",
       "    </tr>\n",
       "    <tr>\n",
       "      <th>2</th>\n",
       "      <td>3396</td>\n",
       "      <td>4127</td>\n",
       "      <td>0</td>\n",
       "    </tr>\n",
       "    <tr>\n",
       "      <th>3</th>\n",
       "      <td>948</td>\n",
       "      <td>4151</td>\n",
       "      <td>0</td>\n",
       "    </tr>\n",
       "    <tr>\n",
       "      <th>4</th>\n",
       "      <td>2086</td>\n",
       "      <td>4155</td>\n",
       "      <td>0</td>\n",
       "    </tr>\n",
       "    <tr>\n",
       "      <th>...</th>\n",
       "      <td>...</td>\n",
       "      <td>...</td>\n",
       "      <td>...</td>\n",
       "    </tr>\n",
       "    <tr>\n",
       "      <th>47127</th>\n",
       "      <td>1639</td>\n",
       "      <td>4130</td>\n",
       "      <td>0</td>\n",
       "    </tr>\n",
       "    <tr>\n",
       "      <th>47128</th>\n",
       "      <td>3369</td>\n",
       "      <td>4130</td>\n",
       "      <td>0</td>\n",
       "    </tr>\n",
       "    <tr>\n",
       "      <th>47129</th>\n",
       "      <td>529</td>\n",
       "      <td>4143</td>\n",
       "      <td>0</td>\n",
       "    </tr>\n",
       "    <tr>\n",
       "      <th>47130</th>\n",
       "      <td>1083</td>\n",
       "      <td>4130</td>\n",
       "      <td>0</td>\n",
       "    </tr>\n",
       "    <tr>\n",
       "      <th>47131</th>\n",
       "      <td>3304</td>\n",
       "      <td>4130</td>\n",
       "      <td>0</td>\n",
       "    </tr>\n",
       "  </tbody>\n",
       "</table>\n",
       "<p>47132 rows × 3 columns</p>\n",
       "</div>"
      ],
      "text/plain": [
       "       source  target  label\n",
       "0        3317    4148      0\n",
       "1        2363    4154      0\n",
       "2        3396    4127      0\n",
       "3         948    4151      0\n",
       "4        2086    4155      0\n",
       "...       ...     ...    ...\n",
       "47127    1639    4130      0\n",
       "47128    3369    4130      0\n",
       "47129     529    4143      0\n",
       "47130    1083    4130      0\n",
       "47131    3304    4130      0\n",
       "\n",
       "[47132 rows x 3 columns]"
      ]
     },
     "execution_count": 51,
     "metadata": {},
     "output_type": "execute_result"
    }
   ],
   "source": [
    "edge_label_postprocessed_df.head()"
   ]
  },
  {
   "cell_type": "code",
   "execution_count": 53,
   "id": "7e3d4036",
   "metadata": {},
   "outputs": [],
   "source": [
    "edge_label_df_file_path = \"../../data/02_intermediate/financial_fraud/edge_label.csv\"\n",
    "edge_list_arr_file_path = \"../../data/02_intermediate/financial_fraud/edge_list.npz\"\n",
    "\n",
    "ensure_directory(edge_label_df_file_path)\n",
    "ensure_directory(edge_list_arr_file_path)"
   ]
  },
  {
   "cell_type": "code",
   "execution_count": 55,
   "id": "4f590149",
   "metadata": {},
   "outputs": [],
   "source": [
    "with open(edge_list_arr_file_path, mode=\"wb\") as f:\n",
    "    np.savez(f,data=edge_label_arr)"
   ]
  },
  {
   "cell_type": "markdown",
   "id": "f62b2033",
   "metadata": {},
   "source": [
    "### check again the processed data are consistent with the raw data "
   ]
  },
  {
   "cell_type": "code",
   "execution_count": 56,
   "id": "592a1b21",
   "metadata": {},
   "outputs": [
    {
     "data": {
      "text/plain": [
       "(\"'C623601481'\", \"'M50039827'\")"
      ]
     },
     "execution_count": 56,
     "metadata": {},
     "output_type": "execute_result"
    }
   ],
   "source": [
    "# (vertexs[edge_label_arr[0][0]], vertexs[edge_label_arr[0][1]])"
   ]
  },
  {
   "cell_type": "code",
   "execution_count": 57,
   "id": "f06a2581",
   "metadata": {},
   "outputs": [
    {
     "data": {
      "text/html": [
       "<div>\n",
       "<style scoped>\n",
       "    .dataframe tbody tr th:only-of-type {\n",
       "        vertical-align: middle;\n",
       "    }\n",
       "\n",
       "    .dataframe tbody tr th {\n",
       "        vertical-align: top;\n",
       "    }\n",
       "\n",
       "    .dataframe thead th {\n",
       "        text-align: right;\n",
       "    }\n",
       "</style>\n",
       "<table border=\"1\" class=\"dataframe\">\n",
       "  <thead>\n",
       "    <tr style=\"text-align: right;\">\n",
       "      <th></th>\n",
       "      <th>step</th>\n",
       "      <th>customer</th>\n",
       "      <th>merchant</th>\n",
       "      <th>category</th>\n",
       "      <th>amount</th>\n",
       "      <th>fraud</th>\n",
       "    </tr>\n",
       "  </thead>\n",
       "  <tbody>\n",
       "    <tr>\n",
       "      <th>12</th>\n",
       "      <td>0</td>\n",
       "      <td>'C623601481'</td>\n",
       "      <td>'M50039827'</td>\n",
       "      <td>'es_health'</td>\n",
       "      <td>68.79</td>\n",
       "      <td>0</td>\n",
       "    </tr>\n",
       "  </tbody>\n",
       "</table>\n",
       "</div>"
      ],
      "text/plain": [
       "    step      customer     merchant     category  amount  fraud\n",
       "12     0  'C623601481'  'M50039827'  'es_health'   68.79      0"
      ]
     },
     "execution_count": 57,
     "metadata": {},
     "output_type": "execute_result"
    }
   ],
   "source": [
    "# edges_deduped.loc[(edges_deduped.customer ==vertexs[edge_label_arr[0][0]] )& (edges_deduped.merchant ==vertexs[edge_label_arr[0][1]])]"
   ]
  },
  {
   "cell_type": "code",
   "execution_count": 58,
   "id": "b6a6f0e0",
   "metadata": {},
   "outputs": [
    {
     "data": {
      "text/plain": [
       "0    0.912353\n",
       "1    0.087647\n",
       "Name: label, dtype: float64"
      ]
     },
     "execution_count": 58,
     "metadata": {},
     "output_type": "execute_result"
    }
   ],
   "source": [
    "#check fraud ratio\n",
    "edge_label_postprocessed_df['label'].value_counts(normalize=True)"
   ]
  },
  {
   "cell_type": "markdown",
   "id": "e9a0f6a2",
   "metadata": {},
   "source": [
    "# Split train/test data and generate data for graph dataloader "
   ]
  },
  {
   "cell_type": "code",
   "execution_count": 59,
   "id": "21de2293",
   "metadata": {},
   "outputs": [
    {
     "data": {
      "text/plain": [
       "(47132, 6)"
      ]
     },
     "execution_count": 59,
     "metadata": {},
     "output_type": "execute_result"
    }
   ],
   "source": [
    "edges_deduped.shape"
   ]
  },
  {
   "cell_type": "code",
   "execution_count": 60,
   "id": "ffe74e84",
   "metadata": {},
   "outputs": [
    {
     "data": {
      "text/html": [
       "<div>\n",
       "<style scoped>\n",
       "    .dataframe tbody tr th:only-of-type {\n",
       "        vertical-align: middle;\n",
       "    }\n",
       "\n",
       "    .dataframe tbody tr th {\n",
       "        vertical-align: top;\n",
       "    }\n",
       "\n",
       "    .dataframe thead th {\n",
       "        text-align: right;\n",
       "    }\n",
       "</style>\n",
       "<table border=\"1\" class=\"dataframe\">\n",
       "  <thead>\n",
       "    <tr style=\"text-align: right;\">\n",
       "      <th></th>\n",
       "      <th>step</th>\n",
       "      <th>customer</th>\n",
       "      <th>merchant</th>\n",
       "      <th>category</th>\n",
       "      <th>amount</th>\n",
       "      <th>fraud</th>\n",
       "    </tr>\n",
       "  </thead>\n",
       "  <tbody>\n",
       "    <tr>\n",
       "      <th>12</th>\n",
       "      <td>0</td>\n",
       "      <td>'C623601481'</td>\n",
       "      <td>'M50039827'</td>\n",
       "      <td>'es_health'</td>\n",
       "      <td>68.79</td>\n",
       "      <td>0</td>\n",
       "    </tr>\n",
       "    <tr>\n",
       "      <th>148</th>\n",
       "      <td>0</td>\n",
       "      <td>'C2092526272'</td>\n",
       "      <td>'M840466850'</td>\n",
       "      <td>'es_tech'</td>\n",
       "      <td>163.56</td>\n",
       "      <td>0</td>\n",
       "    </tr>\n",
       "    <tr>\n",
       "      <th>153</th>\n",
       "      <td>0</td>\n",
       "      <td>'C661876608'</td>\n",
       "      <td>'M1741626453'</td>\n",
       "      <td>'es_sportsandtoys'</td>\n",
       "      <td>11.83</td>\n",
       "      <td>0</td>\n",
       "    </tr>\n",
       "    <tr>\n",
       "      <th>194</th>\n",
       "      <td>0</td>\n",
       "      <td>'C1436756684'</td>\n",
       "      <td>'M692898500'</td>\n",
       "      <td>'es_health'</td>\n",
       "      <td>187.62</td>\n",
       "      <td>0</td>\n",
       "    </tr>\n",
       "    <tr>\n",
       "      <th>218</th>\n",
       "      <td>0</td>\n",
       "      <td>'C1960866892'</td>\n",
       "      <td>'M855959430'</td>\n",
       "      <td>'es_hyper'</td>\n",
       "      <td>22.65</td>\n",
       "      <td>0</td>\n",
       "    </tr>\n",
       "    <tr>\n",
       "      <th>227</th>\n",
       "      <td>0</td>\n",
       "      <td>'C991774315'</td>\n",
       "      <td>'M349281107'</td>\n",
       "      <td>'es_fashion'</td>\n",
       "      <td>79.71</td>\n",
       "      <td>0</td>\n",
       "    </tr>\n",
       "    <tr>\n",
       "      <th>253</th>\n",
       "      <td>0</td>\n",
       "      <td>'C1959067413'</td>\n",
       "      <td>'M209847108'</td>\n",
       "      <td>'es_wellnessandbeauty'</td>\n",
       "      <td>86.09</td>\n",
       "      <td>0</td>\n",
       "    </tr>\n",
       "    <tr>\n",
       "      <th>256</th>\n",
       "      <td>0</td>\n",
       "      <td>'C1465698425'</td>\n",
       "      <td>'M2122776122'</td>\n",
       "      <td>'es_home'</td>\n",
       "      <td>98.19</td>\n",
       "      <td>0</td>\n",
       "    </tr>\n",
       "    <tr>\n",
       "      <th>282</th>\n",
       "      <td>0</td>\n",
       "      <td>'C181787207'</td>\n",
       "      <td>'M1873032707'</td>\n",
       "      <td>'es_hotelservices'</td>\n",
       "      <td>71.76</td>\n",
       "      <td>0</td>\n",
       "    </tr>\n",
       "    <tr>\n",
       "      <th>283</th>\n",
       "      <td>0</td>\n",
       "      <td>'C2063978670'</td>\n",
       "      <td>'M2011752106'</td>\n",
       "      <td>'es_hotelservices'</td>\n",
       "      <td>194.59</td>\n",
       "      <td>0</td>\n",
       "    </tr>\n",
       "  </tbody>\n",
       "</table>\n",
       "</div>"
      ],
      "text/plain": [
       "     step       customer       merchant                category  amount  fraud\n",
       "12      0   'C623601481'    'M50039827'             'es_health'   68.79      0\n",
       "148     0  'C2092526272'   'M840466850'               'es_tech'  163.56      0\n",
       "153     0   'C661876608'  'M1741626453'      'es_sportsandtoys'   11.83      0\n",
       "194     0  'C1436756684'   'M692898500'             'es_health'  187.62      0\n",
       "218     0  'C1960866892'   'M855959430'              'es_hyper'   22.65      0\n",
       "227     0   'C991774315'   'M349281107'            'es_fashion'   79.71      0\n",
       "253     0  'C1959067413'   'M209847108'  'es_wellnessandbeauty'   86.09      0\n",
       "256     0  'C1465698425'  'M2122776122'               'es_home'   98.19      0\n",
       "282     0   'C181787207'  'M1873032707'      'es_hotelservices'   71.76      0\n",
       "283     0  'C2063978670'  'M2011752106'      'es_hotelservices'  194.59      0"
      ]
     },
     "execution_count": 60,
     "metadata": {},
     "output_type": "execute_result"
    }
   ],
   "source": [
    "edges_deduped.head()"
   ]
  },
  {
   "cell_type": "code",
   "execution_count": 62,
   "id": "d0492ab9",
   "metadata": {},
   "outputs": [
    {
     "data": {
      "text/plain": [
       "(47132, 4162)"
      ]
     },
     "execution_count": 62,
     "metadata": {},
     "output_type": "execute_result"
    }
   ],
   "source": [
    "len(edge_label_arr), len(vertexs)"
   ]
  },
  {
   "cell_type": "code",
   "execution_count": 63,
   "id": "a9acabdc",
   "metadata": {},
   "outputs": [
    {
     "data": {
      "text/plain": [
       "((4162, 2), (47132, 3))"
      ]
     },
     "execution_count": 63,
     "metadata": {},
     "output_type": "execute_result"
    }
   ],
   "source": [
    "vertex_to_id_df.shape, edge_label_arr.shape"
   ]
  },
  {
   "cell_type": "code",
   "execution_count": 65,
   "id": "cc679d30",
   "metadata": {},
   "outputs": [
    {
     "data": {
      "text/plain": [
       "(47132, 4162)"
      ]
     },
     "execution_count": 65,
     "metadata": {},
     "output_type": "execute_result"
    }
   ],
   "source": [
    "m = len(edge_label_arr) #edge number \n",
    "n = len(vertex_to_id_df) #node number \n",
    "\n",
    "print(f\"Number of edges: {m}, Number of nodes: {n}\")"
   ]
  },
  {
   "cell_type": "code",
   "execution_count": 67,
   "id": "b214237b",
   "metadata": {},
   "outputs": [
    {
     "data": {
      "text/plain": [
       "23566"
      ]
     },
     "execution_count": 67,
     "metadata": {},
     "output_type": "execute_result"
    }
   ],
   "source": [
    "train_per = 0.5 #split in half \n",
    "\n",
    "train_num = int(np.floor(train_per * m))\n",
    "\n",
    "train = edge_label_arr[0:train_num, :] #first half being training samples\n",
    "test = edge_label_arr[train_num:, :] #second half being test samples "
   ]
  },
  {
   "cell_type": "code",
   "execution_count": 69,
   "id": "136db26b",
   "metadata": {},
   "outputs": [
    {
     "data": {
      "text/plain": [
       "((23566, 3), (23566, 3))"
      ]
     },
     "execution_count": 69,
     "metadata": {},
     "output_type": "execute_result"
    }
   ],
   "source": [
    "train.shape, test.shape"
   ]
  },
  {
   "cell_type": "markdown",
   "id": "c65ec6f3",
   "metadata": {},
   "source": [
    "# Build graph in the format of a sparse matrix with edge list \n",
    "Again, it's critical that the indexes are correctly aligned with raw data, and the indexes in the graph (represented as sparse graph)"
   ]
  },
  {
   "cell_type": "code",
   "execution_count": 74,
   "id": "7501e125",
   "metadata": {},
   "outputs": [],
   "source": [
    "from scipy.sparse import csr_matrix,coo_matrix,eye"
   ]
  },
  {
   "cell_type": "code",
   "execution_count": 75,
   "id": "7a515b1c",
   "metadata": {},
   "outputs": [],
   "source": [
    "train_mat = csr_matrix(\n",
    "    (np.ones([np.size(train, 0)], dtype=np.int32), \n",
    "    (train[:, 0], train[:, 1])),\n",
    "    shape=(n, n))"
   ]
  },
  {
   "cell_type": "code",
   "execution_count": 76,
   "id": "4d8f5eb4",
   "metadata": {},
   "outputs": [
    {
     "data": {
      "text/plain": [
       "(4162, 4162)"
      ]
     },
     "execution_count": 76,
     "metadata": {},
     "output_type": "execute_result"
    }
   ],
   "source": [
    "train_mat.shape"
   ]
  },
  {
   "cell_type": "code",
   "execution_count": 77,
   "id": "0e338a9a",
   "metadata": {},
   "outputs": [],
   "source": [
    "train_mat = train_mat + train_mat.transpose() #enforce symmetry "
   ]
  },
  {
   "cell_type": "markdown",
   "id": "154331ba",
   "metadata": {},
   "source": [
    "#### check edgelist id with the sparse matrix idx"
   ]
  },
  {
   "cell_type": "code",
   "execution_count": 78,
   "id": "2538a1e4",
   "metadata": {},
   "outputs": [
    {
     "data": {
      "text/plain": [
       "(1, 1)"
      ]
     },
     "execution_count": 78,
     "metadata": {},
     "output_type": "execute_result"
    }
   ],
   "source": [
    "# train_mat[3317,4148], train_mat[4148,3317]"
   ]
  },
  {
   "cell_type": "code",
   "execution_count": 79,
   "id": "fc410558",
   "metadata": {},
   "outputs": [
    {
     "data": {
      "text/plain": [
       "(0, 0)"
      ]
     },
     "execution_count": 79,
     "metadata": {},
     "output_type": "execute_result"
    }
   ],
   "source": [
    "# train_mat[86,4145], train_mat[4145,86] #being 0 because this edge is in the test set "
   ]
  },
  {
   "cell_type": "code",
   "execution_count": 80,
   "id": "754e6a79",
   "metadata": {},
   "outputs": [],
   "source": [
    "train_mat = (train_mat + train_mat.transpose() + eye(n)).tolil() #Convert to List of Lists format"
   ]
  },
  {
   "cell_type": "code",
   "execution_count": 81,
   "id": "822f5005",
   "metadata": {},
   "outputs": [],
   "source": [
    "headtail = train_mat.rows #store the indexes of edges"
   ]
  },
  {
   "cell_type": "code",
   "execution_count": 15,
   "id": "15e4d979",
   "metadata": {},
   "outputs": [],
   "source": [
    "# headtail"
   ]
  },
  {
   "cell_type": "code",
   "execution_count": 83,
   "id": "f6129969",
   "metadata": {},
   "outputs": [],
   "source": [
    "#check degrees of each source node \n",
    "degrees = np.array([len(x) for x in headtail])"
   ]
  },
  {
   "cell_type": "markdown",
   "id": "8105fe54",
   "metadata": {},
   "source": [
    "# Creating snapshots of graphs for the dataloader of TADDY model"
   ]
  },
  {
   "cell_type": "code",
   "execution_count": 84,
   "id": "46b17727",
   "metadata": {},
   "outputs": [],
   "source": [
    "snap_size=5000"
   ]
  },
  {
   "cell_type": "code",
   "execution_count": 86,
   "id": "0af3f2a1",
   "metadata": {},
   "outputs": [],
   "source": [
    "train_size = int(len(train) / snap_size + 0.5) #making slices of snapshots\n",
    "test_size = int(len(test) / snap_size + 0.5)"
   ]
  },
  {
   "cell_type": "code",
   "execution_count": 87,
   "id": "9e4e9072",
   "metadata": {},
   "outputs": [
    {
     "data": {
      "text/plain": [
       "(5, 5)"
      ]
     },
     "execution_count": 87,
     "metadata": {},
     "output_type": "execute_result"
    }
   ],
   "source": [
    "train_size, test_size"
   ]
  },
  {
   "cell_type": "code",
   "execution_count": 88,
   "id": "b750869e",
   "metadata": {},
   "outputs": [],
   "source": [
    "rows = []\n",
    "cols = []\n",
    "weis = []\n",
    "labs = []\n",
    "for ii in range(train_size):\n",
    "    start_loc = ii * snap_size\n",
    "    end_loc = (ii + 1) * snap_size\n",
    "\n",
    "    row = np.array(train[start_loc:end_loc, 0], dtype=np.int32) #source nodes of edges stored as row indexes \n",
    "    col = np.array(train[start_loc:end_loc, 1], dtype=np.int32) #target nodes of edges stored as row indexes \n",
    "    lab = np.array(train[start_loc:end_loc, 2], dtype=np.int32) #labels\n",
    "    wei = np.ones_like(row, dtype=np.int32) #weights of edge (all set to be 1 in this experiment)\n",
    "\n",
    "    rows.append(row)\n",
    "    cols.append(col)\n",
    "    weis.append(wei) #weights\n",
    "    labs.append(lab) #label"
   ]
  },
  {
   "cell_type": "code",
   "execution_count": 89,
   "id": "a268c7a0",
   "metadata": {},
   "outputs": [],
   "source": [
    "for i in range(test_size):\n",
    "    start_loc = i * snap_size\n",
    "    end_loc = (i + 1) * snap_size\n",
    "\n",
    "    row = np.array(test[start_loc:end_loc, 0], dtype=np.int32)\n",
    "    col = np.array(test[start_loc:end_loc, 1], dtype=np.int32)\n",
    "    lab = np.array(test[start_loc:end_loc, 2], dtype=np.int32)\n",
    "    wei = np.ones_like(row, dtype=np.int32)\n",
    "\n",
    "    rows.append(row)\n",
    "    cols.append(col)\n",
    "    weis.append(wei)\n",
    "    labs.append(lab)"
   ]
  },
  {
   "cell_type": "code",
   "execution_count": 90,
   "id": "d6ebe01e",
   "metadata": {},
   "outputs": [
    {
     "data": {
      "text/plain": [
       "(10, (5000,))"
      ]
     },
     "execution_count": 90,
     "metadata": {},
     "output_type": "execute_result"
    }
   ],
   "source": [
    "len(rows), rows[0].shape"
   ]
  },
  {
   "cell_type": "code",
   "execution_count": 91,
   "id": "6cc8e795",
   "metadata": {},
   "outputs": [
    {
     "data": {
      "text/plain": [
       "array([3317, 2363, 3396, ..., 1738, 2754, 2754], dtype=int32)"
      ]
     },
     "execution_count": 91,
     "metadata": {},
     "output_type": "execute_result"
    }
   ],
   "source": [
    "rows[0]"
   ]
  },
  {
   "cell_type": "code",
   "execution_count": 92,
   "id": "97e399e5",
   "metadata": {},
   "outputs": [
    {
     "data": {
      "text/plain": [
       "(10, (5000,))"
      ]
     },
     "execution_count": 92,
     "metadata": {},
     "output_type": "execute_result"
    }
   ],
   "source": [
    "len(cols), cols[0].shape"
   ]
  },
  {
   "cell_type": "code",
   "execution_count": 93,
   "id": "6d11fbdc",
   "metadata": {},
   "outputs": [
    {
     "data": {
      "text/plain": [
       "array([4148, 4154, 4127, ..., 4132, 4146, 4148], dtype=int32)"
      ]
     },
     "execution_count": 93,
     "metadata": {},
     "output_type": "execute_result"
    }
   ],
   "source": [
    "cols[0]"
   ]
  },
  {
   "cell_type": "code",
   "execution_count": 94,
   "id": "247241f3",
   "metadata": {},
   "outputs": [
    {
     "data": {
      "text/plain": [
       "(10, (5000,))"
      ]
     },
     "execution_count": 94,
     "metadata": {},
     "output_type": "execute_result"
    }
   ],
   "source": [
    "len(labs), labs[0].shape"
   ]
  },
  {
   "cell_type": "code",
   "execution_count": 95,
   "id": "d76d7ab8",
   "metadata": {},
   "outputs": [
    {
     "data": {
      "text/plain": [
       "array([0, 0, 0, ..., 0, 0, 0], dtype=int32)"
      ]
     },
     "execution_count": 95,
     "metadata": {},
     "output_type": "execute_result"
    }
   ],
   "source": [
    "labs[0]"
   ]
  },
  {
   "cell_type": "markdown",
   "id": "b9190afa",
   "metadata": {},
   "source": [
    "### save all intermediate graph data"
   ]
  },
  {
   "cell_type": "code",
   "execution_count": 100,
   "id": "a287b19f",
   "metadata": {},
   "outputs": [],
   "source": [
    "train_test_data_file_path = '../../data/03_primary/financial_fraud/training_data.pkl'\n",
    "ensure_directory(train_test_data_file_path)\n",
    "\n",
    "train_test_data = (rows,cols,labs,weis,headtail,train_size,test_size,n,m)\n",
    "\n",
    "with open(train_test_data_file_path, 'wb') as f:\n",
    "    pickle.dump(train_test_data, f)"
   ]
  },
  {
   "cell_type": "markdown",
   "id": "da38f47d",
   "metadata": {},
   "source": [
    "# References\n",
    "\n",
    "Edgar Alonso Lopez-Rojas and Stefan Axelsson. 2014. BANKSIM: A BANK PAYMENTS SIMULATOR FOR FRAUD DETECTION RESEARCH.\n",
    "\n",
    "Yixin Liu, Shirui Pan, Yu Guang Wang, Fei Xiong, Liang Wang, Qingfeng Chen, and Vincent CS Lee. 2015. Anomaly Detection in Dynamic Graphs via Transformer."
   ]
  },
  {
   "cell_type": "code",
   "execution_count": null,
   "id": "2cd1fb6a",
   "metadata": {},
   "outputs": [],
   "source": []
  }
 ],
 "metadata": {
  "kernelspec": {
   "display_name": "kedro-taddy-venv",
   "language": "python",
   "name": "kedro-taddy-venv"
  },
  "language_info": {
   "codemirror_mode": {
    "name": "ipython",
    "version": 3
   },
   "file_extension": ".py",
   "mimetype": "text/x-python",
   "name": "python",
   "nbconvert_exporter": "python",
   "pygments_lexer": "ipython3",
   "version": "3.7.12"
  }
 },
 "nbformat": 4,
 "nbformat_minor": 5
}
