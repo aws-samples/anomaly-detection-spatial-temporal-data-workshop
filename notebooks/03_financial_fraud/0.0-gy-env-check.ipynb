{
 "cells": [
  {
   "cell_type": "markdown",
   "id": "670ed8c4",
   "metadata": {},
   "source": [
    "Copyright Amazon.com, Inc. or its affiliates. All Rights Reserved.\n",
    "\n",
    "SPDX-License-Identifier: Apache-2.0\n"
   ]
  },
  {
   "cell_type": "markdown",
   "id": "4a917413",
   "metadata": {},
   "source": [
    "Recommended env configuration following the instruction in **[TADDY](https://github.com/yuetan031/TADDY_pytorch)**\n",
    "\n",
    "### Requirments for TADDY\n",
    "* Python==3.8\n",
    "* PyTorch==1.7.1\n",
    "* Transformers==3.5.1\n",
    "* Scipy==1.5.2\n",
    "* Numpy==1.19.2\n",
    "* Networkx==2.5\n",
    "* Scikit-learn==0.23.2\n",
    "\n"
   ]
  },
  {
   "cell_type": "code",
   "execution_count": null,
   "id": "cc20c6ae",
   "metadata": {},
   "outputs": [],
   "source": [
    "import sys \n",
    "sys.path.append('../../src/anomaly_detection_spatial_temporal_data/')"
   ]
  },
  {
   "cell_type": "code",
   "execution_count": null,
   "id": "25edf8cf",
   "metadata": {},
   "outputs": [],
   "source": [
    "%load_ext autoreload\n",
    "%autoreload 2"
   ]
  },
  {
   "cell_type": "code",
   "execution_count": null,
   "id": "d06d63af",
   "metadata": {},
   "outputs": [],
   "source": [
    "from project_setting import TADDY"
   ]
  },
  {
   "cell_type": "code",
   "execution_count": null,
   "id": "230c2474",
   "metadata": {},
   "outputs": [],
   "source": [
    "taddy_env = TADDY()"
   ]
  },
  {
   "cell_type": "code",
   "execution_count": null,
   "id": "2694d878",
   "metadata": {},
   "outputs": [],
   "source": []
  }
 ],
 "metadata": {
  "kernelspec": {
   "display_name": "kedro-taddy-venv",
   "language": "python",
   "name": "kedro-taddy-venv"
  },
  "language_info": {
   "codemirror_mode": {
    "name": "ipython",
    "version": 3
   },
   "file_extension": ".py",
   "mimetype": "text/x-python",
   "name": "python",
   "nbconvert_exporter": "python",
   "pygments_lexer": "ipython3",
   "version": "3.7.12"
  }
 },
 "nbformat": 4,
 "nbformat_minor": 5
}
