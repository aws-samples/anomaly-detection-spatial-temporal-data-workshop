{
 "cells": [
  {
   "cell_type": "markdown",
   "id": "fa44f158",
   "metadata": {},
   "source": [
    "Copyright Amazon.com, Inc. or its affiliates. All Rights Reserved.\n",
    "\n",
    "SPDX-License-Identifier: Apache-2.0"
   ]
  },
  {
   "cell_type": "markdown",
   "id": "0f5cc504",
   "metadata": {},
   "source": [
    "# Notebook for running time series model (NAB)\n"
   ]
  },
  {
   "cell_type": "code",
   "execution_count": 1,
   "id": "e2b76a43",
   "metadata": {},
   "outputs": [],
   "source": [
    "import pandas as pd\n",
    "import numpy as np"
   ]
  },
  {
   "cell_type": "code",
   "execution_count": 2,
   "id": "92afa2b4",
   "metadata": {},
   "outputs": [],
   "source": [
    "from matplotlib import pyplot as plt\n",
    "import matplotlib\n",
    "font = {'family' : 'normal', 'size'   : 18}\n",
    "matplotlib.rc('font', **font)\n",
    "\n",
    "import matplotlib.cm as cm\n",
    "plt.rcParams[\"figure.figsize\"] = (20,12)"
   ]
  },
  {
   "cell_type": "markdown",
   "id": "d7cde355",
   "metadata": {},
   "source": [
    "### load in one example time series data"
   ]
  },
  {
   "cell_type": "code",
   "execution_count": 3,
   "id": "95d94f1d",
   "metadata": {},
   "outputs": [],
   "source": [
    "#[\"'C1001065306'\" \"'es_health'\"] is a good example \n",
    "example_c = \"\"\"'C1001065306'\"\"\"\n",
    "example_m = \"\"\"'es_health'\"\"\""
   ]
  },
  {
   "cell_type": "code",
   "execution_count": 4,
   "id": "922ad5c3",
   "metadata": {},
   "outputs": [],
   "source": [
    "example_ts_file_path = f\"\"\"../../data/02_intermediate/financial_fraud/ts_data/{example_c}_{example_m}_transaction_data.csv\"\"\""
   ]
  },
  {
   "cell_type": "code",
   "execution_count": 5,
   "id": "21f24e3e",
   "metadata": {},
   "outputs": [],
   "source": [
    "ts_example_data = pd.read_csv(example_ts_file_path)"
   ]
  },
  {
   "cell_type": "code",
   "execution_count": 6,
   "id": "2070875a",
   "metadata": {},
   "outputs": [
    {
     "data": {
      "text/html": [
       "<div>\n",
       "<style scoped>\n",
       "    .dataframe tbody tr th:only-of-type {\n",
       "        vertical-align: middle;\n",
       "    }\n",
       "\n",
       "    .dataframe tbody tr th {\n",
       "        vertical-align: top;\n",
       "    }\n",
       "\n",
       "    .dataframe thead th {\n",
       "        text-align: right;\n",
       "    }\n",
       "</style>\n",
       "<table border=\"1\" class=\"dataframe\">\n",
       "  <thead>\n",
       "    <tr style=\"text-align: right;\">\n",
       "      <th></th>\n",
       "      <th>timestamp</th>\n",
       "      <th>value</th>\n",
       "    </tr>\n",
       "  </thead>\n",
       "  <tbody>\n",
       "    <tr>\n",
       "      <th>0</th>\n",
       "      <td>21</td>\n",
       "      <td>37.10</td>\n",
       "    </tr>\n",
       "    <tr>\n",
       "      <th>1</th>\n",
       "      <td>31</td>\n",
       "      <td>108.32</td>\n",
       "    </tr>\n",
       "    <tr>\n",
       "      <th>2</th>\n",
       "      <td>31</td>\n",
       "      <td>188.94</td>\n",
       "    </tr>\n",
       "    <tr>\n",
       "      <th>3</th>\n",
       "      <td>36</td>\n",
       "      <td>906.87</td>\n",
       "    </tr>\n",
       "    <tr>\n",
       "      <th>4</th>\n",
       "      <td>38</td>\n",
       "      <td>146.25</td>\n",
       "    </tr>\n",
       "    <tr>\n",
       "      <th>5</th>\n",
       "      <td>63</td>\n",
       "      <td>31.41</td>\n",
       "    </tr>\n",
       "    <tr>\n",
       "      <th>6</th>\n",
       "      <td>63</td>\n",
       "      <td>177.82</td>\n",
       "    </tr>\n",
       "    <tr>\n",
       "      <th>7</th>\n",
       "      <td>63</td>\n",
       "      <td>106.47</td>\n",
       "    </tr>\n",
       "    <tr>\n",
       "      <th>8</th>\n",
       "      <td>122</td>\n",
       "      <td>1024.36</td>\n",
       "    </tr>\n",
       "    <tr>\n",
       "      <th>9</th>\n",
       "      <td>127</td>\n",
       "      <td>80.72</td>\n",
       "    </tr>\n",
       "  </tbody>\n",
       "</table>\n",
       "</div>"
      ],
      "text/plain": [
       "   timestamp    value\n",
       "0         21    37.10\n",
       "1         31   108.32\n",
       "2         31   188.94\n",
       "3         36   906.87\n",
       "4         38   146.25\n",
       "5         63    31.41\n",
       "6         63   177.82\n",
       "7         63   106.47\n",
       "8        122  1024.36\n",
       "9        127    80.72"
      ]
     },
     "execution_count": 6,
     "metadata": {},
     "output_type": "execute_result"
    }
   ],
   "source": [
    "ts_example_data.head(10)"
   ]
  },
  {
   "cell_type": "code",
   "execution_count": 7,
   "id": "d4df0687",
   "metadata": {},
   "outputs": [],
   "source": [
    "example_ts_label_file_path = f\"\"\"../../data/02_intermediate/financial_fraud/ts_label/{example_c}_{example_m}_transaction_label.csv\"\"\""
   ]
  },
  {
   "cell_type": "code",
   "execution_count": 8,
   "id": "043da20d",
   "metadata": {},
   "outputs": [],
   "source": [
    "ts_example_label = pd.read_csv(example_ts_label_file_path)"
   ]
  },
  {
   "cell_type": "code",
   "execution_count": 9,
   "id": "2071fb61",
   "metadata": {},
   "outputs": [
    {
     "data": {
      "text/html": [
       "<div>\n",
       "<style scoped>\n",
       "    .dataframe tbody tr th:only-of-type {\n",
       "        vertical-align: middle;\n",
       "    }\n",
       "\n",
       "    .dataframe tbody tr th {\n",
       "        vertical-align: top;\n",
       "    }\n",
       "\n",
       "    .dataframe thead th {\n",
       "        text-align: right;\n",
       "    }\n",
       "</style>\n",
       "<table border=\"1\" class=\"dataframe\">\n",
       "  <thead>\n",
       "    <tr style=\"text-align: right;\">\n",
       "      <th></th>\n",
       "      <th>label</th>\n",
       "    </tr>\n",
       "  </thead>\n",
       "  <tbody>\n",
       "    <tr>\n",
       "      <th>0</th>\n",
       "      <td>0</td>\n",
       "    </tr>\n",
       "    <tr>\n",
       "      <th>1</th>\n",
       "      <td>0</td>\n",
       "    </tr>\n",
       "    <tr>\n",
       "      <th>2</th>\n",
       "      <td>0</td>\n",
       "    </tr>\n",
       "    <tr>\n",
       "      <th>3</th>\n",
       "      <td>1</td>\n",
       "    </tr>\n",
       "    <tr>\n",
       "      <th>4</th>\n",
       "      <td>0</td>\n",
       "    </tr>\n",
       "    <tr>\n",
       "      <th>5</th>\n",
       "      <td>0</td>\n",
       "    </tr>\n",
       "    <tr>\n",
       "      <th>6</th>\n",
       "      <td>0</td>\n",
       "    </tr>\n",
       "    <tr>\n",
       "      <th>7</th>\n",
       "      <td>0</td>\n",
       "    </tr>\n",
       "    <tr>\n",
       "      <th>8</th>\n",
       "      <td>1</td>\n",
       "    </tr>\n",
       "    <tr>\n",
       "      <th>9</th>\n",
       "      <td>1</td>\n",
       "    </tr>\n",
       "  </tbody>\n",
       "</table>\n",
       "</div>"
      ],
      "text/plain": [
       "   label\n",
       "0      0\n",
       "1      0\n",
       "2      0\n",
       "3      1\n",
       "4      0\n",
       "5      0\n",
       "6      0\n",
       "7      0\n",
       "8      1\n",
       "9      1"
      ]
     },
     "execution_count": 9,
     "metadata": {},
     "output_type": "execute_result"
    }
   ],
   "source": [
    "ts_example_label.head(10)"
   ]
  },
  {
   "cell_type": "code",
   "execution_count": 10,
   "id": "736fabd7",
   "metadata": {},
   "outputs": [
    {
     "data": {
      "text/plain": [
       "((16, 2), (16, 1))"
      ]
     },
     "execution_count": 10,
     "metadata": {},
     "output_type": "execute_result"
    }
   ],
   "source": [
    "ts_example_data.shape, ts_example_label.shape"
   ]
  },
  {
   "cell_type": "markdown",
   "id": "fa3315ee",
   "metadata": {},
   "source": [
    "### plot time series "
   ]
  },
  {
   "cell_type": "code",
   "execution_count": 11,
   "id": "21fb60c9",
   "metadata": {},
   "outputs": [
    {
     "name": "stderr",
     "output_type": "stream",
     "text": [
      "findfont: Font family ['normal'] not found. Falling back to DejaVu Sans.\n"
     ]
    },
    {
     "data": {
      "image/png": "[encoded data removed]",
      "text/plain": [
       "<Figure size 432x288 with 1 Axes>"
      ]
     },
     "metadata": {
      "needs_background": "light"
     },
     "output_type": "display_data"
    }
   ],
   "source": [
    "plt.plot(ts_example_data.timestamp, ts_example_data.value, label='amount')\n",
    "label_pos =np.where(ts_example_label.label==1)\n",
    "plt.scatter(ts_example_data.iloc[label_pos].timestamp, ts_example_data.iloc[label_pos].value, label='fraud', color='red')\n",
    "plt.xlabel('Timestep')\n",
    "plt.ylabel('Amount')\n",
    "plt.legend()\n",
    "plt.show()"
   ]
  },
  {
   "cell_type": "markdown",
   "id": "0a215fa0",
   "metadata": {},
   "source": [
    "## run NAB model training and inference "
   ]
  },
  {
   "cell_type": "code",
   "execution_count": 12,
   "id": "3e526695",
   "metadata": {},
   "outputs": [],
   "source": [
    "import os\n",
    "import sys"
   ]
  },
  {
   "cell_type": "code",
   "execution_count": 13,
   "id": "26494750",
   "metadata": {},
   "outputs": [],
   "source": [
    "sys.path.append('../../src/')"
   ]
  },
  {
   "cell_type": "code",
   "execution_count": 14,
   "id": "43acd365",
   "metadata": {},
   "outputs": [],
   "source": [
    "%load_ext autoreload\n",
    "%autoreload 2"
   ]
  },
  {
   "cell_type": "code",
   "execution_count": 15,
   "id": "3f18b14a",
   "metadata": {},
   "outputs": [],
   "source": [
    "from anomaly_detection_spatial_temporal_data.model.time_series import NABAnomalyDetector"
   ]
  },
  {
   "cell_type": "code",
   "execution_count": 16,
   "id": "d07e111d",
   "metadata": {},
   "outputs": [],
   "source": [
    "model_name = 'contextOSE'\n",
    "model_path = '../../src/anomaly_detection_spatial_temporal_data/model/NAB'\n",
    "input_dir = \"../../data/02_intermediate/financial_fraud/ts_data\"\n",
    "output_dir =  \"../../data/07_model_output/financial_fraud/ts_result\"\n",
    "label_dict_path = \"../../data/02_intermediate/financial_fraud/ts_label/labels-combined.json\""
   ]
  },
  {
   "cell_type": "code",
   "execution_count": 17,
   "id": "b9e927cc",
   "metadata": {},
   "outputs": [],
   "source": [
    "model_obj = NABAnomalyDetector(\n",
    "    model_name, \n",
    "    model_path,\n",
    "    input_dir,\n",
    "    label_dict_path,\n",
    "    output_dir,\n",
    ")"
   ]
  },
  {
   "cell_type": "code",
   "execution_count": 18,
   "id": "f853b1df",
   "metadata": {},
   "outputs": [
    {
     "name": "stdout",
     "output_type": "stream",
     "text": [
      "Predicting ...\n",
      "0: Beginning detection with contextOSE for 'C1001065306'_'es_health'_transaction_data.csv\n",
      ". \n",
      "Running detection step\n",
      "0: Completed processing 16 records at 2022-08-03 16:30:33.545164\n",
      "0: Results have been written to /home/ec2-user/SageMaker/anomaly-detection-spatial-temporal-data-workshop/data/07_model_output/financial_fraud/ts_result/contextOSE/contextOSE_'C1001065306'_'es_health'_transaction_data.csv\n",
      "\n",
      "\n",
      "Done. Results saved under ../../data/07_model_output/financial_fraud/ts_result\n"
     ]
    }
   ],
   "source": [
    "model_obj.predict()"
   ]
  },
  {
   "cell_type": "markdown",
   "id": "f769795a",
   "metadata": {},
   "source": [
    "## read in inference result "
   ]
  },
  {
   "cell_type": "code",
   "execution_count": 19,
   "id": "07aa3467",
   "metadata": {},
   "outputs": [],
   "source": [
    "output_dir= f'../../data/07_model_output/financial_fraud/ts_result/{model_name}'"
   ]
  },
  {
   "cell_type": "code",
   "execution_count": 20,
   "id": "74a337c7",
   "metadata": {},
   "outputs": [],
   "source": [
    "example_result_file_path = os.path.join(\n",
    "    output_dir, \n",
    "    f\"\"\"{model_name}_{example_c}_{example_m}_transaction_data.csv\"\"\")"
   ]
  },
  {
   "cell_type": "code",
   "execution_count": 21,
   "id": "a11a788d",
   "metadata": {},
   "outputs": [
    {
     "data": {
      "text/plain": [
       "\"../../data/07_model_output/financial_fraud/ts_result/contextOSE/contextOSE_'C1001065306'_'es_health'_transaction_data.csv\""
      ]
     },
     "execution_count": 21,
     "metadata": {},
     "output_type": "execute_result"
    }
   ],
   "source": [
    "example_result_file_path"
   ]
  },
  {
   "cell_type": "code",
   "execution_count": 22,
   "id": "0171df3a",
   "metadata": {},
   "outputs": [],
   "source": [
    "ts_example_result = pd.read_csv(example_result_file_path)"
   ]
  },
  {
   "cell_type": "code",
   "execution_count": 23,
   "id": "e842e639",
   "metadata": {},
   "outputs": [
    {
     "data": {
      "text/html": [
       "<div>\n",
       "<style scoped>\n",
       "    .dataframe tbody tr th:only-of-type {\n",
       "        vertical-align: middle;\n",
       "    }\n",
       "\n",
       "    .dataframe tbody tr th {\n",
       "        vertical-align: top;\n",
       "    }\n",
       "\n",
       "    .dataframe thead th {\n",
       "        text-align: right;\n",
       "    }\n",
       "</style>\n",
       "<table border=\"1\" class=\"dataframe\">\n",
       "  <thead>\n",
       "    <tr style=\"text-align: right;\">\n",
       "      <th></th>\n",
       "      <th>timestamp</th>\n",
       "      <th>value</th>\n",
       "      <th>anomaly_score</th>\n",
       "      <th>label</th>\n",
       "    </tr>\n",
       "  </thead>\n",
       "  <tbody>\n",
       "    <tr>\n",
       "      <th>0</th>\n",
       "      <td>21</td>\n",
       "      <td>37.10</td>\n",
       "      <td>0.0</td>\n",
       "      <td>0</td>\n",
       "    </tr>\n",
       "    <tr>\n",
       "      <th>1</th>\n",
       "      <td>31</td>\n",
       "      <td>108.32</td>\n",
       "      <td>0.0</td>\n",
       "      <td>0</td>\n",
       "    </tr>\n",
       "    <tr>\n",
       "      <th>2</th>\n",
       "      <td>31</td>\n",
       "      <td>188.94</td>\n",
       "      <td>0.0</td>\n",
       "      <td>0</td>\n",
       "    </tr>\n",
       "    <tr>\n",
       "      <th>3</th>\n",
       "      <td>36</td>\n",
       "      <td>906.87</td>\n",
       "      <td>0.0</td>\n",
       "      <td>0</td>\n",
       "    </tr>\n",
       "    <tr>\n",
       "      <th>4</th>\n",
       "      <td>38</td>\n",
       "      <td>146.25</td>\n",
       "      <td>0.0</td>\n",
       "      <td>0</td>\n",
       "    </tr>\n",
       "    <tr>\n",
       "      <th>5</th>\n",
       "      <td>63</td>\n",
       "      <td>31.41</td>\n",
       "      <td>0.0</td>\n",
       "      <td>0</td>\n",
       "    </tr>\n",
       "    <tr>\n",
       "      <th>6</th>\n",
       "      <td>63</td>\n",
       "      <td>177.82</td>\n",
       "      <td>0.0</td>\n",
       "      <td>0</td>\n",
       "    </tr>\n",
       "    <tr>\n",
       "      <th>7</th>\n",
       "      <td>63</td>\n",
       "      <td>106.47</td>\n",
       "      <td>0.0</td>\n",
       "      <td>0</td>\n",
       "    </tr>\n",
       "    <tr>\n",
       "      <th>8</th>\n",
       "      <td>122</td>\n",
       "      <td>1024.36</td>\n",
       "      <td>0.0</td>\n",
       "      <td>0</td>\n",
       "    </tr>\n",
       "    <tr>\n",
       "      <th>9</th>\n",
       "      <td>127</td>\n",
       "      <td>80.72</td>\n",
       "      <td>0.0</td>\n",
       "      <td>0</td>\n",
       "    </tr>\n",
       "    <tr>\n",
       "      <th>10</th>\n",
       "      <td>128</td>\n",
       "      <td>26.65</td>\n",
       "      <td>0.0</td>\n",
       "      <td>0</td>\n",
       "    </tr>\n",
       "    <tr>\n",
       "      <th>11</th>\n",
       "      <td>128</td>\n",
       "      <td>65.77</td>\n",
       "      <td>0.0</td>\n",
       "      <td>0</td>\n",
       "    </tr>\n",
       "    <tr>\n",
       "      <th>12</th>\n",
       "      <td>133</td>\n",
       "      <td>185.40</td>\n",
       "      <td>0.0</td>\n",
       "      <td>0</td>\n",
       "    </tr>\n",
       "    <tr>\n",
       "      <th>13</th>\n",
       "      <td>133</td>\n",
       "      <td>111.06</td>\n",
       "      <td>0.0</td>\n",
       "      <td>0</td>\n",
       "    </tr>\n",
       "    <tr>\n",
       "      <th>14</th>\n",
       "      <td>133</td>\n",
       "      <td>154.74</td>\n",
       "      <td>0.0</td>\n",
       "      <td>0</td>\n",
       "    </tr>\n",
       "    <tr>\n",
       "      <th>15</th>\n",
       "      <td>144</td>\n",
       "      <td>18.18</td>\n",
       "      <td>0.0</td>\n",
       "      <td>0</td>\n",
       "    </tr>\n",
       "  </tbody>\n",
       "</table>\n",
       "</div>"
      ],
      "text/plain": [
       "    timestamp    value  anomaly_score  label\n",
       "0          21    37.10            0.0      0\n",
       "1          31   108.32            0.0      0\n",
       "2          31   188.94            0.0      0\n",
       "3          36   906.87            0.0      0\n",
       "4          38   146.25            0.0      0\n",
       "5          63    31.41            0.0      0\n",
       "6          63   177.82            0.0      0\n",
       "7          63   106.47            0.0      0\n",
       "8         122  1024.36            0.0      0\n",
       "9         127    80.72            0.0      0\n",
       "10        128    26.65            0.0      0\n",
       "11        128    65.77            0.0      0\n",
       "12        133   185.40            0.0      0\n",
       "13        133   111.06            0.0      0\n",
       "14        133   154.74            0.0      0\n",
       "15        144    18.18            0.0      0"
      ]
     },
     "execution_count": 23,
     "metadata": {},
     "output_type": "execute_result"
    }
   ],
   "source": [
    "ts_example_result"
   ]
  },
  {
   "cell_type": "code",
   "execution_count": 24,
   "id": "d215d311",
   "metadata": {},
   "outputs": [],
   "source": [
    "anomaly_score_threshold = 0.95"
   ]
  },
  {
   "cell_type": "code",
   "execution_count": 25,
   "id": "5f59c35d",
   "metadata": {},
   "outputs": [
    {
     "data": {
      "image/png": "[encoded data removed]",
      "text/plain": [
       "<Figure size 432x288 with 1 Axes>"
      ]
     },
     "metadata": {
      "needs_background": "light"
     },
     "output_type": "display_data"
    }
   ],
   "source": [
    "plt.plot(ts_example_data.timestamp, ts_example_data.value, label='amount')\n",
    "predict_pos =np.where(ts_example_result.anomaly_score>=anomaly_score_threshold)\n",
    "if predict_pos:\n",
    "    plt.scatter(ts_example_data.iloc[predict_pos].timestamp, ts_example_data.iloc[predict_pos].value, label='predicted_fraud', color='red')\n",
    "plt.xlabel('Timestep')\n",
    "plt.ylabel('Amount')\n",
    "plt.legend()\n",
    "plt.show()"
   ]
  },
  {
   "cell_type": "markdown",
   "id": "512da7a2",
   "metadata": {},
   "source": [
    "# References\n",
    "\n",
    "Edgar Alonso Lopez-Rojas and Stefan Axelsson. 2014. BANKSIM: A BANK PAYMENTS SIMULATOR FOR FRAUD DETECTION RESEARCH.\n",
    "\n",
    "Alexander Lavin and Subutai Ahmad. 2015. Evaluating Real-Time Anomaly Detection Algorithms – The Numenta Anomaly Benchmark."
   ]
  },
  {
   "cell_type": "code",
   "execution_count": null,
   "id": "1fe8cd8a",
   "metadata": {},
   "outputs": [],
   "source": []
  }
 ],
 "metadata": {
  "kernelspec": {
   "display_name": "kedro-nab-venv",
   "language": "python",
   "name": "kedro-nab-venv"
  },
  "language_info": {
   "codemirror_mode": {
    "name": "ipython",
    "version": 3
   },
   "file_extension": ".py",
   "mimetype": "text/x-python",
   "name": "python",
   "nbconvert_exporter": "python",
   "pygments_lexer": "ipython3",
   "version": "3.7.12"
  }
 },
 "nbformat": 4,
 "nbformat_minor": 5
}
