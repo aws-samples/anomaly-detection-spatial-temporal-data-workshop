{
 "cells": [
  {
   "cell_type": "markdown",
   "id": "25951e18",
   "metadata": {},
   "source": [
    "Copyright Amazon.com, Inc. or its affiliates. All Rights Reserved.\n",
    "\n",
    "SPDX-License-Identifier: Apache-2.0"
   ]
  },
  {
   "cell_type": "markdown",
   "id": "1ec6efc3",
   "metadata": {},
   "source": [
    "# Notebook for dataloader, model training and inference \n",
    "## This notebook consists of steps to \n",
    "1. load processed graph data into a data dict  raw data into edge, node list data for the data loader for model training \n",
    "2. load the model training configurations \n",
    "3. pass the data dict in step (1) to the model \n",
    "4. train the model \n",
    "5. apply model inference on the specific snapshot"
   ]
  },
  {
   "cell_type": "code",
   "execution_count": 1,
   "id": "ce9d5d14",
   "metadata": {},
   "outputs": [],
   "source": [
    "import sys \n",
    "import os"
   ]
  },
  {
   "cell_type": "code",
   "execution_count": 2,
   "id": "e18c5e4b",
   "metadata": {},
   "outputs": [],
   "source": [
    "sys.path.append('../../')\n",
    "sys.path.append('../../src/')"
   ]
  },
  {
   "cell_type": "code",
   "execution_count": 3,
   "id": "ba45f31c",
   "metadata": {},
   "outputs": [],
   "source": [
    "%load_ext autoreload\n",
    "%autoreload 2"
   ]
  },
  {
   "cell_type": "code",
   "execution_count": 4,
   "id": "f0c36114",
   "metadata": {},
   "outputs": [
    {
     "name": "stderr",
     "output_type": "stream",
     "text": [
      "/home/ec2-user/SageMaker/anomaly-detection-spatial-temporal-data-workshop/src/kedro-taddy-venv/lib/python3.7/site-packages/tqdm/auto.py:22: TqdmWarning: IProgress not found. Please update jupyter and ipywidgets. See https://ipywidgets.readthedocs.io/en/stable/user_install.html\n",
      "  from .autonotebook import tqdm as notebook_tqdm\n"
     ]
    }
   ],
   "source": [
    "import pickle\n",
    "import numpy as np\n",
    "import torch"
   ]
  },
  {
   "cell_type": "markdown",
   "id": "ef4a96d0",
   "metadata": {},
   "source": [
    "# Load processed data "
   ]
  },
  {
   "cell_type": "code",
   "execution_count": 5,
   "id": "7a5bbf22",
   "metadata": {},
   "outputs": [],
   "source": [
    "# open the training data pickle\n",
    "file = open(\"../../data/03_primary/financial_fraud/training_data.pkl\", 'rb')\n",
    "\n",
    "# load the pickle file \n",
    "data = pickle.load(file)\n",
    "\n",
    "# close the file\n",
    "file.close()"
   ]
  },
  {
   "cell_type": "code",
   "execution_count": 6,
   "id": "c3dd3d34",
   "metadata": {},
   "outputs": [],
   "source": [
    "rows, cols, labels, weights, headtail, train_size, test_size, nb_nodes, nb_edges = data"
   ]
  },
  {
   "cell_type": "code",
   "execution_count": 7,
   "id": "7d8ffc09",
   "metadata": {},
   "outputs": [
    {
     "data": {
      "text/plain": [
       "(5, 5, 4162, 47132)"
      ]
     },
     "execution_count": 7,
     "metadata": {},
     "output_type": "execute_result"
    }
   ],
   "source": [
    "#5 snapshots being train and 5 later snapshots being test\n",
    "train_size, test_size, nb_nodes, nb_edges "
   ]
  },
  {
   "cell_type": "code",
   "execution_count": 8,
   "id": "c76264e8",
   "metadata": {},
   "outputs": [
    {
     "data": {
      "text/plain": [
       "numpy.ndarray"
      ]
     },
     "execution_count": 8,
     "metadata": {},
     "output_type": "execute_result"
    }
   ],
   "source": [
    "type(headtail)"
   ]
  },
  {
   "cell_type": "code",
   "execution_count": 9,
   "id": "0f13371c",
   "metadata": {},
   "outputs": [
    {
     "data": {
      "text/plain": [
       "array([list([0, 4119, 4127, 4134, 4136, 4146, 4154]),\n",
       "       list([1, 4121, 4122, 4133, 4140, 4146, 4149, 4151, 4152, 4155]),\n",
       "       list([2, 4112, 4130, 4134, 4136, 4142, 4155, 4157]), ...,\n",
       "       list([46, 147, 769, 1100, 1453, 1478, 1539, 1554, 1632, 1654, 1660, 1782, 1917, 1993, 2187, 2387, 2413, 2473, 2594, 2624, 2626, 2772, 2816, 2844, 2903, 2981, 3036, 3104, 3303, 3326, 3412, 3438, 3442, 3488, 3685, 3871, 4159]),\n",
       "       list([25, 48, 50, 61, 94, 108, 111, 123, 126, 137, 144, 149, 173, 188, 210, 224, 275, 289, 291, 295, 297, 302, 323, 330, 355, 365, 409, 415, 416, 497, 498, 509, 510, 529, 530, 552, 556, 571, 588, 593, 595, 613, 617, 629, 676, 706, 707, 751, 773, 793, 801, 808, 818, 821, 832, 848, 867, 868, 870, 889, 890, 893, 919, 961, 964, 997, 1000, 1007, 1017, 1050, 1064, 1076, 1079, 1080, 1086, 1138, 1141, 1143, 1151, 1156, 1241, 1270, 1281, 1287, 1374, 1385, 1398, 1413, 1416, 1425, 1452, 1507, 1521, 1530, 1534, 1548, 1553, 1557, 1584, 1586, 1607, 1611, 1616, 1617, 1654, 1661, 1662, 1664, 1672, 1675, 1735, 1785, 1816, 1874, 1890, 1912, 1936, 1941, 1943, 1946, 1949, 1970, 1981, 2043, 2062, 2074, 2080, 2096, 2101, 2112, 2118, 2141, 2143, 2151, 2153, 2175, 2176, 2235, 2293, 2363, 2383, 2400, 2404, 2412, 2422, 2423, 2424, 2430, 2445, 2452, 2487, 2569, 2603, 2630, 2638, 2643, 2656, 2698, 2700, 2701, 2733, 2746, 2756, 2769, 2788, 2802, 2814, 2845, 2848, 2851, 2852, 2863, 2869, 2874, 2890, 2896, 2899, 2916, 2957, 2984, 2989, 3043, 3057, 3072, 3075, 3096, 3121, 3125, 3127, 3145, 3172, 3205, 3212, 3213, 3229, 3230, 3233, 3255, 3273, 3322, 3384, 3421, 3448, 3455, 3458, 3461, 3483, 3497, 3498, 3535, 3539, 3543, 3546, 3549, 3568, 3583, 3606, 3632, 3658, 3664, 3672, 3673, 3676, 3677, 3705, 3742, 3767, 3802, 3809, 3811, 3819, 3823, 3826, 3832, 3908, 3914, 3930, 3942, 4001, 4011, 4012, 4013, 4039, 4042, 4052, 4061, 4064, 4074, 4084, 4104, 4106, 4160]),\n",
       "       list([15, 24, 25, 38, 41, 48, 50, 75, 78, 98, 109, 119, 122, 147, 156, 169, 171, 173, 187, 232, 246, 247, 261, 283, 290, 291, 308, 315, 318, 320, 322, 362, 366, 373, 374, 383, 386, 404, 405, 423, 434, 437, 439, 450, 467, 476, 484, 485, 501, 522, 533, 534, 539, 562, 568, 581, 594, 602, 611, 624, 638, 647, 649, 658, 671, 678, 682, 687, 706, 709, 713, 718, 720, 722, 727, 729, 739, 762, 764, 772, 787, 801, 812, 813, 839, 847, 853, 861, 870, 886, 891, 901, 909, 915, 918, 923, 929, 935, 936, 948, 969, 975, 978, 1001, 1002, 1033, 1034, 1038, 1039, 1043, 1050, 1059, 1063, 1078, 1084, 1085, 1089, 1098, 1112, 1119, 1121, 1133, 1134, 1165, 1173, 1197, 1200, 1209, 1217, 1222, 1226, 1230, 1235, 1236, 1238, 1268, 1282, 1296, 1300, 1322, 1341, 1363, 1365, 1411, 1416, 1421, 1428, 1444, 1453, 1481, 1492, 1505, 1506, 1519, 1533, 1545, 1570, 1581, 1598, 1610, 1619, 1624, 1626, 1628, 1632, 1637, 1638, 1640, 1654, 1659, 1671, 1679, 1693, 1708, 1713, 1715, 1720, 1724, 1733, 1746, 1770, 1773, 1788, 1791, 1796, 1801, 1809, 1813, 1815, 1836, 1843, 1848, 1859, 1881, 1886, 1889, 1905, 1909, 1926, 1933, 1939, 1945, 1947, 1955, 1962, 1976, 2009, 2012, 2019, 2023, 2051, 2052, 2069, 2078, 2080, 2088, 2097, 2128, 2132, 2138, 2146, 2159, 2167, 2168, 2181, 2188, 2197, 2198, 2204, 2209, 2221, 2224, 2228, 2232, 2234, 2235, 2236, 2248, 2249, 2272, 2279, 2281, 2282, 2287, 2294, 2295, 2307, 2323, 2335, 2338, 2346, 2347, 2353, 2364, 2365, 2366, 2373, 2376, 2387, 2407, 2410, 2420, 2432, 2435, 2437, 2449, 2452, 2455, 2456, 2465, 2473, 2480, 2488, 2495, 2497, 2501, 2510, 2517, 2537, 2539, 2548, 2555, 2560, 2561, 2572, 2574, 2585, 2586, 2589, 2594, 2599, 2609, 2615, 2624, 2629, 2640, 2645, 2651, 2654, 2661, 2668, 2683, 2688, 2697, 2702, 2711, 2723, 2724, 2726, 2729, 2734, 2738, 2744, 2756, 2758, 2772, 2784, 2799, 2803, 2804, 2805, 2811, 2818, 2824, 2839, 2844, 2862, 2863, 2867, 2874, 2883, 2885, 2901, 2903, 2918, 2921, 2938, 2940, 2942, 2949, 2952, 2954, 2955, 2963, 2964, 2981, 2983, 3002, 3009, 3018, 3034, 3042, 3054, 3082, 3085, 3105, 3116, 3121, 3127, 3129, 3130, 3149, 3154, 3161, 3162, 3165, 3186, 3188, 3204, 3206, 3208, 3219, 3226, 3234, 3245, 3246, 3247, 3251, 3274, 3277, 3296, 3301, 3302, 3303, 3310, 3318, 3325, 3329, 3353, 3360, 3365, 3370, 3381, 3386, 3390, 3392, 3394, 3400, 3404, 3412, 3438, 3442, 3444, 3459, 3466, 3467, 3488, 3494, 3497, 3503, 3512, 3517, 3525, 3528, 3529, 3534, 3535, 3538, 3559, 3569, 3590, 3595, 3608, 3609, 3616, 3620, 3641, 3643, 3644, 3649, 3652, 3654, 3663, 3693, 3695, 3699, 3721, 3749, 3764, 3775, 3781, 3784, 3787, 3811, 3816, 3821, 3833, 3835, 3856, 3859, 3860, 3871, 3885, 3887, 3895, 3897, 3903, 3911, 3934, 3940, 3946, 3951, 3954, 3963, 3966, 3968, 3973, 3986, 3993, 3995, 4002, 4012, 4031, 4033, 4039, 4047, 4058, 4061, 4071, 4079, 4081, 4090, 4096, 4102, 4161])],\n",
       "      dtype=object)"
      ]
     },
     "execution_count": 9,
     "metadata": {},
     "output_type": "execute_result"
    }
   ],
   "source": [
    "headtail #sparse matrix saving the node indexes of all edges "
   ]
  },
  {
   "cell_type": "code",
   "execution_count": 10,
   "id": "e81daf66",
   "metadata": {},
   "outputs": [
    {
     "data": {
      "text/plain": [
       "[array([3317, 2363, 3396, ..., 1738, 2754, 2754], dtype=int32),\n",
       " array([2431, 2431, 2350, ..., 3564, 2144, 4055], dtype=int32),\n",
       " array([ 642, 3586,   67, ..., 2095, 3604, 2196], dtype=int32),\n",
       " array([3989, 3989, 1160, ...,  320,  782,  782], dtype=int32),\n",
       " array([2515,  255,  985, ..., 2817, 1885, 2495], dtype=int32),\n",
       " array([2495, 2495, 1447, ..., 1162, 3497, 3497], dtype=int32),\n",
       " array([ 308, 1099, 1099, ...,  225, 2671, 1855], dtype=int32),\n",
       " array([1948, 1747, 1381, ..., 1106, 3293, 3859], dtype=int32),\n",
       " array([2286, 2291, 2493, ..., 1003, 2395, 2186], dtype=int32),\n",
       " array([1384, 1259,  444, ...,  529, 1083, 3304], dtype=int32)]"
      ]
     },
     "execution_count": 10,
     "metadata": {},
     "output_type": "execute_result"
    }
   ],
   "source": [
    "rows #source nodes of edges stored as row indexes"
   ]
  },
  {
   "cell_type": "code",
   "execution_count": 11,
   "id": "ad235e27",
   "metadata": {},
   "outputs": [
    {
     "data": {
      "text/plain": [
       "[array([4148, 4154, 4127, ..., 4132, 4146, 4148], dtype=int32),\n",
       " array([4122, 4114, 4146, ..., 4131, 4150, 4142], dtype=int32),\n",
       " array([4158, 4131, 4146, ..., 4116, 4136, 4142], dtype=int32),\n",
       " array([4116, 4150, 4134, ..., 4117, 4143, 4123], dtype=int32),\n",
       " array([4149, 4149, 4127, ..., 4143, 4116, 4139], dtype=int32),\n",
       " array([4153, 4160, 4143, ..., 4157, 4112, 4135], dtype=int32),\n",
       " array([4152, 4154, 4120, ..., 4130, 4157, 4122], dtype=int32),\n",
       " array([4121, 4157, 4116, ..., 4157, 4114, 4157], dtype=int32),\n",
       " array([4157, 4157, 4142, ..., 4142, 4130, 4142], dtype=int32),\n",
       " array([4130, 4130, 4130, ..., 4143, 4130, 4130], dtype=int32)]"
      ]
     },
     "execution_count": 11,
     "metadata": {},
     "output_type": "execute_result"
    }
   ],
   "source": [
    "cols #target nodes of edges stored as row indexes "
   ]
  },
  {
   "cell_type": "code",
   "execution_count": 12,
   "id": "a03a84ee",
   "metadata": {},
   "outputs": [],
   "source": [
    "degrees = np.array([len(x) for x in headtail])\n",
    "num_snap = test_size + train_size\n",
    "labels = [torch.LongTensor(label) for label in labels]\n",
    "\n",
    "snap_train = list(range(num_snap))[:train_size]\n",
    "snap_test = list(range(num_snap))[train_size:]"
   ]
  },
  {
   "cell_type": "code",
   "execution_count": 13,
   "id": "df725db6",
   "metadata": {},
   "outputs": [
    {
     "data": {
      "text/plain": [
       "[0, 1, 2, 3, 4]"
      ]
     },
     "execution_count": 13,
     "metadata": {},
     "output_type": "execute_result"
    }
   ],
   "source": [
    "snap_train"
   ]
  },
  {
   "cell_type": "code",
   "execution_count": 14,
   "id": "ed3ecc54",
   "metadata": {},
   "outputs": [
    {
     "data": {
      "text/plain": [
       "[5, 6, 7, 8, 9]"
      ]
     },
     "execution_count": 14,
     "metadata": {},
     "output_type": "execute_result"
    }
   ],
   "source": [
    "snap_test"
   ]
  },
  {
   "cell_type": "code",
   "execution_count": 15,
   "id": "b3f31f91",
   "metadata": {},
   "outputs": [
    {
     "data": {
      "text/plain": [
       "([tensor([0, 0, 0,  ..., 0, 0, 0]),\n",
       "  tensor([0, 0, 0,  ..., 0, 0, 0]),\n",
       "  tensor([0, 0, 1,  ..., 0, 0, 0]),\n",
       "  tensor([0, 0, 0,  ..., 0, 0, 0]),\n",
       "  tensor([1, 1, 0,  ..., 0, 0, 0]),\n",
       "  tensor([0, 0, 0,  ..., 0, 0, 0]),\n",
       "  tensor([1, 0, 0,  ..., 0, 0, 0]),\n",
       "  tensor([0, 0, 0,  ..., 0, 0, 0]),\n",
       "  tensor([0, 0, 0,  ..., 0, 0, 0]),\n",
       "  tensor([0, 0, 0,  ..., 0, 0, 0])],\n",
       " 10,\n",
       " torch.Size([5000]))"
      ]
     },
     "execution_count": 15,
     "metadata": {},
     "output_type": "execute_result"
    }
   ],
   "source": [
    "labels, len(labels), labels[0].shape"
   ]
  },
  {
   "cell_type": "code",
   "execution_count": 16,
   "id": "a60bf4e0",
   "metadata": {},
   "outputs": [],
   "source": [
    "idx = list(range(nb_nodes))\n",
    "index_id_map = {i:i for i in idx}\n",
    "idx = np.array(idx)"
   ]
  },
  {
   "cell_type": "markdown",
   "id": "1facca63",
   "metadata": {},
   "source": [
    "# Define data dictionary"
   ]
  },
  {
   "cell_type": "code",
   "execution_count": 17,
   "id": "fa992f29",
   "metadata": {},
   "outputs": [],
   "source": [
    "from anomaly_detection_spatial_temporal_data.model.model_config import TaddyConfig"
   ]
  },
  {
   "cell_type": "code",
   "execution_count": 18,
   "id": "be035321",
   "metadata": {},
   "outputs": [],
   "source": [
    "import yaml"
   ]
  },
  {
   "cell_type": "code",
   "execution_count": 19,
   "id": "15dab024",
   "metadata": {},
   "outputs": [],
   "source": [
    "train_config_file = '../../conf/base/parameters/taddy.yml'"
   ]
  },
  {
   "cell_type": "code",
   "execution_count": 20,
   "id": "f48531c8",
   "metadata": {},
   "outputs": [
    {
     "name": "stdout",
     "output_type": "stream",
     "text": [
      "{'data_load_options': {'c': 0.15, 'eps': 0.001, 'random_state': 3, 'batch_size': 256, 'load_all_tag': False, 'neighbor_num': 5, 'window_size': 2, 'compute_s': True, 'eigen_file_name': 'data/05_model_input/eigen.pkl'}, 'model_options': {'neighbor_num': 5, 'window_size': 2, 'batch_size': 256, 'embedding_dim': 32, 'num_hidden_layers': 2, 'num_attention_heads': 2, 'seed': 1, 'print_feq': 10, 'lr': 0.001, 'weight_decay': '5e-4', 'max_epoch': 10, 'spy_tag': True, 'max_hop_dis_index': 100, 'max_inti_pos_index': 100, 'hidden_act': 'gelu', 'hidden_dropout_prob': 0.5, 'attention_probs_dropout_prob': 0.3, 'initializer_range': 0.02, 'layer_norm_eps': 1e-12, 'is_decoder': False, 'save_directory': 'data/07_model_output/'}, 'infer_options': {'snap_num': 6}}\n"
     ]
    }
   ],
   "source": [
    "with open(train_config_file, \"r\") as stream:\n",
    "    try:\n",
    "        train_config=yaml.safe_load(stream)\n",
    "        print(train_config)\n",
    "    except yaml.YAMLError as exc:\n",
    "        print(exc)"
   ]
  },
  {
   "cell_type": "code",
   "execution_count": 21,
   "id": "7d1b979e",
   "metadata": {},
   "outputs": [],
   "source": [
    "eigen_file_name = \"../../data/05_model_input/financial_fraud/eigen_tmp.pkl\"\n",
    "data_loader_config = train_config['data_load_options']"
   ]
  },
  {
   "cell_type": "code",
   "execution_count": 22,
   "id": "87407162",
   "metadata": {},
   "outputs": [],
   "source": [
    "from anomaly_detection_spatial_temporal_data.utils import ensure_directory"
   ]
  },
  {
   "cell_type": "code",
   "execution_count": 23,
   "id": "db51f14f",
   "metadata": {},
   "outputs": [
    {
     "data": {
      "text/plain": [
       "{'c': 0.15,\n",
       " 'eps': 0.001,\n",
       " 'random_state': 3,\n",
       " 'batch_size': 256,\n",
       " 'load_all_tag': False,\n",
       " 'neighbor_num': 5,\n",
       " 'window_size': 2,\n",
       " 'compute_s': True,\n",
       " 'eigen_file_name': 'data/05_model_input/eigen.pkl'}"
      ]
     },
     "execution_count": 23,
     "metadata": {},
     "output_type": "execute_result"
    }
   ],
   "source": [
    "data_loader_config"
   ]
  },
  {
   "cell_type": "code",
   "execution_count": 24,
   "id": "877ee382",
   "metadata": {},
   "outputs": [
    {
     "data": {
      "text/plain": [
       "bool"
      ]
     },
     "execution_count": 24,
     "metadata": {},
     "output_type": "execute_result"
    }
   ],
   "source": [
    "type(data_loader_config['compute_s'])"
   ]
  },
  {
   "cell_type": "code",
   "execution_count": 25,
   "id": "d36ad34d",
   "metadata": {},
   "outputs": [],
   "source": [
    "import scipy.sparse as sp\n",
    "from numpy.linalg import inv\n",
    "\n",
    "def normalize(mx):\n",
    "    \"\"\"Row-normalize sparse matrix\"\"\"\n",
    "    rowsum = np.array(mx.sum(1))\n",
    "    r_inv = np.power(rowsum, -1).flatten()\n",
    "    r_inv[np.isinf(r_inv)] = 0.\n",
    "    r_mat_inv = sp.diags(r_inv)\n",
    "    mx = r_mat_inv.dot(mx)\n",
    "    return mx\n",
    "\n",
    "def normalize_adj(adj):\n",
    "    \"\"\"Symmetrically normalize adjacency matrix. (0226)\"\"\"\n",
    "    adj = sp.coo_matrix(adj)\n",
    "    rowsum = np.array(adj.sum(1))\n",
    "    d_inv_sqrt = np.power(rowsum, -0.5).flatten()\n",
    "    d_inv_sqrt[np.isinf(d_inv_sqrt)] = 0.\n",
    "    d_mat_inv_sqrt = sp.diags(d_inv_sqrt)\n",
    "    return adj.dot(d_mat_inv_sqrt).transpose().dot(d_mat_inv_sqrt).tocoo()\n",
    "\n",
    "def adj_normalize(mx):\n",
    "    \"\"\"Row-normalize sparse matrix\"\"\"\n",
    "    rowsum = np.array(mx.sum(1))\n",
    "    r_inv = np.power(rowsum, -0.5).flatten()\n",
    "    r_inv[np.isinf(r_inv)] = 0.\n",
    "    r_mat_inv = sp.diags(r_inv)\n",
    "    mx = r_mat_inv.dot(mx).dot(r_mat_inv)\n",
    "    return mx\n",
    "\n",
    "def sparse_mx_to_torch_sparse_tensor(sparse_mx):\n",
    "    \"\"\"Convert a scipy sparse matrix to a torch sparse tensor.\"\"\"\n",
    "    sparse_mx = sparse_mx.tocoo().astype(np.float32)\n",
    "    indices = torch.from_numpy(\n",
    "        np.vstack((sparse_mx.row, sparse_mx.col)).astype(np.int64))\n",
    "    values = torch.from_numpy(sparse_mx.data)\n",
    "    shape = torch.Size(sparse_mx.shape)\n",
    "    return torch.sparse.FloatTensor(indices, values, shape)\n",
    "\n",
    "def preprocess_adj(adj):\n",
    "    \"\"\"Preprocessing of adjacency matrix for simple GCN model and conversion to tuple representation. (0226)\"\"\"\n",
    "    adj = adj + adj.T.multiply(adj.T > adj) - adj.multiply(adj.T > adj)\n",
    "    # adj_np = np.array(adj.todense())\n",
    "    adj_normalized = normalize_adj(adj + sp.eye(adj.shape[0]))\n",
    "    adj_normalized = sparse_mx_to_torch_sparse_tensor(adj_normalized)\n",
    "    return adj_normalized\n",
    "\n",
    "def get_adjs(rows, cols, weights, nb_nodes, eigen_file_name, data_loader_config):\n",
    "    \"\"\"Generate adjacency matrix and conduct eigenvalue decomposition for node sampling\"\"\"\n",
    "    if not os.path.exists(eigen_file_name):\n",
    "        generate_eigen = True\n",
    "        print('Generating eigen as: ' + eigen_file_name)\n",
    "    else:\n",
    "        generate_eigen = False\n",
    "        print('Loading eigen from: ' + eigen_file_name)\n",
    "        with open(eigen_file_name, 'rb') as f:\n",
    "            eigen_adjs_sparse = pickle.load(f)\n",
    "        eigen_adjs = []\n",
    "        for eigen_adj_sparse in eigen_adjs_sparse:\n",
    "            eigen_adjs.append(np.array(eigen_adj_sparse.todense()))\n",
    "\n",
    "    adjs = []\n",
    "    if generate_eigen:\n",
    "        eigen_adjs = []\n",
    "        eigen_adjs_sparse = []\n",
    "\n",
    "    for i in range(len(rows)):\n",
    "        adj = sp.csr_matrix((weights[i], (rows[i], cols[i])), shape=(nb_nodes, nb_nodes), dtype=np.float32)\n",
    "        adjs.append(preprocess_adj(adj))\n",
    "        if data_loader_config['compute_s']:\n",
    "            if generate_eigen:\n",
    "                eigen_adj = data_loader_config['c'] * inv((sp.eye(adj.shape[0]) - (1 - data_loader_config['c']) * adj_normalize(adj)).toarray())\n",
    "                for p in range(adj.shape[0]):\n",
    "                    eigen_adj[p,p] = 0.\n",
    "                eigen_adj = normalize(eigen_adj)\n",
    "                eigen_adjs.append(eigen_adj)\n",
    "                eigen_adjs_sparse.append(sp.csr_matrix(eigen_adj))\n",
    "\n",
    "        else:\n",
    "            eigen_adjs.append(None)\n",
    "\n",
    "    if generate_eigen:\n",
    "        with open(eigen_file_name, 'wb') as f:\n",
    "            pickle.dump(eigen_adjs_sparse, f, pickle.HIGHEST_PROTOCOL)\n",
    "\n",
    "    return adjs, eigen_adjs"
   ]
  },
  {
   "cell_type": "code",
   "execution_count": 26,
   "id": "a2a440cf",
   "metadata": {},
   "outputs": [
    {
     "name": "stdout",
     "output_type": "stream",
     "text": [
      "Loading eigen from: ../../data/05_model_input/financial_fraud/eigen_tmp.pkl\n"
     ]
    }
   ],
   "source": [
    "ensure_directory(eigen_file_name)\n",
    "edges = [np.vstack((rows[i], cols[i])).T for i in range(num_snap)]\n",
    "adjs, eigen_adjs = get_adjs(rows, cols, weights, nb_nodes, eigen_file_name, data_loader_config)"
   ]
  },
  {
   "cell_type": "code",
   "execution_count": 27,
   "id": "d9bf3170",
   "metadata": {},
   "outputs": [],
   "source": [
    "data_dict = {\n",
    "    'X': None, \n",
    "    'A': adjs, \n",
    "    'S': eigen_adjs, \n",
    "    'index_id_map': index_id_map, \n",
    "    'edges': edges,\n",
    "    'y': labels, \n",
    "    'idx': idx, \n",
    "    'snap_train': snap_train, \n",
    "    'degrees': degrees,\n",
    "    'snap_test': snap_test, \n",
    "    'num_snap': num_snap}"
   ]
  },
  {
   "cell_type": "markdown",
   "id": "82176bc1",
   "metadata": {},
   "source": [
    "# Define model and load model training config "
   ]
  },
  {
   "cell_type": "code",
   "execution_count": 28,
   "id": "0b3356e0",
   "metadata": {},
   "outputs": [],
   "source": [
    "from anomaly_detection_spatial_temporal_data.model.dynamic_graph import Taddy"
   ]
  },
  {
   "cell_type": "code",
   "execution_count": 29,
   "id": "e27947de",
   "metadata": {},
   "outputs": [
    {
     "data": {
      "text/plain": [
       "{'data_load_options': {'c': 0.15,\n",
       "  'eps': 0.001,\n",
       "  'random_state': 3,\n",
       "  'batch_size': 256,\n",
       "  'load_all_tag': False,\n",
       "  'neighbor_num': 5,\n",
       "  'window_size': 2,\n",
       "  'compute_s': True,\n",
       "  'eigen_file_name': 'data/05_model_input/eigen.pkl'},\n",
       " 'model_options': {'neighbor_num': 5,\n",
       "  'window_size': 2,\n",
       "  'batch_size': 256,\n",
       "  'embedding_dim': 32,\n",
       "  'num_hidden_layers': 2,\n",
       "  'num_attention_heads': 2,\n",
       "  'seed': 1,\n",
       "  'print_feq': 10,\n",
       "  'lr': 0.001,\n",
       "  'weight_decay': '5e-4',\n",
       "  'max_epoch': 10,\n",
       "  'spy_tag': True,\n",
       "  'max_hop_dis_index': 100,\n",
       "  'max_inti_pos_index': 100,\n",
       "  'hidden_act': 'gelu',\n",
       "  'hidden_dropout_prob': 0.5,\n",
       "  'attention_probs_dropout_prob': 0.3,\n",
       "  'initializer_range': 0.02,\n",
       "  'layer_norm_eps': 1e-12,\n",
       "  'is_decoder': False,\n",
       "  'save_directory': 'data/07_model_output/'},\n",
       " 'infer_options': {'snap_num': 6}}"
      ]
     },
     "execution_count": 29,
     "metadata": {},
     "output_type": "execute_result"
    }
   ],
   "source": [
    "train_config"
   ]
  },
  {
   "cell_type": "code",
   "execution_count": 30,
   "id": "976f47f3",
   "metadata": {},
   "outputs": [],
   "source": [
    "train_config['model_options']['save_directory'] = '../../data/07_model_output/financial_fraud' #change save path for notebook"
   ]
  },
  {
   "cell_type": "code",
   "execution_count": 31,
   "id": "92a0d17a",
   "metadata": {},
   "outputs": [],
   "source": [
    "if not os.path.exists(train_config['model_options']['save_directory']):\n",
    "    os.makedirs(train_config['model_options']['save_directory'])"
   ]
  },
  {
   "cell_type": "code",
   "execution_count": 32,
   "id": "7ad3b702",
   "metadata": {},
   "outputs": [],
   "source": [
    "model_config = TaddyConfig(config=train_config['model_options'])\n",
    "model_obj = Taddy(data_dict, model_config)"
   ]
  },
  {
   "cell_type": "code",
   "execution_count": 33,
   "id": "e41a21bd",
   "metadata": {},
   "outputs": [
    {
     "data": {
      "text/plain": [
       "'../../data/07_model_output/financial_fraud'"
      ]
     },
     "execution_count": 33,
     "metadata": {},
     "output_type": "execute_result"
    }
   ],
   "source": [
    "model_config.save_directory"
   ]
  },
  {
   "cell_type": "markdown",
   "id": "9f491308",
   "metadata": {},
   "source": [
    "# Train model"
   ]
  },
  {
   "cell_type": "code",
   "execution_count": 34,
   "id": "303658fb",
   "metadata": {},
   "outputs": [
    {
     "name": "stdout",
     "output_type": "stream",
     "text": [
      "Epoch: 1, loss:0.6934, Time: 28.0603s\n",
      "Epoch: 2, loss:0.6833, Time: 28.0489s\n",
      "Epoch: 3, loss:0.6767, Time: 31.4435s\n",
      "Epoch: 4, loss:0.6690, Time: 28.4979s\n",
      "Epoch: 5, loss:0.6602, Time: 29.2117s\n",
      "Epoch: 6, loss:0.6230, Time: 28.3041s\n",
      "Epoch: 7, loss:0.6042, Time: 29.8792s\n",
      "Epoch: 8, loss:0.5904, Time: 28.3881s\n",
      "Epoch: 9, loss:0.5320, Time: 28.6048s\n",
      "Epoch: 10, loss:0.5016, Time: 28.1970s\n",
      "Snap: 05 | AUC: 0.6736\n",
      "Snap: 06 | AUC: 0.6444\n",
      "Snap: 07 | AUC: 0.6407\n",
      "Snap: 08 | AUC: 0.6331\n",
      "Snap: 09 | AUC: 0.8296\n",
      "TOTAL AUC:0.6006\n"
     ]
    }
   ],
   "source": [
    "learned_result,save_model_path = model_obj.run()"
   ]
  },
  {
   "cell_type": "markdown",
   "id": "de295d93",
   "metadata": {},
   "source": [
    "# Model training result "
   ]
  },
  {
   "cell_type": "code",
   "execution_count": 35,
   "id": "e98c2d68",
   "metadata": {},
   "outputs": [
    {
     "data": {
      "text/plain": [
       "{1: {'train_loss': 0.6933763027191162},\n",
       " 2: {'train_loss': 0.6833107173442841},\n",
       " 3: {'train_loss': 0.6766712069511414},\n",
       " 4: {'train_loss': 0.6690231710672379},\n",
       " 5: {'train_loss': 0.6601802408695221},\n",
       " 6: {'train_loss': 0.6229529976844788},\n",
       " 7: {'train_loss': 0.6041898727416992},\n",
       " 8: {'train_loss': 0.5904221832752228},\n",
       " 9: {'train_loss': 0.5320391654968262},\n",
       " 10: {'train_loss': 0.5016221180558205, 'test_auc': 0.6005636457322073}}"
      ]
     },
     "execution_count": 35,
     "metadata": {},
     "output_type": "execute_result"
    }
   ],
   "source": [
    "learned_result"
   ]
  },
  {
   "cell_type": "code",
   "execution_count": 36,
   "id": "6072b857",
   "metadata": {},
   "outputs": [
    {
     "data": {
      "text/plain": [
       "'../../data/07_model_output/financial_fraud/taddy_model_9.pth'"
      ]
     },
     "execution_count": 36,
     "metadata": {},
     "output_type": "execute_result"
    }
   ],
   "source": [
    "save_model_path"
   ]
  },
  {
   "cell_type": "markdown",
   "id": "942996e3",
   "metadata": {},
   "source": [
    "# Run inference on the specific snapshot "
   ]
  },
  {
   "cell_type": "markdown",
   "id": "10d6f8ca",
   "metadata": {},
   "source": [
    "### load trained model "
   ]
  },
  {
   "cell_type": "code",
   "execution_count": 37,
   "id": "9d184c4f",
   "metadata": {},
   "outputs": [],
   "source": [
    "import torch\n",
    "import transformers"
   ]
  },
  {
   "cell_type": "code",
   "execution_count": 41,
   "id": "21fb74af",
   "metadata": {},
   "outputs": [],
   "source": [
    "model = torch.load(save_model_path)"
   ]
  },
  {
   "cell_type": "code",
   "execution_count": 42,
   "id": "a24c1610",
   "metadata": {},
   "outputs": [
    {
     "data": {
      "text/plain": [
       "anomaly_detection_spatial_temporal_data.model.dynamic_graph.Taddy"
      ]
     },
     "execution_count": 42,
     "metadata": {},
     "output_type": "execute_result"
    }
   ],
   "source": [
    "type(model)"
   ]
  },
  {
   "cell_type": "code",
   "execution_count": 43,
   "id": "3e0ad734",
   "metadata": {},
   "outputs": [],
   "source": [
    "snap_num = 9"
   ]
  },
  {
   "cell_type": "code",
   "execution_count": 44,
   "id": "af6b9a5e",
   "metadata": {},
   "outputs": [
    {
     "name": "stdout",
     "output_type": "stream",
     "text": [
      "Generating embeddings...\n",
      "Embeddings created!\n"
     ]
    }
   ],
   "source": [
    "pred = model.predict(snap_num)"
   ]
  },
  {
   "cell_type": "code",
   "execution_count": 45,
   "id": "71bb8389",
   "metadata": {},
   "outputs": [
    {
     "data": {
      "text/plain": [
       "numpy.ndarray"
      ]
     },
     "execution_count": 45,
     "metadata": {},
     "output_type": "execute_result"
    }
   ],
   "source": [
    "type(pred)"
   ]
  },
  {
   "cell_type": "code",
   "execution_count": 46,
   "id": "7d80d87f",
   "metadata": {},
   "outputs": [
    {
     "data": {
      "text/plain": [
       "array([0.28766072, 0.28766072, 0.30370262, ..., 0.8222538 , 0.28766072,\n",
       "       0.30370262], dtype=float32)"
      ]
     },
     "execution_count": 46,
     "metadata": {},
     "output_type": "execute_result"
    }
   ],
   "source": [
    "pred"
   ]
  },
  {
   "cell_type": "code",
   "execution_count": 47,
   "id": "42f21af5",
   "metadata": {},
   "outputs": [
    {
     "data": {
      "text/plain": [
       "tensor([0, 0, 0,  ..., 0, 0, 0])"
      ]
     },
     "execution_count": 47,
     "metadata": {},
     "output_type": "execute_result"
    }
   ],
   "source": [
    "labels[1]"
   ]
  },
  {
   "cell_type": "code",
   "execution_count": 48,
   "id": "5221b94a",
   "metadata": {},
   "outputs": [],
   "source": [
    "from sklearn import metrics"
   ]
  },
  {
   "cell_type": "code",
   "execution_count": 49,
   "id": "f7f97f25",
   "metadata": {},
   "outputs": [],
   "source": [
    "auc = metrics.roc_auc_score(labels[snap_num],pred)"
   ]
  },
  {
   "cell_type": "code",
   "execution_count": 50,
   "id": "165e80f5",
   "metadata": {},
   "outputs": [
    {
     "data": {
      "text/plain": [
       "0.8296228020419738"
      ]
     },
     "execution_count": 50,
     "metadata": {},
     "output_type": "execute_result"
    }
   ],
   "source": [
    "auc"
   ]
  },
  {
   "cell_type": "markdown",
   "id": "da8653c0",
   "metadata": {},
   "source": [
    "# References\n",
    "\n",
    "Edgar Alonso Lopez-Rojas and Stefan Axelsson. 2014. BANKSIM: A BANK PAYMENTS SIMULATOR FOR FRAUD DETECTION RESEARCH.\n",
    "\n",
    "Yixin Liu, Shirui Pan, Yu Guang Wang, Fei Xiong, Liang Wang, Qingfeng Chen, and Vincent CS Lee. 2015. Anomaly Detection in Dynamic Graphs via Transformer."
   ]
  },
  {
   "cell_type": "code",
   "execution_count": null,
   "id": "552e04b4",
   "metadata": {},
   "outputs": [],
   "source": []
  }
 ],
 "metadata": {
  "kernelspec": {
   "display_name": "kedro-taddy-venv",
   "language": "python",
   "name": "kedro-taddy-venv"
  },
  "language_info": {
   "codemirror_mode": {
    "name": "ipython",
    "version": 3
   },
   "file_extension": ".py",
   "mimetype": "text/x-python",
   "name": "python",
   "nbconvert_exporter": "python",
   "pygments_lexer": "ipython3",
   "version": "3.7.12"
  }
 },
 "nbformat": 4,
 "nbformat_minor": 5
}
