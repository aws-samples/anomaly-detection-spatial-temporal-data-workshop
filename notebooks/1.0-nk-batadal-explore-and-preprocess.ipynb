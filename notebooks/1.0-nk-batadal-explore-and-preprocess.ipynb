{
 "cells": [
  {
   "cell_type": "code",
   "execution_count": 1,
   "id": "23f636dc",
   "metadata": {},
   "outputs": [],
   "source": [
    "import pandas as pd"
   ]
  },
  {
   "cell_type": "code",
   "execution_count": 2,
   "id": "ba851d3d",
   "metadata": {},
   "outputs": [],
   "source": [
    "train_no_anom = pd.read_csv(\"../data/01_raw/BATADAL_dataset03_train_no_anomaly.csv\")\n",
    "train_some_anom = pd.read_csv(\"../data/01_raw/BATADAL_dataset04_train_some_anomaly.csv\")\n",
    "test_with_anom = pd.read_csv(\"../data/01_raw/BATADAL_test_dataset_some_anomaly.csv\")"
   ]
  },
  {
   "cell_type": "code",
   "execution_count": 3,
   "id": "d54d92f3",
   "metadata": {},
   "outputs": [],
   "source": [
    "# has leading white space\n",
    "train_some_anom.columns = train_some_anom.columns.str.strip()"
   ]
  },
  {
   "cell_type": "code",
   "execution_count": 4,
   "id": "3ab57927",
   "metadata": {},
   "outputs": [
    {
     "data": {
      "text/plain": [
       "((8761, 45), (4177, 45), (2089, 44))"
      ]
     },
     "execution_count": 4,
     "metadata": {},
     "output_type": "execute_result"
    }
   ],
   "source": [
    "train_no_anom.shape, train_some_anom.shape, test_with_anom.shape"
   ]
  },
  {
   "cell_type": "code",
   "execution_count": 5,
   "id": "8f9baff9",
   "metadata": {},
   "outputs": [
    {
     "name": "stdout",
     "output_type": "stream",
     "text": [
      "0 0 0\n",
      "0 1 0\n",
      "0 2 1\n",
      "\t {'ATT_FLAG'}\n",
      "1 0 0\n",
      "1 1 0\n",
      "1 2 1\n",
      "\t {'ATT_FLAG'}\n",
      "2 0 0\n",
      "2 1 0\n",
      "2 2 0\n"
     ]
    }
   ],
   "source": [
    "for i, _df in enumerate([train_no_anom, train_some_anom, test_with_anom]):\n",
    "    for j, _df2 in enumerate([train_no_anom, train_some_anom, test_with_anom]):\n",
    "        set1 = set(_df.columns.tolist())\n",
    "        set2 = set(_df2.columns.tolist())\n",
    "        \n",
    "        print(i, j, len(set1 - set2))\n",
    "        if len(set1 - set2) != 0:\n",
    "            print(\"\\t\", set1-set2)"
   ]
  },
  {
   "cell_type": "code",
   "execution_count": 6,
   "id": "0a42af98",
   "metadata": {},
   "outputs": [
    {
     "data": {
      "text/plain": [
       "Index(['DATETIME', 'L_T1', 'L_T2', 'L_T3', 'L_T4', 'L_T5', 'L_T6', 'L_T7',\n",
       "       'F_PU1', 'S_PU1', 'F_PU2', 'S_PU2', 'F_PU3', 'S_PU3', 'F_PU4', 'S_PU4',\n",
       "       'F_PU5', 'S_PU5', 'F_PU6', 'S_PU6', 'F_PU7', 'S_PU7', 'F_PU8', 'S_PU8',\n",
       "       'F_PU9', 'S_PU9', 'F_PU10', 'S_PU10', 'F_PU11', 'S_PU11', 'F_V2',\n",
       "       'S_V2', 'P_J280', 'P_J269', 'P_J300', 'P_J256', 'P_J289', 'P_J415',\n",
       "       'P_J302', 'P_J306', 'P_J307', 'P_J317', 'P_J14', 'P_J422', 'ATT_FLAG'],\n",
       "      dtype='object')"
      ]
     },
     "execution_count": 6,
     "metadata": {},
     "output_type": "execute_result"
    }
   ],
   "source": [
    "train_no_anom.columns"
   ]
  },
  {
   "cell_type": "markdown",
   "id": "de6af4fe",
   "metadata": {},
   "source": [
    "# Train no anomaly"
   ]
  },
  {
   "cell_type": "code",
   "execution_count": 7,
   "id": "8514cf05",
   "metadata": {},
   "outputs": [],
   "source": [
    "# !mkdir ../../GDN/data/batadal\n",
    "\n",
    "output_dir = \"../../GDN/data/batadal\""
   ]
  },
  {
   "cell_type": "code",
   "execution_count": 8,
   "id": "43e75a34",
   "metadata": {},
   "outputs": [],
   "source": [
    "SENSOR_COLS = [c for c in train_no_anom.columns if c not in [\"DATETIME\", \"ATT_FLAG\"]]"
   ]
  },
  {
   "cell_type": "code",
   "execution_count": 9,
   "id": "b8682e87",
   "metadata": {},
   "outputs": [],
   "source": [
    "with open(f\"{output_dir}/list.txt\", \"w\") as f:\n",
    "    f.writelines(\"\\n\".join(SENSOR_COLS))"
   ]
  },
  {
   "cell_type": "code",
   "execution_count": 10,
   "id": "213a215d",
   "metadata": {},
   "outputs": [],
   "source": [
    "train_no_anom.reset_index().rename(columns={\"index\": \"timestamp\"})[[\"timestamp\" ]+ SENSOR_COLS].to_csv(f\"{output_dir}/train.csv\")"
   ]
  },
  {
   "cell_type": "markdown",
   "id": "40c4f655",
   "metadata": {},
   "source": [
    "# Train with anomaly to use as test set"
   ]
  },
  {
   "cell_type": "code",
   "execution_count": 11,
   "id": "d85205e0",
   "metadata": {},
   "outputs": [],
   "source": [
    "# from http://www.batadal.net/images/Attacks_TrainingDataset2.png\n",
    "fmt =\"%d/%m/%Y %H\"\n",
    "train_anomalies = [\n",
    "    (\"13/09/2016 23\", \"16/09/2016 00\"),\n",
    "    (\"26/09/2016 11\", \"27/09/2016 10\"),\n",
    "    (\"09/10/2016 09\", \"11/10/2016 20\"),\n",
    "    (\"29/10/2016 19\", \"02/11/2016 16\"),\n",
    "    (\"26/11/2016 17\", \"29/11/2016 04\"),\n",
    "    (\"06/12/2016 07\", \"10/12/2016 04\"),\n",
    "    (\"14/12/2016 15\", \"19/12/2016 04\")\n",
    "]\n",
    "\n",
    "train_anomalies_dt = [\n",
    "    (pd.to_datetime(s, format=fmt), pd.to_datetime(e, format=fmt)) for s, e in train_anomalies\n",
    "]"
   ]
  },
  {
   "cell_type": "code",
   "execution_count": 12,
   "id": "f31e48b6",
   "metadata": {},
   "outputs": [
    {
     "data": {
      "text/plain": [
       "[(Timestamp('2016-09-13 23:00:00'), Timestamp('2016-09-16 00:00:00')),\n",
       " (Timestamp('2016-09-26 11:00:00'), Timestamp('2016-09-27 10:00:00')),\n",
       " (Timestamp('2016-10-09 09:00:00'), Timestamp('2016-10-11 20:00:00')),\n",
       " (Timestamp('2016-10-29 19:00:00'), Timestamp('2016-11-02 16:00:00')),\n",
       " (Timestamp('2016-11-26 17:00:00'), Timestamp('2016-11-29 04:00:00')),\n",
       " (Timestamp('2016-12-06 07:00:00'), Timestamp('2016-12-10 04:00:00')),\n",
       " (Timestamp('2016-12-14 15:00:00'), Timestamp('2016-12-19 04:00:00'))]"
      ]
     },
     "execution_count": 12,
     "metadata": {},
     "output_type": "execute_result"
    }
   ],
   "source": [
    "train_anomalies_dt"
   ]
  },
  {
   "cell_type": "code",
   "execution_count": 13,
   "id": "3839a15c",
   "metadata": {},
   "outputs": [],
   "source": [
    "train_some_anom = train_some_anom.reset_index().rename(columns={\"index\": \"timestamp\"})\n",
    "train_some_anom[\"pdDateTime\"] = pd.to_datetime(train_some_anom[\"DATETIME\"], format=\"%d/%m/%y %H\")\n",
    "train_some_anom = train_some_anom.set_index([\"pdDateTime\"])"
   ]
  },
  {
   "cell_type": "code",
   "execution_count": 14,
   "id": "0cc75ca9",
   "metadata": {},
   "outputs": [],
   "source": [
    "train_some_anom[\"attack\"] = 0"
   ]
  },
  {
   "cell_type": "code",
   "execution_count": 15,
   "id": "7baf0e98",
   "metadata": {},
   "outputs": [],
   "source": [
    "for start, end in train_anomalies_dt:\n",
    "    train_some_anom.loc[start:end, \"attack\"] = 1"
   ]
  },
  {
   "cell_type": "code",
   "execution_count": 16,
   "id": "ba1a6ca2",
   "metadata": {},
   "outputs": [
    {
     "data": {
      "text/plain": [
       "0    3685\n",
       "1     492\n",
       "Name: attack, dtype: int64"
      ]
     },
     "execution_count": 16,
     "metadata": {},
     "output_type": "execute_result"
    }
   ],
   "source": [
    "train_some_anom[\"attack\"].value_counts()"
   ]
  },
  {
   "cell_type": "code",
   "execution_count": 27,
   "id": "39f3d68a",
   "metadata": {},
   "outputs": [],
   "source": [
    "train_some_anom[[\"timestamp\"] + SENSOR_COLS + [\"attack\"]].to_csv(f\"{output_dir}/train_some_anom.csv\", index=False)"
   ]
  },
  {
   "cell_type": "code",
   "execution_count": 19,
   "id": "5f7da2cb",
   "metadata": {},
   "outputs": [
    {
     "data": {
      "text/plain": [
       "0    3685\n",
       "1     492\n",
       "Name: attack, dtype: int64"
      ]
     },
     "execution_count": 19,
     "metadata": {},
     "output_type": "execute_result"
    }
   ],
   "source": [
    "train_some_anom[\"attack\"].value_counts()"
   ]
  },
  {
   "cell_type": "markdown",
   "id": "735b194b",
   "metadata": {},
   "source": [
    "# Actual test set"
   ]
  },
  {
   "cell_type": "code",
   "execution_count": 22,
   "id": "4d05b9b0",
   "metadata": {},
   "outputs": [],
   "source": [
    "# http://www.batadal.net/images/Attacks_TestDataset.png\n",
    "test_anomalies = [\n",
    "    (\"16/01/2017 09\", \"19/01/2017 06\"),\n",
    "    (\"30/01/2017 08\", \"02/02/2017 00\"),\n",
    "    (\"09/02/2017 03\", \"10/02/2017 09\"),\n",
    "    (\"12/02/2017 01\", \"13/02/2017 07\"),\n",
    "    (\"24/02/2017 05\", \"28/02/2017 08\"),\n",
    "    (\"10/03/2017 14\", \"13/03/2017 21\"),\n",
    "    (\"25/03/2017 20\", \"27/03/2017 01\")\n",
    "]\n",
    "\n",
    "test_anomalies_dt = [\n",
    "    (pd.to_datetime(s, format=fmt), pd.to_datetime(e, format=fmt)) for s, e in test_anomalies\n",
    "]"
   ]
  },
  {
   "cell_type": "code",
   "execution_count": 23,
   "id": "cbbacf34",
   "metadata": {},
   "outputs": [
    {
     "data": {
      "text/plain": [
       "[(Timestamp('2017-01-16 09:00:00'), Timestamp('2017-01-19 06:00:00')),\n",
       " (Timestamp('2017-01-30 08:00:00'), Timestamp('2017-02-02 00:00:00')),\n",
       " (Timestamp('2017-02-09 03:00:00'), Timestamp('2017-02-10 09:00:00')),\n",
       " (Timestamp('2017-02-12 01:00:00'), Timestamp('2017-02-13 07:00:00')),\n",
       " (Timestamp('2017-02-24 05:00:00'), Timestamp('2017-02-28 08:00:00')),\n",
       " (Timestamp('2017-03-10 14:00:00'), Timestamp('2017-03-13 21:00:00')),\n",
       " (Timestamp('2017-03-25 20:00:00'), Timestamp('2017-03-27 01:00:00'))]"
      ]
     },
     "execution_count": 23,
     "metadata": {},
     "output_type": "execute_result"
    }
   ],
   "source": [
    "test_anomalies_dt"
   ]
  },
  {
   "cell_type": "code",
   "execution_count": 24,
   "id": "a2f08ab5",
   "metadata": {},
   "outputs": [],
   "source": [
    "test_with_anom = test_with_anom.reset_index().rename(columns={\"index\": \"timestamp\"})\n",
    "test_with_anom[\"pdDateTime\"] = pd.to_datetime(test_with_anom[\"DATETIME\"], format=\"%d/%m/%y %H\")\n",
    "test_with_anom = test_with_anom.set_index([\"pdDateTime\"])"
   ]
  },
  {
   "cell_type": "code",
   "execution_count": 25,
   "id": "92f1fe6c",
   "metadata": {},
   "outputs": [],
   "source": [
    "test_with_anom[\"attack\"] = 0\n",
    "for start, end in test_anomalies_dt:\n",
    "    test_with_anom.loc[start:end, \"attack\"] = 1"
   ]
  },
  {
   "cell_type": "code",
   "execution_count": 26,
   "id": "2ebf0406",
   "metadata": {},
   "outputs": [
    {
     "data": {
      "text/plain": [
       "0    1682\n",
       "1     407\n",
       "Name: attack, dtype: int64"
      ]
     },
     "execution_count": 26,
     "metadata": {},
     "output_type": "execute_result"
    }
   ],
   "source": [
    "test_with_anom[\"attack\"].value_counts()"
   ]
  },
  {
   "cell_type": "code",
   "execution_count": 28,
   "id": "3bfff554",
   "metadata": {},
   "outputs": [],
   "source": [
    "test_with_anom[[\"timestamp\"] + SENSOR_COLS + [\"attack\"]].to_csv(f\"{output_dir}/test_with_anom.csv\", index=False)"
   ]
  },
  {
   "cell_type": "markdown",
   "id": "ec129841",
   "metadata": {},
   "source": [
    "# Make copy of test set we want to use"
   ]
  },
  {
   "cell_type": "code",
   "execution_count": 31,
   "id": "af8555fc",
   "metadata": {},
   "outputs": [],
   "source": [
    "!cp {output_dir}/test_with_anom.csv {output_dir}/test.csv"
   ]
  },
  {
   "cell_type": "code",
   "execution_count": null,
   "id": "2514ef5a",
   "metadata": {},
   "outputs": [],
   "source": []
  }
 ],
 "metadata": {
  "kernelspec": {
   "display_name": "conda_python3",
   "language": "python",
   "name": "conda_python3"
  },
  "language_info": {
   "codemirror_mode": {
    "name": "ipython",
    "version": 3
   },
   "file_extension": ".py",
   "mimetype": "text/x-python",
   "name": "python",
   "nbconvert_exporter": "python",
   "pygments_lexer": "ipython3",
   "version": "3.6.13"
  }
 },
 "nbformat": 4,
 "nbformat_minor": 5
}
