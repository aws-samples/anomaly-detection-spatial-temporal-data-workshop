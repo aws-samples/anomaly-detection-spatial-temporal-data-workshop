{
 "cells": [
  {
   "cell_type": "markdown",
   "id": "20917998",
   "metadata": {},
   "source": [
    "# Data Preprocessing\n",
    "\n",
    "#### Table of Contents  \n",
    "[GDN Data Preprocessing](#example)  \n",
    "[NAB Data Preprocessing](#example)  \n",
    "[Save Results](#example)  "
   ]
  },
  {
   "cell_type": "code",
   "execution_count": 1,
   "id": "72a04272",
   "metadata": {},
   "outputs": [],
   "source": [
    "import numpy as np\n",
    "import pandas as pd\n",
    "import re\n",
    "from sklearn.preprocessing import MinMaxScaler"
   ]
  },
  {
   "cell_type": "markdown",
   "id": "bb6f604c",
   "metadata": {},
   "source": [
    "## GDN Data Preprocessing\n",
    "\n",
    "GDN requires the following files:\n",
    "1. **list.txt**: the feature names, one feature per line\n",
    "2. **train.csv**: training data modeling normal behavior, no anomalies were present according to the paper\n",
    "3. **test.csv**: test data.test.csv should have a column named \"attack\" which contains ground truth label(0/1) of being attacked or not(0: normal, 1: attacked)"
   ]
  },
  {
   "cell_type": "code",
   "execution_count": 2,
   "id": "6ec0f6b9",
   "metadata": {},
   "outputs": [],
   "source": [
    "train_df = pd.read_csv(\"train.csv\")\n",
    "test_df = pd.read_csv(\"test.csv\")"
   ]
  },
  {
   "cell_type": "code",
   "execution_count": 3,
   "id": "1810ebce",
   "metadata": {},
   "outputs": [
    {
     "data": {
      "text/html": [
       "<div>\n",
       "<style scoped>\n",
       "    .dataframe tbody tr th:only-of-type {\n",
       "        vertical-align: middle;\n",
       "    }\n",
       "\n",
       "    .dataframe tbody tr th {\n",
       "        vertical-align: top;\n",
       "    }\n",
       "\n",
       "    .dataframe thead th {\n",
       "        text-align: right;\n",
       "    }\n",
       "</style>\n",
       "<table border=\"1\" class=\"dataframe\">\n",
       "  <thead>\n",
       "    <tr style=\"text-align: right;\">\n",
       "      <th></th>\n",
       "      <th>EnvironmentID</th>\n",
       "      <th>Year</th>\n",
       "      <th>Month</th>\n",
       "      <th>Day</th>\n",
       "      <th>Hour</th>\n",
       "      <th>UserCount</th>\n",
       "      <th>SessionCount</th>\n",
       "      <th>Duration</th>\n",
       "      <th>InputOctet</th>\n",
       "      <th>OutputOctet</th>\n",
       "      <th>InputPacket</th>\n",
       "      <th>OutputPacket</th>\n",
       "    </tr>\n",
       "  </thead>\n",
       "  <tbody>\n",
       "    <tr>\n",
       "      <th>0</th>\n",
       "      <td>0</td>\n",
       "      <td>2017</td>\n",
       "      <td>12</td>\n",
       "      <td>10</td>\n",
       "      <td>9</td>\n",
       "      <td>10</td>\n",
       "      <td>12</td>\n",
       "      <td>43</td>\n",
       "      <td>9357.0</td>\n",
       "      <td>6310.000000</td>\n",
       "      <td>46</td>\n",
       "      <td>30</td>\n",
       "    </tr>\n",
       "    <tr>\n",
       "      <th>1</th>\n",
       "      <td>0</td>\n",
       "      <td>2017</td>\n",
       "      <td>12</td>\n",
       "      <td>10</td>\n",
       "      <td>9</td>\n",
       "      <td>6</td>\n",
       "      <td>7</td>\n",
       "      <td>38</td>\n",
       "      <td>6011.0</td>\n",
       "      <td>5163.000000</td>\n",
       "      <td>27</td>\n",
       "      <td>27</td>\n",
       "    </tr>\n",
       "    <tr>\n",
       "      <th>2</th>\n",
       "      <td>0</td>\n",
       "      <td>2017</td>\n",
       "      <td>12</td>\n",
       "      <td>10</td>\n",
       "      <td>9</td>\n",
       "      <td>6</td>\n",
       "      <td>6</td>\n",
       "      <td>50</td>\n",
       "      <td>7973.0</td>\n",
       "      <td>7375.000000</td>\n",
       "      <td>37</td>\n",
       "      <td>37</td>\n",
       "    </tr>\n",
       "    <tr>\n",
       "      <th>3</th>\n",
       "      <td>0</td>\n",
       "      <td>2017</td>\n",
       "      <td>12</td>\n",
       "      <td>10</td>\n",
       "      <td>9</td>\n",
       "      <td>5</td>\n",
       "      <td>5</td>\n",
       "      <td>28</td>\n",
       "      <td>1435.0</td>\n",
       "      <td>1313.296296</td>\n",
       "      <td>7</td>\n",
       "      <td>7</td>\n",
       "    </tr>\n",
       "    <tr>\n",
       "      <th>4</th>\n",
       "      <td>0</td>\n",
       "      <td>2017</td>\n",
       "      <td>12</td>\n",
       "      <td>10</td>\n",
       "      <td>10</td>\n",
       "      <td>4</td>\n",
       "      <td>4</td>\n",
       "      <td>42</td>\n",
       "      <td>2222.0</td>\n",
       "      <td>1011.217778</td>\n",
       "      <td>12</td>\n",
       "      <td>12</td>\n",
       "    </tr>\n",
       "  </tbody>\n",
       "</table>\n",
       "</div>"
      ],
      "text/plain": [
       "   EnvironmentID  Year  Month  Day  Hour  UserCount  SessionCount  Duration  \\\n",
       "0              0  2017     12   10     9         10            12        43   \n",
       "1              0  2017     12   10     9          6             7        38   \n",
       "2              0  2017     12   10     9          6             6        50   \n",
       "3              0  2017     12   10     9          5             5        28   \n",
       "4              0  2017     12   10    10          4             4        42   \n",
       "\n",
       "   InputOctet  OutputOctet  InputPacket  OutputPacket  \n",
       "0      9357.0  6310.000000           46            30  \n",
       "1      6011.0  5163.000000           27            27  \n",
       "2      7973.0  7375.000000           37            37  \n",
       "3      1435.0  1313.296296            7             7  \n",
       "4      2222.0  1011.217778           12            12  "
      ]
     },
     "execution_count": 3,
     "metadata": {},
     "output_type": "execute_result"
    }
   ],
   "source": [
    "train_df.head(n=5)"
   ]
  },
  {
   "cell_type": "code",
   "execution_count": 4,
   "id": "ce8fd311",
   "metadata": {},
   "outputs": [
    {
     "data": {
      "text/html": [
       "<div>\n",
       "<style scoped>\n",
       "    .dataframe tbody tr th:only-of-type {\n",
       "        vertical-align: middle;\n",
       "    }\n",
       "\n",
       "    .dataframe tbody tr th {\n",
       "        vertical-align: top;\n",
       "    }\n",
       "\n",
       "    .dataframe thead th {\n",
       "        text-align: right;\n",
       "    }\n",
       "</style>\n",
       "<table border=\"1\" class=\"dataframe\">\n",
       "  <thead>\n",
       "    <tr style=\"text-align: right;\">\n",
       "      <th></th>\n",
       "      <th>EnvironmentID</th>\n",
       "      <th>Year</th>\n",
       "      <th>Month</th>\n",
       "      <th>Day</th>\n",
       "      <th>Hour</th>\n",
       "      <th>UserCount</th>\n",
       "      <th>SessionCount</th>\n",
       "      <th>Duration</th>\n",
       "      <th>InputOctet</th>\n",
       "      <th>OutputOctet</th>\n",
       "      <th>InputPacket</th>\n",
       "      <th>OutputPacket</th>\n",
       "    </tr>\n",
       "  </thead>\n",
       "  <tbody>\n",
       "    <tr>\n",
       "      <th>0</th>\n",
       "      <td>0</td>\n",
       "      <td>2017</td>\n",
       "      <td>12</td>\n",
       "      <td>10</td>\n",
       "      <td>9</td>\n",
       "      <td>10</td>\n",
       "      <td>13</td>\n",
       "      <td>39</td>\n",
       "      <td>7195.0</td>\n",
       "      <td>4435.166667</td>\n",
       "      <td>34</td>\n",
       "      <td>25</td>\n",
       "    </tr>\n",
       "    <tr>\n",
       "      <th>1</th>\n",
       "      <td>0</td>\n",
       "      <td>2017</td>\n",
       "      <td>12</td>\n",
       "      <td>10</td>\n",
       "      <td>9</td>\n",
       "      <td>14</td>\n",
       "      <td>15</td>\n",
       "      <td>104</td>\n",
       "      <td>20991.0</td>\n",
       "      <td>10631.666667</td>\n",
       "      <td>88</td>\n",
       "      <td>74</td>\n",
       "    </tr>\n",
       "    <tr>\n",
       "      <th>2</th>\n",
       "      <td>0</td>\n",
       "      <td>2017</td>\n",
       "      <td>12</td>\n",
       "      <td>10</td>\n",
       "      <td>9</td>\n",
       "      <td>8</td>\n",
       "      <td>8</td>\n",
       "      <td>81</td>\n",
       "      <td>15266.0</td>\n",
       "      <td>11901.217391</td>\n",
       "      <td>75</td>\n",
       "      <td>74</td>\n",
       "    </tr>\n",
       "    <tr>\n",
       "      <th>3</th>\n",
       "      <td>0</td>\n",
       "      <td>2017</td>\n",
       "      <td>12</td>\n",
       "      <td>10</td>\n",
       "      <td>9</td>\n",
       "      <td>6</td>\n",
       "      <td>6</td>\n",
       "      <td>42</td>\n",
       "      <td>9135.0</td>\n",
       "      <td>6474.139752</td>\n",
       "      <td>43</td>\n",
       "      <td>43</td>\n",
       "    </tr>\n",
       "    <tr>\n",
       "      <th>4</th>\n",
       "      <td>0</td>\n",
       "      <td>2017</td>\n",
       "      <td>12</td>\n",
       "      <td>10</td>\n",
       "      <td>10</td>\n",
       "      <td>6</td>\n",
       "      <td>6</td>\n",
       "      <td>43</td>\n",
       "      <td>8297.0</td>\n",
       "      <td>6401.600000</td>\n",
       "      <td>42</td>\n",
       "      <td>41</td>\n",
       "    </tr>\n",
       "  </tbody>\n",
       "</table>\n",
       "</div>"
      ],
      "text/plain": [
       "   EnvironmentID  Year  Month  Day  Hour  UserCount  SessionCount  Duration  \\\n",
       "0              0  2017     12   10     9         10            13        39   \n",
       "1              0  2017     12   10     9         14            15       104   \n",
       "2              0  2017     12   10     9          8             8        81   \n",
       "3              0  2017     12   10     9          6             6        42   \n",
       "4              0  2017     12   10    10          6             6        43   \n",
       "\n",
       "   InputOctet   OutputOctet  InputPacket  OutputPacket  \n",
       "0      7195.0   4435.166667           34            25  \n",
       "1     20991.0  10631.666667           88            74  \n",
       "2     15266.0  11901.217391           75            74  \n",
       "3      9135.0   6474.139752           43            43  \n",
       "4      8297.0   6401.600000           42            41  "
      ]
     },
     "execution_count": 4,
     "metadata": {},
     "output_type": "execute_result"
    }
   ],
   "source": [
    "test_df.head(n=5)"
   ]
  },
  {
   "cell_type": "markdown",
   "id": "929044f2",
   "metadata": {},
   "source": [
    "The wifi data contains ata for each environment at 15 minute increments throughout the day. In order to represent this as time series data, we sort by Year, Month, Day, Hour and then randomize all the data samples that fall within that group. "
   ]
  },
  {
   "cell_type": "code",
   "execution_count": null,
   "id": "e25c7a74",
   "metadata": {},
   "outputs": [],
   "source": [
    "random_data = np.random.randint(1,100000,size=len(train_df))\n",
    "train_df['random_numbers'] = random_data\n",
    "\n",
    "\n",
    "print(train_df)"
   ]
  },
  {
   "cell_type": "code",
   "execution_count": null,
   "id": "23d55e72",
   "metadata": {},
   "outputs": [],
   "source": [
    "random_data = np.random.randint(1,100000,size=len(test_df))\n",
    "test_df['random_numbers'] = random_data\n",
    "\n",
    "print(df)"
   ]
  },
  {
   "cell_type": "markdown",
   "id": "1ca13f0d",
   "metadata": {},
   "source": [
    "We are using Net2: AP Shutdown/Halt within the wifi dataset as our test data. Our Anomalous data is all in environment 3. Let's add the attack collumn for our test data"
   ]
  },
  {
   "cell_type": "code",
   "execution_count": null,
   "id": "bf8d3da3",
   "metadata": {},
   "outputs": [],
   "source": [
    "def fill_attack(row):\n",
    "    if row[\"EnvironmentID\"] == 3:\n",
    "        return 1\n",
    "    else:\n",
    "        return 0"
   ]
  },
  {
   "cell_type": "code",
   "execution_count": null,
   "id": "99ed3605",
   "metadata": {},
   "outputs": [],
   "source": [
    "test_df['attack'] = test_df.apply(lambda x:fill_attack(x), axis=1)"
   ]
  },
  {
   "cell_type": "code",
   "execution_count": null,
   "id": "735a39bd",
   "metadata": {},
   "outputs": [],
   "source": [
    "test_df.loc[df['EnvironmentID'] == 3]"
   ]
  },
  {
   "cell_type": "code",
   "execution_count": null,
   "id": "529e2b09",
   "metadata": {},
   "outputs": [],
   "source": [
    "train_df = train_df.sort_values(by = ['Year', 'Month', \"Day\", \"Hour\", \"random_numbers\"])\n",
    "test_df = test_df.sort_values(by = ['Year', 'Month', \"Day\", \"Hour\", \"random_numbers\"])\n",
    "\n",
    "train_df.head(n=5)"
   ]
  },
  {
   "cell_type": "code",
   "execution_count": 27,
   "id": "39069eaa",
   "metadata": {},
   "outputs": [],
   "source": [
    "train_df = train_df.drop(columns=['Year', 'Month', \"Day\", \"Hour\", \"EnvironmentID\", \"random_numbers\"])\n",
    "test_df = test_df.drop(columns=['Year', 'Month', \"Day\", \"Hour\", \"EnvironmentID\", \"random_numbers\"])"
   ]
  },
  {
   "cell_type": "code",
   "execution_count": 28,
   "id": "de0e82c9",
   "metadata": {},
   "outputs": [
    {
     "data": {
      "text/html": [
       "<div>\n",
       "<style scoped>\n",
       "    .dataframe tbody tr th:only-of-type {\n",
       "        vertical-align: middle;\n",
       "    }\n",
       "\n",
       "    .dataframe tbody tr th {\n",
       "        vertical-align: top;\n",
       "    }\n",
       "\n",
       "    .dataframe thead th {\n",
       "        text-align: right;\n",
       "    }\n",
       "</style>\n",
       "<table border=\"1\" class=\"dataframe\">\n",
       "  <thead>\n",
       "    <tr style=\"text-align: right;\">\n",
       "      <th></th>\n",
       "      <th>UserCount</th>\n",
       "      <th>SessionCount</th>\n",
       "      <th>Duration</th>\n",
       "      <th>InputOctet</th>\n",
       "      <th>OutputOctet</th>\n",
       "      <th>InputPacket</th>\n",
       "      <th>OutputPacket</th>\n",
       "    </tr>\n",
       "  </thead>\n",
       "  <tbody>\n",
       "    <tr>\n",
       "      <th>601</th>\n",
       "      <td>9</td>\n",
       "      <td>9</td>\n",
       "      <td>47</td>\n",
       "      <td>5167.0</td>\n",
       "      <td>2177.133333</td>\n",
       "      <td>20</td>\n",
       "      <td>12</td>\n",
       "    </tr>\n",
       "    <tr>\n",
       "      <th>3</th>\n",
       "      <td>5</td>\n",
       "      <td>5</td>\n",
       "      <td>28</td>\n",
       "      <td>1435.0</td>\n",
       "      <td>1313.296296</td>\n",
       "      <td>7</td>\n",
       "      <td>7</td>\n",
       "    </tr>\n",
       "    <tr>\n",
       "      <th>240</th>\n",
       "      <td>12</td>\n",
       "      <td>19</td>\n",
       "      <td>60</td>\n",
       "      <td>0.0</td>\n",
       "      <td>0.000000</td>\n",
       "      <td>0</td>\n",
       "      <td>0</td>\n",
       "    </tr>\n",
       "    <tr>\n",
       "      <th>0</th>\n",
       "      <td>10</td>\n",
       "      <td>12</td>\n",
       "      <td>43</td>\n",
       "      <td>9357.0</td>\n",
       "      <td>6310.000000</td>\n",
       "      <td>46</td>\n",
       "      <td>30</td>\n",
       "    </tr>\n",
       "    <tr>\n",
       "      <th>123</th>\n",
       "      <td>26</td>\n",
       "      <td>27</td>\n",
       "      <td>298</td>\n",
       "      <td>61246.0</td>\n",
       "      <td>88346.939782</td>\n",
       "      <td>291</td>\n",
       "      <td>347</td>\n",
       "    </tr>\n",
       "  </tbody>\n",
       "</table>\n",
       "</div>"
      ],
      "text/plain": [
       "     UserCount  SessionCount  Duration  InputOctet   OutputOctet  InputPacket  \\\n",
       "601          9             9        47      5167.0   2177.133333           20   \n",
       "3            5             5        28      1435.0   1313.296296            7   \n",
       "240         12            19        60         0.0      0.000000            0   \n",
       "0           10            12        43      9357.0   6310.000000           46   \n",
       "123         26            27       298     61246.0  88346.939782          291   \n",
       "\n",
       "     OutputPacket  \n",
       "601            12  \n",
       "3               7  \n",
       "240             0  \n",
       "0              30  \n",
       "123           347  "
      ]
     },
     "execution_count": 28,
     "metadata": {},
     "output_type": "execute_result"
    }
   ],
   "source": [
    "train_df.head()"
   ]
  },
  {
   "cell_type": "markdown",
   "id": "c0eba7a8",
   "metadata": {},
   "source": [
    "These are the column names to be used in list.txt"
   ]
  },
  {
   "cell_type": "code",
   "execution_count": null,
   "id": "62aa4751",
   "metadata": {},
   "outputs": [],
   "source": [
    "train_df.columns"
   ]
  },
  {
   "cell_type": "code",
   "execution_count": null,
   "id": "944e7ce9",
   "metadata": {},
   "outputs": [],
   "source": [
    "train_df.to_csv(\"train_preprocessed.csv\")\n",
    "test_df.to_csv(\"test_preprocessed.csv\")"
   ]
  },
  {
   "cell_type": "markdown",
   "id": "4aad56db",
   "metadata": {},
   "source": [
    "Train and test data must be normalized for better results"
   ]
  },
  {
   "cell_type": "code",
   "execution_count": null,
   "id": "1a3364e2",
   "metadata": {},
   "outputs": [],
   "source": [
    "# max min(0-1)\n",
    "def norm(train, test):\n",
    "\n",
    "    normalizer = MinMaxScaler(feature_range=(0, 1)).fit(train) # scale training data to [0,1] range\n",
    "    train_ret = normalizer.transform(train)\n",
    "    test_ret = normalizer.transform(test)\n",
    "\n",
    "    return train_ret, test_ret"
   ]
  },
  {
   "cell_type": "code",
   "execution_count": null,
   "id": "2aa2a1ff",
   "metadata": {},
   "outputs": [],
   "source": [
    "test = pd.read_csv('data/wifi/test.csv', index_col=0)\n",
    "train = pd.read_csv('data/wifi/train.csv', index_col=0)\n",
    "\n",
    "\n",
    "test = test.iloc[:, 1:]\n",
    "train = train.iloc[:, 1:]\n",
    "\n",
    "train = train.fillna(train.mean())\n",
    "test = test.fillna(test.mean())\n",
    "train = train.fillna(0)\n",
    "test = test.fillna(0)\n",
    "\n",
    "train_columns = train.columns\n",
    "test_columns = test.columns\n",
    "\n",
    "# trim column names\n",
    "train = train.rename(columns=lambda x: x.strip())\n",
    "test = test.rename(columns=lambda x: x.strip())\n",
    "\n",
    "print(len(test.columns),test.columns)\n",
    "print(len(train.columns),train.columns)\n",
    "\n",
    "\n",
    "# train_labels = train.attack\n",
    "test_labels = test.attack\n",
    "\n",
    "# train = train.drop(columns=['attack'])\n",
    "test = test.drop(columns=['attack'])\n",
    "\n",
    "\n",
    "# x_train, x_test = norm(train.values, test.values)"
   ]
  },
  {
   "cell_type": "code",
   "execution_count": null,
   "id": "423f91ab",
   "metadata": {},
   "outputs": [],
   "source": [
    "train_df = pd.DataFrame(x_train, columns = train_columns)\n",
    "test_df = pd.DataFrame(x_test, columns = test_columns[:-1])\n",
    "train_df.head()"
   ]
  },
  {
   "cell_type": "code",
   "execution_count": null,
   "id": "45d1672e",
   "metadata": {},
   "outputs": [],
   "source": [
    "test_df['attack'] = test_labels"
   ]
  },
  {
   "cell_type": "code",
   "execution_count": null,
   "id": "a136a329",
   "metadata": {},
   "outputs": [],
   "source": [
    "train_df.to_csv('data/wifi/train.csv')\n",
    "test_df.to_csv('data/wifi/test.csv')"
   ]
  }
 ],
 "metadata": {
  "kernelspec": {
   "display_name": "conda_pytorch_latest_p36",
   "language": "python",
   "name": "conda_pytorch_latest_p36"
  },
  "language_info": {
   "codemirror_mode": {
    "name": "ipython",
    "version": 3
   },
   "file_extension": ".py",
   "mimetype": "text/x-python",
   "name": "python",
   "nbconvert_exporter": "python",
   "pygments_lexer": "ipython3",
   "version": "3.6.13"
  }
 },
 "nbformat": 4,
 "nbformat_minor": 5
}
