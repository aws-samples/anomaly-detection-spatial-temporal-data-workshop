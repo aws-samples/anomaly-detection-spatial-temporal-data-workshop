{
 "cells": [
  {
   "cell_type": "markdown",
   "id": "f51d4240",
   "metadata": {},
   "source": [
    "Recommended env configuration following the instruction in **[TADDY](https://github.com/yuetan031/TADDY_pytorch)**\n",
    "\n",
    "### Requirments\n",
    "* Python==3.8\n",
    "* PyTorch==1.7.1\n",
    "* Transformers==3.5.1\n",
    "* Scipy==1.5.2\n",
    "* Numpy==1.19.2\n",
    "* Networkx==2.5\n",
    "* Scikit-learn==0.23.2\n",
    "\n"
   ]
  },
  {
   "cell_type": "code",
   "execution_count": 22,
   "id": "fa29eec5",
   "metadata": {},
   "outputs": [],
   "source": [
    "import sys \n",
    "sys.path.append('../../src/anomaly_detection_spatial_temporal_data/')"
   ]
  },
  {
   "cell_type": "code",
   "execution_count": 23,
   "id": "9636c214",
   "metadata": {},
   "outputs": [
    {
     "name": "stdout",
     "output_type": "stream",
     "text": [
      "The autoreload extension is already loaded. To reload it, use:\n",
      "  %reload_ext autoreload\n"
     ]
    }
   ],
   "source": [
    "%load_ext autoreload\n",
    "%autoreload 2"
   ]
  },
  {
   "cell_type": "code",
   "execution_count": 32,
   "id": "b4168fca",
   "metadata": {},
   "outputs": [],
   "source": [
    "from project_setting import TADDY"
   ]
  },
  {
   "cell_type": "code",
   "execution_count": 33,
   "id": "0aea887d",
   "metadata": {},
   "outputs": [
    {
     "name": "stdout",
     "output_type": "stream",
     "text": [
      "================================\n",
      "module checker\n",
      "================================\n",
      "--------------------------------\n",
      "torch version: 1.7.1\n",
      "cuda version: 10.1\n",
      "Transformer version: 3.5.1\n",
      "--------------------------------\n",
      "Scipy version: 1.5.3\n",
      "--------------------------------\n",
      "Numpy version: 1.19.2\n",
      "--------------------------------\n",
      "Networkx version: 2.5\n",
      "--------------------------------\n",
      "Scikit-learn version: 0.24.1\n",
      "--------------------------------\n"
     ]
    }
   ],
   "source": [
    "taddy_env = TADDY()"
   ]
  },
  {
   "cell_type": "code",
   "execution_count": null,
   "id": "b33b12da",
   "metadata": {},
   "outputs": [],
   "source": []
  }
 ],
 "metadata": {
  "kernelspec": {
   "display_name": "conda_pytorch_latest_p36",
   "language": "python",
   "name": "conda_pytorch_latest_p36"
  },
  "language_info": {
   "codemirror_mode": {
    "name": "ipython",
    "version": 3
   },
   "file_extension": ".py",
   "mimetype": "text/x-python",
   "name": "python",
   "nbconvert_exporter": "python",
   "pygments_lexer": "ipython3",
   "version": "3.6.13"
  }
 },
 "nbformat": 4,
 "nbformat_minor": 5
}
