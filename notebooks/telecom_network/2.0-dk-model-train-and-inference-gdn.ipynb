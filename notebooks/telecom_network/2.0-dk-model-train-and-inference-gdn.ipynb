{
 "cells": [
  {
   "cell_type": "markdown",
   "id": "569d576a",
   "metadata": {},
   "source": [
    "Copyright Amazon.com, Inc. or its affiliates. All Rights Reserved.\n",
    "\n",
    "SPDX-License-Identifier: Apache-2.0"
   ]
  },
  {
   "cell_type": "markdown",
   "id": "f81d1bc7",
   "metadata": {},
   "source": [
    "# Train and Predict Wifi Data Using GDN\n",
    "\n",
    "This notebook contains the steps to\n",
    "   1. Find/Load the preprocess data for training using GDN  \n",
    "   2. Train the model  \n",
    "   3. Model inference-- Visualize the trained graph and results  "
   ]
  },
  {
   "cell_type": "markdown",
   "id": "fb324112",
   "metadata": {},
   "source": [
    "# Loading the Preprocessed Data For Training\n"
   ]
  },
  {
   "cell_type": "code",
   "execution_count": 1,
   "id": "de5e81e0",
   "metadata": {},
   "outputs": [],
   "source": [
    "import sys \n",
    "sys.path.append('../../src/anomaly_detection_spatial_temporal_data/')"
   ]
  },
  {
   "cell_type": "code",
   "execution_count": 2,
   "id": "db04c8c4",
   "metadata": {},
   "outputs": [
    {
     "name": "stderr",
     "output_type": "stream",
     "text": [
      "/home/ec2-user/SageMaker/repos/anomaly-detection-spatial-temporal-data/src/kedro-gdn-venv/lib/python3.7/site-packages/tqdm/auto.py:22: TqdmWarning: IProgress not found. Please update jupyter and ipywidgets. See https://ipywidgets.readthedocs.io/en/stable/user_install.html\n",
      "  from .autonotebook import tqdm as notebook_tqdm\n"
     ]
    }
   ],
   "source": [
    "import pandas as pd\n",
    "import numpy as np\n",
    "import yaml\n",
    "from model.GDN.GDNTrainer import GDNTrainer"
   ]
  },
  {
   "cell_type": "code",
   "execution_count": 3,
   "id": "2cf9f4ff",
   "metadata": {},
   "outputs": [],
   "source": [
    "data_dir = \"../../data/03_primary/wifi/gdn\""
   ]
  },
  {
   "cell_type": "code",
   "execution_count": 4,
   "id": "84159274",
   "metadata": {},
   "outputs": [],
   "source": [
    "with open(f\"{data_dir}/wifi_sensor_list.txt\", \"r\") as f:\n",
    "    sensors = f.read().split(\"\\n\")"
   ]
  },
  {
   "cell_type": "code",
   "execution_count": 5,
   "id": "08aac5c5",
   "metadata": {},
   "outputs": [
    {
     "name": "stdout",
     "output_type": "stream",
     "text": [
      "Number of sensors: 29\n"
     ]
    }
   ],
   "source": [
    "print(f\"Number of sensors: {len(sensors)}\")"
   ]
  },
  {
   "cell_type": "code",
   "execution_count": 6,
   "id": "1647696c",
   "metadata": {},
   "outputs": [
    {
     "name": "stdout",
     "output_type": "stream",
     "text": [
      "['host_26', 'host_19', 'host_9', 'host_13', 'host_17', 'host_1', 'host_5', 'host_0', 'host_4', 'host_18', 'host_12', 'host_6', 'host_8', 'host_7', 'host_14', 'host_2', 'host_3', 'host_10', 'host_24', 'host_25', 'host_16', 'host_11', 'host_20', 'host_27', 'host_22', 'host_28', 'host_29', 'host_21', 'host_23']\n"
     ]
    }
   ],
   "source": [
    "print(sensors)"
   ]
  },
  {
   "cell_type": "code",
   "execution_count": 7,
   "id": "99ab4ad8",
   "metadata": {},
   "outputs": [
    {
     "name": "stdout",
     "output_type": "stream",
     "text": [
      "(1200, 29)\n",
      "(1200, 30)\n"
     ]
    }
   ],
   "source": [
    "train_df = pd.read_csv(f\"{data_dir}/wifi_gdn_train.csv\")\n",
    "test_df = pd.read_csv(f\"{data_dir}/wifi_gdn_test.csv\")\n",
    "\n",
    "print(train_df.shape)\n",
    "print(test_df.shape)"
   ]
  },
  {
   "cell_type": "code",
   "execution_count": 8,
   "id": "62b62d6b",
   "metadata": {},
   "outputs": [],
   "source": [
    "model_config_file = \"../../conf/base/parameters/gdn.yml\""
   ]
  },
  {
   "cell_type": "code",
   "execution_count": 9,
   "id": "5a62b4a5",
   "metadata": {},
   "outputs": [
    {
     "name": "stdout",
     "output_type": "stream",
     "text": [
      "{'env_config_iot': {'checkpoint_save_dir': 'data/07_model_output/iot/gdn', 'report': 'best', 'device': 'cpu', 'load_model_path': ''}, 'env_config_wifi': {'checkpoint_save_dir': 'data/07_model_output/wifi/gdn', 'report': 'best', 'device': 'cpu', 'load_model_path': ''}, 'train_config': {'seed': 5, 'batch': 32, 'slide_win': 5, 'dim': 64, 'out_layer_num': 1, 'slide_stride': 1, 'topk': 5, 'out_layer_inter_dim': 128, 'val_ratio': 0.2, 'decay': 0, 'epoch': 3, 'comment': ''}}\n"
     ]
    }
   ],
   "source": [
    "with open(model_config_file, \"r\") as stream:\n",
    "    try:\n",
    "        model_config = yaml.safe_load(stream)\n",
    "        print(model_config)\n",
    "    except yaml.YAMLError as exc:\n",
    "        print(exc)"
   ]
  },
  {
   "cell_type": "code",
   "execution_count": 11,
   "id": "6c1c3b10",
   "metadata": {},
   "outputs": [],
   "source": [
    "train_config = model_config[\"train_config\"]\n",
    "env_config = model_config[\"env_config_wifi\"]\n",
    "\n",
    "env_config[\"checkpoint_save_dir\"] = \"../../data/07_model_output/gdn-wifi-notebook\""
   ]
  },
  {
   "cell_type": "markdown",
   "id": "069a24b4",
   "metadata": {},
   "source": [
    "## Train Model"
   ]
  },
  {
   "cell_type": "code",
   "execution_count": 12,
   "id": "7252280d",
   "metadata": {},
   "outputs": [
    {
     "name": "stdout",
     "output_type": "stream",
     "text": [
      "test_data 1195\n"
     ]
    }
   ],
   "source": [
    "trainer = GDNTrainer(\n",
    "    sensors, train_df, test_df, \n",
    "    train_config, env_config\n",
    ")"
   ]
  },
  {
   "cell_type": "code",
   "execution_count": 13,
   "id": "eeac5a45",
   "metadata": {},
   "outputs": [
    {
     "name": "stdout",
     "output_type": "stream",
     "text": [
      "epoch (0 / 3) (Loss:0.13379657, ACU_loss:4.01389714)\n",
      "epoch (1 / 3) (Loss:0.07198304, ACU_loss:2.15949125)\n",
      "epoch (2 / 3) (Loss:0.06064764, ACU_loss:1.81942927)\n"
     ]
    }
   ],
   "source": [
    "trainer.run()"
   ]
  },
  {
   "cell_type": "markdown",
   "id": "4936f0fe",
   "metadata": {},
   "source": [
    "## Model Inference"
   ]
  },
  {
   "cell_type": "code",
   "execution_count": 14,
   "id": "46a771d7",
   "metadata": {},
   "outputs": [],
   "source": [
    "pred, labels = trainer.predict()\n"
   ]
  },
  {
   "cell_type": "code",
   "execution_count": 15,
   "id": "48f66b5d",
   "metadata": {},
   "outputs": [
    {
     "data": {
      "text/plain": [
       "array([0., 0., 0., ..., 1., 1., 1.])"
      ]
     },
     "execution_count": 15,
     "metadata": {},
     "output_type": "execute_result"
    }
   ],
   "source": [
    "pred"
   ]
  },
  {
   "cell_type": "code",
   "execution_count": 17,
   "id": "903120c9",
   "metadata": {},
   "outputs": [
    {
     "data": {
      "text/plain": [
       "(1195,)"
      ]
     },
     "execution_count": 17,
     "metadata": {},
     "output_type": "execute_result"
    }
   ],
   "source": [
    "pred.shape\n"
   ]
  },
  {
   "cell_type": "code",
   "execution_count": 18,
   "id": "bebc210b",
   "metadata": {},
   "outputs": [
    {
     "data": {
      "text/plain": [
       "(1195,)"
      ]
     },
     "execution_count": 18,
     "metadata": {},
     "output_type": "execute_result"
    }
   ],
   "source": [
    "np.array(labels).shape\n"
   ]
  },
  {
   "cell_type": "markdown",
   "id": "cf09505b",
   "metadata": {},
   "source": [
    "# References\n",
    "\n",
    "Anisa Allahdadi and Ricardo Morla. 2017. 802.11 Wireless Access Point Usage Simulation and Anomaly Detection. CoRR abs/1707.02933, (2017). Retrieved from http://arxiv.org/abs/1707.02933 \n",
    "\n",
    "Ailin Deng and Bryan Hooi. 2021. Graph Neural Network-Based Anomaly Detection in Multivariate Time Series. CoRR abs/2106.06947, (2021). Retrieved from https://arxiv.org/abs/2106.06947 "
   ]
  },
  {
   "cell_type": "code",
   "execution_count": null,
   "id": "5c881fb9",
   "metadata": {},
   "outputs": [],
   "source": []
  }
 ],
 "metadata": {
  "kernelspec": {
   "display_name": "kedro-gdn-venv",
   "language": "python",
   "name": "kedro-gdn-venv"
  },
  "language_info": {
   "codemirror_mode": {
    "name": "ipython",
    "version": 3
   },
   "file_extension": ".py",
   "mimetype": "text/x-python",
   "name": "python",
   "nbconvert_exporter": "python",
   "pygments_lexer": "ipython3",
   "version": "3.7.12"
  }
 },
 "nbformat": 4,
 "nbformat_minor": 5
}
