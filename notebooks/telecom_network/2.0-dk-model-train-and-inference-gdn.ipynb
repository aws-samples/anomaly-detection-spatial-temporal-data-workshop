{
 "cells": [
  {
   "cell_type": "markdown",
   "id": "cb50c5c3",
   "metadata": {},
   "source": [
    "# This notebook consists of steps to¶\n",
    "\n",
    "Find/Load the preprocess data for training using GDN  \n",
    "Train the model  \n",
    "Model inference-- Visualize the trained graph and results  "
   ]
  },
  {
   "cell_type": "markdown",
   "id": "5fd6804b",
   "metadata": {},
   "source": [
    "# Loading the Preprocessed Data For Training\n",
    "\n",
    "GDN requires the data to be in t"
   ]
  },
  {
   "cell_type": "code",
   "execution_count": 20,
   "id": "9f81309e",
   "metadata": {},
   "outputs": [],
   "source": [
    "import sys \n",
    "sys.path.append('../anomaly-detection-spatial-temporal-data/')"
   ]
  },
  {
   "cell_type": "code",
   "execution_count": 22,
   "id": "bb0728ac",
   "metadata": {},
   "outputs": [],
   "source": [
    "import pandas as pd\n",
    "import numpy as np\n",
    "import yaml\n",
    "from src.anomaly_detection_spatial_temporal_data.model.GDN.GDNTrainer import GDNTrainer"
   ]
  },
  {
   "cell_type": "code",
   "execution_count": 23,
   "id": "67f1eec6",
   "metadata": {},
   "outputs": [],
   "source": [
    "data_dir = \"../../data/03_primary\""
   ]
  },
  {
   "cell_type": "code",
   "execution_count": 25,
   "id": "5ca01323",
   "metadata": {},
   "outputs": [],
   "source": [
    "with open(\"../anomaly-detection-spatial-temporal-data/data/03_primary/list.txt\", \"r\") as f:\n",
    "    sensors = f.read().split(\"\\n\")"
   ]
  },
  {
   "cell_type": "code",
   "execution_count": 26,
   "id": "7290f6a7",
   "metadata": {},
   "outputs": [
    {
     "name": "stdout",
     "output_type": "stream",
     "text": [
      "Number of sensors: 29\n"
     ]
    }
   ],
   "source": [
    "print(f\"Number of sensors: {len(sensors)}\")"
   ]
  },
  {
   "cell_type": "code",
   "execution_count": 27,
   "id": "8c516e14",
   "metadata": {},
   "outputs": [
    {
     "name": "stdout",
     "output_type": "stream",
     "text": [
      "['host_20', 'host_28', 'host_27', 'host_18', 'host_5', 'host_17', 'host_22', 'host_14', 'host_26', 'host_3', 'host_24', 'host_0', 'host_21', 'host_15', 'host_29', 'host_9', 'host_25', 'host_16', 'host_7', 'host_13', 'host_6', 'host_11', 'host_4', 'host_23', 'host_2', 'host_1', 'host_19', 'host_10', 'host_12']\n"
     ]
    }
   ],
   "source": [
    "print(sensors)\n"
   ]
  },
  {
   "cell_type": "code",
   "execution_count": null,
   "id": "f2c2619e",
   "metadata": {},
   "outputs": [],
   "source": []
  },
  {
   "cell_type": "code",
   "execution_count": 28,
   "id": "b6118aec",
   "metadata": {},
   "outputs": [
    {
     "name": "stdout",
     "output_type": "stream",
     "text": [
      "(1200, 29)\n",
      "(1200, 30)\n"
     ]
    }
   ],
   "source": [
    "train_df = pd.read_csv(\"../anomaly-detection-spatial-temporal-data/data/03_primary/train.csv\")\n",
    "test_df = pd.read_csv(\"../anomaly-detection-spatial-temporal-data/data/03_primary/test.csv\")\n",
    "\n",
    "print(train_df.shape)\n",
    "print(test_df.shape)"
   ]
  },
  {
   "cell_type": "code",
   "execution_count": null,
   "id": "73c07d25",
   "metadata": {},
   "outputs": [],
   "source": []
  },
  {
   "cell_type": "code",
   "execution_count": 29,
   "id": "d949a26a",
   "metadata": {},
   "outputs": [],
   "source": [
    "model_config_file = \"../anomaly-detection-spatial-temporal-data/conf/base/parameters/gdn.yml\""
   ]
  },
  {
   "cell_type": "code",
   "execution_count": 30,
   "id": "306222e9",
   "metadata": {},
   "outputs": [
    {
     "name": "stdout",
     "output_type": "stream",
     "text": [
      "{'env_config': {'checkpoint_save_dir': 'data/07_model_output/', 'report': 'best', 'device': 'cpu', 'load_model_path': ''}, 'train_config': {'seed': 5, 'batch': 32, 'slide_win': 5, 'dim': 64, 'out_layer_num': 1, 'slide_stride': 1, 'topk': 5, 'out_layer_inter_dim': 128, 'val_ratio': 0.2, 'decay': 0, 'epoch': 2, 'comment': ''}}\n"
     ]
    }
   ],
   "source": [
    "with open(model_config_file, \"r\") as stream:\n",
    "    try:\n",
    "        model_config = yaml.safe_load(stream)\n",
    "        print(model_config)\n",
    "    except yaml.YAMLError as exc:\n",
    "        print(exc)"
   ]
  },
  {
   "cell_type": "code",
   "execution_count": 31,
   "id": "1c794e6c",
   "metadata": {},
   "outputs": [],
   "source": [
    "train_config = model_config[\"train_config\"]\n",
    "env_config = model_config[\"env_config\"]\n",
    "\n",
    "env_config[\"checkpoint_save_dir\"] = \"../anomaly-detection-spatial-temporal-data/data/07_model_output\""
   ]
  },
  {
   "cell_type": "markdown",
   "id": "bea11b50",
   "metadata": {},
   "source": [
    "## Train Model"
   ]
  },
  {
   "cell_type": "code",
   "execution_count": 32,
   "id": "aadfccf6",
   "metadata": {},
   "outputs": [],
   "source": [
    "trainer = GDNTrainer(\n",
    "    sensors, train_df, test_df, \n",
    "    train_config, env_config\n",
    ")"
   ]
  },
  {
   "cell_type": "code",
   "execution_count": 33,
   "id": "61a7629e",
   "metadata": {},
   "outputs": [
    {
     "name": "stdout",
     "output_type": "stream",
     "text": [
      "epoch (0 / 2) (Loss:0.14876748, ACU_loss:4.46302436)\n",
      "epoch (1 / 2) (Loss:0.07763575, ACU_loss:2.32907242)\n"
     ]
    }
   ],
   "source": [
    "trainer.run()"
   ]
  },
  {
   "cell_type": "markdown",
   "id": "b13a9831",
   "metadata": {},
   "source": [
    "## Model Inference"
   ]
  },
  {
   "cell_type": "code",
   "execution_count": 34,
   "id": "e4134715",
   "metadata": {},
   "outputs": [],
   "source": [
    "pred, labels = trainer.predict()\n"
   ]
  },
  {
   "cell_type": "code",
   "execution_count": 35,
   "id": "7bc69372",
   "metadata": {},
   "outputs": [
    {
     "data": {
      "text/plain": [
       "array([0., 0., 0., ..., 1., 1., 1.])"
      ]
     },
     "execution_count": 35,
     "metadata": {},
     "output_type": "execute_result"
    }
   ],
   "source": [
    "pred"
   ]
  },
  {
   "cell_type": "code",
   "execution_count": 36,
   "id": "49d94d6e",
   "metadata": {},
   "outputs": [
    {
     "data": {
      "text/plain": [
       "['host_20',\n",
       " 'host_28',\n",
       " 'host_27',\n",
       " 'host_18',\n",
       " 'host_5',\n",
       " 'host_17',\n",
       " 'host_22',\n",
       " 'host_14',\n",
       " 'host_26',\n",
       " 'host_3',\n",
       " 'host_24',\n",
       " 'host_0',\n",
       " 'host_21',\n",
       " 'host_15',\n",
       " 'host_29',\n",
       " 'host_9',\n",
       " 'host_25',\n",
       " 'host_16',\n",
       " 'host_7',\n",
       " 'host_13',\n",
       " 'host_6',\n",
       " 'host_11',\n",
       " 'host_4',\n",
       " 'host_23',\n",
       " 'host_2',\n",
       " 'host_1',\n",
       " 'host_19',\n",
       " 'host_10',\n",
       " 'host_12']"
      ]
     },
     "execution_count": 36,
     "metadata": {},
     "output_type": "execute_result"
    }
   ],
   "source": [
    "sensors"
   ]
  },
  {
   "cell_type": "code",
   "execution_count": 37,
   "id": "713d3c99",
   "metadata": {},
   "outputs": [
    {
     "data": {
      "text/plain": [
       "(1195,)"
      ]
     },
     "execution_count": 37,
     "metadata": {},
     "output_type": "execute_result"
    }
   ],
   "source": [
    "pred.shape\n"
   ]
  },
  {
   "cell_type": "code",
   "execution_count": 38,
   "id": "1b872ddc",
   "metadata": {},
   "outputs": [
    {
     "data": {
      "text/plain": [
       "(1195,)"
      ]
     },
     "execution_count": 38,
     "metadata": {},
     "output_type": "execute_result"
    }
   ],
   "source": [
    "np.array(labels).shape\n"
   ]
  },
  {
   "cell_type": "code",
   "execution_count": null,
   "id": "80c43d2c",
   "metadata": {},
   "outputs": [],
   "source": []
  }
 ],
 "metadata": {
  "kernelspec": {
   "display_name": "kedro-gdn-venv",
   "language": "python",
   "name": "kedro-gdn-venv"
  },
  "language_info": {
   "codemirror_mode": {
    "name": "ipython",
    "version": 3
   },
   "file_extension": ".py",
   "mimetype": "text/x-python",
   "name": "python",
   "nbconvert_exporter": "python",
   "pygments_lexer": "ipython3",
   "version": "3.7.10"
  }
 },
 "nbformat": 4,
 "nbformat_minor": 5
}
