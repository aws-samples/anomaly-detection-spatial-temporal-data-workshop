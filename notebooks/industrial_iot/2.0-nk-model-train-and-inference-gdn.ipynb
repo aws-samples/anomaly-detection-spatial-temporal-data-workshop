{
 "cells": [
  {
   "cell_type": "code",
   "execution_count": 1,
   "id": "c02e7d58",
   "metadata": {},
   "outputs": [],
   "source": [
    "import sys \n",
    "sys.path.append('../../src/anomaly_detection_spatial_temporal_data/')"
   ]
  },
  {
   "cell_type": "code",
   "execution_count": 18,
   "id": "0bb305da",
   "metadata": {},
   "outputs": [],
   "source": [
    "import pandas as pd\n",
    "import numpy as np\n",
    "import yaml\n",
    "from model.GDN.GDNTrainer import GDNTrainer"
   ]
  },
  {
   "cell_type": "markdown",
   "id": "b2682997",
   "metadata": {},
   "source": [
    "# Load data"
   ]
  },
  {
   "cell_type": "markdown",
   "id": "4c569669",
   "metadata": {},
   "source": [
    "### Load sensor columns"
   ]
  },
  {
   "cell_type": "code",
   "execution_count": 3,
   "id": "e8b00745",
   "metadata": {},
   "outputs": [],
   "source": [
    "data_dir = \"../../data/03_primary\""
   ]
  },
  {
   "cell_type": "code",
   "execution_count": 4,
   "id": "d0d38caa",
   "metadata": {},
   "outputs": [],
   "source": [
    "with open(f\"{data_dir}/iot_sensor_list_batadal.txt\", \"r\") as f:\n",
    "    sensors = f.read().split(\"\\n\")"
   ]
  },
  {
   "cell_type": "code",
   "execution_count": 5,
   "id": "3d2b31b1",
   "metadata": {},
   "outputs": [
    {
     "name": "stdout",
     "output_type": "stream",
     "text": [
      "Number of sensors: 43\n"
     ]
    }
   ],
   "source": [
    "print(f\"Number of sensors: {len(sensors)}\")"
   ]
  },
  {
   "cell_type": "code",
   "execution_count": 6,
   "id": "ddca2f52",
   "metadata": {},
   "outputs": [
    {
     "name": "stdout",
     "output_type": "stream",
     "text": [
      "['L_T1', 'L_T2', 'L_T3', 'L_T4', 'L_T5', 'L_T6', 'L_T7', 'F_PU1', 'S_PU1', 'F_PU2', 'S_PU2', 'F_PU3', 'S_PU3', 'F_PU4', 'S_PU4', 'F_PU5', 'S_PU5', 'F_PU6', 'S_PU6', 'F_PU7', 'S_PU7', 'F_PU8', 'S_PU8', 'F_PU9', 'S_PU9', 'F_PU10', 'S_PU10', 'F_PU11', 'S_PU11', 'F_V2', 'S_V2', 'P_J280', 'P_J269', 'P_J300', 'P_J256', 'P_J289', 'P_J415', 'P_J302', 'P_J306', 'P_J307', 'P_J317', 'P_J14', 'P_J422']\n"
     ]
    }
   ],
   "source": [
    "print(sensors)"
   ]
  },
  {
   "cell_type": "markdown",
   "id": "b5393da2",
   "metadata": {},
   "source": [
    "### Load train and test CSVs"
   ]
  },
  {
   "cell_type": "code",
   "execution_count": 7,
   "id": "d0e4e02d",
   "metadata": {},
   "outputs": [
    {
     "name": "stdout",
     "output_type": "stream",
     "text": [
      "(8761, 44)\n",
      "(2089, 45)\n"
     ]
    }
   ],
   "source": [
    "train_df = pd.read_csv(f\"{data_dir}/iot_gdn_train.csv\")\n",
    "test_df = pd.read_csv(f\"{data_dir}/iot_gdn_test.csv\")\n",
    "\n",
    "print(train_df.shape)\n",
    "print(test_df.shape)\n"
   ]
  },
  {
   "cell_type": "markdown",
   "id": "af146f45",
   "metadata": {},
   "source": [
    "### Load training and environment configurations"
   ]
  },
  {
   "cell_type": "code",
   "execution_count": 8,
   "id": "a2dacc82",
   "metadata": {},
   "outputs": [],
   "source": [
    "model_config_file = \"../../conf/base/parameters/gdn.yml\""
   ]
  },
  {
   "cell_type": "code",
   "execution_count": 9,
   "id": "bcaef18a",
   "metadata": {},
   "outputs": [
    {
     "name": "stdout",
     "output_type": "stream",
     "text": [
      "{'env_config': {'checkpoint_save_dir': 'data/07_model_output/', 'report': 'best', 'device': 'cpu', 'load_model_path': ''}, 'train_config': {'seed': 5, 'batch': 32, 'slide_win': 5, 'dim': 64, 'out_layer_num': 1, 'slide_stride': 1, 'topk': 5, 'out_layer_inter_dim': 128, 'val_ratio': 0.2, 'decay': 0, 'epoch': 3, 'comment': ''}}\n"
     ]
    }
   ],
   "source": [
    "with open(model_config_file, \"r\") as stream:\n",
    "    try:\n",
    "        model_config = yaml.safe_load(stream)\n",
    "        print(model_config)\n",
    "    except yaml.YAMLError as exc:\n",
    "        print(exc)"
   ]
  },
  {
   "cell_type": "code",
   "execution_count": 10,
   "id": "8e666d9b",
   "metadata": {},
   "outputs": [],
   "source": [
    "train_config = model_config[\"train_config\"]\n",
    "env_config = model_config[\"env_config\"]\n",
    "\n",
    "env_config[\"checkpoint_save_dir\"] = \"../../data/07_model_output/gdn-iot-notebook\""
   ]
  },
  {
   "cell_type": "markdown",
   "id": "0d5ec3f6",
   "metadata": {},
   "source": [
    "# Train model"
   ]
  },
  {
   "cell_type": "code",
   "execution_count": 11,
   "id": "b7e6d4d0",
   "metadata": {},
   "outputs": [],
   "source": [
    "trainer = GDNTrainer(\n",
    "    sensors, train_df, test_df, \n",
    "    train_config, env_config\n",
    ")"
   ]
  },
  {
   "cell_type": "code",
   "execution_count": 12,
   "id": "d3cf7b1c",
   "metadata": {},
   "outputs": [
    {
     "name": "stdout",
     "output_type": "stream",
     "text": [
      "epoch (0 / 3) (Loss:0.10291515, ACU_loss:22.53841695)\n",
      "epoch (1 / 3) (Loss:0.05298028, ACU_loss:11.60268057)\n",
      "epoch (2 / 3) (Loss:0.04689803, ACU_loss:10.27066912)\n"
     ]
    }
   ],
   "source": [
    "trainer.run()"
   ]
  },
  {
   "cell_type": "markdown",
   "id": "fea7a137",
   "metadata": {},
   "source": [
    "# Run inference"
   ]
  },
  {
   "cell_type": "code",
   "execution_count": 13,
   "id": "6ce728a3",
   "metadata": {},
   "outputs": [],
   "source": [
    "pred, labels = trainer.predict()"
   ]
  },
  {
   "cell_type": "code",
   "execution_count": 15,
   "id": "5cc28267",
   "metadata": {},
   "outputs": [
    {
     "data": {
      "text/plain": [
       "(2084,)"
      ]
     },
     "execution_count": 15,
     "metadata": {},
     "output_type": "execute_result"
    }
   ],
   "source": [
    "pred.shape"
   ]
  },
  {
   "cell_type": "code",
   "execution_count": 19,
   "id": "ebb1e6c9",
   "metadata": {},
   "outputs": [
    {
     "data": {
      "text/plain": [
       "(2084,)"
      ]
     },
     "execution_count": 19,
     "metadata": {},
     "output_type": "execute_result"
    }
   ],
   "source": [
    "np.array(labels).shape"
   ]
  },
  {
   "cell_type": "code",
   "execution_count": null,
   "id": "e6e68622",
   "metadata": {},
   "outputs": [],
   "source": []
  }
 ],
 "metadata": {
  "kernelspec": {
   "display_name": "kedro-gdn-venv",
   "language": "python",
   "name": "kedro-gdn-venv"
  },
  "language_info": {
   "codemirror_mode": {
    "name": "ipython",
    "version": 3
   },
   "file_extension": ".py",
   "mimetype": "text/x-python",
   "name": "python",
   "nbconvert_exporter": "python",
   "pygments_lexer": "ipython3",
   "version": "3.7.12"
  }
 },
 "nbformat": 4,
 "nbformat_minor": 5
}
