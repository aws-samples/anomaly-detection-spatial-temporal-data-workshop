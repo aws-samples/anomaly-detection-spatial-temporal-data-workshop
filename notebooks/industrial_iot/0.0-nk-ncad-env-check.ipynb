{
 "cells": [
  {
   "cell_type": "markdown",
   "id": "3055b2a2",
   "metadata": {},
   "source": [
    "# NCAD environment verification\n",
    "\n",
    "The Neural Contextual Anomaly Detection (NCAD) for Time Series module is sourced from the [gluon-ts](https://github.com/Francois-Aubet/gluon-ts/tree/adding_ncad_to_nursery/src/gluonts/nursery/ncad) github repository.\n",
    "\n",
    "The NCAD authors have configured a `setup.py` allowing NCAD to be installed with `pip install -e ncad`. Additionally, we need to install `torchmetrics==0.6.0` and `pytorch-lightning==1.3.8`.\n",
    "\n",
    "The `anomaly-detection-spatial-temporal-data/prepare_ncad_environment.sh` script prepares the `kedro-ncad-venv` virtual environment and registers it with the Jupyter registry as a custom kernel."
   ]
  },
  {
   "cell_type": "markdown",
   "id": "709d2775",
   "metadata": {},
   "source": [
    "### Check NCAD import"
   ]
  },
  {
   "cell_type": "code",
   "execution_count": 1,
   "id": "3005fee5",
   "metadata": {},
   "outputs": [
    {
     "name": "stderr",
     "output_type": "stream",
     "text": [
      "/home/ec2-user/SageMaker/repos/anomaly-detection-spatial-temporal-data/kedro-ncad-venv/lib/python3.7/site-packages/tqdm/auto.py:22: TqdmWarning: IProgress not found. Please update jupyter and ipywidgets. See https://ipywidgets.readthedocs.io/en/stable/user_install.html\n",
      "  from .autonotebook import tqdm as notebook_tqdm\n"
     ]
    }
   ],
   "source": [
    "import ncad"
   ]
  },
  {
   "cell_type": "markdown",
   "id": "e3282d14",
   "metadata": {},
   "source": [
    "### Check driver functions import"
   ]
  },
  {
   "cell_type": "code",
   "execution_count": 3,
   "id": "08ae099b",
   "metadata": {},
   "outputs": [],
   "source": [
    "import sys \n",
    "sys.path.append('../../src/anomaly_detection_spatial_temporal_data/')"
   ]
  },
  {
   "cell_type": "code",
   "execution_count": 5,
   "id": "0f18e1c5",
   "metadata": {},
   "outputs": [],
   "source": [
    "from pipelines.iot_gdn_data_processing.nodes import clean_column_names, get_sensor_columns, save_sensor_cols\n"
   ]
  },
  {
   "cell_type": "code",
   "execution_count": null,
   "id": "e9a0325a",
   "metadata": {},
   "outputs": [],
   "source": []
  }
 ],
 "metadata": {
  "kernelspec": {
   "display_name": "kedro-ncad-venv",
   "language": "python",
   "name": "kedro-ncad-venv"
  },
  "language_info": {
   "codemirror_mode": {
    "name": "ipython",
    "version": 3
   },
   "file_extension": ".py",
   "mimetype": "text/x-python",
   "name": "python",
   "nbconvert_exporter": "python",
   "pygments_lexer": "ipython3",
   "version": "3.7.12"
  }
 },
 "nbformat": 4,
 "nbformat_minor": 5
}
