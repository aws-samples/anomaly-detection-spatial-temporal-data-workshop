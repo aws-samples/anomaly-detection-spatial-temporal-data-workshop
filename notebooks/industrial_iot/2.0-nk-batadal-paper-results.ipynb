{
 "cells": [
  {
   "cell_type": "code",
   "execution_count": 1,
   "id": "a4dad9a9",
   "metadata": {},
   "outputs": [],
   "source": [
    "import numpy as np"
   ]
  },
  {
   "cell_type": "code",
   "execution_count": 2,
   "id": "c1d96070",
   "metadata": {},
   "outputs": [],
   "source": [
    "# examine results from batadal paper"
   ]
  },
  {
   "cell_type": "code",
   "execution_count": 8,
   "id": "1a348e7f",
   "metadata": {},
   "outputs": [],
   "source": [
    "results = {\n",
    "    \"housh\": {\n",
    "        \"tp\": 388,\n",
    "        \"fp\": 5,\n",
    "        \"tn\": 1677,\n",
    "        \"fn\": 19\n",
    "    },\n",
    "    \"abokifa\": {\n",
    "        \"tp\": 375,\n",
    "        \"fp\": 69,\n",
    "        \"tn\": 1613,\n",
    "        \"fn\": 32\n",
    "    },\n",
    "    \"giacomoni\": {\n",
    "        \"tp\": 341,\n",
    "        \"fp\": 5,\n",
    "        \"tn\": 1677,\n",
    "        \"fn\": 66\n",
    "    },\n",
    "    \"brentan\": {\n",
    "        \"tp\": 362,\n",
    "        \"fp\": 45,\n",
    "        \"tn\": 1637,\n",
    "        \"fn\": 45\n",
    "    },\n",
    "    \"chandy\": {\n",
    "        \"tp\": 349,\n",
    "        \"fp\": 541,\n",
    "        \"tn\": 1141,\n",
    "        \"fn\": 58\n",
    "    },\n",
    "    \"pasha\": {\n",
    "        \"tp\": 134,\n",
    "        \"fp\": 14,\n",
    "        \"tn\": 1668,\n",
    "        \"fn\": 273\n",
    "    },\n",
    "    \"aghashahi\": {\n",
    "        \"tp\": 161,\n",
    "        \"fp\": 195,\n",
    "        \"tn\": 1487,\n",
    "        \"fn\": 246\n",
    "    },\n",
    "}"
   ]
  },
  {
   "cell_type": "code",
   "execution_count": 11,
   "id": "0cd5c9d1",
   "metadata": {},
   "outputs": [
    {
     "name": "stdout",
     "output_type": "stream",
     "text": [
      "housh\n",
      "\tP: 0.987, R: 0.953, F1: 0.970\n",
      "abokifa\n",
      "\tP: 0.845, R: 0.921, F1: 0.881\n",
      "giacomoni\n",
      "\tP: 0.986, R: 0.838, F1: 0.906\n",
      "brentan\n",
      "\tP: 0.889, R: 0.889, F1: 0.889\n",
      "chandy\n",
      "\tP: 0.392, R: 0.857, F1: 0.538\n",
      "pasha\n",
      "\tP: 0.905, R: 0.329, F1: 0.483\n",
      "aghashahi\n",
      "\tP: 0.452, R: 0.396, F1: 0.422\n"
     ]
    }
   ],
   "source": [
    "for approach in results:\n",
    "    approach_results = results[approach]\n",
    "    precision = approach_results[\"tp\"]/(approach_results[\"tp\"] + approach_results[\"fp\"])\n",
    "    recall = approach_results[\"tp\"]/(approach_results[\"tp\"] + approach_results[\"fn\"])\n",
    "    f1 = 2 * precision * recall / (precision + recall)\n",
    "    \n",
    "    print(f\"{approach}\\n\\tP: {precision:.3f}, R: {recall:.3f}, F1: {f1:.3f}\")"
   ]
  },
  {
   "cell_type": "code",
   "execution_count": null,
   "id": "d340ef42",
   "metadata": {},
   "outputs": [],
   "source": []
  }
 ],
 "metadata": {
  "kernelspec": {
   "display_name": "conda_python3",
   "language": "python",
   "name": "conda_python3"
  },
  "language_info": {
   "codemirror_mode": {
    "name": "ipython",
    "version": 3
   },
   "file_extension": ".py",
   "mimetype": "text/x-python",
   "name": "python",
   "nbconvert_exporter": "python",
   "pygments_lexer": "ipython3",
   "version": "3.6.13"
  }
 },
 "nbformat": 4,
 "nbformat_minor": 5
}
