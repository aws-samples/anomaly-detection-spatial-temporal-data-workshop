{
 "cells": [
  {
   "cell_type": "markdown",
   "id": "c7c01686",
   "metadata": {},
   "source": [
    "# Prepare BATADAL dataset for GDN\n",
    "\n",
    "GDN is an unsupervised anomaly detection algorithm that identifies anomalies at a timestep level for an entire system. This system consists of nodes that generate time-series (such as sensors in a water treatment plant), and GDN learns the relationship between the nodes during non-anomalous operation. These learned relationships can then be used at inference time to identify if the system is operating with anomalies.\n",
    "\n",
    "To use GDN, we need a text file containing the list of nodes (will be referred to as 'sensors'), a train CSV containing timesteps and time series with for each sensor, and a test CSV containing timesteps and time series for each sensor, and labels for each time step.\n",
    "\n",
    "This notebook prepares the text file, train and test CSVs from the original data."
   ]
  },
  {
   "cell_type": "code",
   "execution_count": 1,
   "id": "61cd0a91",
   "metadata": {},
   "outputs": [],
   "source": [
    "import pandas as pd\n",
    "import pathlib"
   ]
  },
  {
   "cell_type": "code",
   "execution_count": 2,
   "id": "e2410d81",
   "metadata": {},
   "outputs": [],
   "source": [
    "source_dir = \"../../data/01_raw/iot\"\n",
    "destination_dir = \"../../data/03_primary/iot\"\n",
    "\n",
    "pathlib.Path(destination_dir).mkdir(parents=True, exist_ok=True)"
   ]
  },
  {
   "cell_type": "code",
   "execution_count": 3,
   "id": "4a749f86",
   "metadata": {},
   "outputs": [],
   "source": [
    "train_no_anom = pd.read_csv(f\"{source_dir}/BATADAL_dataset03_train_no_anomaly.csv\")\n",
    "train_some_anom = pd.read_csv(f\"{source_dir}/BATADAL_dataset04_train_some_anomaly.csv\")\n",
    "test_with_anom = pd.read_csv(f\"{source_dir}/BATADAL_test_dataset_some_anomaly.csv\")"
   ]
  },
  {
   "cell_type": "code",
   "execution_count": 4,
   "id": "814f4a41",
   "metadata": {},
   "outputs": [],
   "source": [
    "# has leading white space\n",
    "train_some_anom.columns = train_some_anom.columns.str.strip()"
   ]
  },
  {
   "cell_type": "code",
   "execution_count": 5,
   "id": "a52f93a8",
   "metadata": {},
   "outputs": [
    {
     "data": {
      "text/plain": [
       "((8761, 45), (4177, 45), (2089, 44))"
      ]
     },
     "execution_count": 5,
     "metadata": {},
     "output_type": "execute_result"
    }
   ],
   "source": [
    "train_no_anom.shape, train_some_anom.shape, test_with_anom.shape"
   ]
  },
  {
   "cell_type": "markdown",
   "id": "546e2639",
   "metadata": {},
   "source": [
    "# Train no anomaly"
   ]
  },
  {
   "cell_type": "code",
   "execution_count": 6,
   "id": "134275b9",
   "metadata": {},
   "outputs": [],
   "source": [
    "from sklearn.preprocessing import MinMaxScaler"
   ]
  },
  {
   "cell_type": "code",
   "execution_count": 7,
   "id": "986b9d65",
   "metadata": {
    "scrolled": true
   },
   "outputs": [],
   "source": [
    "SENSOR_COLS = [c for c in train_no_anom.columns if c not in [\"DATETIME\", \"ATT_FLAG\"]]"
   ]
  },
  {
   "cell_type": "code",
   "execution_count": 8,
   "id": "4116afb5",
   "metadata": {},
   "outputs": [],
   "source": [
    "normalizer = MinMaxScaler(feature_range=(0, 1)).fit(train_no_anom[SENSOR_COLS])"
   ]
  },
  {
   "cell_type": "code",
   "execution_count": 9,
   "id": "0666b9c7",
   "metadata": {},
   "outputs": [],
   "source": [
    "train_no_anom[SENSOR_COLS] = normalizer.transform(train_no_anom[SENSOR_COLS])"
   ]
  },
  {
   "cell_type": "code",
   "execution_count": 10,
   "id": "d041745e",
   "metadata": {},
   "outputs": [],
   "source": [
    "with open(f\"{destination_dir}/iot_sensor_list_batadal.txt\", \"w\") as f:\n",
    "    f.writelines(\"\\n\".join(SENSOR_COLS))"
   ]
  },
  {
   "cell_type": "code",
   "execution_count": 11,
   "id": "ab38cf53",
   "metadata": {},
   "outputs": [],
   "source": [
    "train_no_anom.reset_index().rename(columns={\"index\": \"timestamp\"})[[\"timestamp\" ]+ SENSOR_COLS].to_csv(\n",
    "    f\"{destination_dir}/iot_gdn_train.csv\",\n",
    "    index=False\n",
    ")"
   ]
  },
  {
   "cell_type": "markdown",
   "id": "8619d765",
   "metadata": {},
   "source": [
    "# Train with anomaly"
   ]
  },
  {
   "cell_type": "code",
   "execution_count": 12,
   "id": "a5af3fe5",
   "metadata": {},
   "outputs": [],
   "source": [
    "from typing import Tuple, List\n",
    "def append_anomaly_column(anomalies: List[Tuple], df: pd.DataFrame) -> pd.DataFrame:    \n",
    "    fmt =\"%d/%m/%Y %H\"\n",
    "    anomalies_dt = [\n",
    "        (pd.to_datetime(s, format=fmt), pd.to_datetime(e, format=fmt)) for s, e in anomalies\n",
    "    ]\n",
    "    \n",
    "    df = df.reset_index().rename(columns={\"index\": \"timestamp\"})\n",
    "    df[\"pdDateTime\"] = pd.to_datetime(df[\"DATETIME\"], format=\"%d/%m/%y %H\")\n",
    "    df = df.set_index([\"pdDateTime\"])\n",
    "\n",
    "    df[\"attack\"] = 0\n",
    "    for start, end in anomalies_dt:\n",
    "        df.loc[start:end, \"attack\"] = 1\n",
    "        \n",
    "    return df"
   ]
  },
  {
   "cell_type": "code",
   "execution_count": 13,
   "id": "279f83f5",
   "metadata": {},
   "outputs": [],
   "source": [
    "# from http://www.batadal.net/images/Attacks_TrainingDataset2.png\n",
    "fmt =\"%d/%m/%Y %H\"\n",
    "train_anomalies = [\n",
    "    (\"13/09/2016 23\", \"16/09/2016 00\"),\n",
    "    (\"26/09/2016 11\", \"27/09/2016 10\"),\n",
    "    (\"09/10/2016 09\", \"11/10/2016 20\"),\n",
    "    (\"29/10/2016 19\", \"02/11/2016 16\"),\n",
    "    (\"26/11/2016 17\", \"29/11/2016 04\"),\n",
    "    (\"06/12/2016 07\", \"10/12/2016 04\"),\n",
    "    (\"14/12/2016 15\", \"19/12/2016 04\")\n",
    "]\n",
    "\n",
    "train_anomalies_dt = [\n",
    "    (pd.to_datetime(s, format=fmt), pd.to_datetime(e, format=fmt)) for s, e in train_anomalies\n",
    "]"
   ]
  },
  {
   "cell_type": "code",
   "execution_count": 14,
   "id": "e598bde9",
   "metadata": {},
   "outputs": [],
   "source": [
    "train_some_anom = append_anomaly_column(train_anomalies_dt, train_some_anom)"
   ]
  },
  {
   "cell_type": "code",
   "execution_count": 15,
   "id": "02fc8217",
   "metadata": {},
   "outputs": [
    {
     "data": {
      "text/plain": [
       "0    3685\n",
       "1     492\n",
       "Name: attack, dtype: int64"
      ]
     },
     "execution_count": 15,
     "metadata": {},
     "output_type": "execute_result"
    }
   ],
   "source": [
    "train_some_anom[\"attack\"].value_counts()"
   ]
  },
  {
   "cell_type": "code",
   "execution_count": 16,
   "id": "a7b2d004",
   "metadata": {},
   "outputs": [],
   "source": [
    "train_some_anom[SENSOR_COLS] = normalizer.transform(train_some_anom[SENSOR_COLS])"
   ]
  },
  {
   "cell_type": "code",
   "execution_count": 17,
   "id": "84c23d7b",
   "metadata": {},
   "outputs": [],
   "source": [
    "train_some_anom[[\"timestamp\"] + SENSOR_COLS + [\"attack\"]].to_csv(\n",
    "    f\"{destination_dir}/iot_gdn_train_anom.csv\", \n",
    "    index=False\n",
    ")"
   ]
  },
  {
   "cell_type": "markdown",
   "id": "ed768fe1",
   "metadata": {},
   "source": [
    "# Test"
   ]
  },
  {
   "cell_type": "code",
   "execution_count": 18,
   "id": "36152945",
   "metadata": {},
   "outputs": [],
   "source": [
    "# http://www.batadal.net/images/Attacks_TestDataset.png\n",
    "test_anomalies = [\n",
    "    (\"16/01/2017 09\", \"19/01/2017 06\"),\n",
    "    (\"30/01/2017 08\", \"02/02/2017 00\"),\n",
    "    (\"09/02/2017 03\", \"10/02/2017 09\"),\n",
    "    (\"12/02/2017 01\", \"13/02/2017 07\"),\n",
    "    (\"24/02/2017 05\", \"28/02/2017 08\"),\n",
    "    (\"10/03/2017 14\", \"13/03/2017 21\"),\n",
    "    (\"25/03/2017 20\", \"27/03/2017 01\")\n",
    "]\n",
    "\n",
    "test_anomalies_dt = [\n",
    "    (pd.to_datetime(s, format=fmt), pd.to_datetime(e, format=fmt)) for s, e in test_anomalies\n",
    "]"
   ]
  },
  {
   "cell_type": "code",
   "execution_count": 19,
   "id": "a2ed80d4",
   "metadata": {},
   "outputs": [],
   "source": [
    "test_with_anom = append_anomaly_column(test_anomalies_dt, test_with_anom)"
   ]
  },
  {
   "cell_type": "code",
   "execution_count": 20,
   "id": "a21d7302",
   "metadata": {},
   "outputs": [
    {
     "data": {
      "text/plain": [
       "0    1682\n",
       "1     407\n",
       "Name: attack, dtype: int64"
      ]
     },
     "execution_count": 20,
     "metadata": {},
     "output_type": "execute_result"
    }
   ],
   "source": [
    "test_with_anom[\"attack\"].value_counts()"
   ]
  },
  {
   "cell_type": "code",
   "execution_count": 21,
   "id": "e15a7cec",
   "metadata": {},
   "outputs": [],
   "source": [
    "test_with_anom[SENSOR_COLS] = normalizer.transform(test_with_anom[SENSOR_COLS])"
   ]
  },
  {
   "cell_type": "code",
   "execution_count": 22,
   "id": "5b749892",
   "metadata": {},
   "outputs": [],
   "source": [
    "test_with_anom[[\"timestamp\"] + SENSOR_COLS + [\"attack\"]].to_csv(\n",
    "    f\"{destination_dir}/iot_gdn_test.csv\", \n",
    "    index=False\n",
    ")"
   ]
  },
  {
   "cell_type": "markdown",
   "id": "5794711d",
   "metadata": {},
   "source": [
    "# References\n",
    "Riccardo Taormina and Stefano Galelli and Nils Ole Tippenhauer and Elad Salomons and Avi Ostfeld and Demetrios G. Eliades and Mohsen Aghashahi and Raanju Sundararajan and Mohsen Pourahmadi and M. Katherine Banks and B. M. Brentan and Enrique Campbell and G. Lima and D. Manzi and D. Ayala-Cabrera and M. Herrera and I. Montalvo and J. Izquierdo and E. Luvizotto and Sarin E. Chandy and Amin Rasekh and Zachary A. Barker and Bruce Campbell and M. Ehsan Shafiee and Marcio Giacomoni and Nikolaos Gatsis and Ahmad Taha and Ahmed A. Abokifa and Kelsey Haddad and Cynthia S. Lo and Pratim Biswas and M. Fayzul K. Pasha and Bijay Kc and Saravanakumar Lakshmanan Somasundaram and Mashor Housh and Ziv Ohar; \"The Battle Of The Attack Detection Algorithms: Disclosing Cyber Attacks On Water Distribution Networks.\" Journal of Water Resources Planning and Management, 144 (8), August 2018\n",
    "\n",
    "Ailin Deng and Bryan Hooi. 2021. Graph Neural Network-Based Anomaly Detection in Multivariate Time Series. CoRR abs/2106.06947, (2021). Retrieved from https://arxiv.org/abs/2106.06947 "
   ]
  },
  {
   "cell_type": "code",
   "execution_count": null,
   "id": "4bbdd135",
   "metadata": {},
   "outputs": [],
   "source": []
  }
 ],
 "metadata": {
  "kernelspec": {
   "display_name": "conda_python3",
   "language": "python",
   "name": "conda_python3"
  },
  "language_info": {
   "codemirror_mode": {
    "name": "ipython",
    "version": 3
   },
   "file_extension": ".py",
   "mimetype": "text/x-python",
   "name": "python",
   "nbconvert_exporter": "python",
   "pygments_lexer": "ipython3",
   "version": "3.6.13"
  }
 },
 "nbformat": 4,
 "nbformat_minor": 5
}
