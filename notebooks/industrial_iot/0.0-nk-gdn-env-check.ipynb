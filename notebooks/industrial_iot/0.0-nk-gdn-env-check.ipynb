{
 "cells": [
  {
   "cell_type": "markdown",
   "id": "65470c3b",
   "metadata": {},
   "source": [
    "# GDN Environment verification\n",
    "\n",
    "The Graph Neural Network-Based Anomaly Detection (GDN) in Multivariate Time Series module is sourced from the [GDN](https://github.com/d-ailin/GDN) repository.\n",
    "\n",
    "Installation of GDN requires `torch==1.5.0`, `torch-scatter`, `torch-sparse`, `torch-cluster`, `torch-spline-conv`, and `torch-geometric==1.5.0`.\n",
    "\n",
    "The `anomaly-detection-spatial-temporal-data/prepare_gdn_environment.sh` script prepares the `kedro-gdn-venv` virtual environment and registers it with the Jupyter registry as a custom kernel."
   ]
  },
  {
   "cell_type": "markdown",
   "id": "ebd08f90",
   "metadata": {},
   "source": [
    "### Check GDNTrainer import"
   ]
  },
  {
   "cell_type": "code",
   "execution_count": 3,
   "id": "ac43c1f0",
   "metadata": {},
   "outputs": [],
   "source": [
    "import sys \n",
    "sys.path.append('../../src/anomaly_detection_spatial_temporal_data/')"
   ]
  },
  {
   "cell_type": "code",
   "execution_count": 4,
   "id": "519ae57b",
   "metadata": {},
   "outputs": [
    {
     "name": "stderr",
     "output_type": "stream",
     "text": [
      "/home/ec2-user/SageMaker/repos/anomaly-detection-spatial-temporal-data/kedro-gdn-venv/lib/python3.7/site-packages/tqdm/auto.py:22: TqdmWarning: IProgress not found. Please update jupyter and ipywidgets. See https://ipywidgets.readthedocs.io/en/stable/user_install.html\n",
      "  from .autonotebook import tqdm as notebook_tqdm\n"
     ]
    }
   ],
   "source": [
    "from model.GDN.GDNTrainer import GDNTrainer"
   ]
  },
  {
   "cell_type": "markdown",
   "id": "1dc18d87",
   "metadata": {},
   "source": [
    "### Check driver functions import"
   ]
  },
  {
   "cell_type": "code",
   "execution_count": 5,
   "id": "f2251165",
   "metadata": {},
   "outputs": [],
   "source": [
    "from pipelines.iot_gdn_data_processing.nodes import clean_column_names, get_sensor_columns, save_sensor_cols"
   ]
  },
  {
   "cell_type": "code",
   "execution_count": null,
   "id": "978d7e24",
   "metadata": {},
   "outputs": [],
   "source": []
  }
 ],
 "metadata": {
  "kernelspec": {
   "display_name": "kedro-gdn-venv",
   "language": "python",
   "name": "kedro-gdn-venv"
  },
  "language_info": {
   "codemirror_mode": {
    "name": "ipython",
    "version": 3
   },
   "file_extension": ".py",
   "mimetype": "text/x-python",
   "name": "python",
   "nbconvert_exporter": "python",
   "pygments_lexer": "ipython3",
   "version": "3.7.12"
  }
 },
 "nbformat": 4,
 "nbformat_minor": 5
}
