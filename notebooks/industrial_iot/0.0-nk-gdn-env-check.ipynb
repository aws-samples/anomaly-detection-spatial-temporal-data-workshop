{
 "cells": [
  {
   "cell_type": "markdown",
   "id": "397dc477",
   "metadata": {},
   "source": [
    "Copyright Amazon.com, Inc. or its affiliates. All Rights Reserved.\n",
    "\n",
    "SPDX-License-Identifier: Apache-2.0"
   ]
  },
  {
   "cell_type": "markdown",
   "id": "65f67b88",
   "metadata": {},
   "source": [
    "# GDN Environment verification\n",
    "\n",
    "The Graph Neural Network-Based Anomaly Detection (GDN) in Multivariate Time Series module is sourced from the [GDN](https://github.com/d-ailin/GDN) repository.\n",
    "\n",
    "Installation of GDN requires `torch==1.5.0`, `torch-scatter`, `torch-sparse`, `torch-cluster`, `torch-spline-conv`, and `torch-geometric==1.5.0`.\n",
    "\n",
    "The `anomaly-detection-spatial-temporal-data/prepare_gdn_environment.sh` script prepares the `kedro-gdn-venv` virtual environment and registers it with the Jupyter registry as a custom kernel."
   ]
  },
  {
   "cell_type": "markdown",
   "id": "4963f8c1",
   "metadata": {},
   "source": [
    "### Check GDNTrainer import"
   ]
  },
  {
   "cell_type": "code",
   "execution_count": 3,
   "id": "2e026832",
   "metadata": {},
   "outputs": [],
   "source": [
    "import sys \n",
    "sys.path.append('../../src/anomaly_detection_spatial_temporal_data/')"
   ]
  },
  {
   "cell_type": "code",
   "execution_count": 4,
   "id": "791fa9cc",
   "metadata": {},
   "outputs": [
    {
     "name": "stderr",
     "output_type": "stream",
     "text": [
      "/home/ec2-user/SageMaker/repos/anomaly-detection-spatial-temporal-data/kedro-gdn-venv/lib/python3.7/site-packages/tqdm/auto.py:22: TqdmWarning: IProgress not found. Please update jupyter and ipywidgets. See https://ipywidgets.readthedocs.io/en/stable/user_install.html\n",
      "  from .autonotebook import tqdm as notebook_tqdm\n"
     ]
    }
   ],
   "source": [
    "from model.GDN.GDNTrainer import GDNTrainer"
   ]
  },
  {
   "cell_type": "markdown",
   "id": "92376bfc",
   "metadata": {},
   "source": [
    "### Check driver functions import"
   ]
  },
  {
   "cell_type": "code",
   "execution_count": 5,
   "id": "c8c1c2ed",
   "metadata": {},
   "outputs": [],
   "source": [
    "from pipelines.iot_gdn_data_processing.nodes import clean_column_names, get_sensor_columns, save_sensor_cols"
   ]
  },
  {
   "cell_type": "code",
   "execution_count": null,
   "id": "230691b7",
   "metadata": {},
   "outputs": [],
   "source": []
  }
 ],
 "metadata": {
  "kernelspec": {
   "display_name": "kedro-gdn-venv",
   "language": "python",
   "name": "kedro-gdn-venv"
  },
  "language_info": {
   "codemirror_mode": {
    "name": "ipython",
    "version": 3
   },
   "file_extension": ".py",
   "mimetype": "text/x-python",
   "name": "python",
   "nbconvert_exporter": "python",
   "pygments_lexer": "ipython3",
   "version": "3.7.12"
  }
 },
 "nbformat": 4,
 "nbformat_minor": 5
}
