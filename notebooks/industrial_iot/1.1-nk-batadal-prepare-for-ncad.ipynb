{
 "cells": [
  {
   "cell_type": "markdown",
   "id": "52662f72",
   "metadata": {},
   "source": [
    "# Prepare BATADAL dataset for NCAD\n",
    "\n",
    "Neural Contextual Anomaly Detection (NCAD) for Time Series is a time series approach to anomaly detection. It splits time series into overlapping windows, which are then split into context and suspect windows. It learns embeddings for these windows using a temporal convolutional network. At inference time, if the distance of the embeddings for the context and context+suspect windows are far, then the algorithm predicts that there is an anomaly in the suspect window.\n",
    "\n",
    "To use NCAD, we need to prepare train and test CSVs containing the timestamp, time series for each sensor, and label.\n",
    "\n",
    "This notebook constructs the two CSVs from the original data."
   ]
  },
  {
   "cell_type": "code",
   "execution_count": 1,
   "id": "988874e1",
   "metadata": {},
   "outputs": [],
   "source": [
    "import pandas as pd\n",
    "import pathlib"
   ]
  },
  {
   "cell_type": "code",
   "execution_count": 2,
   "id": "be527ea5",
   "metadata": {},
   "outputs": [],
   "source": [
    "source_dir = \"../../data/01_raw/iot\"\n",
    "destination_dir = \"../../data/03_primary/iot\"\n",
    "\n",
    "pathlib.Path(destination_dir).mkdir(parents=True, exist_ok=True)"
   ]
  },
  {
   "cell_type": "code",
   "execution_count": 3,
   "id": "22747054",
   "metadata": {},
   "outputs": [],
   "source": [
    "train_no_anom = pd.read_csv(f\"{source_dir}/BATADAL_dataset03_train_no_anomaly.csv\")\n",
    "train_some_anom = pd.read_csv(f\"{source_dir}/BATADAL_dataset04_train_some_anomaly.csv\")\n",
    "test_with_anom = pd.read_csv(f\"{source_dir}/BATADAL_test_dataset_some_anomaly.csv\")"
   ]
  },
  {
   "cell_type": "code",
   "execution_count": 4,
   "id": "7b29487b",
   "metadata": {},
   "outputs": [],
   "source": [
    "# has leading white space\n",
    "train_some_anom.columns = train_some_anom.columns.str.strip()"
   ]
  },
  {
   "cell_type": "code",
   "execution_count": 5,
   "id": "9b537fbb",
   "metadata": {},
   "outputs": [
    {
     "data": {
      "text/plain": [
       "((8761, 45), (4177, 45), (2089, 44))"
      ]
     },
     "execution_count": 5,
     "metadata": {},
     "output_type": "execute_result"
    }
   ],
   "source": [
    "train_no_anom.shape, train_some_anom.shape, test_with_anom.shape"
   ]
  },
  {
   "cell_type": "markdown",
   "id": "48b8e61a",
   "metadata": {},
   "source": [
    "# Train no anomaly"
   ]
  },
  {
   "cell_type": "code",
   "execution_count": 6,
   "id": "791629d2",
   "metadata": {},
   "outputs": [],
   "source": [
    "from typing import Tuple, List\n",
    "\n",
    "def append_anomaly_column(anomalies: List[Tuple], df: pd.DataFrame) -> pd.DataFrame:    \n",
    "    fmt =\"%d/%m/%Y %H\"\n",
    "    anomalies_dt = [\n",
    "        (pd.to_datetime(s, format=fmt), pd.to_datetime(e, format=fmt)) for s, e in anomalies\n",
    "    ]\n",
    "    \n",
    "    df = df.reset_index().rename(columns={\"index\": \"timestamp\"})\n",
    "    df[\"pdDateTime\"] = pd.to_datetime(df[\"DATETIME\"], format=\"%d/%m/%y %H\")\n",
    "    df = df.set_index([\"pdDateTime\"])\n",
    "\n",
    "    df[\"label\"] = 0\n",
    "    for start, end in anomalies_dt:\n",
    "        df.loc[start:end, \"label\"] = 1\n",
    "        \n",
    "    return df"
   ]
  },
  {
   "cell_type": "code",
   "execution_count": 7,
   "id": "b62685df",
   "metadata": {},
   "outputs": [],
   "source": [
    "SENSOR_COLS = [c for c in train_no_anom.columns if c not in [\"DATETIME\", \"ATT_FLAG\"]]"
   ]
  },
  {
   "cell_type": "code",
   "execution_count": 8,
   "id": "d5908e57",
   "metadata": {},
   "outputs": [],
   "source": [
    "with open(f\"{destination_dir}/iot_sensor_list_batadal.txt\", \"w\") as f:\n",
    "    f.writelines(\"\\n\".join(SENSOR_COLS))"
   ]
  },
  {
   "cell_type": "code",
   "execution_count": 9,
   "id": "dc5ed1af",
   "metadata": {},
   "outputs": [],
   "source": [
    "train_no_anom = append_anomaly_column([], train_no_anom)"
   ]
  },
  {
   "cell_type": "code",
   "execution_count": 10,
   "id": "1d70bf9e",
   "metadata": {},
   "outputs": [],
   "source": [
    "train_no_anom[SENSOR_COLS + [\"label\"]].to_csv(\n",
    "    f\"{destination_dir}/iot_ncad_train.csv\",\n",
    "    index=False\n",
    ")"
   ]
  },
  {
   "cell_type": "markdown",
   "id": "b54234ee",
   "metadata": {},
   "source": [
    "# Train some anom"
   ]
  },
  {
   "cell_type": "code",
   "execution_count": 11,
   "id": "947e878f",
   "metadata": {},
   "outputs": [],
   "source": [
    "# from http://www.batadal.net/images/Attacks_TrainingDataset2.png\n",
    "fmt =\"%d/%m/%Y %H\"\n",
    "train_anomalies = [\n",
    "    (\"13/09/2016 23\", \"16/09/2016 00\"),\n",
    "    (\"26/09/2016 11\", \"27/09/2016 10\"),\n",
    "    (\"09/10/2016 09\", \"11/10/2016 20\"),\n",
    "    (\"29/10/2016 19\", \"02/11/2016 16\"),\n",
    "    (\"26/11/2016 17\", \"29/11/2016 04\"),\n",
    "    (\"06/12/2016 07\", \"10/12/2016 04\"),\n",
    "    (\"14/12/2016 15\", \"19/12/2016 04\")\n",
    "]\n",
    "\n",
    "train_anomalies_dt = [\n",
    "    (pd.to_datetime(s, format=fmt), pd.to_datetime(e, format=fmt)) for s, e in train_anomalies\n",
    "]"
   ]
  },
  {
   "cell_type": "code",
   "execution_count": 12,
   "id": "3885377e",
   "metadata": {},
   "outputs": [],
   "source": [
    "train_some_anom = append_anomaly_column(train_anomalies_dt, train_some_anom)"
   ]
  },
  {
   "cell_type": "code",
   "execution_count": 13,
   "id": "c28148dd",
   "metadata": {},
   "outputs": [
    {
     "data": {
      "text/plain": [
       "0    3685\n",
       "1     492\n",
       "Name: label, dtype: int64"
      ]
     },
     "execution_count": 13,
     "metadata": {},
     "output_type": "execute_result"
    }
   ],
   "source": [
    "train_some_anom[\"label\"].value_counts()"
   ]
  },
  {
   "cell_type": "code",
   "execution_count": 14,
   "id": "dddb656c",
   "metadata": {},
   "outputs": [],
   "source": [
    "train_some_anom[SENSOR_COLS + [\"label\"]].to_csv(\n",
    "    f\"{destination_dir}/iot_ncad_train_anom.csv\", \n",
    "    index=False\n",
    ")"
   ]
  },
  {
   "cell_type": "markdown",
   "id": "aa1de1ad",
   "metadata": {},
   "source": [
    "# Test"
   ]
  },
  {
   "cell_type": "code",
   "execution_count": 15,
   "id": "f43f3402",
   "metadata": {},
   "outputs": [],
   "source": [
    "# http://www.batadal.net/images/Attacks_TestDataset.png\n",
    "test_anomalies = [\n",
    "    (\"16/01/2017 09\", \"19/01/2017 06\"),\n",
    "    (\"30/01/2017 08\", \"02/02/2017 00\"),\n",
    "    (\"09/02/2017 03\", \"10/02/2017 09\"),\n",
    "    (\"12/02/2017 01\", \"13/02/2017 07\"),\n",
    "    (\"24/02/2017 05\", \"28/02/2017 08\"),\n",
    "    (\"10/03/2017 14\", \"13/03/2017 21\"),\n",
    "    (\"25/03/2017 20\", \"27/03/2017 01\")\n",
    "]\n",
    "\n",
    "test_anomalies_dt = [\n",
    "    (pd.to_datetime(s, format=fmt), pd.to_datetime(e, format=fmt)) for s, e in test_anomalies\n",
    "]"
   ]
  },
  {
   "cell_type": "code",
   "execution_count": 16,
   "id": "605b360c",
   "metadata": {},
   "outputs": [],
   "source": [
    "test_with_anom = append_anomaly_column(test_anomalies_dt, test_with_anom)"
   ]
  },
  {
   "cell_type": "code",
   "execution_count": 17,
   "id": "774c3677",
   "metadata": {},
   "outputs": [
    {
     "data": {
      "text/plain": [
       "0    1682\n",
       "1     407\n",
       "Name: label, dtype: int64"
      ]
     },
     "execution_count": 17,
     "metadata": {},
     "output_type": "execute_result"
    }
   ],
   "source": [
    "test_with_anom[\"label\"].value_counts()"
   ]
  },
  {
   "cell_type": "code",
   "execution_count": 18,
   "id": "01f54a09",
   "metadata": {},
   "outputs": [],
   "source": [
    "test_with_anom[SENSOR_COLS + [\"label\"]].to_csv(\n",
    "    f\"{destination_dir}/iot_ncad_test.csv\", \n",
    "    index=False\n",
    ")"
   ]
  },
  {
   "cell_type": "code",
   "execution_count": null,
   "id": "cd08773a",
   "metadata": {},
   "outputs": [],
   "source": []
  }
 ],
 "metadata": {
  "kernelspec": {
   "display_name": "conda_python3",
   "language": "python",
   "name": "conda_python3"
  },
  "language_info": {
   "codemirror_mode": {
    "name": "ipython",
    "version": 3
   },
   "file_extension": ".py",
   "mimetype": "text/x-python",
   "name": "python",
   "nbconvert_exporter": "python",
   "pygments_lexer": "ipython3",
   "version": "3.6.13"
  }
 },
 "nbformat": 4,
 "nbformat_minor": 5
}
