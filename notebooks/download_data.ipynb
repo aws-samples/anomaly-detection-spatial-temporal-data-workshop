{
 "cells": [
  {
   "cell_type": "markdown",
   "id": "108fdda3",
   "metadata": {},
   "source": [
    "Copyright Amazon.com, Inc. or its affiliates. All Rights Reserved.\n",
    "\n",
    "SPDX-License-Identifier: Apache-2.0\n"
   ]
  },
  {
   "cell_type": "markdown",
   "id": "65910daa",
   "metadata": {},
   "source": [
    "# Instructions for dataset download "
   ]
  },
  {
   "cell_type": "code",
   "execution_count": null,
   "id": "fb66e543",
   "metadata": {},
   "outputs": [],
   "source": [
    "import pathlib\n",
    "import requests"
   ]
  },
  {
   "cell_type": "markdown",
   "id": "a8275677",
   "metadata": {},
   "source": [
    "## Use case 1: User Behavior \n",
    "\n",
    "The Reddit dataset is sourced from [Pushshift](https://files.pushshift.io/reddit/comments/) and downloaded raw data file should be placed under `../data/01_raw/user_behavior`. \n",
    "\n",
    "The following cells uses the `requests` library to download one month of Reddit comments from May 2008 and places it in `data/01_raw/user_behavior`."
   ]
  },
  {
   "cell_type": "code",
   "execution_count": null,
   "id": "aba8cd6d",
   "metadata": {},
   "outputs": [],
   "source": [
    "URL = \"https://files.pushshift.io/reddit/comments/RC_2008-05.zst\"\n",
    "reddit_raw_data_file_path = '../data/01_raw/user_behavior/RC_2008-05.zst'"
   ]
  },
  {
   "cell_type": "code",
   "execution_count": null,
   "id": "f6514e7b",
   "metadata": {},
   "outputs": [],
   "source": [
    "reddit_raw_data_file_path_abs = pathlib.Path(reddit_raw_data_file_path).resolve()\n",
    "reddit_raw_data_file_dir = pathlib.Path('/'.join(reddit_raw_data_file_path.split('/')[:-1]))\n",
    "reddit_raw_data_file_dir.mkdir(parents=True, exist_ok=True)"
   ]
  },
  {
   "cell_type": "code",
   "execution_count": null,
   "id": "8f4b188d",
   "metadata": {},
   "outputs": [],
   "source": [
    "response = requests.get(URL)\n",
    "with open(reddit_raw_data_file_path, \"wb\") as fp:\n",
    "    fp.write(response.content)"
   ]
  },
  {
   "cell_type": "code",
   "execution_count": null,
   "id": "6838f838",
   "metadata": {},
   "outputs": [],
   "source": [
    "!unzstd ../data/01_raw/user_behavior/RC_2008-05.zst --memory=2048MB"
   ]
  },
  {
   "cell_type": "code",
   "execution_count": null,
   "id": "0f9aa51b",
   "metadata": {},
   "outputs": [],
   "source": [
    "!ls ../data/01_raw/user_behavior/"
   ]
  },
  {
   "cell_type": "markdown",
   "id": "fc84075d",
   "metadata": {},
   "source": [
    "## Use case 2:  Telecom Network \n",
    "\n",
    "The WiFi dataset can be downloaded from the [SPAMHMM repository](https://github.com/dpernes/spamhmm/blob/master/README.md#datasets). \n",
    "\n",
    "The following cell uses the `gdown` package to download from google drive. \n",
    "\n",
    "Alternatively, you can download `wifi_data.tar.gz`, put it under `../data/01_raw/wifi/`, and extract using `tar -xzvf ../data/01_raw/wifi/wifi_data.tar.gz --directory ../data/01_raw/wifi/`"
   ]
  },
  {
   "cell_type": "code",
   "execution_count": null,
   "id": "086feac2",
   "metadata": {},
   "outputs": [],
   "source": [
    "!pip install gdown "
   ]
  },
  {
   "cell_type": "code",
   "execution_count": null,
   "id": "d15acb14",
   "metadata": {},
   "outputs": [],
   "source": [
    "# a file\n",
    "import gdown\n",
    "\n",
    "url = \"https://drive.google.com/uc?id=1IyK8lWvV9bDQ43ZT6a51lB9iPT9EtXt8\"\n",
    "output = \"../data/01_raw/wifi/wifi_data.tar.gz\"\n",
    "gdown.download(url, output, quiet=False)"
   ]
  },
  {
   "cell_type": "code",
   "execution_count": null,
   "id": "876231e7",
   "metadata": {},
   "outputs": [],
   "source": [
    "!tar -xzf ../data/01_raw/wifi/wifi_data.tar.gz --directory ../data/01_raw/wifi/"
   ]
  },
  {
   "cell_type": "code",
   "execution_count": null,
   "id": "f0f830dd",
   "metadata": {},
   "outputs": [],
   "source": [
    "!ls ../data/01_raw/wifi"
   ]
  },
  {
   "cell_type": "markdown",
   "id": "4c05f7a1",
   "metadata": {},
   "source": [
    "## Use case 3:  Financial Fraud"
   ]
  },
  {
   "cell_type": "markdown",
   "id": "6dd41cc3",
   "metadata": {},
   "source": [
    "The financial fraud data set can be downloaded from [kaggle](https://www.kaggle.com/datasets/ealaxi/banksim1). The following cells uses the kaggle API to download the dataset.\n",
    "\n",
    "To download the dataset, please follow the instructions in [API Credentials](https://github.com/Kaggle/kaggle-api#api-credentials) from the Kaggle API.\n",
    "\n",
    "Alternatively to the API, you can download the two csv files (`bs140513_032310.csv` and `bsNET140513_032310.csv`) and put them under: `anomaly-detection-spatial-temporal-data/data/01_raw/financial_fraud`"
   ]
  },
  {
   "cell_type": "code",
   "execution_count": null,
   "id": "cf74cff1",
   "metadata": {},
   "outputs": [],
   "source": [
    "pathlib.Path(\"../data/01_raw/financial_fraud\").mkdir(parents=True, exist_ok=True)"
   ]
  },
  {
   "cell_type": "code",
   "execution_count": null,
   "id": "4104bb06",
   "metadata": {
    "scrolled": true
   },
   "outputs": [],
   "source": [
    "!pip install kaggle --user"
   ]
  },
  {
   "cell_type": "code",
   "execution_count": null,
   "id": "0d16fb76",
   "metadata": {},
   "outputs": [],
   "source": [
    "# make sure you have kaggle.json under ~/.kaggle/\n",
    "!kaggle datasets download -d ealaxi/banksim1"
   ]
  },
  {
   "cell_type": "code",
   "execution_count": null,
   "id": "6164d0b0",
   "metadata": {},
   "outputs": [],
   "source": [
    "!mv banksim1.zip ../data/01_raw/financial_fraud/banksim1.zip"
   ]
  },
  {
   "cell_type": "code",
   "execution_count": null,
   "id": "2a874dab",
   "metadata": {},
   "outputs": [],
   "source": [
    "!unzip ../data/01_raw/financial_fraud/banksim1.zip  -d ../data/01_raw/financial_fraud/"
   ]
  },
  {
   "cell_type": "code",
   "execution_count": null,
   "id": "bf779926",
   "metadata": {},
   "outputs": [],
   "source": [
    "!ls ../data/01_raw/financial_fraud/"
   ]
  },
  {
   "cell_type": "markdown",
   "id": "80264e26",
   "metadata": {},
   "source": [
    "## Use case 4:  IoT Network \n",
    "\n",
    "The data set is available on the batadal [website](http://www.batadal.net/data.html). The following cells download training dataset 1, training dataset 2 and test dataset as `BATADAL_dataset03_train_no_anomaly.csv`, `BATADAL_dataset04_train_some_anomaly.csv` and `BATADAL_test_dataset_some_anomaly.csv` respectively and saves them in `../data/01_raw/iot`\n"
   ]
  },
  {
   "cell_type": "code",
   "execution_count": null,
   "id": "c1cb1bdc",
   "metadata": {},
   "outputs": [],
   "source": [
    "pathlib.Path(\"../data/01_raw/iot\").mkdir(parents=True, exist_ok=True)"
   ]
  },
  {
   "cell_type": "code",
   "execution_count": null,
   "id": "89fdee0a",
   "metadata": {},
   "outputs": [],
   "source": [
    "!wget http://www.batadal.net/data/BATADAL_dataset03.csv -O ../data/01_raw/iot/BATADAL_dataset03_train_no_anomaly.csv\n",
    "!wget http://www.batadal.net/data/BATADAL_dataset04.csv -O ../data/01_raw/iot/BATADAL_dataset04_train_some_anomaly.csv\n",
    "!wget http://www.batadal.net/data/BATADAL_test_dataset.zip -O ../data/01_raw/iot/BATADAL_test_dataset.zip\n"
   ]
  },
  {
   "cell_type": "code",
   "execution_count": null,
   "id": "590867ac",
   "metadata": {},
   "outputs": [],
   "source": [
    "!unzip ../data/01_raw/iot/BATADAL_test_dataset.zip  -d ../data/01_raw/iot/"
   ]
  },
  {
   "cell_type": "code",
   "execution_count": null,
   "id": "9ce8a5f5",
   "metadata": {},
   "outputs": [],
   "source": [
    "!mv ../data/01_raw/iot/BATADAL_test_dataset.csv ../data/01_raw/iot/BATADAL_test_dataset_some_anomaly.csv"
   ]
  },
  {
   "cell_type": "code",
   "execution_count": null,
   "id": "721f2eaf",
   "metadata": {},
   "outputs": [],
   "source": [
    "!ls ../data/01_raw/iot"
   ]
  },
  {
   "cell_type": "markdown",
   "id": "3cd490b0",
   "metadata": {},
   "source": [
    "# References\n",
    "\n",
    "Edgar Alonso Lopez-Rojas and Stefan Axelsson. 2014. BANKSIM: A BANK PAYMENTS SIMULATOR FOR FRAUD DETECTION RESEARCH.\n",
    "\n",
    "Riccardo Taormina and Stefano Galelli and Nils Ole Tippenhauer and Elad Salomons and Avi Ostfeld and Demetrios G. Eliades and Mohsen Aghashahi and Raanju Sundararajan and Mohsen Pourahmadi and M. Katherine Banks and B. M. Brentan and Enrique Campbell and G. Lima and D. Manzi and D. Ayala-Cabrera and M. Herrera and I. Montalvo and J. Izquierdo and E. Luvizotto and Sarin E. Chandy and Amin Rasekh and Zachary A. Barker and Bruce Campbell and M. Ehsan Shafiee and Marcio Giacomoni and Nikolaos Gatsis and Ahmad Taha and Ahmed A. Abokifa and Kelsey Haddad and Cynthia S. Lo and Pratim Biswas and M. Fayzul K. Pasha and Bijay Kc and Saravanakumar Lakshmanan Somasundaram and Mashor Housh and Ziv Ohar; \"The Battle Of The Attack Detection Algorithms: Disclosing Cyber Attacks On Water Distribution Networks.\" Journal of Water Resources Planning and Management, 144 (8), August 2018\n",
    "\n",
    "Anisa Allahdadi and Ricardo Morla. 2017. 802.11 Wireless Access Point Usage Simulation and Anomaly Detection. CoRR abs/1707.02933, (2017). Retrieved from http://arxiv.org/abs/1707.02933 \n",
    "\n",
    "Jason Baumgartner, Savvas Zannettou, Brian Keegan, Megan Squire, and Jeremy Blackburn. 2020. The Pushshift Reddit Dataset."
   ]
  },
  {
   "cell_type": "code",
   "execution_count": null,
   "id": "7a435ecd",
   "metadata": {},
   "outputs": [],
   "source": []
  }
 ],
 "metadata": {
  "kernelspec": {
   "display_name": "conda_python3",
   "language": "python",
   "name": "conda_python3"
  },
  "language_info": {
   "codemirror_mode": {
    "name": "ipython",
    "version": 3
   },
   "file_extension": ".py",
   "mimetype": "text/x-python",
   "name": "python",
   "nbconvert_exporter": "python",
   "pygments_lexer": "ipython3",
   "version": "3.6.13"
  }
 },
 "nbformat": 4,
 "nbformat_minor": 5
}
