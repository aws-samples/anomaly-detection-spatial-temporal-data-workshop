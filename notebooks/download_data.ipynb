{
 "cells": [
  {
   "cell_type": "markdown",
   "id": "526ef3f6",
   "metadata": {},
   "source": [
    "# Instructions for dataset download "
   ]
  },
  {
   "cell_type": "markdown",
   "id": "231b272b",
   "metadata": {},
   "source": [
    "## For financial fraud"
   ]
  },
  {
   "cell_type": "markdown",
   "id": "e4d79b7f",
   "metadata": {},
   "source": [
    "\n",
    "Dataset can be download from [here](https://www.kaggle.com/datasets/ealaxi/banksim1), please download the two csv files (bs140513_032310.csv and bsNET140513_032310.csv) and put them under : *anomaly-detection-spatial-temporal-data/data/01_raw/financial_fraud*"
   ]
  },
  {
   "cell_type": "markdown",
   "id": "05e87bfe",
   "metadata": {},
   "source": [
    "## For IoT network anomaly"
   ]
  },
  {
   "cell_type": "code",
   "execution_count": 3,
   "id": "f54b7034",
   "metadata": {},
   "outputs": [],
   "source": [
    "import pathlib\n",
    "\n",
    "pathlib.Path(\"../data/01_raw/iot\").mkdir(parents=True, exist_ok=True)"
   ]
  },
  {
   "cell_type": "code",
   "execution_count": 4,
   "id": "8f7725a2",
   "metadata": {},
   "outputs": [
    {
     "name": "stdout",
     "output_type": "stream",
     "text": [
      "--2022-07-26 21:33:54--  http://www.batadal.net/data/BATADAL_dataset03.csv\n",
      "Resolving www.batadal.net (www.batadal.net)... 185.199.108.153, 185.199.109.153, 185.199.111.153, ...\n",
      "Connecting to www.batadal.net (www.batadal.net)|185.199.108.153|:80... connected.\n",
      "HTTP request sent, awaiting response... 200 OK\n",
      "Length: 2940389 (2.8M) [text/csv]\n",
      "Saving to: ‘../data/01_raw/iot/BATADAL_dataset03_train_no_anomaly.csv’\n",
      "\n",
      "../data/01_raw/iot/ 100%[===================>]   2.80M  --.-KB/s    in 0.01s   \n",
      "\n",
      "2022-07-26 21:33:54 (200 MB/s) - ‘../data/01_raw/iot/BATADAL_dataset03_train_no_anomaly.csv’ saved [2940389/2940389]\n",
      "\n",
      "--2022-07-26 21:33:54--  http://www.batadal.net/data/BATADAL_dataset04.csv\n",
      "Resolving www.batadal.net (www.batadal.net)... 185.199.110.153, 185.199.111.153, 185.199.109.153, ...\n",
      "Connecting to www.batadal.net (www.batadal.net)|185.199.110.153|:80... connected.\n",
      "HTTP request sent, awaiting response... 200 OK\n",
      "Length: 1225392 (1.2M) [text/csv]\n",
      "Saving to: ‘../data/01_raw/iot/BATADAL_dataset04_train_some_anomaly.csv’\n",
      "\n",
      "../data/01_raw/iot/ 100%[===================>]   1.17M  --.-KB/s    in 0.008s  \n",
      "\n",
      "2022-07-26 21:33:54 (144 MB/s) - ‘../data/01_raw/iot/BATADAL_dataset04_train_some_anomaly.csv’ saved [1225392/1225392]\n",
      "\n",
      "--2022-07-26 21:33:55--  http://www.batadal.net/data/BATADAL_test_dataset.zip\n",
      "Resolving www.batadal.net (www.batadal.net)... 185.199.108.153, 185.199.110.153, 185.199.111.153, ...\n",
      "Connecting to www.batadal.net (www.batadal.net)|185.199.108.153|:80... connected.\n",
      "HTTP request sent, awaiting response... 200 OK\n",
      "Length: 112186 (110K) [application/zip]\n",
      "Saving to: ‘../data/01_raw/iot/BATADAL_test_dataset.zip’\n",
      "\n",
      "../data/01_raw/iot/ 100%[===================>] 109.56K  --.-KB/s    in 0.002s  \n",
      "\n",
      "2022-07-26 21:33:55 (48.5 MB/s) - ‘../data/01_raw/iot/BATADAL_test_dataset.zip’ saved [112186/112186]\n",
      "\n"
     ]
    }
   ],
   "source": [
    "!wget http://www.batadal.net/data/BATADAL_dataset03.csv -O ../data/01_raw/iot/BATADAL_dataset03_train_no_anomaly.csv\n",
    "!wget http://www.batadal.net/data/BATADAL_dataset04.csv -O ../data/01_raw/iot/BATADAL_dataset04_train_some_anomaly.csv\n",
    "!wget http://www.batadal.net/data/BATADAL_test_dataset.zip -O ../data/01_raw/iot/BATADAL_test_dataset.zip\n"
   ]
  },
  {
   "cell_type": "code",
   "execution_count": 5,
   "id": "d4a75a85",
   "metadata": {},
   "outputs": [
    {
     "name": "stdout",
     "output_type": "stream",
     "text": [
      "Archive:  ../data/01_raw/iot/BATADAL_test_dataset.zip\n",
      "  inflating: ../data/01_raw/iot/BATADAL_test_dataset.csv  \n"
     ]
    }
   ],
   "source": [
    "!unzip ../data/01_raw/iot/BATADAL_test_dataset.zip  -d ../data/01_raw/iot/"
   ]
  },
  {
   "cell_type": "code",
   "execution_count": 6,
   "id": "f348ebbf",
   "metadata": {},
   "outputs": [],
   "source": [
    "!mv ../data/01_raw/iot/BATADAL_test_dataset.csv ../data/01_raw/iot/BATADAL_test_dataset_some_anomaly.csv"
   ]
  },
  {
   "cell_type": "markdown",
   "id": "99a06237",
   "metadata": {},
   "source": [
    "## For telecom network anomaly"
   ]
  },
  {
   "cell_type": "code",
   "execution_count": null,
   "id": "26c8c230",
   "metadata": {},
   "outputs": [],
   "source": []
  },
  {
   "cell_type": "markdown",
   "id": "7c93cf2d",
   "metadata": {},
   "source": [
    "## For user behavior anomaly"
   ]
  },
  {
   "cell_type": "code",
   "execution_count": null,
   "id": "91a89098",
   "metadata": {},
   "outputs": [],
   "source": []
  }
 ],
 "metadata": {
  "kernelspec": {
   "display_name": "conda_python3",
   "language": "python",
   "name": "conda_python3"
  },
  "language_info": {
   "codemirror_mode": {
    "name": "ipython",
    "version": 3
   },
   "file_extension": ".py",
   "mimetype": "text/x-python",
   "name": "python",
   "nbconvert_exporter": "python",
   "pygments_lexer": "ipython3",
   "version": "3.6.13"
  }
 },
 "nbformat": 4,
 "nbformat_minor": 5
}
