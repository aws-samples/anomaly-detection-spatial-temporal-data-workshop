{
 "cells": [
  {
   "cell_type": "markdown",
   "id": "e49e7878",
   "metadata": {},
   "source": [
    "# Instructions for dataset download "
   ]
  },
  {
   "cell_type": "markdown",
   "id": "fb005452",
   "metadata": {},
   "source": [
    "## For financial fraud"
   ]
  },
  {
   "cell_type": "markdown",
   "id": "583fe402",
   "metadata": {},
   "source": [
    "\n",
    "Dataset can be download from [here](https://www.kaggle.com/datasets/ealaxi/banksim1), please download the two csv files (bs140513_032310.csv and bsNET140513_032310.csv) and put them under : *anomaly-detection-spatial-temporal-data/data/01_raw/financial_fraud*"
   ]
  },
  {
   "cell_type": "markdown",
   "id": "7fef66d7",
   "metadata": {},
   "source": [
    "## For IoT network anomaly"
   ]
  },
  {
   "cell_type": "code",
   "execution_count": null,
   "id": "5e249f59",
   "metadata": {},
   "outputs": [],
   "source": []
  },
  {
   "cell_type": "markdown",
   "id": "24742700",
   "metadata": {},
   "source": [
    "## For telecom network anomaly"
   ]
  },
  {
   "cell_type": "code",
   "execution_count": null,
   "id": "1ec1ee14",
   "metadata": {},
   "outputs": [],
   "source": []
  },
  {
   "cell_type": "markdown",
   "id": "3c7a3e8a",
   "metadata": {},
   "source": [
    "## For user behavior anomaly"
   ]
  },
  {
   "cell_type": "code",
   "execution_count": null,
   "id": "aa689b98",
   "metadata": {},
   "outputs": [],
   "source": []
  }
 ],
 "metadata": {
  "kernelspec": {
   "display_name": "conda_python3",
   "language": "python",
   "name": "conda_python3"
  },
  "language_info": {
   "codemirror_mode": {
    "name": "ipython",
    "version": 3
   },
   "file_extension": ".py",
   "mimetype": "text/x-python",
   "name": "python",
   "nbconvert_exporter": "python",
   "pygments_lexer": "ipython3",
   "version": "3.6.13"
  }
 },
 "nbformat": 4,
 "nbformat_minor": 5
}
