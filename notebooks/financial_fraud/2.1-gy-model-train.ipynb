{
 "cells": [
  {
   "cell_type": "code",
   "execution_count": 1,
   "id": "f4c78504",
   "metadata": {},
   "outputs": [],
   "source": [
    "import sys "
   ]
  },
  {
   "cell_type": "code",
   "execution_count": 2,
   "id": "341ccd15",
   "metadata": {},
   "outputs": [],
   "source": [
    "sys.path.append('/home/ec2-user/SageMaker/anomaly-detection-spatial-temporal-data/')\n",
    "sys.path.append('/home/ec2-user/SageMaker/anomaly-detection-spatial-temporal-data/src/')"
   ]
  },
  {
   "cell_type": "code",
   "execution_count": 3,
   "id": "6621c31e",
   "metadata": {},
   "outputs": [],
   "source": [
    "%load_ext autoreload\n",
    "%autoreload 2"
   ]
  },
  {
   "cell_type": "code",
   "execution_count": 4,
   "id": "8555d201",
   "metadata": {},
   "outputs": [],
   "source": [
    "import pickle"
   ]
  },
  {
   "cell_type": "code",
   "execution_count": 21,
   "id": "cad90575",
   "metadata": {},
   "outputs": [],
   "source": [
    "import numpy as np"
   ]
  },
  {
   "cell_type": "markdown",
   "id": "f1bf1e67",
   "metadata": {},
   "source": [
    "# load processed data "
   ]
  },
  {
   "cell_type": "code",
   "execution_count": 5,
   "id": "5cb7f013",
   "metadata": {},
   "outputs": [],
   "source": [
    "# open the training data pickle\n",
    "file = open(\"../../data/03_primary/training_data.pkl\", 'rb')\n",
    "\n",
    "# load the pickle file \n",
    "data = pickle.load(file)\n",
    "\n",
    "# close the file\n",
    "file.close()"
   ]
  },
  {
   "cell_type": "code",
   "execution_count": 6,
   "id": "f8a105ae",
   "metadata": {},
   "outputs": [],
   "source": [
    "rows, cols, labels, weights, headtail, train_size, test_size, nb_nodes, nb_edges = data"
   ]
  },
  {
   "cell_type": "code",
   "execution_count": 7,
   "id": "2d487a64",
   "metadata": {},
   "outputs": [
    {
     "data": {
      "text/plain": [
       "(5, 5, 4162, 47132)"
      ]
     },
     "execution_count": 7,
     "metadata": {},
     "output_type": "execute_result"
    }
   ],
   "source": [
    "train_size, test_size, nb_nodes, nb_edges "
   ]
  },
  {
   "cell_type": "code",
   "execution_count": 8,
   "id": "bc5371da",
   "metadata": {},
   "outputs": [
    {
     "data": {
      "text/plain": [
       "numpy.ndarray"
      ]
     },
     "execution_count": 8,
     "metadata": {},
     "output_type": "execute_result"
    }
   ],
   "source": [
    "type(headtail)"
   ]
  },
  {
   "cell_type": "code",
   "execution_count": 9,
   "id": "60180c93",
   "metadata": {},
   "outputs": [
    {
     "data": {
      "text/plain": [
       "array([list([0, 4119, 4127, 4134, 4136, 4146, 4154]),\n",
       "       list([1, 4121, 4122, 4133, 4140, 4146, 4149, 4151, 4152, 4155]),\n",
       "       list([2, 4112, 4130, 4134, 4136, 4142, 4155, 4157]), ...,\n",
       "       list([46, 147, 769, 1100, 1453, 1478, 1539, 1554, 1632, 1654, 1660, 1782, 1917, 1993, 2187, 2387, 2413, 2473, 2594, 2624, 2626, 2772, 2816, 2844, 2903, 2981, 3036, 3104, 3303, 3326, 3412, 3438, 3442, 3488, 3685, 3871, 4159]),\n",
       "       list([25, 48, 50, 61, 94, 108, 111, 123, 126, 137, 144, 149, 173, 188, 210, 224, 275, 289, 291, 295, 297, 302, 323, 330, 355, 365, 409, 415, 416, 497, 498, 509, 510, 529, 530, 552, 556, 571, 588, 593, 595, 613, 617, 629, 676, 706, 707, 751, 773, 793, 801, 808, 818, 821, 832, 848, 867, 868, 870, 889, 890, 893, 919, 961, 964, 997, 1000, 1007, 1017, 1050, 1064, 1076, 1079, 1080, 1086, 1138, 1141, 1143, 1151, 1156, 1241, 1270, 1281, 1287, 1374, 1385, 1398, 1413, 1416, 1425, 1452, 1507, 1521, 1530, 1534, 1548, 1553, 1557, 1584, 1586, 1607, 1611, 1616, 1617, 1654, 1661, 1662, 1664, 1672, 1675, 1735, 1785, 1816, 1874, 1890, 1912, 1936, 1941, 1943, 1946, 1949, 1970, 1981, 2043, 2062, 2074, 2080, 2096, 2101, 2112, 2118, 2141, 2143, 2151, 2153, 2175, 2176, 2235, 2293, 2363, 2383, 2400, 2404, 2412, 2422, 2423, 2424, 2430, 2445, 2452, 2487, 2569, 2603, 2630, 2638, 2643, 2656, 2698, 2700, 2701, 2733, 2746, 2756, 2769, 2788, 2802, 2814, 2845, 2848, 2851, 2852, 2863, 2869, 2874, 2890, 2896, 2899, 2916, 2957, 2984, 2989, 3043, 3057, 3072, 3075, 3096, 3121, 3125, 3127, 3145, 3172, 3205, 3212, 3213, 3229, 3230, 3233, 3255, 3273, 3322, 3384, 3421, 3448, 3455, 3458, 3461, 3483, 3497, 3498, 3535, 3539, 3543, 3546, 3549, 3568, 3583, 3606, 3632, 3658, 3664, 3672, 3673, 3676, 3677, 3705, 3742, 3767, 3802, 3809, 3811, 3819, 3823, 3826, 3832, 3908, 3914, 3930, 3942, 4001, 4011, 4012, 4013, 4039, 4042, 4052, 4061, 4064, 4074, 4084, 4104, 4106, 4160]),\n",
       "       list([15, 24, 25, 38, 41, 48, 50, 75, 78, 98, 109, 119, 122, 147, 156, 169, 171, 173, 187, 232, 246, 247, 261, 283, 290, 291, 308, 315, 318, 320, 322, 362, 366, 373, 374, 383, 386, 404, 405, 423, 434, 437, 439, 450, 467, 476, 484, 485, 501, 522, 533, 534, 539, 562, 568, 581, 594, 602, 611, 624, 638, 647, 649, 658, 671, 678, 682, 687, 706, 709, 713, 718, 720, 722, 727, 729, 739, 762, 764, 772, 787, 801, 812, 813, 839, 847, 853, 861, 870, 886, 891, 901, 909, 915, 918, 923, 929, 935, 936, 948, 969, 975, 978, 1001, 1002, 1033, 1034, 1038, 1039, 1043, 1050, 1059, 1063, 1078, 1084, 1085, 1089, 1098, 1112, 1119, 1121, 1133, 1134, 1165, 1173, 1197, 1200, 1209, 1217, 1222, 1226, 1230, 1235, 1236, 1238, 1268, 1282, 1296, 1300, 1322, 1341, 1363, 1365, 1411, 1416, 1421, 1428, 1444, 1453, 1481, 1492, 1505, 1506, 1519, 1533, 1545, 1570, 1581, 1598, 1610, 1619, 1624, 1626, 1628, 1632, 1637, 1638, 1640, 1654, 1659, 1671, 1679, 1693, 1708, 1713, 1715, 1720, 1724, 1733, 1746, 1770, 1773, 1788, 1791, 1796, 1801, 1809, 1813, 1815, 1836, 1843, 1848, 1859, 1881, 1886, 1889, 1905, 1909, 1926, 1933, 1939, 1945, 1947, 1955, 1962, 1976, 2009, 2012, 2019, 2023, 2051, 2052, 2069, 2078, 2080, 2088, 2097, 2128, 2132, 2138, 2146, 2159, 2167, 2168, 2181, 2188, 2197, 2198, 2204, 2209, 2221, 2224, 2228, 2232, 2234, 2235, 2236, 2248, 2249, 2272, 2279, 2281, 2282, 2287, 2294, 2295, 2307, 2323, 2335, 2338, 2346, 2347, 2353, 2364, 2365, 2366, 2373, 2376, 2387, 2407, 2410, 2420, 2432, 2435, 2437, 2449, 2452, 2455, 2456, 2465, 2473, 2480, 2488, 2495, 2497, 2501, 2510, 2517, 2537, 2539, 2548, 2555, 2560, 2561, 2572, 2574, 2585, 2586, 2589, 2594, 2599, 2609, 2615, 2624, 2629, 2640, 2645, 2651, 2654, 2661, 2668, 2683, 2688, 2697, 2702, 2711, 2723, 2724, 2726, 2729, 2734, 2738, 2744, 2756, 2758, 2772, 2784, 2799, 2803, 2804, 2805, 2811, 2818, 2824, 2839, 2844, 2862, 2863, 2867, 2874, 2883, 2885, 2901, 2903, 2918, 2921, 2938, 2940, 2942, 2949, 2952, 2954, 2955, 2963, 2964, 2981, 2983, 3002, 3009, 3018, 3034, 3042, 3054, 3082, 3085, 3105, 3116, 3121, 3127, 3129, 3130, 3149, 3154, 3161, 3162, 3165, 3186, 3188, 3204, 3206, 3208, 3219, 3226, 3234, 3245, 3246, 3247, 3251, 3274, 3277, 3296, 3301, 3302, 3303, 3310, 3318, 3325, 3329, 3353, 3360, 3365, 3370, 3381, 3386, 3390, 3392, 3394, 3400, 3404, 3412, 3438, 3442, 3444, 3459, 3466, 3467, 3488, 3494, 3497, 3503, 3512, 3517, 3525, 3528, 3529, 3534, 3535, 3538, 3559, 3569, 3590, 3595, 3608, 3609, 3616, 3620, 3641, 3643, 3644, 3649, 3652, 3654, 3663, 3693, 3695, 3699, 3721, 3749, 3764, 3775, 3781, 3784, 3787, 3811, 3816, 3821, 3833, 3835, 3856, 3859, 3860, 3871, 3885, 3887, 3895, 3897, 3903, 3911, 3934, 3940, 3946, 3951, 3954, 3963, 3966, 3968, 3973, 3986, 3993, 3995, 4002, 4012, 4031, 4033, 4039, 4047, 4058, 4061, 4071, 4079, 4081, 4090, 4096, 4102, 4161])],\n",
       "      dtype=object)"
      ]
     },
     "execution_count": 9,
     "metadata": {},
     "output_type": "execute_result"
    }
   ],
   "source": [
    "headtail #sparse matrix saving the node indexes of all edges "
   ]
  },
  {
   "cell_type": "code",
   "execution_count": 10,
   "id": "12ee00ed",
   "metadata": {},
   "outputs": [
    {
     "data": {
      "text/plain": [
       "[array([3317, 2363, 3396, ..., 1738, 2754, 2754], dtype=int32),\n",
       " array([2431, 2431, 2350, ..., 3564, 2144, 4055], dtype=int32),\n",
       " array([ 642, 3586,   67, ..., 2095, 3604, 2196], dtype=int32),\n",
       " array([3989, 3989, 1160, ...,  320,  782,  782], dtype=int32),\n",
       " array([2515,  255,  985, ..., 2817, 1885, 2495], dtype=int32),\n",
       " array([2495, 2495, 1447, ..., 1162, 3497, 3497], dtype=int32),\n",
       " array([ 308, 1099, 1099, ...,  225, 2671, 1855], dtype=int32),\n",
       " array([1948, 1747, 1381, ..., 1106, 3293, 3859], dtype=int32),\n",
       " array([2286, 2291, 2493, ..., 1003, 2395, 2186], dtype=int32),\n",
       " array([1384, 1259,  444, ...,  529, 1083, 3304], dtype=int32)]"
      ]
     },
     "execution_count": 10,
     "metadata": {},
     "output_type": "execute_result"
    }
   ],
   "source": [
    "rows"
   ]
  },
  {
   "cell_type": "code",
   "execution_count": 11,
   "id": "387c0682",
   "metadata": {},
   "outputs": [
    {
     "data": {
      "text/plain": [
       "[array([4148, 4154, 4127, ..., 4132, 4146, 4148], dtype=int32),\n",
       " array([4122, 4114, 4146, ..., 4131, 4150, 4142], dtype=int32),\n",
       " array([4158, 4131, 4146, ..., 4116, 4136, 4142], dtype=int32),\n",
       " array([4116, 4150, 4134, ..., 4117, 4143, 4123], dtype=int32),\n",
       " array([4149, 4149, 4127, ..., 4143, 4116, 4139], dtype=int32),\n",
       " array([4153, 4160, 4143, ..., 4157, 4112, 4135], dtype=int32),\n",
       " array([4152, 4154, 4120, ..., 4130, 4157, 4122], dtype=int32),\n",
       " array([4121, 4157, 4116, ..., 4157, 4114, 4157], dtype=int32),\n",
       " array([4157, 4157, 4142, ..., 4142, 4130, 4142], dtype=int32),\n",
       " array([4130, 4130, 4130, ..., 4143, 4130, 4130], dtype=int32)]"
      ]
     },
     "execution_count": 11,
     "metadata": {},
     "output_type": "execute_result"
    }
   ],
   "source": [
    "cols"
   ]
  },
  {
   "cell_type": "code",
   "execution_count": 22,
   "id": "496e07b7",
   "metadata": {},
   "outputs": [],
   "source": [
    "degrees = np.array([len(x) for x in headtail])\n",
    "num_snap = test_size + train_size\n",
    "labels = [torch.LongTensor(label) for label in labels]\n",
    "\n",
    "snap_train = list(range(num_snap))[:train_size]\n",
    "snap_test = list(range(num_snap))[train_size:]"
   ]
  },
  {
   "cell_type": "code",
   "execution_count": 24,
   "id": "8912d26d",
   "metadata": {},
   "outputs": [
    {
     "data": {
      "text/plain": [
       "[0, 1, 2, 3, 4]"
      ]
     },
     "execution_count": 24,
     "metadata": {},
     "output_type": "execute_result"
    }
   ],
   "source": [
    "snap_train"
   ]
  },
  {
   "cell_type": "code",
   "execution_count": 23,
   "id": "65fb1ae0",
   "metadata": {},
   "outputs": [
    {
     "data": {
      "text/plain": [
       "[5, 6, 7, 8, 9]"
      ]
     },
     "execution_count": 23,
     "metadata": {},
     "output_type": "execute_result"
    }
   ],
   "source": [
    "snap_test"
   ]
  },
  {
   "cell_type": "code",
   "execution_count": 27,
   "id": "933092ea",
   "metadata": {},
   "outputs": [
    {
     "data": {
      "text/plain": [
       "([tensor([0, 0, 0,  ..., 0, 0, 0]),\n",
       "  tensor([0, 0, 0,  ..., 0, 0, 0]),\n",
       "  tensor([0, 0, 1,  ..., 0, 0, 0]),\n",
       "  tensor([0, 0, 0,  ..., 0, 0, 0]),\n",
       "  tensor([1, 1, 0,  ..., 0, 0, 0]),\n",
       "  tensor([0, 0, 0,  ..., 0, 0, 0]),\n",
       "  tensor([1, 0, 0,  ..., 0, 0, 0]),\n",
       "  tensor([0, 0, 0,  ..., 0, 0, 0]),\n",
       "  tensor([0, 0, 0,  ..., 0, 0, 0]),\n",
       "  tensor([0, 0, 0,  ..., 0, 0, 0])],\n",
       " 10,\n",
       " torch.Size([5000]))"
      ]
     },
     "execution_count": 27,
     "metadata": {},
     "output_type": "execute_result"
    }
   ],
   "source": [
    "labels, len(labels), labels[0].shape"
   ]
  },
  {
   "cell_type": "code",
   "execution_count": null,
   "id": "71bb8ec2",
   "metadata": {},
   "outputs": [],
   "source": [
    "eigen_file_name = \"/home/ec2-user/SageMaker/anomaly-detection-spatial-temporal-data/data/05_model_input/eigen.pkl\""
   ]
  },
  {
   "cell_type": "code",
   "execution_count": null,
   "id": "16a060f3",
   "metadata": {},
   "outputs": [],
   "source": [
    "def get_adjs(rows, cols, weights, nb_nodes, eigen_file_name):\n",
    "    \"\"\"Generate adjacency matrix and conduct eigenvalue decomposition for node sampling\"\"\"\n",
    "    if not os.path.exists(eigen_file_name):\n",
    "        generate_eigen = True\n",
    "        print('Generating eigen as: ' + eigen_file_name)\n",
    "    else:\n",
    "        generate_eigen = False\n",
    "        print('Loading eigen from: ' + eigen_file_name)\n",
    "        with open(eigen_file_name, 'rb') as f:\n",
    "            eigen_adjs_sparse = pickle.load(f)\n",
    "        eigen_adjs = []\n",
    "        for eigen_adj_sparse in eigen_adjs_sparse:\n",
    "            eigen_adjs.append(np.array(eigen_adj_sparse.todense()))\n",
    "\n",
    "    adjs = []\n",
    "    if generate_eigen:\n",
    "        eigen_adjs = []\n",
    "        eigen_adjs_sparse = []\n",
    "\n",
    "    for i in range(len(rows)):\n",
    "        adj = sp.csr_matrix((weights[i], (rows[i], cols[i])), shape=(nb_nodes, nb_nodes), dtype=np.float32)\n",
    "        adjs.append(self.preprocess_adj(adj))\n",
    "        if self.compute_s:\n",
    "            if generate_eigen:\n",
    "                eigen_adj = self.c * inv((sp.eye(adj.shape[0]) - (1 - self.c) * self.adj_normalize(adj)).toarray())\n",
    "                for p in range(adj.shape[0]):\n",
    "                    eigen_adj[p,p] = 0.\n",
    "                eigen_adj = self.normalize(eigen_adj)\n",
    "                eigen_adjs.append(eigen_adj)\n",
    "                eigen_adjs_sparse.append(sp.csr_matrix(eigen_adj))\n",
    "\n",
    "        else:\n",
    "            eigen_adjs.append(None)\n",
    "\n",
    "    if generate_eigen:\n",
    "        with open(eigen_file_name, 'wb') as f:\n",
    "            pickle.dump(eigen_adjs_sparse, f, pickle.HIGHEST_PROTOCOL)\n",
    "\n",
    "    return adjs, eigen_adjs"
   ]
  },
  {
   "cell_type": "code",
   "execution_count": null,
   "id": "8e0edbc3",
   "metadata": {},
   "outputs": [],
   "source": [
    "edges = [np.vstack((rows[i], cols[i])).T for i in range(num_snap)]\n",
    "adjs, eigen_adjs = self.get_adjs(rows, cols, weights, nb_nodes)"
   ]
  },
  {
   "cell_type": "code",
   "execution_count": null,
   "id": "4bbd13d9",
   "metadata": {},
   "outputs": [],
   "source": [
    "data_dict = {\n",
    "    'X': None, \n",
    "    'A': adjs, \n",
    "    'S': eigen_adjs, \n",
    "    'index_id_map': index_id_map, \n",
    "    'edges': edges,\n",
    "    'y': labels, \n",
    "    'idx': idx, \n",
    "    'snap_train': snap_train, \n",
    "    'degrees': degrees,\n",
    "    'snap_test': snap_test, \n",
    "    'num_snap': num_snap}"
   ]
  },
  {
   "cell_type": "markdown",
   "id": "35c59ed5",
   "metadata": {},
   "source": [
    "# define model "
   ]
  },
  {
   "cell_type": "code",
   "execution_count": 48,
   "id": "b1e1dc14",
   "metadata": {},
   "outputs": [],
   "source": [
    "from anomaly_detection_spatial_temporal_data.model.dynamic_graph import Taddy\n",
    "from anomaly_detection_spatial_temporal_data.model.model_config import TaddyConfig"
   ]
  },
  {
   "cell_type": "code",
   "execution_count": 52,
   "id": "073f240c",
   "metadata": {},
   "outputs": [],
   "source": [
    "model_config_file = '../../conf/base/parameters/taddy.yml'"
   ]
  },
  {
   "cell_type": "code",
   "execution_count": 53,
   "id": "1aa062ca",
   "metadata": {},
   "outputs": [],
   "source": [
    "import yaml"
   ]
  },
  {
   "cell_type": "code",
   "execution_count": 54,
   "id": "9dab536f",
   "metadata": {},
   "outputs": [
    {
     "name": "stdout",
     "output_type": "stream",
     "text": [
      "{'data_load_options': {'c': 0.15, 'eps': 0.001, 'test_size': 0.2, 'random_state': 3, 'batch_size': 256, 'load_all_tag': False, 'neighbor_num': 5, 'window_size': 2, 'compute_s': True}, 'model_options': {'neighbor_num': 5, 'window_size': 2, 'batch_size': 256, 'embedding_dim': 32, 'num_hidden_layers': 2, 'num_attention_heads': 2, 'seed': 1, 'print_feq': 10, 'lr': 0.001, 'weight_decay': '5e-4', 'max_epoch': 100, 'spy_tag': True, 'max_hop_dis_index': 100, 'max_inti_pos_index': 100, 'hidden_act': 'gelu', 'hidden_dropout_prob': 0.5, 'attention_probs_dropout_prob': 0.3, 'initializer_range': 0.02, 'layer_norm_eps': 1e-12, 'is_decoder': False, 'save_directory': '/home/ec2-user/SageMaker/anomaly-detection-spatial-temporal-data/data/07_model_output/'}, 'infer_options': {'snap_num': 6}}\n"
     ]
    }
   ],
   "source": [
    "with open(model_config_file, \"r\") as stream:\n",
    "    try:\n",
    "        mode_config=yaml.safe_load(stream)\n",
    "        print(mode_config)\n",
    "    except yaml.YAMLError as exc:\n",
    "        print(exc)"
   ]
  },
  {
   "cell_type": "code",
   "execution_count": null,
   "id": "85362176",
   "metadata": {},
   "outputs": [],
   "source": [
    "model_config = TaddyConfig(mode_config['model_options'])\n",
    "model_obj = Taddy(data_dict, model_config)"
   ]
  },
  {
   "cell_type": "markdown",
   "id": "435c8395",
   "metadata": {},
   "source": [
    "# train model"
   ]
  },
  {
   "cell_type": "code",
   "execution_count": null,
   "id": "413d6827",
   "metadata": {},
   "outputs": [],
   "source": [
    "learned_result,save_model_path = model_obj.run()"
   ]
  },
  {
   "cell_type": "markdown",
   "id": "b8664d16",
   "metadata": {},
   "source": [
    "# model training result "
   ]
  },
  {
   "cell_type": "code",
   "execution_count": 12,
   "id": "a7e8e360",
   "metadata": {},
   "outputs": [],
   "source": [
    "file = open(\"../../data/07_model_output/train_result.pkl\", 'rb')\n",
    "\n",
    "# dump information to that file\n",
    "train_result = pickle.load(file)\n",
    "\n",
    "# close the file\n",
    "file.close()"
   ]
  },
  {
   "cell_type": "code",
   "execution_count": 13,
   "id": "bb8d3fde",
   "metadata": {},
   "outputs": [
    {
     "data": {
      "text/plain": [
       "{1: {'train_loss': 0.6881906241178513},\n",
       " 2: {'train_loss': 0.6814479827880859},\n",
       " 3: {'train_loss': 0.6744112074375153},\n",
       " 4: {'train_loss': 0.6597873270511627},\n",
       " 5: {'train_loss': 0.6489938050508499},\n",
       " 6: {'train_loss': 0.6022640466690063},\n",
       " 7: {'train_loss': 0.5824433118104935},\n",
       " 8: {'train_loss': 0.545023500919342},\n",
       " 9: {'train_loss': 0.4961806461215019},\n",
       " 10: {'train_loss': 0.4321019649505615, 'test_auc': 0.6270922835146469},\n",
       " 11: {'train_loss': 0.43047888576984406},\n",
       " 12: {'train_loss': 0.3681452348828316},\n",
       " 13: {'train_loss': 0.37437988817691803},\n",
       " 14: {'train_loss': 0.3437521904706955},\n",
       " 15: {'train_loss': 0.41434410959482193},\n",
       " 16: {'train_loss': 0.37434427440166473},\n",
       " 17: {'train_loss': 0.2873542085289955},\n",
       " 18: {'train_loss': 0.3646049425005913},\n",
       " 19: {'train_loss': 0.34459684044122696},\n",
       " 20: {'train_loss': 0.3836841285228729, 'test_auc': 0.6978857767624783},\n",
       " 21: {'train_loss': 0.28783082962036133},\n",
       " 22: {'train_loss': 0.44203196465969086},\n",
       " 23: {'train_loss': 0.2939289063215256},\n",
       " 24: {'train_loss': 0.3500358909368515},\n",
       " 25: {'train_loss': 0.3118945583701134},\n",
       " 26: {'train_loss': 0.3562314435839653},\n",
       " 27: {'train_loss': 0.31539236754179},\n",
       " 28: {'train_loss': 0.3349982053041458},\n",
       " 29: {'train_loss': 0.3261977583169937},\n",
       " 30: {'train_loss': 0.266488429158926, 'test_auc': 0.6974280086377904},\n",
       " 31: {'train_loss': 0.3323410898447037},\n",
       " 32: {'train_loss': 0.37242475897073746},\n",
       " 33: {'train_loss': 0.3096349537372589},\n",
       " 34: {'train_loss': 0.2479766085743904},\n",
       " 35: {'train_loss': 0.38335293531417847},\n",
       " 36: {'train_loss': 0.3240865543484688},\n",
       " 37: {'train_loss': 0.30925312265753746},\n",
       " 38: {'train_loss': 0.30370648205280304},\n",
       " 39: {'train_loss': 0.2916625589132309},\n",
       " 40: {'train_loss': 0.32356294989585876, 'test_auc': 0.6551429048042547},\n",
       " 41: {'train_loss': 0.2966008558869362},\n",
       " 42: {'train_loss': 0.2867996096611023},\n",
       " 43: {'train_loss': 0.30895112454891205},\n",
       " 44: {'train_loss': 0.3048357740044594},\n",
       " 45: {'train_loss': 0.40653037279844284},\n",
       " 46: {'train_loss': 0.33427221328020096},\n",
       " 47: {'train_loss': 0.32533973455429077},\n",
       " 48: {'train_loss': 0.4532245174050331},\n",
       " 49: {'train_loss': 0.3372139036655426},\n",
       " 50: {'train_loss': 0.33904243633151054, 'test_auc': 0.650656498826118},\n",
       " 51: {'train_loss': 0.2703070417046547},\n",
       " 52: {'train_loss': 0.24901023507118225},\n",
       " 53: {'train_loss': 0.31383172050118446},\n",
       " 54: {'train_loss': 0.28085857629776},\n",
       " 55: {'train_loss': 0.2880713827908039},\n",
       " 56: {'train_loss': 0.2925252765417099},\n",
       " 57: {'train_loss': 0.3048916533589363},\n",
       " 58: {'train_loss': 0.30176275223493576},\n",
       " 59: {'train_loss': 0.2769281007349491},\n",
       " 60: {'train_loss': 0.3682885318994522, 'test_auc': 0.6445184038749},\n",
       " 61: {'train_loss': 0.24960511550307274},\n",
       " 62: {'train_loss': 0.2745503783226013},\n",
       " 63: {'train_loss': 0.4091033935546875},\n",
       " 64: {'train_loss': 0.32307929545640945},\n",
       " 65: {'train_loss': 0.357177272439003},\n",
       " 66: {'train_loss': 0.2807219326496124},\n",
       " 67: {'train_loss': 0.2911263182759285},\n",
       " 68: {'train_loss': 0.324469231069088},\n",
       " 69: {'train_loss': 0.28489065542817116},\n",
       " 70: {'train_loss': 0.3248182311654091, 'test_auc': 0.6557780397923815},\n",
       " 71: {'train_loss': 0.29109062254428864},\n",
       " 72: {'train_loss': 0.335558220744133},\n",
       " 73: {'train_loss': 0.2558344043791294},\n",
       " 74: {'train_loss': 0.443354070186615},\n",
       " 75: {'train_loss': 0.3000686727464199},\n",
       " 76: {'train_loss': 0.3590598329901695},\n",
       " 77: {'train_loss': 0.32521335780620575},\n",
       " 78: {'train_loss': 0.24232283234596252},\n",
       " 79: {'train_loss': 0.28365442901849747},\n",
       " 80: {'train_loss': 0.2577895522117615, 'test_auc': 0.6743497237130138},\n",
       " 81: {'train_loss': 0.3019827753305435},\n",
       " 82: {'train_loss': 0.2877640463411808},\n",
       " 83: {'train_loss': 0.33427001908421516},\n",
       " 84: {'train_loss': 0.306233286857605},\n",
       " 85: {'train_loss': 0.29321734607219696},\n",
       " 86: {'train_loss': 0.2403346784412861},\n",
       " 87: {'train_loss': 0.37417643517255783},\n",
       " 88: {'train_loss': 0.24860887974500656},\n",
       " 89: {'train_loss': 0.2988126203417778},\n",
       " 90: {'train_loss': 0.24105066433548927, 'test_auc': 0.6637577876181425},\n",
       " 91: {'train_loss': 0.27863482013344765},\n",
       " 92: {'train_loss': 0.3076605051755905},\n",
       " 93: {'train_loss': 0.3362888842821121},\n",
       " 94: {'train_loss': 0.3042881116271019},\n",
       " 95: {'train_loss': 0.2861672416329384},\n",
       " 96: {'train_loss': 0.241493109613657},\n",
       " 97: {'train_loss': 0.3758799806237221},\n",
       " 98: {'train_loss': 0.3434022292494774},\n",
       " 99: {'train_loss': 0.2744751423597336},\n",
       " 100: {'train_loss': 0.34400584548711777, 'test_auc': 0.6847790486631674}}"
      ]
     },
     "execution_count": 13,
     "metadata": {},
     "output_type": "execute_result"
    }
   ],
   "source": [
    "train_result"
   ]
  },
  {
   "cell_type": "markdown",
   "id": "ef3c6fb8",
   "metadata": {},
   "source": [
    "# load model "
   ]
  },
  {
   "cell_type": "code",
   "execution_count": 15,
   "id": "9f20f6f5",
   "metadata": {},
   "outputs": [
    {
     "name": "stdout",
     "output_type": "stream",
     "text": [
      "Collecting transformers==3.5.1\n",
      "  Using cached transformers-3.5.1-py3-none-any.whl (1.3 MB)\n",
      "Requirement already satisfied: regex!=2019.12.17 in /home/ec2-user/anaconda3/envs/pytorch_latest_p36/lib/python3.6/site-packages (from transformers==3.5.1) (2020.11.13)\n",
      "Requirement already satisfied: packaging in /home/ec2-user/anaconda3/envs/pytorch_latest_p36/lib/python3.6/site-packages (from transformers==3.5.1) (21.3)\n",
      "Requirement already satisfied: protobuf in /home/ec2-user/anaconda3/envs/pytorch_latest_p36/lib/python3.6/site-packages (from transformers==3.5.1) (3.19.1)\n",
      "Collecting filelock\n",
      "  Downloading filelock-3.4.1-py3-none-any.whl (9.9 kB)\n",
      "Collecting sentencepiece==0.1.91\n",
      "  Downloading sentencepiece-0.1.91-cp36-cp36m-manylinux1_x86_64.whl (1.1 MB)\n",
      "     |████████████████████████████████| 1.1 MB 33.6 MB/s            \n",
      "\u001b[?25hCollecting tokenizers==0.9.3\n",
      "  Downloading tokenizers-0.9.3-cp36-cp36m-manylinux1_x86_64.whl (2.9 MB)\n",
      "     |████████████████████████████████| 2.9 MB 81.8 MB/s            \n",
      "\u001b[?25hRequirement already satisfied: dataclasses in /home/ec2-user/anaconda3/envs/pytorch_latest_p36/lib/python3.6/site-packages (from transformers==3.5.1) (0.8)\n",
      "Requirement already satisfied: numpy in /home/ec2-user/anaconda3/envs/pytorch_latest_p36/lib/python3.6/site-packages (from transformers==3.5.1) (1.19.2)\n",
      "Requirement already satisfied: requests in /home/ec2-user/anaconda3/envs/pytorch_latest_p36/lib/python3.6/site-packages (from transformers==3.5.1) (2.26.0)\n",
      "Requirement already satisfied: tqdm>=4.27 in /home/ec2-user/anaconda3/envs/pytorch_latest_p36/lib/python3.6/site-packages (from transformers==3.5.1) (4.62.3)\n",
      "Collecting sacremoses\n",
      "  Using cached sacremoses-0.0.53.tar.gz (880 kB)\n",
      "  Preparing metadata (setup.py) ... \u001b[?25ldone\n",
      "\u001b[?25hRequirement already satisfied: pyparsing!=3.0.5,>=2.0.2 in /home/ec2-user/anaconda3/envs/pytorch_latest_p36/lib/python3.6/site-packages (from packaging->transformers==3.5.1) (2.4.7)\n",
      "Requirement already satisfied: urllib3<1.27,>=1.21.1 in /home/ec2-user/anaconda3/envs/pytorch_latest_p36/lib/python3.6/site-packages (from requests->transformers==3.5.1) (1.26.8)\n",
      "Requirement already satisfied: idna<4,>=2.5 in /home/ec2-user/anaconda3/envs/pytorch_latest_p36/lib/python3.6/site-packages (from requests->transformers==3.5.1) (3.1)\n",
      "Requirement already satisfied: charset-normalizer~=2.0.0 in /home/ec2-user/anaconda3/envs/pytorch_latest_p36/lib/python3.6/site-packages (from requests->transformers==3.5.1) (2.0.9)\n",
      "Requirement already satisfied: certifi>=2017.4.17 in /home/ec2-user/anaconda3/envs/pytorch_latest_p36/lib/python3.6/site-packages (from requests->transformers==3.5.1) (2021.5.30)\n",
      "Requirement already satisfied: six in /home/ec2-user/anaconda3/envs/pytorch_latest_p36/lib/python3.6/site-packages (from sacremoses->transformers==3.5.1) (1.15.0)\n",
      "Requirement already satisfied: click in /home/ec2-user/anaconda3/envs/pytorch_latest_p36/lib/python3.6/site-packages (from sacremoses->transformers==3.5.1) (7.1.2)\n",
      "Requirement already satisfied: joblib in /home/ec2-user/anaconda3/envs/pytorch_latest_p36/lib/python3.6/site-packages (from sacremoses->transformers==3.5.1) (1.0.1)\n",
      "Building wheels for collected packages: sacremoses\n",
      "  Building wheel for sacremoses (setup.py) ... \u001b[?25ldone\n",
      "\u001b[?25h  Created wheel for sacremoses: filename=sacremoses-0.0.53-py3-none-any.whl size=895254 sha256=39176a330014d5f8fc56eb273a0eb250624d099acf1b8dc1104afe186fb83508\n",
      "  Stored in directory: /home/ec2-user/.cache/pip/wheels/4c/64/31/e9900a234b23fb3e9dc565d6114a9d6ff84a72dbdd356502b4\n",
      "Successfully built sacremoses\n",
      "Installing collected packages: tokenizers, sentencepiece, sacremoses, filelock, transformers\n",
      "Successfully installed filelock-3.4.1 sacremoses-0.0.53 sentencepiece-0.1.91 tokenizers-0.9.3 transformers-3.5.1\n"
     ]
    }
   ],
   "source": [
    "! pip install transformers==3.5.1"
   ]
  },
  {
   "cell_type": "code",
   "execution_count": 16,
   "id": "3ec354c1",
   "metadata": {},
   "outputs": [],
   "source": [
    "import torch\n",
    "import transformers"
   ]
  },
  {
   "cell_type": "code",
   "execution_count": 17,
   "id": "99628531",
   "metadata": {},
   "outputs": [],
   "source": [
    "model = torch.load('/home/ec2-user/SageMaker/anomaly-detection-spatial-temporal-data/data/07_model_output/taddy_model_59.pth')"
   ]
  },
  {
   "cell_type": "code",
   "execution_count": 18,
   "id": "a2e6f070",
   "metadata": {},
   "outputs": [
    {
     "data": {
      "text/plain": [
       "anomaly_detection_spatial_temporal_data.model.dynamic_graph.Taddy"
      ]
     },
     "execution_count": 18,
     "metadata": {},
     "output_type": "execute_result"
    }
   ],
   "source": [
    "type(model)"
   ]
  },
  {
   "cell_type": "code",
   "execution_count": 37,
   "id": "9b53ea9c",
   "metadata": {},
   "outputs": [],
   "source": [
    "snap_num = 9"
   ]
  },
  {
   "cell_type": "code",
   "execution_count": 38,
   "id": "4b34dc8c",
   "metadata": {},
   "outputs": [
    {
     "name": "stdout",
     "output_type": "stream",
     "text": [
      "Generating embeddings...\n",
      "Embeddings created!\n"
     ]
    }
   ],
   "source": [
    "pred = model.predict(snap_num)"
   ]
  },
  {
   "cell_type": "code",
   "execution_count": 39,
   "id": "8bda6461",
   "metadata": {},
   "outputs": [
    {
     "data": {
      "text/plain": [
       "numpy.ndarray"
      ]
     },
     "execution_count": 39,
     "metadata": {},
     "output_type": "execute_result"
    }
   ],
   "source": [
    "type(pred)"
   ]
  },
  {
   "cell_type": "code",
   "execution_count": 40,
   "id": "b92c147a",
   "metadata": {},
   "outputs": [
    {
     "data": {
      "text/plain": [
       "array([0.0654242 , 0.0654242 , 0.06851925, ..., 0.98270595, 0.06542419,\n",
       "       0.06851923], dtype=float32)"
      ]
     },
     "execution_count": 40,
     "metadata": {},
     "output_type": "execute_result"
    }
   ],
   "source": [
    "pred"
   ]
  },
  {
   "cell_type": "code",
   "execution_count": 41,
   "id": "ddba9954",
   "metadata": {},
   "outputs": [
    {
     "data": {
      "text/plain": [
       "tensor([0, 0, 0,  ..., 0, 0, 0])"
      ]
     },
     "execution_count": 41,
     "metadata": {},
     "output_type": "execute_result"
    }
   ],
   "source": [
    "labels[1]"
   ]
  },
  {
   "cell_type": "code",
   "execution_count": 42,
   "id": "d83168bf",
   "metadata": {},
   "outputs": [],
   "source": [
    "from sklearn import metrics"
   ]
  },
  {
   "cell_type": "code",
   "execution_count": 43,
   "id": "265e29b2",
   "metadata": {},
   "outputs": [],
   "source": [
    "auc = metrics.roc_auc_score(labels[snap_num],pred)"
   ]
  },
  {
   "cell_type": "code",
   "execution_count": 44,
   "id": "ba974d42",
   "metadata": {},
   "outputs": [
    {
     "data": {
      "text/plain": [
       "0.8840151730005671"
      ]
     },
     "execution_count": 44,
     "metadata": {},
     "output_type": "execute_result"
    }
   ],
   "source": [
    "auc"
   ]
  },
  {
   "cell_type": "markdown",
   "id": "5a934ad1",
   "metadata": {},
   "source": [
    "### load pipeline inference result"
   ]
  },
  {
   "cell_type": "code",
   "execution_count": 55,
   "id": "7f453014",
   "metadata": {},
   "outputs": [],
   "source": [
    "inference_result_filepath_pipeline = \"../../data/07_model_output/inference_result.npz\""
   ]
  },
  {
   "cell_type": "code",
   "execution_count": 56,
   "id": "db038455",
   "metadata": {},
   "outputs": [],
   "source": [
    "# check if inference result of the pipeline run is exsiting in the file path \n",
    "inference_result = np.load(inference_result_filepath_pipeline)"
   ]
  },
  {
   "cell_type": "code",
   "execution_count": 57,
   "id": "87e6af49",
   "metadata": {},
   "outputs": [
    {
     "data": {
      "text/plain": [
       "array([0.04597111, 0.04597111, 0.5110733 , ..., 0.4481242 , 0.04574715,\n",
       "       0.29438794], dtype=float32)"
      ]
     },
     "execution_count": 57,
     "metadata": {},
     "output_type": "execute_result"
    }
   ],
   "source": [
    "inference_result['data']"
   ]
  },
  {
   "cell_type": "code",
   "execution_count": null,
   "id": "a7bb79b2",
   "metadata": {},
   "outputs": [],
   "source": []
  }
 ],
 "metadata": {
  "kernelspec": {
   "display_name": "conda_pytorch_latest_p36",
   "language": "python",
   "name": "conda_pytorch_latest_p36"
  },
  "language_info": {
   "codemirror_mode": {
    "name": "ipython",
    "version": 3
   },
   "file_extension": ".py",
   "mimetype": "text/x-python",
   "name": "python",
   "nbconvert_exporter": "python",
   "pygments_lexer": "ipython3",
   "version": "3.6.13"
  }
 },
 "nbformat": 4,
 "nbformat_minor": 5
}
