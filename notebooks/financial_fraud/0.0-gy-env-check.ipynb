{
 "cells": [
  {
   "cell_type": "markdown",
   "id": "ea18dc39",
   "metadata": {},
   "source": [
    "Copyright Amazon.com, Inc. or its affiliates. All Rights Reserved.\n",
    "\n",
    "SPDX-License-Identifier: Apache-2.0\n"
   ]
  },
  {
   "cell_type": "markdown",
   "id": "34bca0aa",
   "metadata": {},
   "source": [
    "Recommended env configuration following the instruction in **[TADDY](https://github.com/yuetan031/TADDY_pytorch)**\n",
    "\n",
    "### Requirments\n",
    "* Python==3.8\n",
    "* PyTorch==1.7.1\n",
    "* Transformers==3.5.1\n",
    "* Scipy==1.5.2\n",
    "* Numpy==1.19.2\n",
    "* Networkx==2.5\n",
    "* Scikit-learn==0.23.2\n",
    "\n"
   ]
  },
  {
   "cell_type": "code",
   "execution_count": 22,
   "id": "0560b5e7",
   "metadata": {},
   "outputs": [],
   "source": [
    "import sys \n",
    "sys.path.append('../../src/anomaly_detection_spatial_temporal_data/')"
   ]
  },
  {
   "cell_type": "code",
   "execution_count": 23,
   "id": "06c416f2",
   "metadata": {},
   "outputs": [
    {
     "name": "stdout",
     "output_type": "stream",
     "text": [
      "The autoreload extension is already loaded. To reload it, use:\n",
      "  %reload_ext autoreload\n"
     ]
    }
   ],
   "source": [
    "%load_ext autoreload\n",
    "%autoreload 2"
   ]
  },
  {
   "cell_type": "code",
   "execution_count": 32,
   "id": "bb87ab6a",
   "metadata": {},
   "outputs": [],
   "source": [
    "from project_setting import TADDY"
   ]
  },
  {
   "cell_type": "code",
   "execution_count": 33,
   "id": "72fcedbb",
   "metadata": {},
   "outputs": [
    {
     "name": "stdout",
     "output_type": "stream",
     "text": [
      "================================\n",
      "module checker\n",
      "================================\n",
      "--------------------------------\n",
      "torch version: 1.7.1\n",
      "cuda version: 10.1\n",
      "Transformer version: 3.5.1\n",
      "--------------------------------\n",
      "Scipy version: 1.5.3\n",
      "--------------------------------\n",
      "Numpy version: 1.19.2\n",
      "--------------------------------\n",
      "Networkx version: 2.5\n",
      "--------------------------------\n",
      "Scikit-learn version: 0.24.1\n",
      "--------------------------------\n"
     ]
    }
   ],
   "source": [
    "taddy_env = TADDY()"
   ]
  },
  {
   "cell_type": "code",
   "execution_count": null,
   "id": "739743c6",
   "metadata": {},
   "outputs": [],
   "source": []
  }
 ],
 "metadata": {
  "kernelspec": {
   "display_name": "conda_pytorch_latest_p36",
   "language": "python",
   "name": "conda_pytorch_latest_p36"
  },
  "language_info": {
   "codemirror_mode": {
    "name": "ipython",
    "version": 3
   },
   "file_extension": ".py",
   "mimetype": "text/x-python",
   "name": "python",
   "nbconvert_exporter": "python",
   "pygments_lexer": "ipython3",
   "version": "3.6.13"
  }
 },
 "nbformat": 4,
 "nbformat_minor": 5
}
