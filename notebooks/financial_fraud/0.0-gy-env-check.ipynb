{
 "cells": [
  {
   "cell_type": "markdown",
   "id": "1409c914",
   "metadata": {},
   "source": [
    "Copyright Amazon.com, Inc. or its affiliates. All Rights Reserved.\n",
    "\n",
    "SPDX-License-Identifier: Apache-2.0\n"
   ]
  },
  {
   "cell_type": "markdown",
   "id": "6479ae84",
   "metadata": {},
   "source": [
    "Recommended env configuration following the instruction in **[TADDY](https://github.com/yuetan031/TADDY_pytorch)**\n",
    "\n",
    "### Requirments for TADDY\n",
    "* Python==3.8\n",
    "* PyTorch==1.7.1\n",
    "* Transformers==3.5.1\n",
    "* Scipy==1.5.2\n",
    "* Numpy==1.19.2\n",
    "* Networkx==2.5\n",
    "* Scikit-learn==0.23.2\n",
    "\n"
   ]
  },
  {
   "cell_type": "code",
   "execution_count": 1,
   "id": "1d9274a5",
   "metadata": {},
   "outputs": [],
   "source": [
    "import sys \n",
    "sys.path.append('../../src/anomaly_detection_spatial_temporal_data/')"
   ]
  },
  {
   "cell_type": "code",
   "execution_count": 2,
   "id": "e67d52f2",
   "metadata": {},
   "outputs": [],
   "source": [
    "%load_ext autoreload\n",
    "%autoreload 2"
   ]
  },
  {
   "cell_type": "code",
   "execution_count": 3,
   "id": "f2ab3b4d",
   "metadata": {},
   "outputs": [
    {
     "name": "stderr",
     "output_type": "stream",
     "text": [
      "/home/ec2-user/SageMaker/anomaly-detection-spatial-temporal-data-workshop/src/kedro-taddy-venv/lib/python3.7/site-packages/tqdm/auto.py:22: TqdmWarning: IProgress not found. Please update jupyter and ipywidgets. See https://ipywidgets.readthedocs.io/en/stable/user_install.html\n",
      "  from .autonotebook import tqdm as notebook_tqdm\n"
     ]
    }
   ],
   "source": [
    "from project_setting import TADDY"
   ]
  },
  {
   "cell_type": "code",
   "execution_count": 4,
   "id": "89f5521f",
   "metadata": {},
   "outputs": [
    {
     "name": "stdout",
     "output_type": "stream",
     "text": [
      "================================\n",
      "module checker\n",
      "================================\n",
      "--------------------------------\n",
      "torch version: 1.7.1\n",
      "cuda version: 10.2\n",
      "Transformer version: 3.5.1\n",
      "--------------------------------\n",
      "Scipy version: 1.7.3\n",
      "--------------------------------\n",
      "Numpy version: 1.21.6\n",
      "--------------------------------\n",
      "Networkx version: 2.5\n",
      "--------------------------------\n",
      "Scikit-learn version: 1.0.2\n",
      "--------------------------------\n"
     ]
    }
   ],
   "source": [
    "taddy_env = TADDY()"
   ]
  },
  {
   "cell_type": "code",
   "execution_count": null,
   "id": "3b9d15ed",
   "metadata": {},
   "outputs": [],
   "source": []
  }
 ],
 "metadata": {
  "kernelspec": {
   "display_name": "kedro-taddy-venv",
   "language": "python",
   "name": "kedro-taddy-venv"
  },
  "language_info": {
   "codemirror_mode": {
    "name": "ipython",
    "version": 3
   },
   "file_extension": ".py",
   "mimetype": "text/x-python",
   "name": "python",
   "nbconvert_exporter": "python",
   "pygments_lexer": "ipython3",
   "version": "3.7.12"
  }
 },
 "nbformat": 4,
 "nbformat_minor": 5
}
