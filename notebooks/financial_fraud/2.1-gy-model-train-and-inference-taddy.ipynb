{
 "cells": [
  {
   "cell_type": "markdown",
   "id": "7b30ab1c",
   "metadata": {},
   "source": [
    "Copyright Amazon.com, Inc. or its affiliates. All Rights Reserved.\n",
    "\n",
    "SPDX-License-Identifier: Apache-2.0"
   ]
  },
  {
   "cell_type": "markdown",
   "id": "441e11dd",
   "metadata": {},
   "source": [
    "# Notebook for dataloader, model training and inference (notebook has been tested under SageMaker pytorch_latest_p_36 environment)\n",
    "## This notebook consists of steps to \n",
    "1. load processed graph data into a data dict  raw data into edge, node list data for the data loader for model training \n",
    "2. load the model training configurations \n",
    "3. pass the data dict in step (1) to the model \n",
    "4. train the model \n",
    "5. apply model inference on the specific snapshot"
   ]
  },
  {
   "cell_type": "code",
   "execution_count": 1,
   "id": "3c87a2d7",
   "metadata": {},
   "outputs": [],
   "source": [
    "import sys \n",
    "import os"
   ]
  },
  {
   "cell_type": "code",
   "execution_count": 2,
   "id": "52262062",
   "metadata": {},
   "outputs": [],
   "source": [
    "sys.path.append('/home/ec2-user/SageMaker/anomaly-detection-spatial-temporal-data/')\n",
    "sys.path.append('/home/ec2-user/SageMaker/anomaly-detection-spatial-temporal-data/src/')"
   ]
  },
  {
   "cell_type": "code",
   "execution_count": 3,
   "id": "84d976e9",
   "metadata": {},
   "outputs": [],
   "source": [
    "%load_ext autoreload\n",
    "%autoreload 2"
   ]
  },
  {
   "cell_type": "code",
   "execution_count": 4,
   "id": "231753da",
   "metadata": {},
   "outputs": [],
   "source": [
    "import pickle\n",
    "import numpy as np\n",
    "import torch"
   ]
  },
  {
   "cell_type": "code",
   "execution_count": 5,
   "id": "7683eed2",
   "metadata": {},
   "outputs": [
    {
     "name": "stdout",
     "output_type": "stream",
     "text": [
      "Requirement already satisfied: transformers==3.5.1 in /home/ec2-user/anaconda3/envs/pytorch_latest_p36/lib/python3.6/site-packages (3.5.1)\n",
      "Requirement already satisfied: protobuf in /home/ec2-user/anaconda3/envs/pytorch_latest_p36/lib/python3.6/site-packages (from transformers==3.5.1) (3.19.1)\n",
      "Requirement already satisfied: requests in /home/ec2-user/anaconda3/envs/pytorch_latest_p36/lib/python3.6/site-packages (from transformers==3.5.1) (2.26.0)\n",
      "Requirement already satisfied: sacremoses in /home/ec2-user/anaconda3/envs/pytorch_latest_p36/lib/python3.6/site-packages (from transformers==3.5.1) (0.0.53)\n",
      "Requirement already satisfied: filelock in /home/ec2-user/anaconda3/envs/pytorch_latest_p36/lib/python3.6/site-packages (from transformers==3.5.1) (3.4.1)\n",
      "Requirement already satisfied: dataclasses in /home/ec2-user/anaconda3/envs/pytorch_latest_p36/lib/python3.6/site-packages (from transformers==3.5.1) (0.8)\n",
      "Requirement already satisfied: packaging in /home/ec2-user/anaconda3/envs/pytorch_latest_p36/lib/python3.6/site-packages (from transformers==3.5.1) (21.3)\n",
      "Requirement already satisfied: regex!=2019.12.17 in /home/ec2-user/anaconda3/envs/pytorch_latest_p36/lib/python3.6/site-packages (from transformers==3.5.1) (2020.11.13)\n",
      "Requirement already satisfied: sentencepiece==0.1.91 in /home/ec2-user/anaconda3/envs/pytorch_latest_p36/lib/python3.6/site-packages (from transformers==3.5.1) (0.1.91)\n",
      "Requirement already satisfied: tokenizers==0.9.3 in /home/ec2-user/anaconda3/envs/pytorch_latest_p36/lib/python3.6/site-packages (from transformers==3.5.1) (0.9.3)\n",
      "Requirement already satisfied: numpy in /home/ec2-user/anaconda3/envs/pytorch_latest_p36/lib/python3.6/site-packages (from transformers==3.5.1) (1.19.2)\n",
      "Requirement already satisfied: tqdm>=4.27 in /home/ec2-user/anaconda3/envs/pytorch_latest_p36/lib/python3.6/site-packages (from transformers==3.5.1) (4.62.3)\n",
      "Requirement already satisfied: pyparsing!=3.0.5,>=2.0.2 in /home/ec2-user/anaconda3/envs/pytorch_latest_p36/lib/python3.6/site-packages (from packaging->transformers==3.5.1) (2.4.7)\n",
      "Requirement already satisfied: urllib3<1.27,>=1.21.1 in /home/ec2-user/anaconda3/envs/pytorch_latest_p36/lib/python3.6/site-packages (from requests->transformers==3.5.1) (1.26.8)\n",
      "Requirement already satisfied: charset-normalizer~=2.0.0 in /home/ec2-user/anaconda3/envs/pytorch_latest_p36/lib/python3.6/site-packages (from requests->transformers==3.5.1) (2.0.9)\n",
      "Requirement already satisfied: idna<4,>=2.5 in /home/ec2-user/anaconda3/envs/pytorch_latest_p36/lib/python3.6/site-packages (from requests->transformers==3.5.1) (3.1)\n",
      "Requirement already satisfied: certifi>=2017.4.17 in /home/ec2-user/anaconda3/envs/pytorch_latest_p36/lib/python3.6/site-packages (from requests->transformers==3.5.1) (2021.5.30)\n",
      "Requirement already satisfied: click in /home/ec2-user/anaconda3/envs/pytorch_latest_p36/lib/python3.6/site-packages (from sacremoses->transformers==3.5.1) (7.1.2)\n",
      "Requirement already satisfied: joblib in /home/ec2-user/anaconda3/envs/pytorch_latest_p36/lib/python3.6/site-packages (from sacremoses->transformers==3.5.1) (1.0.1)\n",
      "Requirement already satisfied: six in /home/ec2-user/anaconda3/envs/pytorch_latest_p36/lib/python3.6/site-packages (from sacremoses->transformers==3.5.1) (1.15.0)\n"
     ]
    }
   ],
   "source": [
    "! pip install transformers==3.5.1"
   ]
  },
  {
   "cell_type": "markdown",
   "id": "93f2b540",
   "metadata": {},
   "source": [
    "# Load processed data "
   ]
  },
  {
   "cell_type": "code",
   "execution_count": 6,
   "id": "96a378e8",
   "metadata": {},
   "outputs": [],
   "source": [
    "# open the training data pickle\n",
    "file = open(\"../../data/03_primary/training_data.pkl\", 'rb')\n",
    "\n",
    "# load the pickle file \n",
    "data = pickle.load(file)\n",
    "\n",
    "# close the file\n",
    "file.close()"
   ]
  },
  {
   "cell_type": "code",
   "execution_count": 7,
   "id": "905d783f",
   "metadata": {},
   "outputs": [],
   "source": [
    "rows, cols, labels, weights, headtail, train_size, test_size, nb_nodes, nb_edges = data"
   ]
  },
  {
   "cell_type": "code",
   "execution_count": 8,
   "id": "a9d49035",
   "metadata": {},
   "outputs": [
    {
     "data": {
      "text/plain": [
       "(5, 5, 4162, 47132)"
      ]
     },
     "execution_count": 8,
     "metadata": {},
     "output_type": "execute_result"
    }
   ],
   "source": [
    "train_size, test_size, nb_nodes, nb_edges "
   ]
  },
  {
   "cell_type": "code",
   "execution_count": 9,
   "id": "62039b05",
   "metadata": {},
   "outputs": [
    {
     "data": {
      "text/plain": [
       "numpy.ndarray"
      ]
     },
     "execution_count": 9,
     "metadata": {},
     "output_type": "execute_result"
    }
   ],
   "source": [
    "type(headtail)"
   ]
  },
  {
   "cell_type": "code",
   "execution_count": 10,
   "id": "c928a7c9",
   "metadata": {},
   "outputs": [
    {
     "data": {
      "text/plain": [
       "array([list([0, 4119, 4127, 4134, 4136, 4146, 4154]),\n",
       "       list([1, 4121, 4122, 4133, 4140, 4146, 4149, 4151, 4152, 4155]),\n",
       "       list([2, 4112, 4130, 4134, 4136, 4142, 4155, 4157]), ...,\n",
       "       list([46, 147, 769, 1100, 1453, 1478, 1539, 1554, 1632, 1654, 1660, 1782, 1917, 1993, 2187, 2387, 2413, 2473, 2594, 2624, 2626, 2772, 2816, 2844, 2903, 2981, 3036, 3104, 3303, 3326, 3412, 3438, 3442, 3488, 3685, 3871, 4159]),\n",
       "       list([25, 48, 50, 61, 94, 108, 111, 123, 126, 137, 144, 149, 173, 188, 210, 224, 275, 289, 291, 295, 297, 302, 323, 330, 355, 365, 409, 415, 416, 497, 498, 509, 510, 529, 530, 552, 556, 571, 588, 593, 595, 613, 617, 629, 676, 706, 707, 751, 773, 793, 801, 808, 818, 821, 832, 848, 867, 868, 870, 889, 890, 893, 919, 961, 964, 997, 1000, 1007, 1017, 1050, 1064, 1076, 1079, 1080, 1086, 1138, 1141, 1143, 1151, 1156, 1241, 1270, 1281, 1287, 1374, 1385, 1398, 1413, 1416, 1425, 1452, 1507, 1521, 1530, 1534, 1548, 1553, 1557, 1584, 1586, 1607, 1611, 1616, 1617, 1654, 1661, 1662, 1664, 1672, 1675, 1735, 1785, 1816, 1874, 1890, 1912, 1936, 1941, 1943, 1946, 1949, 1970, 1981, 2043, 2062, 2074, 2080, 2096, 2101, 2112, 2118, 2141, 2143, 2151, 2153, 2175, 2176, 2235, 2293, 2363, 2383, 2400, 2404, 2412, 2422, 2423, 2424, 2430, 2445, 2452, 2487, 2569, 2603, 2630, 2638, 2643, 2656, 2698, 2700, 2701, 2733, 2746, 2756, 2769, 2788, 2802, 2814, 2845, 2848, 2851, 2852, 2863, 2869, 2874, 2890, 2896, 2899, 2916, 2957, 2984, 2989, 3043, 3057, 3072, 3075, 3096, 3121, 3125, 3127, 3145, 3172, 3205, 3212, 3213, 3229, 3230, 3233, 3255, 3273, 3322, 3384, 3421, 3448, 3455, 3458, 3461, 3483, 3497, 3498, 3535, 3539, 3543, 3546, 3549, 3568, 3583, 3606, 3632, 3658, 3664, 3672, 3673, 3676, 3677, 3705, 3742, 3767, 3802, 3809, 3811, 3819, 3823, 3826, 3832, 3908, 3914, 3930, 3942, 4001, 4011, 4012, 4013, 4039, 4042, 4052, 4061, 4064, 4074, 4084, 4104, 4106, 4160]),\n",
       "       list([15, 24, 25, 38, 41, 48, 50, 75, 78, 98, 109, 119, 122, 147, 156, 169, 171, 173, 187, 232, 246, 247, 261, 283, 290, 291, 308, 315, 318, 320, 322, 362, 366, 373, 374, 383, 386, 404, 405, 423, 434, 437, 439, 450, 467, 476, 484, 485, 501, 522, 533, 534, 539, 562, 568, 581, 594, 602, 611, 624, 638, 647, 649, 658, 671, 678, 682, 687, 706, 709, 713, 718, 720, 722, 727, 729, 739, 762, 764, 772, 787, 801, 812, 813, 839, 847, 853, 861, 870, 886, 891, 901, 909, 915, 918, 923, 929, 935, 936, 948, 969, 975, 978, 1001, 1002, 1033, 1034, 1038, 1039, 1043, 1050, 1059, 1063, 1078, 1084, 1085, 1089, 1098, 1112, 1119, 1121, 1133, 1134, 1165, 1173, 1197, 1200, 1209, 1217, 1222, 1226, 1230, 1235, 1236, 1238, 1268, 1282, 1296, 1300, 1322, 1341, 1363, 1365, 1411, 1416, 1421, 1428, 1444, 1453, 1481, 1492, 1505, 1506, 1519, 1533, 1545, 1570, 1581, 1598, 1610, 1619, 1624, 1626, 1628, 1632, 1637, 1638, 1640, 1654, 1659, 1671, 1679, 1693, 1708, 1713, 1715, 1720, 1724, 1733, 1746, 1770, 1773, 1788, 1791, 1796, 1801, 1809, 1813, 1815, 1836, 1843, 1848, 1859, 1881, 1886, 1889, 1905, 1909, 1926, 1933, 1939, 1945, 1947, 1955, 1962, 1976, 2009, 2012, 2019, 2023, 2051, 2052, 2069, 2078, 2080, 2088, 2097, 2128, 2132, 2138, 2146, 2159, 2167, 2168, 2181, 2188, 2197, 2198, 2204, 2209, 2221, 2224, 2228, 2232, 2234, 2235, 2236, 2248, 2249, 2272, 2279, 2281, 2282, 2287, 2294, 2295, 2307, 2323, 2335, 2338, 2346, 2347, 2353, 2364, 2365, 2366, 2373, 2376, 2387, 2407, 2410, 2420, 2432, 2435, 2437, 2449, 2452, 2455, 2456, 2465, 2473, 2480, 2488, 2495, 2497, 2501, 2510, 2517, 2537, 2539, 2548, 2555, 2560, 2561, 2572, 2574, 2585, 2586, 2589, 2594, 2599, 2609, 2615, 2624, 2629, 2640, 2645, 2651, 2654, 2661, 2668, 2683, 2688, 2697, 2702, 2711, 2723, 2724, 2726, 2729, 2734, 2738, 2744, 2756, 2758, 2772, 2784, 2799, 2803, 2804, 2805, 2811, 2818, 2824, 2839, 2844, 2862, 2863, 2867, 2874, 2883, 2885, 2901, 2903, 2918, 2921, 2938, 2940, 2942, 2949, 2952, 2954, 2955, 2963, 2964, 2981, 2983, 3002, 3009, 3018, 3034, 3042, 3054, 3082, 3085, 3105, 3116, 3121, 3127, 3129, 3130, 3149, 3154, 3161, 3162, 3165, 3186, 3188, 3204, 3206, 3208, 3219, 3226, 3234, 3245, 3246, 3247, 3251, 3274, 3277, 3296, 3301, 3302, 3303, 3310, 3318, 3325, 3329, 3353, 3360, 3365, 3370, 3381, 3386, 3390, 3392, 3394, 3400, 3404, 3412, 3438, 3442, 3444, 3459, 3466, 3467, 3488, 3494, 3497, 3503, 3512, 3517, 3525, 3528, 3529, 3534, 3535, 3538, 3559, 3569, 3590, 3595, 3608, 3609, 3616, 3620, 3641, 3643, 3644, 3649, 3652, 3654, 3663, 3693, 3695, 3699, 3721, 3749, 3764, 3775, 3781, 3784, 3787, 3811, 3816, 3821, 3833, 3835, 3856, 3859, 3860, 3871, 3885, 3887, 3895, 3897, 3903, 3911, 3934, 3940, 3946, 3951, 3954, 3963, 3966, 3968, 3973, 3986, 3993, 3995, 4002, 4012, 4031, 4033, 4039, 4047, 4058, 4061, 4071, 4079, 4081, 4090, 4096, 4102, 4161])],\n",
       "      dtype=object)"
      ]
     },
     "execution_count": 10,
     "metadata": {},
     "output_type": "execute_result"
    }
   ],
   "source": [
    "headtail #sparse matrix saving the node indexes of all edges "
   ]
  },
  {
   "cell_type": "code",
   "execution_count": 11,
   "id": "d42a48dc",
   "metadata": {},
   "outputs": [
    {
     "data": {
      "text/plain": [
       "[array([3317, 2363, 3396, ..., 1738, 2754, 2754], dtype=int32),\n",
       " array([2431, 2431, 2350, ..., 3564, 2144, 4055], dtype=int32),\n",
       " array([ 642, 3586,   67, ..., 2095, 3604, 2196], dtype=int32),\n",
       " array([3989, 3989, 1160, ...,  320,  782,  782], dtype=int32),\n",
       " array([2515,  255,  985, ..., 2817, 1885, 2495], dtype=int32),\n",
       " array([2495, 2495, 1447, ..., 1162, 3497, 3497], dtype=int32),\n",
       " array([ 308, 1099, 1099, ...,  225, 2671, 1855], dtype=int32),\n",
       " array([1948, 1747, 1381, ..., 1106, 3293, 3859], dtype=int32),\n",
       " array([2286, 2291, 2493, ..., 1003, 2395, 2186], dtype=int32),\n",
       " array([1384, 1259,  444, ...,  529, 1083, 3304], dtype=int32)]"
      ]
     },
     "execution_count": 11,
     "metadata": {},
     "output_type": "execute_result"
    }
   ],
   "source": [
    "rows"
   ]
  },
  {
   "cell_type": "code",
   "execution_count": 12,
   "id": "7fab2316",
   "metadata": {},
   "outputs": [
    {
     "data": {
      "text/plain": [
       "[array([4148, 4154, 4127, ..., 4132, 4146, 4148], dtype=int32),\n",
       " array([4122, 4114, 4146, ..., 4131, 4150, 4142], dtype=int32),\n",
       " array([4158, 4131, 4146, ..., 4116, 4136, 4142], dtype=int32),\n",
       " array([4116, 4150, 4134, ..., 4117, 4143, 4123], dtype=int32),\n",
       " array([4149, 4149, 4127, ..., 4143, 4116, 4139], dtype=int32),\n",
       " array([4153, 4160, 4143, ..., 4157, 4112, 4135], dtype=int32),\n",
       " array([4152, 4154, 4120, ..., 4130, 4157, 4122], dtype=int32),\n",
       " array([4121, 4157, 4116, ..., 4157, 4114, 4157], dtype=int32),\n",
       " array([4157, 4157, 4142, ..., 4142, 4130, 4142], dtype=int32),\n",
       " array([4130, 4130, 4130, ..., 4143, 4130, 4130], dtype=int32)]"
      ]
     },
     "execution_count": 12,
     "metadata": {},
     "output_type": "execute_result"
    }
   ],
   "source": [
    "cols"
   ]
  },
  {
   "cell_type": "code",
   "execution_count": 13,
   "id": "34ecdc1d",
   "metadata": {},
   "outputs": [],
   "source": [
    "degrees = np.array([len(x) for x in headtail])\n",
    "num_snap = test_size + train_size\n",
    "labels = [torch.LongTensor(label) for label in labels]\n",
    "\n",
    "snap_train = list(range(num_snap))[:train_size]\n",
    "snap_test = list(range(num_snap))[train_size:]"
   ]
  },
  {
   "cell_type": "code",
   "execution_count": 14,
   "id": "d8141930",
   "metadata": {},
   "outputs": [
    {
     "data": {
      "text/plain": [
       "[0, 1, 2, 3, 4]"
      ]
     },
     "execution_count": 14,
     "metadata": {},
     "output_type": "execute_result"
    }
   ],
   "source": [
    "snap_train"
   ]
  },
  {
   "cell_type": "code",
   "execution_count": 15,
   "id": "e09f2cb0",
   "metadata": {},
   "outputs": [
    {
     "data": {
      "text/plain": [
       "[5, 6, 7, 8, 9]"
      ]
     },
     "execution_count": 15,
     "metadata": {},
     "output_type": "execute_result"
    }
   ],
   "source": [
    "snap_test"
   ]
  },
  {
   "cell_type": "code",
   "execution_count": 16,
   "id": "d34bbbac",
   "metadata": {},
   "outputs": [
    {
     "data": {
      "text/plain": [
       "([tensor([0, 0, 0,  ..., 0, 0, 0]),\n",
       "  tensor([0, 0, 0,  ..., 0, 0, 0]),\n",
       "  tensor([0, 0, 1,  ..., 0, 0, 0]),\n",
       "  tensor([0, 0, 0,  ..., 0, 0, 0]),\n",
       "  tensor([1, 1, 0,  ..., 0, 0, 0]),\n",
       "  tensor([0, 0, 0,  ..., 0, 0, 0]),\n",
       "  tensor([1, 0, 0,  ..., 0, 0, 0]),\n",
       "  tensor([0, 0, 0,  ..., 0, 0, 0]),\n",
       "  tensor([0, 0, 0,  ..., 0, 0, 0]),\n",
       "  tensor([0, 0, 0,  ..., 0, 0, 0])],\n",
       " 10,\n",
       " torch.Size([5000]))"
      ]
     },
     "execution_count": 16,
     "metadata": {},
     "output_type": "execute_result"
    }
   ],
   "source": [
    "labels, len(labels), labels[0].shape"
   ]
  },
  {
   "cell_type": "code",
   "execution_count": 17,
   "id": "c704baea",
   "metadata": {},
   "outputs": [],
   "source": [
    "idx = list(range(nb_nodes))\n",
    "index_id_map = {i:i for i in idx}\n",
    "idx = np.array(idx)"
   ]
  },
  {
   "cell_type": "markdown",
   "id": "cbb5e65b",
   "metadata": {},
   "source": [
    "# Define data dictionary"
   ]
  },
  {
   "cell_type": "code",
   "execution_count": 18,
   "id": "94fb82f7",
   "metadata": {},
   "outputs": [],
   "source": [
    "from anomaly_detection_spatial_temporal_data.model.model_config import TaddyConfig"
   ]
  },
  {
   "cell_type": "code",
   "execution_count": 19,
   "id": "09f7a734",
   "metadata": {},
   "outputs": [],
   "source": [
    "import yaml"
   ]
  },
  {
   "cell_type": "code",
   "execution_count": 20,
   "id": "a42fdfe6",
   "metadata": {},
   "outputs": [],
   "source": [
    "model_config_file = '../../conf/base/parameters/taddy.yml'"
   ]
  },
  {
   "cell_type": "code",
   "execution_count": 21,
   "id": "ab799767",
   "metadata": {},
   "outputs": [
    {
     "name": "stdout",
     "output_type": "stream",
     "text": [
      "{'data_load_options': {'c': 0.15, 'eps': 0.001, 'random_state': 3, 'batch_size': 256, 'load_all_tag': False, 'neighbor_num': 5, 'window_size': 2, 'compute_s': True, 'eigen_file_name': '/home/ec2-user/SageMaker/anomaly-detection-spatial-temporal-data/data/05_model_input/eigen.pkl'}, 'model_options': {'neighbor_num': 5, 'window_size': 2, 'batch_size': 256, 'embedding_dim': 32, 'num_hidden_layers': 2, 'num_attention_heads': 2, 'seed': 1, 'print_feq': 10, 'lr': 0.001, 'weight_decay': '5e-4', 'max_epoch': 100, 'spy_tag': True, 'max_hop_dis_index': 100, 'max_inti_pos_index': 100, 'hidden_act': 'gelu', 'hidden_dropout_prob': 0.5, 'attention_probs_dropout_prob': 0.3, 'initializer_range': 0.02, 'layer_norm_eps': 1e-12, 'is_decoder': False, 'save_directory': '/home/ec2-user/SageMaker/anomaly-detection-spatial-temporal-data/data/07_model_output/'}, 'infer_options': {'snap_num': 6}}\n"
     ]
    }
   ],
   "source": [
    "with open(model_config_file, \"r\") as stream:\n",
    "    try:\n",
    "        mode_config=yaml.safe_load(stream)\n",
    "        print(mode_config)\n",
    "    except yaml.YAMLError as exc:\n",
    "        print(exc)"
   ]
  },
  {
   "cell_type": "code",
   "execution_count": 22,
   "id": "b6fc5ef0",
   "metadata": {},
   "outputs": [],
   "source": [
    "eigen_file_name = \"/home/ec2-user/SageMaker/anomaly-detection-spatial-temporal-data/data/05_model_input/eigen_tmp.pkl\"\n",
    "data_loader_config = mode_config['data_load_options']"
   ]
  },
  {
   "cell_type": "code",
   "execution_count": 23,
   "id": "8b7d3d5b",
   "metadata": {},
   "outputs": [
    {
     "data": {
      "text/plain": [
       "{'c': 0.15,\n",
       " 'eps': 0.001,\n",
       " 'random_state': 3,\n",
       " 'batch_size': 256,\n",
       " 'load_all_tag': False,\n",
       " 'neighbor_num': 5,\n",
       " 'window_size': 2,\n",
       " 'compute_s': True,\n",
       " 'eigen_file_name': '/home/ec2-user/SageMaker/anomaly-detection-spatial-temporal-data/data/05_model_input/eigen.pkl'}"
      ]
     },
     "execution_count": 23,
     "metadata": {},
     "output_type": "execute_result"
    }
   ],
   "source": [
    "data_loader_config"
   ]
  },
  {
   "cell_type": "code",
   "execution_count": 24,
   "id": "5b64b121",
   "metadata": {},
   "outputs": [
    {
     "data": {
      "text/plain": [
       "bool"
      ]
     },
     "execution_count": 24,
     "metadata": {},
     "output_type": "execute_result"
    }
   ],
   "source": [
    "type(data_loader_config['compute_s'])"
   ]
  },
  {
   "cell_type": "code",
   "execution_count": 25,
   "id": "160ceb0f",
   "metadata": {},
   "outputs": [],
   "source": [
    "import scipy.sparse as sp\n",
    "from numpy.linalg import inv\n",
    "\n",
    "def normalize(mx):\n",
    "    \"\"\"Row-normalize sparse matrix\"\"\"\n",
    "    rowsum = np.array(mx.sum(1))\n",
    "    r_inv = np.power(rowsum, -1).flatten()\n",
    "    r_inv[np.isinf(r_inv)] = 0.\n",
    "    r_mat_inv = sp.diags(r_inv)\n",
    "    mx = r_mat_inv.dot(mx)\n",
    "    return mx\n",
    "\n",
    "def normalize_adj(adj):\n",
    "    \"\"\"Symmetrically normalize adjacency matrix. (0226)\"\"\"\n",
    "    adj = sp.coo_matrix(adj)\n",
    "    rowsum = np.array(adj.sum(1))\n",
    "    d_inv_sqrt = np.power(rowsum, -0.5).flatten()\n",
    "    d_inv_sqrt[np.isinf(d_inv_sqrt)] = 0.\n",
    "    d_mat_inv_sqrt = sp.diags(d_inv_sqrt)\n",
    "    return adj.dot(d_mat_inv_sqrt).transpose().dot(d_mat_inv_sqrt).tocoo()\n",
    "\n",
    "def adj_normalize(mx):\n",
    "    \"\"\"Row-normalize sparse matrix\"\"\"\n",
    "    rowsum = np.array(mx.sum(1))\n",
    "    r_inv = np.power(rowsum, -0.5).flatten()\n",
    "    r_inv[np.isinf(r_inv)] = 0.\n",
    "    r_mat_inv = sp.diags(r_inv)\n",
    "    mx = r_mat_inv.dot(mx).dot(r_mat_inv)\n",
    "    return mx\n",
    "\n",
    "def sparse_mx_to_torch_sparse_tensor(sparse_mx):\n",
    "    \"\"\"Convert a scipy sparse matrix to a torch sparse tensor.\"\"\"\n",
    "    sparse_mx = sparse_mx.tocoo().astype(np.float32)\n",
    "    indices = torch.from_numpy(\n",
    "        np.vstack((sparse_mx.row, sparse_mx.col)).astype(np.int64))\n",
    "    values = torch.from_numpy(sparse_mx.data)\n",
    "    shape = torch.Size(sparse_mx.shape)\n",
    "    return torch.sparse.FloatTensor(indices, values, shape)\n",
    "\n",
    "def preprocess_adj(adj):\n",
    "    \"\"\"Preprocessing of adjacency matrix for simple GCN model and conversion to tuple representation. (0226)\"\"\"\n",
    "    adj = adj + adj.T.multiply(adj.T > adj) - adj.multiply(adj.T > adj)\n",
    "    # adj_np = np.array(adj.todense())\n",
    "    adj_normalized = normalize_adj(adj + sp.eye(adj.shape[0]))\n",
    "    adj_normalized = sparse_mx_to_torch_sparse_tensor(adj_normalized)\n",
    "    return adj_normalized\n",
    "\n",
    "def get_adjs(rows, cols, weights, nb_nodes, eigen_file_name, data_loader_config):\n",
    "    \"\"\"Generate adjacency matrix and conduct eigenvalue decomposition for node sampling\"\"\"\n",
    "    if not os.path.exists(eigen_file_name):\n",
    "        generate_eigen = True\n",
    "        print('Generating eigen as: ' + eigen_file_name)\n",
    "    else:\n",
    "        generate_eigen = False\n",
    "        print('Loading eigen from: ' + eigen_file_name)\n",
    "        with open(eigen_file_name, 'rb') as f:\n",
    "            eigen_adjs_sparse = pickle.load(f)\n",
    "        eigen_adjs = []\n",
    "        for eigen_adj_sparse in eigen_adjs_sparse:\n",
    "            eigen_adjs.append(np.array(eigen_adj_sparse.todense()))\n",
    "\n",
    "    adjs = []\n",
    "    if generate_eigen:\n",
    "        eigen_adjs = []\n",
    "        eigen_adjs_sparse = []\n",
    "\n",
    "    for i in range(len(rows)):\n",
    "        adj = sp.csr_matrix((weights[i], (rows[i], cols[i])), shape=(nb_nodes, nb_nodes), dtype=np.float32)\n",
    "        adjs.append(preprocess_adj(adj))\n",
    "        if data_loader_config['compute_s']:\n",
    "            if generate_eigen:\n",
    "                eigen_adj = data_loader_config['c'] * inv((sp.eye(adj.shape[0]) - (1 - data_loader_config['c']) * adj_normalize(adj)).toarray())\n",
    "                for p in range(adj.shape[0]):\n",
    "                    eigen_adj[p,p] = 0.\n",
    "                eigen_adj = normalize(eigen_adj)\n",
    "                eigen_adjs.append(eigen_adj)\n",
    "                eigen_adjs_sparse.append(sp.csr_matrix(eigen_adj))\n",
    "\n",
    "        else:\n",
    "            eigen_adjs.append(None)\n",
    "\n",
    "    if generate_eigen:\n",
    "        with open(eigen_file_name, 'wb') as f:\n",
    "            pickle.dump(eigen_adjs_sparse, f, pickle.HIGHEST_PROTOCOL)\n",
    "\n",
    "    return adjs, eigen_adjs"
   ]
  },
  {
   "cell_type": "code",
   "execution_count": 26,
   "id": "dff7d97d",
   "metadata": {},
   "outputs": [
    {
     "name": "stdout",
     "output_type": "stream",
     "text": [
      "Loading eigen from: /home/ec2-user/SageMaker/anomaly-detection-spatial-temporal-data/data/05_model_input/eigen_tmp.pkl\n"
     ]
    }
   ],
   "source": [
    "edges = [np.vstack((rows[i], cols[i])).T for i in range(num_snap)]\n",
    "adjs, eigen_adjs = get_adjs(rows, cols, weights, nb_nodes, eigen_file_name, data_loader_config)"
   ]
  },
  {
   "cell_type": "code",
   "execution_count": 27,
   "id": "ee2f5a9e",
   "metadata": {},
   "outputs": [],
   "source": [
    "data_dict = {\n",
    "    'X': None, \n",
    "    'A': adjs, \n",
    "    'S': eigen_adjs, \n",
    "    'index_id_map': index_id_map, \n",
    "    'edges': edges,\n",
    "    'y': labels, \n",
    "    'idx': idx, \n",
    "    'snap_train': snap_train, \n",
    "    'degrees': degrees,\n",
    "    'snap_test': snap_test, \n",
    "    'num_snap': num_snap}"
   ]
  },
  {
   "cell_type": "markdown",
   "id": "6cca2176",
   "metadata": {},
   "source": [
    "# Define model and load model training config "
   ]
  },
  {
   "cell_type": "code",
   "execution_count": 28,
   "id": "4e41c160",
   "metadata": {},
   "outputs": [],
   "source": [
    "from anomaly_detection_spatial_temporal_data.model.dynamic_graph import Taddy"
   ]
  },
  {
   "cell_type": "code",
   "execution_count": 29,
   "id": "9e353ab0",
   "metadata": {},
   "outputs": [],
   "source": [
    "model_config = TaddyConfig(mode_config['model_options'])\n",
    "model_obj = Taddy(data_dict, model_config)"
   ]
  },
  {
   "cell_type": "markdown",
   "id": "bae24aca",
   "metadata": {},
   "source": [
    "# Train model"
   ]
  },
  {
   "cell_type": "code",
   "execution_count": null,
   "id": "a6be93bd",
   "metadata": {},
   "outputs": [
    {
     "name": "stdout",
     "output_type": "stream",
     "text": [
      "Epoch: 1, loss:0.6878, Time: 22.8218s\n",
      "Epoch: 2, loss:0.6819, Time: 21.9203s\n",
      "Epoch: 3, loss:0.6731, Time: 21.8395s\n",
      "Epoch: 4, loss:0.6623, Time: 22.5744s\n",
      "Epoch: 5, loss:0.6405, Time: 23.1703s\n",
      "Epoch: 6, loss:0.6208, Time: 21.9471s\n",
      "Epoch: 7, loss:0.6121, Time: 21.6601s\n",
      "Epoch: 8, loss:0.5387, Time: 21.8846s\n",
      "Epoch: 9, loss:0.5330, Time: 21.5239s\n",
      "Epoch: 10, loss:0.4556, Time: 21.6137s\n",
      "Snap: 05 | AUC: 0.6739\n",
      "Snap: 06 | AUC: 0.6405\n",
      "Snap: 07 | AUC: 0.6653\n",
      "Snap: 08 | AUC: 0.6478\n",
      "Snap: 09 | AUC: 0.8172\n",
      "TOTAL AUC:0.7105\n",
      "Epoch: 11, loss:0.3910, Time: 21.6414s\n",
      "Epoch: 12, loss:0.3759, Time: 22.0191s\n",
      "Epoch: 41, loss:0.3004, Time: 21.8610s\n",
      "Epoch: 42, loss:0.3017, Time: 22.4703s\n",
      "Epoch: 43, loss:0.3601, Time: 21.6753s\n",
      "Epoch: 44, loss:0.2778, Time: 22.4862s\n",
      "Epoch: 45, loss:0.3047, Time: 22.7608s\n",
      "Epoch: 46, loss:0.2926, Time: 21.6084s\n",
      "Epoch: 47, loss:0.2690, Time: 21.6873s\n",
      "Epoch: 48, loss:0.3922, Time: 20.7019s\n",
      "Epoch: 49, loss:0.2626, Time: 20.8344s\n",
      "Epoch: 50, loss:0.3128, Time: 20.8510s\n",
      "Snap: 05 | AUC: 0.6589\n",
      "Snap: 06 | AUC: 0.6418\n",
      "Snap: 07 | AUC: 0.6808\n",
      "Snap: 08 | AUC: 0.7654\n",
      "Snap: 09 | AUC: 0.8748\n",
      "TOTAL AUC:0.7051\n",
      "Epoch: 51, loss:0.3533, Time: 21.1544s\n",
      "Epoch: 52, loss:0.3037, Time: 22.1195s\n",
      "Epoch: 53, loss:0.2769, Time: 21.8567s\n",
      "Epoch: 81, loss:0.2373, Time: 22.5261s\n",
      "Epoch: 82, loss:0.3028, Time: 22.1589s\n",
      "Epoch: 83, loss:0.2590, Time: 22.0523s\n",
      "Epoch: 84, loss:0.2634, Time: 21.8097s\n",
      "Epoch: 85, loss:0.2830, Time: 22.1828s\n",
      "Epoch: 86, loss:0.2938, Time: 22.0623s\n",
      "Epoch: 87, loss:0.3198, Time: 21.8712s\n",
      "Epoch: 88, loss:0.2557, Time: 22.1486s\n",
      "Epoch: 89, loss:0.3725, Time: 23.5505s\n",
      "Epoch: 90, loss:0.2914, Time: 22.0453s\n",
      "Snap: 05 | AUC: 0.6860\n",
      "Snap: 06 | AUC: 0.6840\n",
      "Snap: 07 | AUC: 0.8029\n",
      "Snap: 08 | AUC: 0.8271\n",
      "Snap: 09 | AUC: 0.9009\n",
      "TOTAL AUC:0.6677\n",
      "Epoch: 91, loss:0.2883, Time: 21.2335s\n",
      "Epoch: 92, loss:0.2780, Time: 21.8601s\n",
      "Epoch: 93, loss:0.2990, Time: 21.2534s\n",
      "Epoch: 94, loss:0.2880, Time: 22.1222s\n",
      "Epoch: 95, loss:0.2989, Time: 21.9032s\n",
      "Epoch: 96, loss:0.3016, Time: 20.0056s\n",
      "Epoch: 97, loss:0.2991, Time: 22.8341s\n",
      "Epoch: 98, loss:0.2714, Time: 22.2588s\n",
      "Epoch: 99, loss:0.3111, Time: 22.7877s\n",
      "Epoch: 100, loss:0.2630, Time: 23.1117s\n",
      "Snap: 05 | AUC: 0.6874\n",
      "Snap: 06 | AUC: 0.6837\n",
      "Snap: 07 | AUC: 0.7919\n",
      "Snap: 08 | AUC: 0.8295\n",
      "Snap: 09 | AUC: 0.8929\n",
      "TOTAL AUC:0.6864\n"
     ]
    }
   ],
   "source": [
    "learned_result,save_model_path = model_obj.run()"
   ]
  },
  {
   "cell_type": "markdown",
   "id": "5a290e1d",
   "metadata": {},
   "source": [
    "# Model training result "
   ]
  },
  {
   "cell_type": "code",
   "execution_count": null,
   "id": "b53af2cb",
   "metadata": {},
   "outputs": [
    {
     "data": {
      "text/plain": [
       "{1: {'train_loss': 0.6878424882888794},\n",
       " 2: {'train_loss': 0.6819454878568649},\n",
       " 3: {'train_loss': 0.6730927675962448},\n",
       " 4: {'train_loss': 0.6622639894485474},\n",
       " 5: {'train_loss': 0.6404924690723419},\n",
       " 6: {'train_loss': 0.6207883805036545},\n",
       " 7: {'train_loss': 0.6120822429656982},\n",
       " 8: {'train_loss': 0.5387443155050278},\n",
       " 9: {'train_loss': 0.5329815745353699},\n",
       " 10: {'train_loss': 0.45560507476329803, 'test_auc': 0.7105279482543786},\n",
       " 11: {'train_loss': 0.39098935574293137},\n",
       " 12: {'train_loss': 0.3759456127882004},\n",
       " 13: {'train_loss': 0.32145679742097855},\n",
       " 14: {'train_loss': 0.3196173682808876},\n",
       " 15: {'train_loss': 0.39237047731876373},\n",
       " 16: {'train_loss': 0.34872904419898987},\n",
       " 17: {'train_loss': 0.30922891944646835},\n",
       " 18: {'train_loss': 0.3083432838320732},\n",
       " 19: {'train_loss': 0.41791290044784546},\n",
       " 20: {'train_loss': 0.2828456684947014, 'test_auc': 0.7241470931844799},\n",
       " 21: {'train_loss': 0.3861798271536827},\n",
       " 22: {'train_loss': 0.37869805842638016},\n",
       " 23: {'train_loss': 0.3856443017721176},\n",
       " 24: {'train_loss': 0.3287793844938278},\n",
       " 25: {'train_loss': 0.3358854725956917},\n",
       " 26: {'train_loss': 0.31749481707811356},\n",
       " 27: {'train_loss': 0.3062545545399189},\n",
       " 28: {'train_loss': 0.3243528977036476},\n",
       " 29: {'train_loss': 0.3554797098040581},\n",
       " 30: {'train_loss': 0.3887876868247986, 'test_auc': 0.7160510038305504},\n",
       " 31: {'train_loss': 0.3551792725920677},\n",
       " 32: {'train_loss': 0.32330717891454697},\n",
       " 33: {'train_loss': 0.32504699379205704},\n",
       " 34: {'train_loss': 0.33140871673822403},\n",
       " 35: {'train_loss': 0.3196694888174534},\n",
       " 36: {'train_loss': 0.2581178657710552},\n",
       " 37: {'train_loss': 0.37085699290037155},\n",
       " 38: {'train_loss': 0.3147038072347641},\n",
       " 39: {'train_loss': 0.3390842229127884},\n",
       " 40: {'train_loss': 0.3429642841219902, 'test_auc': 0.694550785505561},\n",
       " 41: {'train_loss': 0.3003779500722885},\n",
       " 42: {'train_loss': 0.30171307921409607},\n",
       " 43: {'train_loss': 0.3601284921169281},\n",
       " 44: {'train_loss': 0.27777640894055367},\n",
       " 45: {'train_loss': 0.30465689674019814},\n",
       " 46: {'train_loss': 0.29256803542375565},\n",
       " 47: {'train_loss': 0.2689894326031208},\n",
       " 48: {'train_loss': 0.3922061249613762},\n",
       " 49: {'train_loss': 0.26260167360305786},\n",
       " 50: {'train_loss': 0.3127771243453026, 'test_auc': 0.7050551246099853},\n",
       " 51: {'train_loss': 0.35334351658821106},\n",
       " 52: {'train_loss': 0.3036690950393677},\n",
       " 53: {'train_loss': 0.27686354517936707},\n",
       " 54: {'train_loss': 0.27481263503432274},\n",
       " 55: {'train_loss': 0.3957151994109154},\n",
       " 56: {'train_loss': 0.30760443210601807},\n",
       " 57: {'train_loss': 0.2827255427837372},\n",
       " 58: {'train_loss': 0.3957303985953331},\n",
       " 59: {'train_loss': 0.25690772011876106},\n",
       " 60: {'train_loss': 0.3205120339989662, 'test_auc': 0.7280985013955729},\n",
       " 61: {'train_loss': 0.24748552963137627},\n",
       " 62: {'train_loss': 0.2936953529715538},\n",
       " 63: {'train_loss': 0.2891853451728821},\n",
       " 64: {'train_loss': 0.2866470478475094},\n",
       " 65: {'train_loss': 0.30766765773296356},\n",
       " 66: {'train_loss': 0.3092399723827839},\n",
       " 67: {'train_loss': 0.2704513780772686},\n",
       " 68: {'train_loss': 0.43456682562828064},\n",
       " 69: {'train_loss': 0.2686416320502758},\n",
       " 70: {'train_loss': 0.2687987759709358, 'test_auc': 0.720132856003585},\n",
       " 71: {'train_loss': 0.29451993852853775},\n",
       " 72: {'train_loss': 0.27799512445926666},\n",
       " 73: {'train_loss': 0.28153127059340477},\n",
       " 74: {'train_loss': 0.26099416986107826},\n",
       " 75: {'train_loss': 0.25516779720783234},\n",
       " 76: {'train_loss': 0.2898999974131584},\n",
       " 77: {'train_loss': 0.3352817967534065},\n",
       " 78: {'train_loss': 0.2723630294203758},\n",
       " 79: {'train_loss': 0.2645493857562542},\n",
       " 80: {'train_loss': 0.3375217020511627, 'test_auc': 0.7220494520231653},\n",
       " 81: {'train_loss': 0.2373293712735176},\n",
       " 82: {'train_loss': 0.3028118535876274},\n",
       " 83: {'train_loss': 0.2589859217405319},\n",
       " 84: {'train_loss': 0.2633960321545601},\n",
       " 85: {'train_loss': 0.2830329015851021},\n",
       " 86: {'train_loss': 0.293839193880558},\n",
       " 87: {'train_loss': 0.3198285773396492},\n",
       " 88: {'train_loss': 0.2557048052549362},\n",
       " 89: {'train_loss': 0.3724966198205948},\n",
       " 90: {'train_loss': 0.29143402352929115, 'test_auc': 0.6677193785533198},\n",
       " 91: {'train_loss': 0.2883094735443592},\n",
       " 92: {'train_loss': 0.27795252948999405},\n",
       " 93: {'train_loss': 0.2989744208753109},\n",
       " 94: {'train_loss': 0.28795403242111206},\n",
       " 95: {'train_loss': 0.2989433631300926},\n",
       " 96: {'train_loss': 0.3015562742948532},\n",
       " 97: {'train_loss': 0.29908037185668945},\n",
       " 98: {'train_loss': 0.2713637165725231},\n",
       " 99: {'train_loss': 0.3111070729792118},\n",
       " 100: {'train_loss': 0.2630203329026699, 'test_auc': 0.6863748391676365}}"
      ]
     },
     "execution_count": 31,
     "metadata": {},
     "output_type": "execute_result"
    }
   ],
   "source": [
    "learned_result"
   ]
  },
  {
   "cell_type": "code",
   "execution_count": null,
   "id": "bfaa591e",
   "metadata": {},
   "outputs": [
    {
     "data": {
      "text/plain": [
       "'/home/ec2-user/SageMaker/anomaly-detection-spatial-temporal-data/data/07_model_output/taddy_model_99.pth'"
      ]
     },
     "execution_count": 32,
     "metadata": {},
     "output_type": "execute_result"
    }
   ],
   "source": [
    "save_model_path"
   ]
  },
  {
   "cell_type": "markdown",
   "id": "4e25cef7",
   "metadata": {},
   "source": [
    "### load pipeline model training result"
   ]
  },
  {
   "cell_type": "code",
   "execution_count": null,
   "id": "74271cbb",
   "metadata": {},
   "outputs": [],
   "source": [
    "file = open(\"../../data/07_model_output/train_result.pkl\", 'rb')\n",
    "train_result = pickle.load(file)\n",
    "# close the file\n",
    "file.close()"
   ]
  },
  {
   "cell_type": "code",
   "execution_count": null,
   "id": "555aca04",
   "metadata": {},
   "outputs": [],
   "source": [
    "train_result"
   ]
  },
  {
   "cell_type": "markdown",
   "id": "012c8a13",
   "metadata": {},
   "source": [
    "# Run inference on the specific snapshot "
   ]
  },
  {
   "cell_type": "markdown",
   "id": "6c84af90",
   "metadata": {},
   "source": [
    "### load trained model "
   ]
  },
  {
   "cell_type": "code",
   "execution_count": 16,
   "id": "400dea79",
   "metadata": {},
   "outputs": [],
   "source": [
    "import torch\n",
    "import transformers"
   ]
  },
  {
   "cell_type": "code",
   "execution_count": 17,
   "id": "815fc451",
   "metadata": {},
   "outputs": [],
   "source": [
    "model = torch.load('/home/ec2-user/SageMaker/anomaly-detection-spatial-temporal-data/data/07_model_output/taddy_model_59.pth')"
   ]
  },
  {
   "cell_type": "code",
   "execution_count": 18,
   "id": "7a9b0133",
   "metadata": {},
   "outputs": [
    {
     "data": {
      "text/plain": [
       "anomaly_detection_spatial_temporal_data.model.dynamic_graph.Taddy"
      ]
     },
     "execution_count": 18,
     "metadata": {},
     "output_type": "execute_result"
    }
   ],
   "source": [
    "type(model)"
   ]
  },
  {
   "cell_type": "code",
   "execution_count": 37,
   "id": "e442553f",
   "metadata": {},
   "outputs": [],
   "source": [
    "snap_num = 9"
   ]
  },
  {
   "cell_type": "code",
   "execution_count": 38,
   "id": "ac3d8885",
   "metadata": {},
   "outputs": [
    {
     "name": "stdout",
     "output_type": "stream",
     "text": [
      "Generating embeddings...\n",
      "Embeddings created!\n"
     ]
    }
   ],
   "source": [
    "pred = model.predict(snap_num)"
   ]
  },
  {
   "cell_type": "code",
   "execution_count": 39,
   "id": "c000d2fa",
   "metadata": {},
   "outputs": [
    {
     "data": {
      "text/plain": [
       "numpy.ndarray"
      ]
     },
     "execution_count": 39,
     "metadata": {},
     "output_type": "execute_result"
    }
   ],
   "source": [
    "type(pred)"
   ]
  },
  {
   "cell_type": "code",
   "execution_count": 40,
   "id": "e953dbcd",
   "metadata": {},
   "outputs": [
    {
     "data": {
      "text/plain": [
       "array([0.0654242 , 0.0654242 , 0.06851925, ..., 0.98270595, 0.06542419,\n",
       "       0.06851923], dtype=float32)"
      ]
     },
     "execution_count": 40,
     "metadata": {},
     "output_type": "execute_result"
    }
   ],
   "source": [
    "pred"
   ]
  },
  {
   "cell_type": "code",
   "execution_count": 41,
   "id": "b9f53bec",
   "metadata": {},
   "outputs": [
    {
     "data": {
      "text/plain": [
       "tensor([0, 0, 0,  ..., 0, 0, 0])"
      ]
     },
     "execution_count": 41,
     "metadata": {},
     "output_type": "execute_result"
    }
   ],
   "source": [
    "labels[1]"
   ]
  },
  {
   "cell_type": "code",
   "execution_count": 42,
   "id": "2ae2842b",
   "metadata": {},
   "outputs": [],
   "source": [
    "from sklearn import metrics"
   ]
  },
  {
   "cell_type": "code",
   "execution_count": 43,
   "id": "c3dddc76",
   "metadata": {},
   "outputs": [],
   "source": [
    "auc = metrics.roc_auc_score(labels[snap_num],pred)"
   ]
  },
  {
   "cell_type": "code",
   "execution_count": 44,
   "id": "750aa8e8",
   "metadata": {},
   "outputs": [
    {
     "data": {
      "text/plain": [
       "0.8840151730005671"
      ]
     },
     "execution_count": 44,
     "metadata": {},
     "output_type": "execute_result"
    }
   ],
   "source": [
    "auc"
   ]
  },
  {
   "cell_type": "markdown",
   "id": "da3a36ed",
   "metadata": {},
   "source": [
    "### load pipeline inference result"
   ]
  },
  {
   "cell_type": "code",
   "execution_count": 55,
   "id": "d6168c9c",
   "metadata": {},
   "outputs": [],
   "source": [
    "inference_result_filepath_pipeline = \"../../data/07_model_output/inference_result.npz\""
   ]
  },
  {
   "cell_type": "code",
   "execution_count": 56,
   "id": "6dbfa681",
   "metadata": {},
   "outputs": [],
   "source": [
    "# check if inference result of the pipeline run is exsiting in the file path \n",
    "inference_result = np.load(inference_result_filepath_pipeline)"
   ]
  },
  {
   "cell_type": "code",
   "execution_count": 57,
   "id": "de0f2183",
   "metadata": {},
   "outputs": [
    {
     "data": {
      "text/plain": [
       "array([0.04597111, 0.04597111, 0.5110733 , ..., 0.4481242 , 0.04574715,\n",
       "       0.29438794], dtype=float32)"
      ]
     },
     "execution_count": 57,
     "metadata": {},
     "output_type": "execute_result"
    }
   ],
   "source": [
    "inference_result['data']"
   ]
  },
  {
   "cell_type": "markdown",
   "id": "c041fa89",
   "metadata": {},
   "source": [
    "# References\n",
    "\n",
    "Edgar Alonso Lopez-Rojas and Stefan Axelsson. 2014. BANKSIM: A BANK PAYMENTS SIMULATOR FOR FRAUD DETECTION RESEARCH.\n",
    "\n",
    "Yixin Liu, Shirui Pan, Yu Guang Wang, Fei Xiong, Liang Wang, Qingfeng Chen, and Vincent CS Lee. 2015. Anomaly Detection in Dynamic Graphs via Transformer."
   ]
  },
  {
   "cell_type": "code",
   "execution_count": null,
   "id": "bc178564",
   "metadata": {},
   "outputs": [],
   "source": []
  }
 ],
 "metadata": {
  "kernelspec": {
   "display_name": "conda_pytorch_latest_p36",
   "language": "python",
   "name": "conda_pytorch_latest_p36"
  },
  "language_info": {
   "codemirror_mode": {
    "name": "ipython",
    "version": 3
   },
   "file_extension": ".py",
   "mimetype": "text/x-python",
   "name": "python",
   "nbconvert_exporter": "python",
   "pygments_lexer": "ipython3",
   "version": "3.6.13"
  }
 },
 "nbformat": 4,
 "nbformat_minor": 5
}
