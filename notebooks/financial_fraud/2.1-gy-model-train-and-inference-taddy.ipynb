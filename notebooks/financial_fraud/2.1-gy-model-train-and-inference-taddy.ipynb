{
 "cells": [
  {
   "cell_type": "markdown",
   "id": "4490f774",
   "metadata": {},
   "source": [
    "# Notebook for dataloader, model training and inference \n",
    "## This notebook consists of steps to \n",
    "1. load processed graph data into a data dict  raw data into edge, node list data for the data loader for model training \n",
    "2. load the model training configurations \n",
    "3. pass the data dict in step (1) to the model \n",
    "4. train the model \n",
    "5. apply model inference on the specific snapshot"
   ]
  },
  {
   "cell_type": "code",
   "execution_count": 86,
   "id": "a97f13a1",
   "metadata": {},
   "outputs": [],
   "source": [
    "import sys \n",
    "import os"
   ]
  },
  {
   "cell_type": "code",
   "execution_count": 2,
   "id": "d9bb6520",
   "metadata": {},
   "outputs": [],
   "source": [
    "sys.path.append('/home/ec2-user/SageMaker/anomaly-detection-spatial-temporal-data/')\n",
    "sys.path.append('/home/ec2-user/SageMaker/anomaly-detection-spatial-temporal-data/src/')"
   ]
  },
  {
   "cell_type": "code",
   "execution_count": 3,
   "id": "55411a04",
   "metadata": {},
   "outputs": [],
   "source": [
    "%load_ext autoreload\n",
    "%autoreload 2"
   ]
  },
  {
   "cell_type": "code",
   "execution_count": 4,
   "id": "53f6d42b",
   "metadata": {},
   "outputs": [],
   "source": [
    "import pickle"
   ]
  },
  {
   "cell_type": "code",
   "execution_count": 21,
   "id": "18bf2a6a",
   "metadata": {},
   "outputs": [],
   "source": [
    "import numpy as np"
   ]
  },
  {
   "cell_type": "code",
   "execution_count": null,
   "id": "bbb09f03",
   "metadata": {},
   "outputs": [],
   "source": [
    "! pip install -r ../src/requirements_taddy.txt"
   ]
  },
  {
   "cell_type": "markdown",
   "id": "67a5027d",
   "metadata": {},
   "source": [
    "# Load processed data "
   ]
  },
  {
   "cell_type": "code",
   "execution_count": 5,
   "id": "a4bc9cd8",
   "metadata": {},
   "outputs": [],
   "source": [
    "# open the training data pickle\n",
    "file = open(\"../../data/03_primary/training_data.pkl\", 'rb')\n",
    "\n",
    "# load the pickle file \n",
    "data = pickle.load(file)\n",
    "\n",
    "# close the file\n",
    "file.close()"
   ]
  },
  {
   "cell_type": "code",
   "execution_count": 6,
   "id": "5570a43d",
   "metadata": {},
   "outputs": [],
   "source": [
    "rows, cols, labels, weights, headtail, train_size, test_size, nb_nodes, nb_edges = data"
   ]
  },
  {
   "cell_type": "code",
   "execution_count": 7,
   "id": "cedd8cdf",
   "metadata": {},
   "outputs": [
    {
     "data": {
      "text/plain": [
       "(5, 5, 4162, 47132)"
      ]
     },
     "execution_count": 7,
     "metadata": {},
     "output_type": "execute_result"
    }
   ],
   "source": [
    "train_size, test_size, nb_nodes, nb_edges "
   ]
  },
  {
   "cell_type": "code",
   "execution_count": 8,
   "id": "37ca73e2",
   "metadata": {},
   "outputs": [
    {
     "data": {
      "text/plain": [
       "numpy.ndarray"
      ]
     },
     "execution_count": 8,
     "metadata": {},
     "output_type": "execute_result"
    }
   ],
   "source": [
    "type(headtail)"
   ]
  },
  {
   "cell_type": "code",
   "execution_count": 9,
   "id": "e7af6c92",
   "metadata": {},
   "outputs": [
    {
     "data": {
      "text/plain": [
       "array([list([0, 4119, 4127, 4134, 4136, 4146, 4154]),\n",
       "       list([1, 4121, 4122, 4133, 4140, 4146, 4149, 4151, 4152, 4155]),\n",
       "       list([2, 4112, 4130, 4134, 4136, 4142, 4155, 4157]), ...,\n",
       "       list([46, 147, 769, 1100, 1453, 1478, 1539, 1554, 1632, 1654, 1660, 1782, 1917, 1993, 2187, 2387, 2413, 2473, 2594, 2624, 2626, 2772, 2816, 2844, 2903, 2981, 3036, 3104, 3303, 3326, 3412, 3438, 3442, 3488, 3685, 3871, 4159]),\n",
       "       list([25, 48, 50, 61, 94, 108, 111, 123, 126, 137, 144, 149, 173, 188, 210, 224, 275, 289, 291, 295, 297, 302, 323, 330, 355, 365, 409, 415, 416, 497, 498, 509, 510, 529, 530, 552, 556, 571, 588, 593, 595, 613, 617, 629, 676, 706, 707, 751, 773, 793, 801, 808, 818, 821, 832, 848, 867, 868, 870, 889, 890, 893, 919, 961, 964, 997, 1000, 1007, 1017, 1050, 1064, 1076, 1079, 1080, 1086, 1138, 1141, 1143, 1151, 1156, 1241, 1270, 1281, 1287, 1374, 1385, 1398, 1413, 1416, 1425, 1452, 1507, 1521, 1530, 1534, 1548, 1553, 1557, 1584, 1586, 1607, 1611, 1616, 1617, 1654, 1661, 1662, 1664, 1672, 1675, 1735, 1785, 1816, 1874, 1890, 1912, 1936, 1941, 1943, 1946, 1949, 1970, 1981, 2043, 2062, 2074, 2080, 2096, 2101, 2112, 2118, 2141, 2143, 2151, 2153, 2175, 2176, 2235, 2293, 2363, 2383, 2400, 2404, 2412, 2422, 2423, 2424, 2430, 2445, 2452, 2487, 2569, 2603, 2630, 2638, 2643, 2656, 2698, 2700, 2701, 2733, 2746, 2756, 2769, 2788, 2802, 2814, 2845, 2848, 2851, 2852, 2863, 2869, 2874, 2890, 2896, 2899, 2916, 2957, 2984, 2989, 3043, 3057, 3072, 3075, 3096, 3121, 3125, 3127, 3145, 3172, 3205, 3212, 3213, 3229, 3230, 3233, 3255, 3273, 3322, 3384, 3421, 3448, 3455, 3458, 3461, 3483, 3497, 3498, 3535, 3539, 3543, 3546, 3549, 3568, 3583, 3606, 3632, 3658, 3664, 3672, 3673, 3676, 3677, 3705, 3742, 3767, 3802, 3809, 3811, 3819, 3823, 3826, 3832, 3908, 3914, 3930, 3942, 4001, 4011, 4012, 4013, 4039, 4042, 4052, 4061, 4064, 4074, 4084, 4104, 4106, 4160]),\n",
       "       list([15, 24, 25, 38, 41, 48, 50, 75, 78, 98, 109, 119, 122, 147, 156, 169, 171, 173, 187, 232, 246, 247, 261, 283, 290, 291, 308, 315, 318, 320, 322, 362, 366, 373, 374, 383, 386, 404, 405, 423, 434, 437, 439, 450, 467, 476, 484, 485, 501, 522, 533, 534, 539, 562, 568, 581, 594, 602, 611, 624, 638, 647, 649, 658, 671, 678, 682, 687, 706, 709, 713, 718, 720, 722, 727, 729, 739, 762, 764, 772, 787, 801, 812, 813, 839, 847, 853, 861, 870, 886, 891, 901, 909, 915, 918, 923, 929, 935, 936, 948, 969, 975, 978, 1001, 1002, 1033, 1034, 1038, 1039, 1043, 1050, 1059, 1063, 1078, 1084, 1085, 1089, 1098, 1112, 1119, 1121, 1133, 1134, 1165, 1173, 1197, 1200, 1209, 1217, 1222, 1226, 1230, 1235, 1236, 1238, 1268, 1282, 1296, 1300, 1322, 1341, 1363, 1365, 1411, 1416, 1421, 1428, 1444, 1453, 1481, 1492, 1505, 1506, 1519, 1533, 1545, 1570, 1581, 1598, 1610, 1619, 1624, 1626, 1628, 1632, 1637, 1638, 1640, 1654, 1659, 1671, 1679, 1693, 1708, 1713, 1715, 1720, 1724, 1733, 1746, 1770, 1773, 1788, 1791, 1796, 1801, 1809, 1813, 1815, 1836, 1843, 1848, 1859, 1881, 1886, 1889, 1905, 1909, 1926, 1933, 1939, 1945, 1947, 1955, 1962, 1976, 2009, 2012, 2019, 2023, 2051, 2052, 2069, 2078, 2080, 2088, 2097, 2128, 2132, 2138, 2146, 2159, 2167, 2168, 2181, 2188, 2197, 2198, 2204, 2209, 2221, 2224, 2228, 2232, 2234, 2235, 2236, 2248, 2249, 2272, 2279, 2281, 2282, 2287, 2294, 2295, 2307, 2323, 2335, 2338, 2346, 2347, 2353, 2364, 2365, 2366, 2373, 2376, 2387, 2407, 2410, 2420, 2432, 2435, 2437, 2449, 2452, 2455, 2456, 2465, 2473, 2480, 2488, 2495, 2497, 2501, 2510, 2517, 2537, 2539, 2548, 2555, 2560, 2561, 2572, 2574, 2585, 2586, 2589, 2594, 2599, 2609, 2615, 2624, 2629, 2640, 2645, 2651, 2654, 2661, 2668, 2683, 2688, 2697, 2702, 2711, 2723, 2724, 2726, 2729, 2734, 2738, 2744, 2756, 2758, 2772, 2784, 2799, 2803, 2804, 2805, 2811, 2818, 2824, 2839, 2844, 2862, 2863, 2867, 2874, 2883, 2885, 2901, 2903, 2918, 2921, 2938, 2940, 2942, 2949, 2952, 2954, 2955, 2963, 2964, 2981, 2983, 3002, 3009, 3018, 3034, 3042, 3054, 3082, 3085, 3105, 3116, 3121, 3127, 3129, 3130, 3149, 3154, 3161, 3162, 3165, 3186, 3188, 3204, 3206, 3208, 3219, 3226, 3234, 3245, 3246, 3247, 3251, 3274, 3277, 3296, 3301, 3302, 3303, 3310, 3318, 3325, 3329, 3353, 3360, 3365, 3370, 3381, 3386, 3390, 3392, 3394, 3400, 3404, 3412, 3438, 3442, 3444, 3459, 3466, 3467, 3488, 3494, 3497, 3503, 3512, 3517, 3525, 3528, 3529, 3534, 3535, 3538, 3559, 3569, 3590, 3595, 3608, 3609, 3616, 3620, 3641, 3643, 3644, 3649, 3652, 3654, 3663, 3693, 3695, 3699, 3721, 3749, 3764, 3775, 3781, 3784, 3787, 3811, 3816, 3821, 3833, 3835, 3856, 3859, 3860, 3871, 3885, 3887, 3895, 3897, 3903, 3911, 3934, 3940, 3946, 3951, 3954, 3963, 3966, 3968, 3973, 3986, 3993, 3995, 4002, 4012, 4031, 4033, 4039, 4047, 4058, 4061, 4071, 4079, 4081, 4090, 4096, 4102, 4161])],\n",
       "      dtype=object)"
      ]
     },
     "execution_count": 9,
     "metadata": {},
     "output_type": "execute_result"
    }
   ],
   "source": [
    "headtail #sparse matrix saving the node indexes of all edges "
   ]
  },
  {
   "cell_type": "code",
   "execution_count": 10,
   "id": "4301c1ff",
   "metadata": {},
   "outputs": [
    {
     "data": {
      "text/plain": [
       "[array([3317, 2363, 3396, ..., 1738, 2754, 2754], dtype=int32),\n",
       " array([2431, 2431, 2350, ..., 3564, 2144, 4055], dtype=int32),\n",
       " array([ 642, 3586,   67, ..., 2095, 3604, 2196], dtype=int32),\n",
       " array([3989, 3989, 1160, ...,  320,  782,  782], dtype=int32),\n",
       " array([2515,  255,  985, ..., 2817, 1885, 2495], dtype=int32),\n",
       " array([2495, 2495, 1447, ..., 1162, 3497, 3497], dtype=int32),\n",
       " array([ 308, 1099, 1099, ...,  225, 2671, 1855], dtype=int32),\n",
       " array([1948, 1747, 1381, ..., 1106, 3293, 3859], dtype=int32),\n",
       " array([2286, 2291, 2493, ..., 1003, 2395, 2186], dtype=int32),\n",
       " array([1384, 1259,  444, ...,  529, 1083, 3304], dtype=int32)]"
      ]
     },
     "execution_count": 10,
     "metadata": {},
     "output_type": "execute_result"
    }
   ],
   "source": [
    "rows"
   ]
  },
  {
   "cell_type": "code",
   "execution_count": 11,
   "id": "3ec23cb2",
   "metadata": {},
   "outputs": [
    {
     "data": {
      "text/plain": [
       "[array([4148, 4154, 4127, ..., 4132, 4146, 4148], dtype=int32),\n",
       " array([4122, 4114, 4146, ..., 4131, 4150, 4142], dtype=int32),\n",
       " array([4158, 4131, 4146, ..., 4116, 4136, 4142], dtype=int32),\n",
       " array([4116, 4150, 4134, ..., 4117, 4143, 4123], dtype=int32),\n",
       " array([4149, 4149, 4127, ..., 4143, 4116, 4139], dtype=int32),\n",
       " array([4153, 4160, 4143, ..., 4157, 4112, 4135], dtype=int32),\n",
       " array([4152, 4154, 4120, ..., 4130, 4157, 4122], dtype=int32),\n",
       " array([4121, 4157, 4116, ..., 4157, 4114, 4157], dtype=int32),\n",
       " array([4157, 4157, 4142, ..., 4142, 4130, 4142], dtype=int32),\n",
       " array([4130, 4130, 4130, ..., 4143, 4130, 4130], dtype=int32)]"
      ]
     },
     "execution_count": 11,
     "metadata": {},
     "output_type": "execute_result"
    }
   ],
   "source": [
    "cols"
   ]
  },
  {
   "cell_type": "code",
   "execution_count": 22,
   "id": "21fed526",
   "metadata": {},
   "outputs": [],
   "source": [
    "degrees = np.array([len(x) for x in headtail])\n",
    "num_snap = test_size + train_size\n",
    "labels = [torch.LongTensor(label) for label in labels]\n",
    "\n",
    "snap_train = list(range(num_snap))[:train_size]\n",
    "snap_test = list(range(num_snap))[train_size:]"
   ]
  },
  {
   "cell_type": "code",
   "execution_count": 24,
   "id": "a9f00dd9",
   "metadata": {},
   "outputs": [
    {
     "data": {
      "text/plain": [
       "[0, 1, 2, 3, 4]"
      ]
     },
     "execution_count": 24,
     "metadata": {},
     "output_type": "execute_result"
    }
   ],
   "source": [
    "snap_train"
   ]
  },
  {
   "cell_type": "code",
   "execution_count": 23,
   "id": "46371050",
   "metadata": {},
   "outputs": [
    {
     "data": {
      "text/plain": [
       "[5, 6, 7, 8, 9]"
      ]
     },
     "execution_count": 23,
     "metadata": {},
     "output_type": "execute_result"
    }
   ],
   "source": [
    "snap_test"
   ]
  },
  {
   "cell_type": "code",
   "execution_count": 27,
   "id": "46e2a2d5",
   "metadata": {},
   "outputs": [
    {
     "data": {
      "text/plain": [
       "([tensor([0, 0, 0,  ..., 0, 0, 0]),\n",
       "  tensor([0, 0, 0,  ..., 0, 0, 0]),\n",
       "  tensor([0, 0, 1,  ..., 0, 0, 0]),\n",
       "  tensor([0, 0, 0,  ..., 0, 0, 0]),\n",
       "  tensor([1, 1, 0,  ..., 0, 0, 0]),\n",
       "  tensor([0, 0, 0,  ..., 0, 0, 0]),\n",
       "  tensor([1, 0, 0,  ..., 0, 0, 0]),\n",
       "  tensor([0, 0, 0,  ..., 0, 0, 0]),\n",
       "  tensor([0, 0, 0,  ..., 0, 0, 0]),\n",
       "  tensor([0, 0, 0,  ..., 0, 0, 0])],\n",
       " 10,\n",
       " torch.Size([5000]))"
      ]
     },
     "execution_count": 27,
     "metadata": {},
     "output_type": "execute_result"
    }
   ],
   "source": [
    "labels, len(labels), labels[0].shape"
   ]
  },
  {
   "cell_type": "code",
   "execution_count": 78,
   "id": "7101f9e0",
   "metadata": {},
   "outputs": [],
   "source": [
    "idx = list(range(nb_nodes))\n",
    "index_id_map = {i:i for i in idx}\n",
    "idx = np.array(idx)"
   ]
  },
  {
   "cell_type": "markdown",
   "id": "39482469",
   "metadata": {},
   "source": [
    "# Define data dictionary"
   ]
  },
  {
   "cell_type": "code",
   "execution_count": 66,
   "id": "7a573839",
   "metadata": {},
   "outputs": [],
   "source": [
    "from anomaly_detection_spatial_temporal_data.model.model_config import TaddyConfig"
   ]
  },
  {
   "cell_type": "code",
   "execution_count": 53,
   "id": "bab52c6a",
   "metadata": {},
   "outputs": [],
   "source": [
    "import yaml"
   ]
  },
  {
   "cell_type": "code",
   "execution_count": 52,
   "id": "faff284d",
   "metadata": {},
   "outputs": [],
   "source": [
    "model_config_file = '../../conf/base/parameters/taddy.yml'"
   ]
  },
  {
   "cell_type": "code",
   "execution_count": 54,
   "id": "21f280c2",
   "metadata": {},
   "outputs": [
    {
     "name": "stdout",
     "output_type": "stream",
     "text": [
      "{'data_load_options': {'c': 0.15, 'eps': 0.001, 'test_size': 0.2, 'random_state': 3, 'batch_size': 256, 'load_all_tag': False, 'neighbor_num': 5, 'window_size': 2, 'compute_s': True}, 'model_options': {'neighbor_num': 5, 'window_size': 2, 'batch_size': 256, 'embedding_dim': 32, 'num_hidden_layers': 2, 'num_attention_heads': 2, 'seed': 1, 'print_feq': 10, 'lr': 0.001, 'weight_decay': '5e-4', 'max_epoch': 100, 'spy_tag': True, 'max_hop_dis_index': 100, 'max_inti_pos_index': 100, 'hidden_act': 'gelu', 'hidden_dropout_prob': 0.5, 'attention_probs_dropout_prob': 0.3, 'initializer_range': 0.02, 'layer_norm_eps': 1e-12, 'is_decoder': False, 'save_directory': '/home/ec2-user/SageMaker/anomaly-detection-spatial-temporal-data/data/07_model_output/'}, 'infer_options': {'snap_num': 6}}\n"
     ]
    }
   ],
   "source": [
    "with open(model_config_file, \"r\") as stream:\n",
    "    try:\n",
    "        mode_config=yaml.safe_load(stream)\n",
    "        print(mode_config)\n",
    "    except yaml.YAMLError as exc:\n",
    "        print(exc)"
   ]
  },
  {
   "cell_type": "code",
   "execution_count": 68,
   "id": "cd4edd16",
   "metadata": {},
   "outputs": [],
   "source": [
    "eigen_file_name = \"/home/ec2-user/SageMaker/anomaly-detection-spatial-temporal-data/data/05_model_input/eigen_tmp.pkl\"\n",
    "data_loader_config = mode_config['data_load_options']"
   ]
  },
  {
   "cell_type": "code",
   "execution_count": 69,
   "id": "98586118",
   "metadata": {},
   "outputs": [
    {
     "data": {
      "text/plain": [
       "{'c': 0.15,\n",
       " 'eps': 0.001,\n",
       " 'test_size': 0.2,\n",
       " 'random_state': 3,\n",
       " 'batch_size': 256,\n",
       " 'load_all_tag': False,\n",
       " 'neighbor_num': 5,\n",
       " 'window_size': 2,\n",
       " 'compute_s': True}"
      ]
     },
     "execution_count": 69,
     "metadata": {},
     "output_type": "execute_result"
    }
   ],
   "source": [
    "data_loader_config"
   ]
  },
  {
   "cell_type": "code",
   "execution_count": 71,
   "id": "a9b4d73c",
   "metadata": {},
   "outputs": [
    {
     "data": {
      "text/plain": [
       "bool"
      ]
     },
     "execution_count": 71,
     "metadata": {},
     "output_type": "execute_result"
    }
   ],
   "source": [
    "type(data_loader_config['compute_s'])"
   ]
  },
  {
   "cell_type": "code",
   "execution_count": 75,
   "id": "7b5dcd96",
   "metadata": {},
   "outputs": [],
   "source": [
    "import scipy.sparse as sp\n",
    "from numpy.linalg import inv\n",
    "\n",
    "def normalize(mx):\n",
    "    \"\"\"Row-normalize sparse matrix\"\"\"\n",
    "    rowsum = np.array(mx.sum(1))\n",
    "    r_inv = np.power(rowsum, -1).flatten()\n",
    "    r_inv[np.isinf(r_inv)] = 0.\n",
    "    r_mat_inv = sp.diags(r_inv)\n",
    "    mx = r_mat_inv.dot(mx)\n",
    "    return mx\n",
    "\n",
    "def normalize_adj(adj):\n",
    "    \"\"\"Symmetrically normalize adjacency matrix. (0226)\"\"\"\n",
    "    adj = sp.coo_matrix(adj)\n",
    "    rowsum = np.array(adj.sum(1))\n",
    "    d_inv_sqrt = np.power(rowsum, -0.5).flatten()\n",
    "    d_inv_sqrt[np.isinf(d_inv_sqrt)] = 0.\n",
    "    d_mat_inv_sqrt = sp.diags(d_inv_sqrt)\n",
    "    return adj.dot(d_mat_inv_sqrt).transpose().dot(d_mat_inv_sqrt).tocoo()\n",
    "\n",
    "def adj_normalize(mx):\n",
    "    \"\"\"Row-normalize sparse matrix\"\"\"\n",
    "    rowsum = np.array(mx.sum(1))\n",
    "    r_inv = np.power(rowsum, -0.5).flatten()\n",
    "    r_inv[np.isinf(r_inv)] = 0.\n",
    "    r_mat_inv = sp.diags(r_inv)\n",
    "    mx = r_mat_inv.dot(mx).dot(r_mat_inv)\n",
    "    return mx\n",
    "\n",
    "def sparse_mx_to_torch_sparse_tensor(sparse_mx):\n",
    "    \"\"\"Convert a scipy sparse matrix to a torch sparse tensor.\"\"\"\n",
    "    sparse_mx = sparse_mx.tocoo().astype(np.float32)\n",
    "    indices = torch.from_numpy(\n",
    "        np.vstack((sparse_mx.row, sparse_mx.col)).astype(np.int64))\n",
    "    values = torch.from_numpy(sparse_mx.data)\n",
    "    shape = torch.Size(sparse_mx.shape)\n",
    "    return torch.sparse.FloatTensor(indices, values, shape)\n",
    "\n",
    "def preprocess_adj(adj):\n",
    "    \"\"\"Preprocessing of adjacency matrix for simple GCN model and conversion to tuple representation. (0226)\"\"\"\n",
    "    adj = adj + adj.T.multiply(adj.T > adj) - adj.multiply(adj.T > adj)\n",
    "    # adj_np = np.array(adj.todense())\n",
    "    adj_normalized = normalize_adj(adj + sp.eye(adj.shape[0]))\n",
    "    adj_normalized = sparse_mx_to_torch_sparse_tensor(adj_normalized)\n",
    "    return adj_normalized\n",
    "\n",
    "def get_adjs(rows, cols, weights, nb_nodes, eigen_file_name, data_loader_config):\n",
    "    \"\"\"Generate adjacency matrix and conduct eigenvalue decomposition for node sampling\"\"\"\n",
    "    if not os.path.exists(eigen_file_name):\n",
    "        generate_eigen = True\n",
    "        print('Generating eigen as: ' + eigen_file_name)\n",
    "    else:\n",
    "        generate_eigen = False\n",
    "        print('Loading eigen from: ' + eigen_file_name)\n",
    "        with open(eigen_file_name, 'rb') as f:\n",
    "            eigen_adjs_sparse = pickle.load(f)\n",
    "        eigen_adjs = []\n",
    "        for eigen_adj_sparse in eigen_adjs_sparse:\n",
    "            eigen_adjs.append(np.array(eigen_adj_sparse.todense()))\n",
    "\n",
    "    adjs = []\n",
    "    if generate_eigen:\n",
    "        eigen_adjs = []\n",
    "        eigen_adjs_sparse = []\n",
    "\n",
    "    for i in range(len(rows)):\n",
    "        adj = sp.csr_matrix((weights[i], (rows[i], cols[i])), shape=(nb_nodes, nb_nodes), dtype=np.float32)\n",
    "        adjs.append(preprocess_adj(adj))\n",
    "        if data_loader_config['compute_s']:\n",
    "            if generate_eigen:\n",
    "                eigen_adj = data_loader_config['c'] * inv((sp.eye(adj.shape[0]) - (1 - data_loader_config['c']) * adj_normalize(adj)).toarray())\n",
    "                for p in range(adj.shape[0]):\n",
    "                    eigen_adj[p,p] = 0.\n",
    "                eigen_adj = normalize(eigen_adj)\n",
    "                eigen_adjs.append(eigen_adj)\n",
    "                eigen_adjs_sparse.append(sp.csr_matrix(eigen_adj))\n",
    "\n",
    "        else:\n",
    "            eigen_adjs.append(None)\n",
    "\n",
    "    if generate_eigen:\n",
    "        with open(eigen_file_name, 'wb') as f:\n",
    "            pickle.dump(eigen_adjs_sparse, f, pickle.HIGHEST_PROTOCOL)\n",
    "\n",
    "    return adjs, eigen_adjs"
   ]
  },
  {
   "cell_type": "code",
   "execution_count": 76,
   "id": "881fb508",
   "metadata": {},
   "outputs": [
    {
     "name": "stdout",
     "output_type": "stream",
     "text": [
      "Generating eigen as: /home/ec2-user/SageMaker/anomaly-detection-spatial-temporal-data/data/05_model_input/eigen_tmp.pkl\n"
     ]
    },
    {
     "name": "stderr",
     "output_type": "stream",
     "text": [
      "/home/ec2-user/anaconda3/envs/pytorch_latest_p36/lib/python3.6/site-packages/ipykernel/__main__.py:25: RuntimeWarning: divide by zero encountered in power\n",
      "/home/ec2-user/anaconda3/envs/pytorch_latest_p36/lib/python3.6/site-packages/ipykernel/__main__.py:7: RuntimeWarning: divide by zero encountered in power\n"
     ]
    }
   ],
   "source": [
    "edges = [np.vstack((rows[i], cols[i])).T for i in range(num_snap)]\n",
    "adjs, eigen_adjs = get_adjs(rows, cols, weights, nb_nodes, eigen_file_name, data_loader_config)"
   ]
  },
  {
   "cell_type": "code",
   "execution_count": 80,
   "id": "5df87be4",
   "metadata": {},
   "outputs": [],
   "source": [
    "data_dict = {\n",
    "    'X': None, \n",
    "    'A': adjs, \n",
    "    'S': eigen_adjs, \n",
    "    'index_id_map': index_id_map, \n",
    "    'edges': edges,\n",
    "    'y': labels, \n",
    "    'idx': idx, \n",
    "    'snap_train': snap_train, \n",
    "    'degrees': degrees,\n",
    "    'snap_test': snap_test, \n",
    "    'num_snap': num_snap}"
   ]
  },
  {
   "cell_type": "markdown",
   "id": "81182081",
   "metadata": {},
   "source": [
    "# Define model and load model training config "
   ]
  },
  {
   "cell_type": "code",
   "execution_count": 81,
   "id": "5dbeb17d",
   "metadata": {},
   "outputs": [],
   "source": [
    "from anomaly_detection_spatial_temporal_data.model.dynamic_graph import Taddy"
   ]
  },
  {
   "cell_type": "code",
   "execution_count": 82,
   "id": "9987407e",
   "metadata": {},
   "outputs": [],
   "source": [
    "model_config = TaddyConfig(mode_config['model_options'])\n",
    "model_obj = Taddy(data_dict, model_config)"
   ]
  },
  {
   "cell_type": "markdown",
   "id": "47019067",
   "metadata": {},
   "source": [
    "# Train model"
   ]
  },
  {
   "cell_type": "code",
   "execution_count": 83,
   "id": "783f93bf",
   "metadata": {},
   "outputs": [
    {
     "name": "stdout",
     "output_type": "stream",
     "text": [
      "Epoch: 1, loss:0.6878, Time: 21.1835s\n",
      "Epoch: 2, loss:0.6822, Time: 20.2179s\n",
      "Epoch: 3, loss:0.6765, Time: 21.5355s\n",
      "Epoch: 4, loss:0.6659, Time: 21.4160s\n",
      "Epoch: 5, loss:0.6435, Time: 22.1088s\n",
      "Epoch: 6, loss:0.6148, Time: 22.6724s\n",
      "Epoch: 7, loss:0.5665, Time: 22.7436s\n",
      "Epoch: 8, loss:0.5621, Time: 20.4716s\n",
      "Epoch: 9, loss:0.4587, Time: 21.8286s\n",
      "Epoch: 10, loss:0.4462, Time: 20.9353s\n",
      "Snap: 05 | AUC: 0.6697\n",
      "Snap: 06 | AUC: 0.6498\n",
      "Snap: 07 | AUC: 0.6755\n",
      "Snap: 08 | AUC: 0.6729\n",
      "Snap: 09 | AUC: 0.8164\n",
      "TOTAL AUC:0.7132\n",
      "Epoch: 11, loss:0.3990, Time: 22.5276s\n",
      "Epoch: 12, loss:0.4039, Time: 21.1181s\n",
      "Epoch: 13, loss:0.3986, Time: 21.7353s\n",
      "Epoch: 14, loss:0.3298, Time: 22.1062s\n",
      "Epoch: 15, loss:0.3896, Time: 21.0532s\n",
      "Epoch: 16, loss:0.3966, Time: 21.0583s\n",
      "Epoch: 17, loss:0.3851, Time: 22.4059s\n",
      "Epoch: 18, loss:0.3546, Time: 22.6783s\n",
      "Epoch: 19, loss:0.3315, Time: 23.1748s\n",
      "Epoch: 20, loss:0.3068, Time: 22.7745s\n",
      "Snap: 05 | AUC: 0.6714\n",
      "Snap: 06 | AUC: 0.6520\n",
      "Snap: 07 | AUC: 0.7571\n",
      "Snap: 08 | AUC: 0.7450\n",
      "Snap: 09 | AUC: 0.8329\n",
      "TOTAL AUC:0.6722\n",
      "Epoch: 21, loss:0.3273, Time: 21.4709s\n",
      "Epoch: 22, loss:0.3071, Time: 21.9083s\n",
      "Epoch: 23, loss:0.3089, Time: 21.8681s\n",
      "Epoch: 24, loss:0.3473, Time: 23.2547s\n",
      "Epoch: 25, loss:0.2709, Time: 21.5756s\n",
      "Epoch: 26, loss:0.2728, Time: 22.9286s\n",
      "Epoch: 27, loss:0.3130, Time: 22.8323s\n",
      "Epoch: 28, loss:0.4383, Time: 22.4947s\n",
      "Epoch: 29, loss:0.2803, Time: 22.7975s\n",
      "Epoch: 30, loss:0.3863, Time: 21.2777s\n",
      "Snap: 05 | AUC: 0.6748\n",
      "Snap: 06 | AUC: 0.6528\n",
      "Snap: 07 | AUC: 0.6947\n",
      "Snap: 08 | AUC: 0.7421\n",
      "Snap: 09 | AUC: 0.8402\n",
      "TOTAL AUC:0.6468\n",
      "Epoch: 31, loss:0.3083, Time: 22.1289s\n",
      "Epoch: 32, loss:0.2859, Time: 21.7459s\n",
      "Epoch: 33, loss:0.2719, Time: 22.7676s\n",
      "Epoch: 34, loss:0.2370, Time: 22.8320s\n",
      "Epoch: 35, loss:0.2559, Time: 22.3735s\n",
      "Epoch: 36, loss:0.2379, Time: 21.9696s\n",
      "Epoch: 37, loss:0.3019, Time: 21.3086s\n",
      "Epoch: 38, loss:0.3491, Time: 21.7423s\n",
      "Epoch: 39, loss:0.3111, Time: 22.2164s\n",
      "Epoch: 40, loss:0.3766, Time: 20.6446s\n",
      "Snap: 05 | AUC: 0.6799\n",
      "Snap: 06 | AUC: 0.6525\n",
      "Snap: 07 | AUC: 0.6998\n",
      "Snap: 08 | AUC: 0.7813\n",
      "Snap: 09 | AUC: 0.8603\n",
      "TOTAL AUC:0.6557\n",
      "Epoch: 41, loss:0.3238, Time: 22.3582s\n",
      "Epoch: 42, loss:0.3273, Time: 20.2169s\n",
      "Epoch: 43, loss:0.2979, Time: 22.3221s\n",
      "Epoch: 44, loss:0.4071, Time: 21.2748s\n",
      "Epoch: 45, loss:0.2994, Time: 20.8131s\n",
      "Epoch: 46, loss:0.3026, Time: 20.5524s\n",
      "Epoch: 47, loss:0.2752, Time: 21.2121s\n",
      "Epoch: 48, loss:0.2643, Time: 21.5673s\n",
      "Epoch: 49, loss:0.3093, Time: 21.3994s\n",
      "Epoch: 50, loss:0.4394, Time: 20.5661s\n",
      "Snap: 05 | AUC: 0.6776\n",
      "Snap: 06 | AUC: 0.6400\n",
      "Snap: 07 | AUC: 0.7104\n",
      "Snap: 08 | AUC: 0.8006\n",
      "Snap: 09 | AUC: 0.8542\n",
      "TOTAL AUC:0.7187\n",
      "Epoch: 51, loss:0.3659, Time: 20.7364s\n",
      "Epoch: 52, loss:0.2995, Time: 22.0931s\n",
      "Epoch: 53, loss:0.3075, Time: 21.0366s\n",
      "Epoch: 54, loss:0.2710, Time: 21.8633s\n",
      "Epoch: 55, loss:0.2489, Time: 21.8421s\n",
      "Epoch: 56, loss:0.2881, Time: 22.2199s\n",
      "Epoch: 57, loss:0.2385, Time: 22.4889s\n",
      "Epoch: 58, loss:0.2876, Time: 21.6094s\n",
      "Epoch: 59, loss:0.2893, Time: 20.8167s\n",
      "Epoch: 60, loss:0.2943, Time: 21.7457s\n",
      "Snap: 05 | AUC: 0.6771\n",
      "Snap: 06 | AUC: 0.6446\n",
      "Snap: 07 | AUC: 0.7014\n",
      "Snap: 08 | AUC: 0.8150\n",
      "Snap: 09 | AUC: 0.8775\n",
      "TOTAL AUC:0.7010\n",
      "Epoch: 61, loss:0.2945, Time: 22.2346s\n",
      "Epoch: 62, loss:0.2807, Time: 20.2200s\n",
      "Epoch: 63, loss:0.2990, Time: 21.5726s\n",
      "Epoch: 64, loss:0.3112, Time: 22.1055s\n",
      "Epoch: 65, loss:0.3043, Time: 22.4840s\n",
      "Epoch: 66, loss:0.3256, Time: 21.2570s\n",
      "Epoch: 67, loss:0.3750, Time: 20.4432s\n",
      "Epoch: 68, loss:0.3174, Time: 21.1922s\n",
      "Epoch: 69, loss:0.3184, Time: 22.7763s\n",
      "Epoch: 70, loss:0.3670, Time: 20.6899s\n",
      "Snap: 05 | AUC: 0.6783\n",
      "Snap: 06 | AUC: 0.6428\n",
      "Snap: 07 | AUC: 0.7693\n",
      "Snap: 08 | AUC: 0.8059\n",
      "Snap: 09 | AUC: 0.8942\n",
      "TOTAL AUC:0.7073\n",
      "Epoch: 71, loss:0.3454, Time: 20.5523s\n",
      "Epoch: 72, loss:0.3987, Time: 20.6197s\n",
      "Epoch: 73, loss:0.3009, Time: 23.1431s\n",
      "Epoch: 74, loss:0.4394, Time: 22.9427s\n",
      "Epoch: 75, loss:0.3444, Time: 20.2431s\n",
      "Epoch: 76, loss:0.3240, Time: 20.7118s\n",
      "Epoch: 77, loss:0.3889, Time: 20.2971s\n",
      "Epoch: 78, loss:0.2955, Time: 21.5727s\n",
      "Epoch: 79, loss:0.2994, Time: 21.1984s\n",
      "Epoch: 80, loss:0.2554, Time: 21.8953s\n",
      "Snap: 05 | AUC: 0.7031\n",
      "Snap: 06 | AUC: 0.6450\n",
      "Snap: 07 | AUC: 0.7842\n",
      "Snap: 08 | AUC: 0.8021\n",
      "Snap: 09 | AUC: 0.9018\n",
      "TOTAL AUC:0.7166\n",
      "Epoch: 81, loss:0.2331, Time: 22.2545s\n",
      "Epoch: 82, loss:0.3525, Time: 20.5009s\n",
      "Epoch: 83, loss:0.4050, Time: 21.5173s\n",
      "Epoch: 84, loss:0.3258, Time: 21.9216s\n",
      "Epoch: 85, loss:0.3319, Time: 22.0485s\n",
      "Epoch: 86, loss:0.2590, Time: 21.7854s\n",
      "Epoch: 87, loss:0.2554, Time: 22.1844s\n",
      "Epoch: 88, loss:0.3260, Time: 21.1336s\n",
      "Epoch: 89, loss:0.3191, Time: 21.8206s\n",
      "Epoch: 90, loss:0.4019, Time: 20.0087s\n",
      "Snap: 05 | AUC: 0.6877\n",
      "Snap: 06 | AUC: 0.6455\n",
      "Snap: 07 | AUC: 0.7595\n",
      "Snap: 08 | AUC: 0.8075\n",
      "Snap: 09 | AUC: 0.8943\n",
      "TOTAL AUC:0.7100\n",
      "Epoch: 91, loss:0.3317, Time: 22.9840s\n",
      "Epoch: 92, loss:0.3635, Time: 21.4244s\n",
      "Epoch: 93, loss:0.3030, Time: 19.8604s\n",
      "Epoch: 94, loss:0.2427, Time: 22.2331s\n",
      "Epoch: 95, loss:0.3095, Time: 21.4855s\n",
      "Epoch: 96, loss:0.3110, Time: 20.9369s\n",
      "Epoch: 97, loss:0.2418, Time: 21.7303s\n",
      "Epoch: 98, loss:0.2945, Time: 21.1363s\n",
      "Epoch: 99, loss:0.2960, Time: 21.6324s\n",
      "Epoch: 100, loss:0.2455, Time: 22.4449s\n",
      "Snap: 05 | AUC: 0.6861\n",
      "Snap: 06 | AUC: 0.6433\n",
      "Snap: 07 | AUC: 0.7663\n",
      "Snap: 08 | AUC: 0.7983\n",
      "Snap: 09 | AUC: 0.8952\n",
      "TOTAL AUC:0.7188\n"
     ]
    }
   ],
   "source": [
    "learned_result,save_model_path = model_obj.run()"
   ]
  },
  {
   "cell_type": "markdown",
   "id": "49a0b3f4",
   "metadata": {},
   "source": [
    "# Model training result "
   ]
  },
  {
   "cell_type": "code",
   "execution_count": 84,
   "id": "92ea8dc1",
   "metadata": {},
   "outputs": [
    {
     "data": {
      "text/plain": [
       "{1: {'train_loss': 0.6877960711717606},\n",
       " 2: {'train_loss': 0.6821642965078354},\n",
       " 3: {'train_loss': 0.6764988005161285},\n",
       " 4: {'train_loss': 0.6658555865287781},\n",
       " 5: {'train_loss': 0.643513485789299},\n",
       " 6: {'train_loss': 0.6147666275501251},\n",
       " 7: {'train_loss': 0.5664583593606949},\n",
       " 8: {'train_loss': 0.5620778948068619},\n",
       " 9: {'train_loss': 0.458668515086174},\n",
       " 10: {'train_loss': 0.4461595192551613, 'test_auc': 0.7132268956049801},\n",
       " 11: {'train_loss': 0.3990139290690422},\n",
       " 12: {'train_loss': 0.40388356894254684},\n",
       " 13: {'train_loss': 0.39861707389354706},\n",
       " 14: {'train_loss': 0.32978464663028717},\n",
       " 15: {'train_loss': 0.3895721733570099},\n",
       " 16: {'train_loss': 0.3966144844889641},\n",
       " 17: {'train_loss': 0.3850824385881424},\n",
       " 18: {'train_loss': 0.3545578643679619},\n",
       " 19: {'train_loss': 0.33154749125242233},\n",
       " 20: {'train_loss': 0.3068309798836708, 'test_auc': 0.6722487877232647},\n",
       " 21: {'train_loss': 0.32729755342006683},\n",
       " 22: {'train_loss': 0.3070712983608246},\n",
       " 23: {'train_loss': 0.3089311718940735},\n",
       " 24: {'train_loss': 0.3473328500986099},\n",
       " 25: {'train_loss': 0.27092256397008896},\n",
       " 26: {'train_loss': 0.272792749106884},\n",
       " 27: {'train_loss': 0.31300928443670273},\n",
       " 28: {'train_loss': 0.4382653906941414},\n",
       " 29: {'train_loss': 0.280265212059021},\n",
       " 30: {'train_loss': 0.38625074177980423, 'test_auc': 0.6468446379607011},\n",
       " 31: {'train_loss': 0.3082546517252922},\n",
       " 32: {'train_loss': 0.28592197597026825},\n",
       " 33: {'train_loss': 0.27192632481455803},\n",
       " 34: {'train_loss': 0.23695650324225426},\n",
       " 35: {'train_loss': 0.25590572506189346},\n",
       " 36: {'train_loss': 0.23787518590688705},\n",
       " 37: {'train_loss': 0.30188003554940224},\n",
       " 38: {'train_loss': 0.3491372913122177},\n",
       " 39: {'train_loss': 0.31107743084430695},\n",
       " 40: {'train_loss': 0.3766034469008446, 'test_auc': 0.655671994603071},\n",
       " 41: {'train_loss': 0.3238239586353302},\n",
       " 42: {'train_loss': 0.32727277278900146},\n",
       " 43: {'train_loss': 0.2978634908795357},\n",
       " 44: {'train_loss': 0.4070781394839287},\n",
       " 45: {'train_loss': 0.299385379999876},\n",
       " 46: {'train_loss': 0.3025779575109482},\n",
       " 47: {'train_loss': 0.2752290442585945},\n",
       " 48: {'train_loss': 0.26425254344940186},\n",
       " 49: {'train_loss': 0.3092767968773842},\n",
       " 50: {'train_loss': 0.4394408091902733, 'test_auc': 0.7186550402396544},\n",
       " 51: {'train_loss': 0.36593306064605713},\n",
       " 52: {'train_loss': 0.29947929829359055},\n",
       " 53: {'train_loss': 0.3075474128127098},\n",
       " 54: {'train_loss': 0.27101973071694374},\n",
       " 55: {'train_loss': 0.24893826618790627},\n",
       " 56: {'train_loss': 0.28813453018665314},\n",
       " 57: {'train_loss': 0.23848668858408928},\n",
       " 58: {'train_loss': 0.28764256834983826},\n",
       " 59: {'train_loss': 0.2893293909728527},\n",
       " 60: {'train_loss': 0.294293649494648, 'test_auc': 0.7010179230429763},\n",
       " 61: {'train_loss': 0.2944517806172371},\n",
       " 62: {'train_loss': 0.28072164580225945},\n",
       " 63: {'train_loss': 0.29904288053512573},\n",
       " 64: {'train_loss': 0.3112046718597412},\n",
       " 65: {'train_loss': 0.30428246781229973},\n",
       " 66: {'train_loss': 0.3256279528141022},\n",
       " 67: {'train_loss': 0.3749749958515167},\n",
       " 68: {'train_loss': 0.3173530325293541},\n",
       " 69: {'train_loss': 0.31843703985214233},\n",
       " 70: {'train_loss': 0.3669602647423744, 'test_auc': 0.7073385685316788},\n",
       " 71: {'train_loss': 0.345350056886673},\n",
       " 72: {'train_loss': 0.3987056091427803},\n",
       " 73: {'train_loss': 0.3008965514600277},\n",
       " 74: {'train_loss': 0.43937741965055466},\n",
       " 75: {'train_loss': 0.34444038569927216},\n",
       " 76: {'train_loss': 0.32401329278945923},\n",
       " 77: {'train_loss': 0.38885441422462463},\n",
       " 78: {'train_loss': 0.29548659175634384},\n",
       " 79: {'train_loss': 0.2993689104914665},\n",
       " 80: {'train_loss': 0.25543685257434845, 'test_auc': 0.7166424113326874},\n",
       " 81: {'train_loss': 0.23305966332554817},\n",
       " 82: {'train_loss': 0.3524996340274811},\n",
       " 83: {'train_loss': 0.4050348252058029},\n",
       " 84: {'train_loss': 0.3257649391889572},\n",
       " 85: {'train_loss': 0.3319450840353966},\n",
       " 86: {'train_loss': 0.2590159848332405},\n",
       " 87: {'train_loss': 0.2553514465689659},\n",
       " 88: {'train_loss': 0.32599060237407684},\n",
       " 89: {'train_loss': 0.319098562002182},\n",
       " 90: {'train_loss': 0.40194859355688095, 'test_auc': 0.7100252738904245},\n",
       " 91: {'train_loss': 0.3316829428076744},\n",
       " 92: {'train_loss': 0.36347683146595955},\n",
       " 93: {'train_loss': 0.30296310037374496},\n",
       " 94: {'train_loss': 0.2426525540649891},\n",
       " 95: {'train_loss': 0.3094669580459595},\n",
       " 96: {'train_loss': 0.3109985738992691},\n",
       " 97: {'train_loss': 0.2418329156935215},\n",
       " 98: {'train_loss': 0.2945123016834259},\n",
       " 99: {'train_loss': 0.29604171589016914},\n",
       " 100: {'train_loss': 0.2454628050327301, 'test_auc': 0.7187981664506992}}"
      ]
     },
     "execution_count": 84,
     "metadata": {},
     "output_type": "execute_result"
    }
   ],
   "source": [
    "learned_result"
   ]
  },
  {
   "cell_type": "code",
   "execution_count": 85,
   "id": "9d0f815c",
   "metadata": {},
   "outputs": [
    {
     "data": {
      "text/plain": [
       "'/home/ec2-user/SageMaker/anomaly-detection-spatial-temporal-data/data/07_model_output/taddy_model_99.pth'"
      ]
     },
     "execution_count": 85,
     "metadata": {},
     "output_type": "execute_result"
    }
   ],
   "source": [
    "save_model_path"
   ]
  },
  {
   "cell_type": "markdown",
   "id": "83a538c5",
   "metadata": {},
   "source": [
    "### load pipeline model training result"
   ]
  },
  {
   "cell_type": "code",
   "execution_count": 12,
   "id": "4a82d839",
   "metadata": {},
   "outputs": [],
   "source": [
    "file = open(\"../../data/07_model_output/train_result.pkl\", 'rb')\n",
    "train_result = pickle.load(file)\n",
    "# close the file\n",
    "file.close()"
   ]
  },
  {
   "cell_type": "code",
   "execution_count": 13,
   "id": "5d069f9c",
   "metadata": {},
   "outputs": [
    {
     "data": {
      "text/plain": [
       "{1: {'train_loss': 0.6881906241178513},\n",
       " 2: {'train_loss': 0.6814479827880859},\n",
       " 3: {'train_loss': 0.6744112074375153},\n",
       " 4: {'train_loss': 0.6597873270511627},\n",
       " 5: {'train_loss': 0.6489938050508499},\n",
       " 6: {'train_loss': 0.6022640466690063},\n",
       " 7: {'train_loss': 0.5824433118104935},\n",
       " 8: {'train_loss': 0.545023500919342},\n",
       " 9: {'train_loss': 0.4961806461215019},\n",
       " 10: {'train_loss': 0.4321019649505615, 'test_auc': 0.6270922835146469},\n",
       " 11: {'train_loss': 0.43047888576984406},\n",
       " 12: {'train_loss': 0.3681452348828316},\n",
       " 13: {'train_loss': 0.37437988817691803},\n",
       " 14: {'train_loss': 0.3437521904706955},\n",
       " 15: {'train_loss': 0.41434410959482193},\n",
       " 16: {'train_loss': 0.37434427440166473},\n",
       " 17: {'train_loss': 0.2873542085289955},\n",
       " 18: {'train_loss': 0.3646049425005913},\n",
       " 19: {'train_loss': 0.34459684044122696},\n",
       " 20: {'train_loss': 0.3836841285228729, 'test_auc': 0.6978857767624783},\n",
       " 21: {'train_loss': 0.28783082962036133},\n",
       " 22: {'train_loss': 0.44203196465969086},\n",
       " 23: {'train_loss': 0.2939289063215256},\n",
       " 24: {'train_loss': 0.3500358909368515},\n",
       " 25: {'train_loss': 0.3118945583701134},\n",
       " 26: {'train_loss': 0.3562314435839653},\n",
       " 27: {'train_loss': 0.31539236754179},\n",
       " 28: {'train_loss': 0.3349982053041458},\n",
       " 29: {'train_loss': 0.3261977583169937},\n",
       " 30: {'train_loss': 0.266488429158926, 'test_auc': 0.6974280086377904},\n",
       " 31: {'train_loss': 0.3323410898447037},\n",
       " 32: {'train_loss': 0.37242475897073746},\n",
       " 33: {'train_loss': 0.3096349537372589},\n",
       " 34: {'train_loss': 0.2479766085743904},\n",
       " 35: {'train_loss': 0.38335293531417847},\n",
       " 36: {'train_loss': 0.3240865543484688},\n",
       " 37: {'train_loss': 0.30925312265753746},\n",
       " 38: {'train_loss': 0.30370648205280304},\n",
       " 39: {'train_loss': 0.2916625589132309},\n",
       " 40: {'train_loss': 0.32356294989585876, 'test_auc': 0.6551429048042547},\n",
       " 41: {'train_loss': 0.2966008558869362},\n",
       " 42: {'train_loss': 0.2867996096611023},\n",
       " 43: {'train_loss': 0.30895112454891205},\n",
       " 44: {'train_loss': 0.3048357740044594},\n",
       " 45: {'train_loss': 0.40653037279844284},\n",
       " 46: {'train_loss': 0.33427221328020096},\n",
       " 47: {'train_loss': 0.32533973455429077},\n",
       " 48: {'train_loss': 0.4532245174050331},\n",
       " 49: {'train_loss': 0.3372139036655426},\n",
       " 50: {'train_loss': 0.33904243633151054, 'test_auc': 0.650656498826118},\n",
       " 51: {'train_loss': 0.2703070417046547},\n",
       " 52: {'train_loss': 0.24901023507118225},\n",
       " 53: {'train_loss': 0.31383172050118446},\n",
       " 54: {'train_loss': 0.28085857629776},\n",
       " 55: {'train_loss': 0.2880713827908039},\n",
       " 56: {'train_loss': 0.2925252765417099},\n",
       " 57: {'train_loss': 0.3048916533589363},\n",
       " 58: {'train_loss': 0.30176275223493576},\n",
       " 59: {'train_loss': 0.2769281007349491},\n",
       " 60: {'train_loss': 0.3682885318994522, 'test_auc': 0.6445184038749},\n",
       " 61: {'train_loss': 0.24960511550307274},\n",
       " 62: {'train_loss': 0.2745503783226013},\n",
       " 63: {'train_loss': 0.4091033935546875},\n",
       " 64: {'train_loss': 0.32307929545640945},\n",
       " 65: {'train_loss': 0.357177272439003},\n",
       " 66: {'train_loss': 0.2807219326496124},\n",
       " 67: {'train_loss': 0.2911263182759285},\n",
       " 68: {'train_loss': 0.324469231069088},\n",
       " 69: {'train_loss': 0.28489065542817116},\n",
       " 70: {'train_loss': 0.3248182311654091, 'test_auc': 0.6557780397923815},\n",
       " 71: {'train_loss': 0.29109062254428864},\n",
       " 72: {'train_loss': 0.335558220744133},\n",
       " 73: {'train_loss': 0.2558344043791294},\n",
       " 74: {'train_loss': 0.443354070186615},\n",
       " 75: {'train_loss': 0.3000686727464199},\n",
       " 76: {'train_loss': 0.3590598329901695},\n",
       " 77: {'train_loss': 0.32521335780620575},\n",
       " 78: {'train_loss': 0.24232283234596252},\n",
       " 79: {'train_loss': 0.28365442901849747},\n",
       " 80: {'train_loss': 0.2577895522117615, 'test_auc': 0.6743497237130138},\n",
       " 81: {'train_loss': 0.3019827753305435},\n",
       " 82: {'train_loss': 0.2877640463411808},\n",
       " 83: {'train_loss': 0.33427001908421516},\n",
       " 84: {'train_loss': 0.306233286857605},\n",
       " 85: {'train_loss': 0.29321734607219696},\n",
       " 86: {'train_loss': 0.2403346784412861},\n",
       " 87: {'train_loss': 0.37417643517255783},\n",
       " 88: {'train_loss': 0.24860887974500656},\n",
       " 89: {'train_loss': 0.2988126203417778},\n",
       " 90: {'train_loss': 0.24105066433548927, 'test_auc': 0.6637577876181425},\n",
       " 91: {'train_loss': 0.27863482013344765},\n",
       " 92: {'train_loss': 0.3076605051755905},\n",
       " 93: {'train_loss': 0.3362888842821121},\n",
       " 94: {'train_loss': 0.3042881116271019},\n",
       " 95: {'train_loss': 0.2861672416329384},\n",
       " 96: {'train_loss': 0.241493109613657},\n",
       " 97: {'train_loss': 0.3758799806237221},\n",
       " 98: {'train_loss': 0.3434022292494774},\n",
       " 99: {'train_loss': 0.2744751423597336},\n",
       " 100: {'train_loss': 0.34400584548711777, 'test_auc': 0.6847790486631674}}"
      ]
     },
     "execution_count": 13,
     "metadata": {},
     "output_type": "execute_result"
    }
   ],
   "source": [
    "train_result"
   ]
  },
  {
   "cell_type": "markdown",
   "id": "5e2eec6c",
   "metadata": {},
   "source": [
    "# Run inference on the specific snapshot "
   ]
  },
  {
   "cell_type": "markdown",
   "id": "4bc01ac5",
   "metadata": {},
   "source": [
    "### load trained model "
   ]
  },
  {
   "cell_type": "code",
   "execution_count": 16,
   "id": "328b1e69",
   "metadata": {},
   "outputs": [],
   "source": [
    "import torch\n",
    "import transformers"
   ]
  },
  {
   "cell_type": "code",
   "execution_count": 17,
   "id": "ff60ca38",
   "metadata": {},
   "outputs": [],
   "source": [
    "model = torch.load('/home/ec2-user/SageMaker/anomaly-detection-spatial-temporal-data/data/07_model_output/taddy_model_59.pth')"
   ]
  },
  {
   "cell_type": "code",
   "execution_count": 18,
   "id": "4f28e627",
   "metadata": {},
   "outputs": [
    {
     "data": {
      "text/plain": [
       "anomaly_detection_spatial_temporal_data.model.dynamic_graph.Taddy"
      ]
     },
     "execution_count": 18,
     "metadata": {},
     "output_type": "execute_result"
    }
   ],
   "source": [
    "type(model)"
   ]
  },
  {
   "cell_type": "code",
   "execution_count": 37,
   "id": "f2552e34",
   "metadata": {},
   "outputs": [],
   "source": [
    "snap_num = 9"
   ]
  },
  {
   "cell_type": "code",
   "execution_count": 38,
   "id": "0c39661b",
   "metadata": {},
   "outputs": [
    {
     "name": "stdout",
     "output_type": "stream",
     "text": [
      "Generating embeddings...\n",
      "Embeddings created!\n"
     ]
    }
   ],
   "source": [
    "pred = model.predict(snap_num)"
   ]
  },
  {
   "cell_type": "code",
   "execution_count": 39,
   "id": "59700de9",
   "metadata": {},
   "outputs": [
    {
     "data": {
      "text/plain": [
       "numpy.ndarray"
      ]
     },
     "execution_count": 39,
     "metadata": {},
     "output_type": "execute_result"
    }
   ],
   "source": [
    "type(pred)"
   ]
  },
  {
   "cell_type": "code",
   "execution_count": 40,
   "id": "357a66fd",
   "metadata": {},
   "outputs": [
    {
     "data": {
      "text/plain": [
       "array([0.0654242 , 0.0654242 , 0.06851925, ..., 0.98270595, 0.06542419,\n",
       "       0.06851923], dtype=float32)"
      ]
     },
     "execution_count": 40,
     "metadata": {},
     "output_type": "execute_result"
    }
   ],
   "source": [
    "pred"
   ]
  },
  {
   "cell_type": "code",
   "execution_count": 41,
   "id": "e6e485ae",
   "metadata": {},
   "outputs": [
    {
     "data": {
      "text/plain": [
       "tensor([0, 0, 0,  ..., 0, 0, 0])"
      ]
     },
     "execution_count": 41,
     "metadata": {},
     "output_type": "execute_result"
    }
   ],
   "source": [
    "labels[1]"
   ]
  },
  {
   "cell_type": "code",
   "execution_count": 42,
   "id": "e11a99c5",
   "metadata": {},
   "outputs": [],
   "source": [
    "from sklearn import metrics"
   ]
  },
  {
   "cell_type": "code",
   "execution_count": 43,
   "id": "ebac230e",
   "metadata": {},
   "outputs": [],
   "source": [
    "auc = metrics.roc_auc_score(labels[snap_num],pred)"
   ]
  },
  {
   "cell_type": "code",
   "execution_count": 44,
   "id": "e3b374dd",
   "metadata": {},
   "outputs": [
    {
     "data": {
      "text/plain": [
       "0.8840151730005671"
      ]
     },
     "execution_count": 44,
     "metadata": {},
     "output_type": "execute_result"
    }
   ],
   "source": [
    "auc"
   ]
  },
  {
   "cell_type": "markdown",
   "id": "14a79b0a",
   "metadata": {},
   "source": [
    "### load pipeline inference result"
   ]
  },
  {
   "cell_type": "code",
   "execution_count": 55,
   "id": "6169f8c6",
   "metadata": {},
   "outputs": [],
   "source": [
    "inference_result_filepath_pipeline = \"../../data/07_model_output/inference_result.npz\""
   ]
  },
  {
   "cell_type": "code",
   "execution_count": 56,
   "id": "5fad792f",
   "metadata": {},
   "outputs": [],
   "source": [
    "# check if inference result of the pipeline run is exsiting in the file path \n",
    "inference_result = np.load(inference_result_filepath_pipeline)"
   ]
  },
  {
   "cell_type": "code",
   "execution_count": 57,
   "id": "c6ef75e0",
   "metadata": {},
   "outputs": [
    {
     "data": {
      "text/plain": [
       "array([0.04597111, 0.04597111, 0.5110733 , ..., 0.4481242 , 0.04574715,\n",
       "       0.29438794], dtype=float32)"
      ]
     },
     "execution_count": 57,
     "metadata": {},
     "output_type": "execute_result"
    }
   ],
   "source": [
    "inference_result['data']"
   ]
  },
  {
   "cell_type": "code",
   "execution_count": null,
   "id": "71f192aa",
   "metadata": {},
   "outputs": [],
   "source": []
  }
 ],
 "metadata": {
  "kernelspec": {
   "display_name": "conda_pytorch_latest_p36",
   "language": "python",
   "name": "conda_pytorch_latest_p36"
  },
  "language_info": {
   "codemirror_mode": {
    "name": "ipython",
    "version": 3
   },
   "file_extension": ".py",
   "mimetype": "text/x-python",
   "name": "python",
   "nbconvert_exporter": "python",
   "pygments_lexer": "ipython3",
   "version": "3.6.13"
  }
 },
 "nbformat": 4,
 "nbformat_minor": 5
}
