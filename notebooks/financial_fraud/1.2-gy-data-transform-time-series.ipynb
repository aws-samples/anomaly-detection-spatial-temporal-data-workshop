{
 "cells": [
  {
   "cell_type": "markdown",
   "id": "f1b57ab9",
   "metadata": {},
   "source": [
    "# Notebook for data split and transform for time series model \n",
    "## This notebook consists of steps to \n",
    "1. process raw data into independent time series for time series model \n",
    "2. train/test data split "
   ]
  },
  {
   "cell_type": "code",
   "execution_count": null,
   "id": "5fe398a4",
   "metadata": {},
   "outputs": [],
   "source": [
    "import pandas as pd\n",
    "import numpy as np"
   ]
  },
  {
   "cell_type": "code",
   "execution_count": null,
   "id": "7591a40a",
   "metadata": {},
   "outputs": [],
   "source": []
  },
  {
   "cell_type": "markdown",
   "id": "026d246f",
   "metadata": {},
   "source": [
    "# Load raw data"
   ]
  },
  {
   "cell_type": "code",
   "execution_count": 2,
   "id": "fd4136ab",
   "metadata": {},
   "outputs": [],
   "source": [
    "raw_data_path = '../../data/01_raw/financial_fraud/bs140513_032310.csv'"
   ]
  },
  {
   "cell_type": "code",
   "execution_count": 3,
   "id": "063ae7f0",
   "metadata": {},
   "outputs": [],
   "source": [
    "raw_trans_data = pd.read_csv(raw_data_path)"
   ]
  },
  {
   "cell_type": "code",
   "execution_count": 4,
   "id": "ed45f75e",
   "metadata": {},
   "outputs": [
    {
     "data": {
      "text/plain": [
       "(594643, 10)"
      ]
     },
     "execution_count": 4,
     "metadata": {},
     "output_type": "execute_result"
    }
   ],
   "source": [
    "raw_trans_data.shape"
   ]
  },
  {
   "cell_type": "code",
   "execution_count": null,
   "id": "6265c9cb",
   "metadata": {},
   "outputs": [],
   "source": []
  },
  {
   "cell_type": "markdown",
   "id": "582685e1",
   "metadata": {},
   "source": [
    "# Save (customer_id, merchant_id) that had more than 10 entries into time series "
   ]
  },
  {
   "cell_type": "code",
   "execution_count": 291,
   "id": "087f1dad",
   "metadata": {},
   "outputs": [
    {
     "data": {
      "text/plain": [
       "(594643, 10)"
      ]
     },
     "execution_count": 291,
     "metadata": {},
     "output_type": "execute_result"
    }
   ],
   "source": [
    "raw_trans_data.shape"
   ]
  },
  {
   "cell_type": "code",
   "execution_count": 293,
   "id": "53b43aae",
   "metadata": {},
   "outputs": [
    {
     "data": {
      "text/html": [
       "<div>\n",
       "<style scoped>\n",
       "    .dataframe tbody tr th:only-of-type {\n",
       "        vertical-align: middle;\n",
       "    }\n",
       "\n",
       "    .dataframe tbody tr th {\n",
       "        vertical-align: top;\n",
       "    }\n",
       "\n",
       "    .dataframe thead th {\n",
       "        text-align: right;\n",
       "    }\n",
       "</style>\n",
       "<table border=\"1\" class=\"dataframe\">\n",
       "  <thead>\n",
       "    <tr style=\"text-align: right;\">\n",
       "      <th></th>\n",
       "      <th></th>\n",
       "      <th>step</th>\n",
       "    </tr>\n",
       "    <tr>\n",
       "      <th>customer</th>\n",
       "      <th>merchant</th>\n",
       "      <th></th>\n",
       "    </tr>\n",
       "  </thead>\n",
       "  <tbody>\n",
       "    <tr>\n",
       "      <th rowspan=\"5\" valign=\"top\">'C1000148617'</th>\n",
       "      <th>'M1053599405'</th>\n",
       "      <td>1</td>\n",
       "    </tr>\n",
       "    <tr>\n",
       "      <th>'M1400236507'</th>\n",
       "      <td>1</td>\n",
       "    </tr>\n",
       "    <tr>\n",
       "      <th>'M1741626453'</th>\n",
       "      <td>1</td>\n",
       "    </tr>\n",
       "    <tr>\n",
       "      <th>'M1823072687'</th>\n",
       "      <td>92</td>\n",
       "    </tr>\n",
       "    <tr>\n",
       "      <th>'M1842530320'</th>\n",
       "      <td>1</td>\n",
       "    </tr>\n",
       "    <tr>\n",
       "      <th>...</th>\n",
       "      <th>...</th>\n",
       "      <td>...</td>\n",
       "    </tr>\n",
       "    <tr>\n",
       "      <th rowspan=\"5\" valign=\"top\">'C999723254'</th>\n",
       "      <th>'M348934600'</th>\n",
       "      <td>27</td>\n",
       "    </tr>\n",
       "    <tr>\n",
       "      <th>'M349281107'</th>\n",
       "      <td>1</td>\n",
       "    </tr>\n",
       "    <tr>\n",
       "      <th>'M480139044'</th>\n",
       "      <td>1</td>\n",
       "    </tr>\n",
       "    <tr>\n",
       "      <th>'M855959430'</th>\n",
       "      <td>2</td>\n",
       "    </tr>\n",
       "    <tr>\n",
       "      <th>'M85975013'</th>\n",
       "      <td>8</td>\n",
       "    </tr>\n",
       "  </tbody>\n",
       "</table>\n",
       "<p>47132 rows × 1 columns</p>\n",
       "</div>"
      ],
      "text/plain": [
       "                             step\n",
       "customer      merchant           \n",
       "'C1000148617' 'M1053599405'     1\n",
       "              'M1400236507'     1\n",
       "              'M1741626453'     1\n",
       "              'M1823072687'    92\n",
       "              'M1842530320'     1\n",
       "...                           ...\n",
       "'C999723254'  'M348934600'     27\n",
       "              'M349281107'      1\n",
       "              'M480139044'      1\n",
       "              'M855959430'      2\n",
       "              'M85975013'       8\n",
       "\n",
       "[47132 rows x 1 columns]"
      ]
     },
     "execution_count": 293,
     "metadata": {},
     "output_type": "execute_result"
    }
   ],
   "source": [
    "customer_merchant_trans_count = raw_trans_data.groupby(by=['customer','merchant']).agg({'step':'count'})\n",
    "customer_merchant_trans_count"
   ]
  },
  {
   "cell_type": "code",
   "execution_count": 294,
   "id": "7e4d410e",
   "metadata": {},
   "outputs": [],
   "source": [
    "ts_count_threshold = 10"
   ]
  },
  {
   "cell_type": "code",
   "execution_count": 297,
   "id": "16ca506b",
   "metadata": {},
   "outputs": [],
   "source": [
    "customer_merchant_trans_more_than_threshold =customer_merchant_trans_count.loc[customer_merchant_trans_count.step>ts_count_threshold].reset_index()"
   ]
  },
  {
   "cell_type": "code",
   "execution_count": 298,
   "id": "d42a2844",
   "metadata": {},
   "outputs": [
    {
     "data": {
      "text/html": [
       "<div>\n",
       "<style scoped>\n",
       "    .dataframe tbody tr th:only-of-type {\n",
       "        vertical-align: middle;\n",
       "    }\n",
       "\n",
       "    .dataframe tbody tr th {\n",
       "        vertical-align: top;\n",
       "    }\n",
       "\n",
       "    .dataframe thead th {\n",
       "        text-align: right;\n",
       "    }\n",
       "</style>\n",
       "<table border=\"1\" class=\"dataframe\">\n",
       "  <thead>\n",
       "    <tr style=\"text-align: right;\">\n",
       "      <th></th>\n",
       "      <th>customer</th>\n",
       "      <th>merchant</th>\n",
       "      <th>step</th>\n",
       "    </tr>\n",
       "  </thead>\n",
       "  <tbody>\n",
       "    <tr>\n",
       "      <th>0</th>\n",
       "      <td>'C1000148617'</td>\n",
       "      <td>'M1823072687'</td>\n",
       "      <td>92</td>\n",
       "    </tr>\n",
       "    <tr>\n",
       "      <th>1</th>\n",
       "      <td>'C1000148617'</td>\n",
       "      <td>'M348934600'</td>\n",
       "      <td>22</td>\n",
       "    </tr>\n",
       "    <tr>\n",
       "      <th>2</th>\n",
       "      <td>'C100045114'</td>\n",
       "      <td>'M1823072687'</td>\n",
       "      <td>27</td>\n",
       "    </tr>\n",
       "    <tr>\n",
       "      <th>3</th>\n",
       "      <td>'C100045114'</td>\n",
       "      <td>'M348934600'</td>\n",
       "      <td>38</td>\n",
       "    </tr>\n",
       "    <tr>\n",
       "      <th>4</th>\n",
       "      <td>'C1000699316'</td>\n",
       "      <td>'M1823072687'</td>\n",
       "      <td>52</td>\n",
       "    </tr>\n",
       "    <tr>\n",
       "      <th>...</th>\n",
       "      <td>...</td>\n",
       "      <td>...</td>\n",
       "      <td>...</td>\n",
       "    </tr>\n",
       "    <tr>\n",
       "      <th>7853</th>\n",
       "      <td>'C998987490'</td>\n",
       "      <td>'M85975013'</td>\n",
       "      <td>13</td>\n",
       "    </tr>\n",
       "    <tr>\n",
       "      <th>7854</th>\n",
       "      <td>'C999393223'</td>\n",
       "      <td>'M1823072687'</td>\n",
       "      <td>19</td>\n",
       "    </tr>\n",
       "    <tr>\n",
       "      <th>7855</th>\n",
       "      <td>'C999393223'</td>\n",
       "      <td>'M348934600'</td>\n",
       "      <td>90</td>\n",
       "    </tr>\n",
       "    <tr>\n",
       "      <th>7856</th>\n",
       "      <td>'C999723254'</td>\n",
       "      <td>'M1823072687'</td>\n",
       "      <td>77</td>\n",
       "    </tr>\n",
       "    <tr>\n",
       "      <th>7857</th>\n",
       "      <td>'C999723254'</td>\n",
       "      <td>'M348934600'</td>\n",
       "      <td>27</td>\n",
       "    </tr>\n",
       "  </tbody>\n",
       "</table>\n",
       "<p>7858 rows × 3 columns</p>\n",
       "</div>"
      ],
      "text/plain": [
       "           customer       merchant  step\n",
       "0     'C1000148617'  'M1823072687'    92\n",
       "1     'C1000148617'   'M348934600'    22\n",
       "2      'C100045114'  'M1823072687'    27\n",
       "3      'C100045114'   'M348934600'    38\n",
       "4     'C1000699316'  'M1823072687'    52\n",
       "...             ...            ...   ...\n",
       "7853   'C998987490'    'M85975013'    13\n",
       "7854   'C999393223'  'M1823072687'    19\n",
       "7855   'C999393223'   'M348934600'    90\n",
       "7856   'C999723254'  'M1823072687'    77\n",
       "7857   'C999723254'   'M348934600'    27\n",
       "\n",
       "[7858 rows x 3 columns]"
      ]
     },
     "execution_count": 298,
     "metadata": {},
     "output_type": "execute_result"
    }
   ],
   "source": [
    "customer_merchant_trans_more_than_threshold"
   ]
  },
  {
   "cell_type": "code",
   "execution_count": 299,
   "id": "edbad69c",
   "metadata": {},
   "outputs": [],
   "source": [
    "customer_merchant_pairs_for_ts = np.array(customer_merchant_trans_more_than_threshold[['customer','merchant']])"
   ]
  },
  {
   "cell_type": "code",
   "execution_count": 301,
   "id": "002158c3",
   "metadata": {},
   "outputs": [
    {
     "data": {
      "text/plain": [
       "(array([[\"'C1000148617'\", \"'M1823072687'\"],\n",
       "        [\"'C1000148617'\", \"'M348934600'\"],\n",
       "        [\"'C100045114'\", \"'M1823072687'\"],\n",
       "        ...,\n",
       "        [\"'C999393223'\", \"'M348934600'\"],\n",
       "        [\"'C999723254'\", \"'M1823072687'\"],\n",
       "        [\"'C999723254'\", \"'M348934600'\"]], dtype=object),\n",
       " (7858, 2))"
      ]
     },
     "execution_count": 301,
     "metadata": {},
     "output_type": "execute_result"
    }
   ],
   "source": [
    "customer_merchant_pairs_for_ts, customer_merchant_pairs_for_ts.shape"
   ]
  }
 ],
 "metadata": {
  "kernelspec": {
   "display_name": "conda_pytorch_p36",
   "language": "python",
   "name": "conda_pytorch_p36"
  },
  "language_info": {
   "codemirror_mode": {
    "name": "ipython",
    "version": 3
   },
   "file_extension": ".py",
   "mimetype": "text/x-python",
   "name": "python",
   "nbconvert_exporter": "python",
   "pygments_lexer": "ipython3",
   "version": "3.6.13"
  }
 },
 "nbformat": 4,
 "nbformat_minor": 5
}
