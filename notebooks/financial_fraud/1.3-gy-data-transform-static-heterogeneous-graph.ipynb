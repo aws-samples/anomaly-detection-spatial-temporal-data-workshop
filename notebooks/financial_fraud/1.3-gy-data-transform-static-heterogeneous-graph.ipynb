{
 "cells": [
  {
   "cell_type": "markdown",
   "id": "64cb213f",
   "metadata": {},
   "source": [
    "# Notebook for data split and transform for static graph model \n",
    "## This notebook consists of steps to \n",
    "1. process raw data into edge, node list data for the data loader for model training \n",
    "2. train/test data split "
   ]
  },
  {
   "cell_type": "code",
   "execution_count": null,
   "id": "1e08e031",
   "metadata": {},
   "outputs": [],
   "source": [
    "import pandas as pd\n",
    "import numpy as np"
   ]
  },
  {
   "cell_type": "markdown",
   "id": "66ef6fcb",
   "metadata": {},
   "source": [
    "# Load raw data"
   ]
  },
  {
   "cell_type": "code",
   "execution_count": 2,
   "id": "173916dd",
   "metadata": {},
   "outputs": [],
   "source": [
    "raw_data_path = '../../data/01_raw/financial_fraud/bs140513_032310.csv'"
   ]
  },
  {
   "cell_type": "code",
   "execution_count": 3,
   "id": "32ab1486",
   "metadata": {},
   "outputs": [],
   "source": [
    "raw_trans_data = pd.read_csv(raw_data_path)"
   ]
  },
  {
   "cell_type": "code",
   "execution_count": 4,
   "id": "88bab151",
   "metadata": {},
   "outputs": [
    {
     "data": {
      "text/plain": [
       "(594643, 10)"
      ]
     },
     "execution_count": 4,
     "metadata": {},
     "output_type": "execute_result"
    }
   ],
   "source": [
    "raw_trans_data.shape"
   ]
  },
  {
   "cell_type": "markdown",
   "id": "74518ebd",
   "metadata": {},
   "source": [
    "# save deduped (customer, merchant) trans as static heterogeneous graph "
   ]
  },
  {
   "cell_type": "code",
   "execution_count": 303,
   "id": "3ef0c9ef",
   "metadata": {},
   "outputs": [],
   "source": [
    "trans_deduped = raw_trans_data.drop_duplicates(subset=['customer','merchant'], keep='last', )"
   ]
  },
  {
   "cell_type": "code",
   "execution_count": 304,
   "id": "1d325a9c",
   "metadata": {},
   "outputs": [
    {
     "data": {
      "text/html": [
       "<div>\n",
       "<style scoped>\n",
       "    .dataframe tbody tr th:only-of-type {\n",
       "        vertical-align: middle;\n",
       "    }\n",
       "\n",
       "    .dataframe tbody tr th {\n",
       "        vertical-align: top;\n",
       "    }\n",
       "\n",
       "    .dataframe thead th {\n",
       "        text-align: right;\n",
       "    }\n",
       "</style>\n",
       "<table border=\"1\" class=\"dataframe\">\n",
       "  <thead>\n",
       "    <tr style=\"text-align: right;\">\n",
       "      <th></th>\n",
       "      <th>step</th>\n",
       "      <th>customer</th>\n",
       "      <th>age</th>\n",
       "      <th>gender</th>\n",
       "      <th>zipcodeOri</th>\n",
       "      <th>merchant</th>\n",
       "      <th>zipMerchant</th>\n",
       "      <th>category</th>\n",
       "      <th>amount</th>\n",
       "      <th>fraud</th>\n",
       "    </tr>\n",
       "  </thead>\n",
       "  <tbody>\n",
       "    <tr>\n",
       "      <th>12</th>\n",
       "      <td>0</td>\n",
       "      <td>'C623601481'</td>\n",
       "      <td>'3'</td>\n",
       "      <td>'M'</td>\n",
       "      <td>'28007'</td>\n",
       "      <td>'M50039827'</td>\n",
       "      <td>'28007'</td>\n",
       "      <td>'es_health'</td>\n",
       "      <td>68.79</td>\n",
       "      <td>0</td>\n",
       "    </tr>\n",
       "    <tr>\n",
       "      <th>148</th>\n",
       "      <td>0</td>\n",
       "      <td>'C2092526272'</td>\n",
       "      <td>'6'</td>\n",
       "      <td>'F'</td>\n",
       "      <td>'28007'</td>\n",
       "      <td>'M840466850'</td>\n",
       "      <td>'28007'</td>\n",
       "      <td>'es_tech'</td>\n",
       "      <td>163.56</td>\n",
       "      <td>0</td>\n",
       "    </tr>\n",
       "    <tr>\n",
       "      <th>153</th>\n",
       "      <td>0</td>\n",
       "      <td>'C661876608'</td>\n",
       "      <td>'1'</td>\n",
       "      <td>'F'</td>\n",
       "      <td>'28007'</td>\n",
       "      <td>'M1741626453'</td>\n",
       "      <td>'28007'</td>\n",
       "      <td>'es_sportsandtoys'</td>\n",
       "      <td>11.83</td>\n",
       "      <td>0</td>\n",
       "    </tr>\n",
       "    <tr>\n",
       "      <th>194</th>\n",
       "      <td>0</td>\n",
       "      <td>'C1436756684'</td>\n",
       "      <td>'2'</td>\n",
       "      <td>'F'</td>\n",
       "      <td>'28007'</td>\n",
       "      <td>'M692898500'</td>\n",
       "      <td>'28007'</td>\n",
       "      <td>'es_health'</td>\n",
       "      <td>187.62</td>\n",
       "      <td>0</td>\n",
       "    </tr>\n",
       "    <tr>\n",
       "      <th>218</th>\n",
       "      <td>0</td>\n",
       "      <td>'C1960866892'</td>\n",
       "      <td>'2'</td>\n",
       "      <td>'M'</td>\n",
       "      <td>'28007'</td>\n",
       "      <td>'M855959430'</td>\n",
       "      <td>'28007'</td>\n",
       "      <td>'es_hyper'</td>\n",
       "      <td>22.65</td>\n",
       "      <td>0</td>\n",
       "    </tr>\n",
       "    <tr>\n",
       "      <th>227</th>\n",
       "      <td>0</td>\n",
       "      <td>'C991774315'</td>\n",
       "      <td>'3'</td>\n",
       "      <td>'F'</td>\n",
       "      <td>'28007'</td>\n",
       "      <td>'M349281107'</td>\n",
       "      <td>'28007'</td>\n",
       "      <td>'es_fashion'</td>\n",
       "      <td>79.71</td>\n",
       "      <td>0</td>\n",
       "    </tr>\n",
       "    <tr>\n",
       "      <th>253</th>\n",
       "      <td>0</td>\n",
       "      <td>'C1959067413'</td>\n",
       "      <td>'4'</td>\n",
       "      <td>'M'</td>\n",
       "      <td>'28007'</td>\n",
       "      <td>'M209847108'</td>\n",
       "      <td>'28007'</td>\n",
       "      <td>'es_wellnessandbeauty'</td>\n",
       "      <td>86.09</td>\n",
       "      <td>0</td>\n",
       "    </tr>\n",
       "    <tr>\n",
       "      <th>256</th>\n",
       "      <td>0</td>\n",
       "      <td>'C1465698425'</td>\n",
       "      <td>'2'</td>\n",
       "      <td>'M'</td>\n",
       "      <td>'28007'</td>\n",
       "      <td>'M2122776122'</td>\n",
       "      <td>'28007'</td>\n",
       "      <td>'es_home'</td>\n",
       "      <td>98.19</td>\n",
       "      <td>0</td>\n",
       "    </tr>\n",
       "    <tr>\n",
       "      <th>282</th>\n",
       "      <td>0</td>\n",
       "      <td>'C181787207'</td>\n",
       "      <td>'3'</td>\n",
       "      <td>'M'</td>\n",
       "      <td>'28007'</td>\n",
       "      <td>'M1873032707'</td>\n",
       "      <td>'28007'</td>\n",
       "      <td>'es_hotelservices'</td>\n",
       "      <td>71.76</td>\n",
       "      <td>0</td>\n",
       "    </tr>\n",
       "    <tr>\n",
       "      <th>283</th>\n",
       "      <td>0</td>\n",
       "      <td>'C2063978670'</td>\n",
       "      <td>'2'</td>\n",
       "      <td>'M'</td>\n",
       "      <td>'28007'</td>\n",
       "      <td>'M2011752106'</td>\n",
       "      <td>'28007'</td>\n",
       "      <td>'es_hotelservices'</td>\n",
       "      <td>194.59</td>\n",
       "      <td>0</td>\n",
       "    </tr>\n",
       "  </tbody>\n",
       "</table>\n",
       "</div>"
      ],
      "text/plain": [
       "     step       customer  age gender zipcodeOri       merchant zipMerchant  \\\n",
       "12      0   'C623601481'  '3'    'M'    '28007'    'M50039827'     '28007'   \n",
       "148     0  'C2092526272'  '6'    'F'    '28007'   'M840466850'     '28007'   \n",
       "153     0   'C661876608'  '1'    'F'    '28007'  'M1741626453'     '28007'   \n",
       "194     0  'C1436756684'  '2'    'F'    '28007'   'M692898500'     '28007'   \n",
       "218     0  'C1960866892'  '2'    'M'    '28007'   'M855959430'     '28007'   \n",
       "227     0   'C991774315'  '3'    'F'    '28007'   'M349281107'     '28007'   \n",
       "253     0  'C1959067413'  '4'    'M'    '28007'   'M209847108'     '28007'   \n",
       "256     0  'C1465698425'  '2'    'M'    '28007'  'M2122776122'     '28007'   \n",
       "282     0   'C181787207'  '3'    'M'    '28007'  'M1873032707'     '28007'   \n",
       "283     0  'C2063978670'  '2'    'M'    '28007'  'M2011752106'     '28007'   \n",
       "\n",
       "                   category  amount  fraud  \n",
       "12              'es_health'   68.79      0  \n",
       "148               'es_tech'  163.56      0  \n",
       "153      'es_sportsandtoys'   11.83      0  \n",
       "194             'es_health'  187.62      0  \n",
       "218              'es_hyper'   22.65      0  \n",
       "227            'es_fashion'   79.71      0  \n",
       "253  'es_wellnessandbeauty'   86.09      0  \n",
       "256               'es_home'   98.19      0  \n",
       "282      'es_hotelservices'   71.76      0  \n",
       "283      'es_hotelservices'  194.59      0  "
      ]
     },
     "execution_count": 304,
     "metadata": {},
     "output_type": "execute_result"
    }
   ],
   "source": [
    "trans_deduped.head(10)"
   ]
  }
 ],
 "metadata": {
  "kernelspec": {
   "display_name": "conda_pytorch_latest_p36",
   "language": "python",
   "name": "conda_pytorch_latest_p36"
  },
  "language_info": {
   "codemirror_mode": {
    "name": "ipython",
    "version": 3
   },
   "file_extension": ".py",
   "mimetype": "text/x-python",
   "name": "python",
   "nbconvert_exporter": "python",
   "pygments_lexer": "ipython3",
   "version": "3.6.13"
  }
 },
 "nbformat": 4,
 "nbformat_minor": 5
}
