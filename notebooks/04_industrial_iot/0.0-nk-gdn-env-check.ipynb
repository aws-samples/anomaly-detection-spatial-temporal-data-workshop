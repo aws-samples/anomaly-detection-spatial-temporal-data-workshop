{
 "cells": [
  {
   "cell_type": "markdown",
   "id": "39e78567",
   "metadata": {},
   "source": [
    "Copyright Amazon.com, Inc. or its affiliates. All Rights Reserved.\n",
    "\n",
    "SPDX-License-Identifier: Apache-2.0"
   ]
  },
  {
   "cell_type": "markdown",
   "id": "3c8f36a6",
   "metadata": {},
   "source": [
    "# GDN Environment verification\n",
    "\n",
    "The Graph Neural Network-Based Anomaly Detection (GDN) in Multivariate Time Series module is sourced from the [GDN](https://github.com/d-ailin/GDN) repository.\n",
    "\n",
    "Installation of GDN requires `torch==1.5.0`, `torch-scatter`, `torch-sparse`, `torch-cluster`, `torch-spline-conv`, and `torch-geometric==1.5.0`.\n",
    "\n",
    "The `anomaly-detection-spatial-temporal-data/prepare_gdn_environment.sh` script prepares the `kedro-gdn-venv` virtual environment and registers it with the Jupyter registry as a custom kernel."
   ]
  },
  {
   "cell_type": "markdown",
   "id": "4924fa8c",
   "metadata": {},
   "source": [
    "### Check GDNTrainer import"
   ]
  },
  {
   "cell_type": "code",
   "execution_count": null,
   "id": "74fde999",
   "metadata": {},
   "outputs": [],
   "source": [
    "import sys \n",
    "sys.path.append('../../src/anomaly_detection_spatial_temporal_data/')"
   ]
  },
  {
   "cell_type": "code",
   "execution_count": null,
   "id": "d9aa30de",
   "metadata": {},
   "outputs": [],
   "source": [
    "from model.GDN.GDNTrainer import GDNTrainer"
   ]
  },
  {
   "cell_type": "markdown",
   "id": "74324f6a",
   "metadata": {},
   "source": [
    "### Check driver functions import"
   ]
  },
  {
   "cell_type": "code",
   "execution_count": null,
   "id": "f75a52e8",
   "metadata": {},
   "outputs": [],
   "source": [
    "from pipelines.iot_gdn_data_processing.nodes import clean_column_names, get_sensor_columns, save_sensor_cols"
   ]
  },
  {
   "cell_type": "code",
   "execution_count": null,
   "id": "ba60d28d",
   "metadata": {},
   "outputs": [],
   "source": []
  }
 ],
 "metadata": {
  "kernelspec": {
   "display_name": "kedro-gdn-venv",
   "language": "python",
   "name": "kedro-gdn-venv"
  },
  "language_info": {
   "codemirror_mode": {
    "name": "ipython",
    "version": 3
   },
   "file_extension": ".py",
   "mimetype": "text/x-python",
   "name": "python",
   "nbconvert_exporter": "python",
   "pygments_lexer": "ipython3",
   "version": "3.7.12"
  }
 },
 "nbformat": 4,
 "nbformat_minor": 5
}
